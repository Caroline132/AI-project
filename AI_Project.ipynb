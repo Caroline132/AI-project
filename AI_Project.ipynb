{
  "nbformat": 4,
  "nbformat_minor": 0,
  "metadata": {
    "colab": {
      "provenance": [],
      "collapsed_sections": [
        "at9xs-Ed_9r4",
        "T97-OzxMKJ5l",
        "uGWXbvDHeupT",
        "s7dlLFsIe0Sa",
        "E3BXCrsSkNCl"
      ],
      "toc_visible": true,
      "include_colab_link": true
    },
    "kernelspec": {
      "name": "python3",
      "display_name": "Python 3"
    },
    "language_info": {
      "name": "python"
    }
  },
  "cells": [
    {
      "cell_type": "markdown",
      "metadata": {
        "id": "view-in-github",
        "colab_type": "text"
      },
      "source": [
        "<a href=\"https://colab.research.google.com/github/Caroline132/AI-project/blob/main/AI_Project.ipynb\" target=\"_parent\"><img src=\"https://colab.research.google.com/assets/colab-badge.svg\" alt=\"Open In Colab\"/></a>"
      ]
    },
    {
      "cell_type": "markdown",
      "source": [
        "# **Libraries**"
      ],
      "metadata": {
        "id": "GG1U8NWR09tU"
      }
    },
    {
      "cell_type": "code",
      "source": [
        "import pandas as pd\n",
        "import numpy as np\n",
        "import seaborn as sns\n",
        "import matplotlib.pyplot as plt \n",
        "from sklearn.datasets import make_classification\n",
        "from sklearn.model_selection import KFold\n",
        "from sklearn.metrics import accuracy_score\n",
        "from sklearn.metrics import precision_score\n",
        "from sklearn.metrics import recall_score\n",
        "from sklearn.feature_selection import RFE\n",
        "from sklearn.metrics import confusion_matrix,ConfusionMatrixDisplay\n",
        "from sklearn.model_selection import cross_val_score\n",
        "from sklearn.linear_model import LogisticRegression\n",
        "from sklearn.neural_network import MLPClassifier\n",
        "from sklearn.metrics import plot_confusion_matrix\n",
        "from sklearn.model_selection import train_test_split\n",
        "from sklearn.metrics import classification_report\n",
        "from imblearn.over_sampling import SMOTE\n",
        "import statsmodels.api as sm\n",
        "from sklearn.naive_bayes import GaussianNB\n",
        "from sklearn.preprocessing import LabelEncoder\n",
        "from google.colab.data_table import DataTable"
      ],
      "metadata": {
        "id": "BMGqMwb709tV"
      },
      "execution_count": null,
      "outputs": []
    },
    {
      "cell_type": "markdown",
      "source": [
        "# **Helper functions**"
      ],
      "metadata": {
        "id": "yfPiSUM-1B67"
      }
    },
    {
      "cell_type": "code",
      "source": [
        "def getInfoNB(model):\n",
        "  \"\"\" Get information about Naive Bayes model\"\"\"\n",
        "  print(\"Parameters:\")\n",
        "  print(model.get_params(deep=True))\n",
        "  print(\"Classes:\")\n",
        "  print(model.classes_)\n",
        "  print(\"Feature:\")\n",
        "  print(model.n_features_in_)\n",
        "  print(\"Feature names:\")\n",
        "  print(model.feature_names_in_)"
      ],
      "metadata": {
        "id": "mpj4As5c1B68"
      },
      "execution_count": null,
      "outputs": []
    },
    {
      "cell_type": "code",
      "source": [
        "def getInfoLR(model):\n",
        "  \"\"\"Get information about Logistic Regression model\"\"\"\n",
        "  print(\"Parameters:\")\n",
        "  print(model.get_params(deep=True))\n",
        "  print(\"Classes:\")\n",
        "  print(model.classes_)\n",
        "  print(\"Coefficients:\")\n",
        "  print(model.coef_)\n",
        "  print(\"Intercept:\")\n",
        "  print(model.intercept_)\n",
        "  print(\"Feature:\")\n",
        "  print(model.n_features_in_)\n",
        "  print(\"Feature names:\")\n",
        "  print(model.feature_names_in_)\n",
        "  print(\"Number of iterations:\")\n",
        "  print(model.n_iter_)"
      ],
      "metadata": {
        "id": "oAVuyPdA1B68"
      },
      "execution_count": null,
      "outputs": []
    },
    {
      "cell_type": "code",
      "source": [
        "def getInfoMLP(model):\n",
        "  \"\"\"Get information about MLP model\"\"\"\n",
        "  print(\"Parameters:\")\n",
        "  print(model.get_params(deep=True))\n",
        "  print(\"Classes:\")\n",
        "  print(model.classes_)\n",
        "  print(\"Current loss computed with the loss function:\")\n",
        "  print(model.loss_)\n",
        "  print(\"Minimum loss reached by the solver throughout fitting:\")\n",
        "  print(model.best_loss_)\n",
        "  # print(\"ith element in the list represents the loss at the ith iteration:\")\n",
        "  # print(model.loss_curve_)\n",
        "  print(\"Number of training samples seen by the solver during fitting:\")\n",
        "  print(model.t_)\n",
        "  print(\"Feature:\")\n",
        "  print(model.n_features_in_)\n",
        "  print(\"Feature names:\")\n",
        "  print(model.feature_names_in_)\n",
        "  print(\"Number of iterations:\")\n",
        "  print(model.n_iter_)\n",
        "  print(\"Number of layers:\")\n",
        "  print(model.n_layers_)\n",
        "  print(\"Number of outputs:\")\n",
        "  print(model.n_outputs_)\n",
        "  print(\"Name of the output activation function:\")\n",
        "  print(model.out_activation_)"
      ],
      "metadata": {
        "id": "V6wqL2-t1B68"
      },
      "execution_count": null,
      "outputs": []
    },
    {
      "cell_type": "code",
      "source": [
        "def getOneFoldResults(X_test, y_test, model):\n",
        "  \"\"\"Get precision, recall, accuracy and F1-score for 1-fold cross validation\"\"\"\n",
        "  y_pred = model.predict(X_test)\n",
        "  print(classification_report(y_test, y_pred))"
      ],
      "metadata": {
        "id": "QDE0LG_j1B68"
      },
      "execution_count": null,
      "outputs": []
    },
    {
      "cell_type": "code",
      "source": [
        "def getMultiFoldResults(X, y, model):\n",
        "  \"\"\"Get precision, recall, accuracy and F1-score for multi-fold cross validation\"\"\"\n",
        "  # setting the multi-fold cross-validation procedure\n",
        "  crossValidation = KFold(n_splits=10, random_state=0, shuffle=True)\n",
        "  # evaluate model\n",
        "  accuracyScores = cross_val_score(model, X, y, scoring='accuracy', cv=crossValidation, n_jobs=-1)\n",
        "  precisionScores = cross_val_score(model, X, y, scoring='precision', cv=crossValidation, n_jobs=-1)\n",
        "  recallScores = cross_val_score(model, X, y, scoring='recall', cv=crossValidation, n_jobs=-1)\n",
        "  # report performance\n",
        "  print('Accuracy: %.3f (%.3f)' % (np.mean(accuracyScores), np.std(accuracyScores)))\n",
        "  print('Precision: %.3f (%.3f)' % (np.mean(precisionScores), np.std(precisionScores)))\n",
        "  print('Recall: %.3f (%.3f)' % (np.mean(recallScores), np.std(recallScores)))\n",
        "  return [accuracyScores,precisionScores,recallScores]"
      ],
      "metadata": {
        "id": "qnPhNJ0i1B69"
      },
      "execution_count": null,
      "outputs": []
    },
    {
      "cell_type": "code",
      "source": [
        "def generateBarPlot(title,values):\n",
        "  \"\"\"Generates a bar plot using recall,precision, and accuracy) gotten from getMultiFoldResults\"\"\"\n",
        "  sns.barplot(x=[\"accuracy\",\"precision\",\"recall\"],y=[np.mean(v) for v in values], ci=None)\n",
        "  plt.title(title)\n",
        "  plt.xlabel(\"Values\")\n",
        "  plt.ylabel(\"\")\n",
        "  i = 0\n",
        "  for v in values:\n",
        "      plt.errorbar(i,np.mean(v),yerr=np.std(v),ecolor='black',capsize=10)\n",
        "      i+=1"
      ],
      "metadata": {
        "id": "Vh7bRonh1B69"
      },
      "execution_count": null,
      "outputs": []
    },
    {
      "cell_type": "code",
      "source": [
        "def autolabel(bars,axs,axis):\n",
        "    \"\"\"Attach a text label above each bar in *bars*, displaying its height.\"\"\"\n",
        "    for rect in bars:\n",
        "        height = rect.get_height()\n",
        "        axs[axis].annotate('{0:.2f}'.format(height),\n",
        "                    xy=(rect.get_x() + rect.get_width() / 2, height),\n",
        "                    xytext=(25, 3),  # 3 points vertical offset\n",
        "                    textcoords=\"offset points\",\n",
        "                    ha='center', va='bottom')"
      ],
      "metadata": {
        "id": "VkhtW0551B69"
      },
      "execution_count": null,
      "outputs": []
    },
    {
      "cell_type": "code",
      "source": [
        "def plotModelBars(modelType,outputs,cols):\n",
        "  \"\"\"Plotting Accuracy, precision and recall for 'cols' results\"\"\"\n",
        "  fig, axs = plt.subplots(ncols=cols,figsize=(20,4),sharey='row',gridspec_kw={'hspace': 0, 'wspace': 0})\n",
        "  for i in range(0,cols):\n",
        "    bars = axs[i].bar([0, 1, 2], [np.mean(v) for v in outputs[i]], yerr=[np.std(v) for v in outputs[i]], align='center', ecolor='black', capsize=10, color=['tab:blue', 'tab:orange','tab:green'])\n",
        "    axs[i].set_xticks([0, 1, 2])\n",
        "    axs[i].set_xticklabels([\"accuracy\",\"precision\",\"recall\"])\n",
        "    axs[i].set_title(\"Result \"+str(i+1))\n",
        "    autolabel(bars,axs,i)\n",
        "  plt.suptitle(modelType,fontweight=\"bold\")\n",
        "  plt.show()"
      ],
      "metadata": {
        "id": "-G9oxouq1B69"
      },
      "execution_count": null,
      "outputs": []
    },
    {
      "cell_type": "code",
      "source": [
        "def plotModelCM(modelType,predictions,y_test,cols):\n",
        "  \"\"\"Plotting Confusion Matrices\"\"\"\n",
        "  fig, axs = plt.subplots(ncols=cols,figsize=(20,4.5),sharey='row',gridspec_kw={'hspace': 0, 'wspace': 0})\n",
        "  for i in range(0,cols):\n",
        "    matrix = confusion_matrix(y_test, predictions[i])\n",
        "    disp = ConfusionMatrixDisplay(confusion_matrix=matrix,display_labels=[0, 1])\n",
        "    disp.plot(ax=axs[i])\n",
        "    axs[i].set_title(\"Result \"+str(i+1))\n",
        "    disp.im_.colorbar.remove()\n",
        "    if i!=0:\n",
        "      disp.ax_.set_ylabel('')\n",
        "    if i!=1:\n",
        "      disp.ax_.set_xlabel('')\n",
        "  plt.suptitle(modelType,fontweight=\"bold\",horizontalalignment='center',x=0.42)\n",
        "  fig.colorbar(disp.im_, ax=axs)\n",
        "  plt.show()"
      ],
      "metadata": {
        "id": "KNWKvtIVug59"
      },
      "execution_count": null,
      "outputs": []
    },
    {
      "cell_type": "code",
      "source": [
        "def findTruePositives(predicted, actual):\n",
        "  \"\"\"Find indices of false positives\"\"\"\n",
        "  truePositives = []\n",
        "  for i in range(0,len(predicted)):\n",
        "    if predicted[i]==1 and actual[i]==1:\n",
        "      truePositives.append(i)\n",
        "  return truePositives"
      ],
      "metadata": {
        "id": "O4bOBKnOJFwA"
      },
      "execution_count": null,
      "outputs": []
    },
    {
      "cell_type": "code",
      "source": [
        "def findTrueNegatives(predicted, actual):\n",
        "  \"\"\"Find indices of true positives\"\"\"\n",
        "  truePositives = []\n",
        "  for i in range(0,len(predicted)):\n",
        "    if predicted[i]==0 and actual[i]==0:\n",
        "      truePositives.append(i)\n",
        "  return truePositives"
      ],
      "metadata": {
        "id": "VFgC_P_XKhme"
      },
      "execution_count": null,
      "outputs": []
    },
    {
      "cell_type": "code",
      "source": [
        "def findFalsePositives(predicted, actual):\n",
        "  \"\"\"Find indices of false positives\"\"\"\n",
        "  falsePositives = []\n",
        "  for i in range(0,len(predicted)):\n",
        "    if predicted[i]==1 and actual[i]==0:\n",
        "      falsePositives.append(i)\n",
        "  return falsePositives"
      ],
      "metadata": {
        "id": "iiZgV8XIMkza"
      },
      "execution_count": null,
      "outputs": []
    },
    {
      "cell_type": "code",
      "source": [
        "def findFalseNegatives(predicted, actual):\n",
        "  \"\"\"Find indices of false positives\"\"\"\n",
        "  falsePositives = []\n",
        "  for i in range(0,len(predicted)):\n",
        "    if predicted[i]==0 and actual[i]==1:\n",
        "      falsePositives.append(i)\n",
        "  return falsePositives"
      ],
      "metadata": {
        "id": "mZIEnKWMMkzb"
      },
      "execution_count": null,
      "outputs": []
    },
    {
      "cell_type": "markdown",
      "source": [
        "# **1. Dataset classification** \n",
        "**a. Is it a binary/multi-class classification?**  \n",
        "* The Kaggle dataset used is titled \"Student Performance Data Set\" [1], and it provides the performance of Portuguese students based on multiple features (see Section 2 for a description of the features).\n",
        "* The dataset used is multi-class as it provides students' school results (column **'G3'**) on a scale from 0 to 20. However, to use it for the Logistic Regression classifier, we will convert the results to a binary classification indicating if the student passed or failed. Furthermore, for consistency purposes, we will keep this binary classification for our three models.\n",
        "* The article from which the data is sourced provides the following ***binary classification***: \"*pass* if G3≥10, else *fail*\" [2]. Therefore, we will use this binary classification for our modeling.\n",
        "\n",
        "**b. What is the goal? Is this for a particular application?** \n",
        "* The goal is to use the target attribute G3 (final grade) to predict if a student passes or fails based on multiple features.\n",
        "\n"
      ],
      "metadata": {
        "id": "W-Su4Hzz1ll-"
      }
    },
    {
      "cell_type": "markdown",
      "source": [
        "# **2. Analyze dataset** \n"
      ],
      "metadata": {
        "id": "gzMxko-G1_NA"
      }
    },
    {
      "cell_type": "markdown",
      "source": [
        "\n",
        "\n",
        "##**Load Data**"
      ],
      "metadata": {
        "id": "m4x_BLTO23jm"
      }
    },
    {
      "cell_type": "code",
      "source": [
        "# Want all features to be displayed\n",
        "pd.set_option('max_columns', None)"
      ],
      "metadata": {
        "id": "ZUGnFesZzEyq"
      },
      "execution_count": null,
      "outputs": []
    },
    {
      "cell_type": "code",
      "source": [
        "# Column descriptions\n",
        "columnDescription = pd.read_csv('https://raw.githubusercontent.com/Caroline132/project-data/main/Column%20Description.csv')\n",
        "columnDescription"
      ],
      "metadata": {
        "colab": {
          "base_uri": "https://localhost:8080/",
          "height": 990
        },
        "outputId": "ea7862c6-8174-407c-a4eb-588d2a203189",
        "id": "voaDsZqR23jm"
      },
      "execution_count": null,
      "outputs": [
        {
          "output_type": "execute_result",
          "data": {
            "text/plain": [
              "       Columns                                        Description\n",
              "0       school  student's school (binary: 'GP' - Gabriel Perei...\n",
              "1          sex  student's sex (binary: 'F' - female or 'M' - m...\n",
              "2          age             student's age (numeric: from 15 to 22)\n",
              "3      address  student's home address type (binary: 'U' - urb...\n",
              "4      famsize  family size (binary: 'LE3' - less or equal to ...\n",
              "5      Pstatus  parent's cohabitation status (binary: 'T' - li...\n",
              "6         Medu  mother's education (numeric: 0 - none, 1 - pri...\n",
              "7         Fedu  father's education (numeric: 0 - none, 1 - pri...\n",
              "8         Mjob  mother's job (nominal: 'teacher', 'health' car...\n",
              "9         Fjob  father's job (nominal: 'teacher', 'health' car...\n",
              "10      reason  reason to choose this school (nominal: close t...\n",
              "11    guardian  student's guardian (nominal: 'mother', 'father...\n",
              "12  traveltime  home to school travel time (numeric: 1 - <15 m...\n",
              "13   studytime  weekly study time (numeric: 1 - <2 hours, 2 - ...\n",
              "14    failures  number of past class failures (numeric: n if 1...\n",
              "15   schoolsup      extra educational support (binary: yes or no)\n",
              "16      famsup     family educational support (binary: yes or no)\n",
              "17        paid  extra paid classes within the course subject (...\n",
              "18  activities    extra-curricular activities (binary: yes or no)\n",
              "19     nursery        attended nursery school (binary: yes or no)\n",
              "20      higher  wants to take higher education (binary: yes or...\n",
              "21    internet        Internet access at home (binary: yes or no)\n",
              "22    romantic   with a romantic relationship (binary: yes or no)\n",
              "23      famrel  quality of family relationships (numeric: from...\n",
              "24    freetime  free time after school (numeric: from 1 - very...\n",
              "25       goout  going out with friends (numeric: from 1 - very...\n",
              "26        Dalc  workday alcohol consumption (numeric: from 1 -...\n",
              "27        Walc  weekend alcohol consumption (numeric: from 1 -...\n",
              "28      health  current health status (numeric: from 1 - very ...\n",
              "29    absences  number of school absences (numeric: from 0 to 93)"
            ],
            "text/html": [
              "\n",
              "  <div id=\"df-7153343f-eae2-4d39-9586-527f37a33f25\">\n",
              "    <div class=\"colab-df-container\">\n",
              "      <div>\n",
              "<style scoped>\n",
              "    .dataframe tbody tr th:only-of-type {\n",
              "        vertical-align: middle;\n",
              "    }\n",
              "\n",
              "    .dataframe tbody tr th {\n",
              "        vertical-align: top;\n",
              "    }\n",
              "\n",
              "    .dataframe thead th {\n",
              "        text-align: right;\n",
              "    }\n",
              "</style>\n",
              "<table border=\"1\" class=\"dataframe\">\n",
              "  <thead>\n",
              "    <tr style=\"text-align: right;\">\n",
              "      <th></th>\n",
              "      <th>Columns</th>\n",
              "      <th>Description</th>\n",
              "    </tr>\n",
              "  </thead>\n",
              "  <tbody>\n",
              "    <tr>\n",
              "      <th>0</th>\n",
              "      <td>school</td>\n",
              "      <td>student's school (binary: 'GP' - Gabriel Perei...</td>\n",
              "    </tr>\n",
              "    <tr>\n",
              "      <th>1</th>\n",
              "      <td>sex</td>\n",
              "      <td>student's sex (binary: 'F' - female or 'M' - m...</td>\n",
              "    </tr>\n",
              "    <tr>\n",
              "      <th>2</th>\n",
              "      <td>age</td>\n",
              "      <td>student's age (numeric: from 15 to 22)</td>\n",
              "    </tr>\n",
              "    <tr>\n",
              "      <th>3</th>\n",
              "      <td>address</td>\n",
              "      <td>student's home address type (binary: 'U' - urb...</td>\n",
              "    </tr>\n",
              "    <tr>\n",
              "      <th>4</th>\n",
              "      <td>famsize</td>\n",
              "      <td>family size (binary: 'LE3' - less or equal to ...</td>\n",
              "    </tr>\n",
              "    <tr>\n",
              "      <th>5</th>\n",
              "      <td>Pstatus</td>\n",
              "      <td>parent's cohabitation status (binary: 'T' - li...</td>\n",
              "    </tr>\n",
              "    <tr>\n",
              "      <th>6</th>\n",
              "      <td>Medu</td>\n",
              "      <td>mother's education (numeric: 0 - none, 1 - pri...</td>\n",
              "    </tr>\n",
              "    <tr>\n",
              "      <th>7</th>\n",
              "      <td>Fedu</td>\n",
              "      <td>father's education (numeric: 0 - none, 1 - pri...</td>\n",
              "    </tr>\n",
              "    <tr>\n",
              "      <th>8</th>\n",
              "      <td>Mjob</td>\n",
              "      <td>mother's job (nominal: 'teacher', 'health' car...</td>\n",
              "    </tr>\n",
              "    <tr>\n",
              "      <th>9</th>\n",
              "      <td>Fjob</td>\n",
              "      <td>father's job (nominal: 'teacher', 'health' car...</td>\n",
              "    </tr>\n",
              "    <tr>\n",
              "      <th>10</th>\n",
              "      <td>reason</td>\n",
              "      <td>reason to choose this school (nominal: close t...</td>\n",
              "    </tr>\n",
              "    <tr>\n",
              "      <th>11</th>\n",
              "      <td>guardian</td>\n",
              "      <td>student's guardian (nominal: 'mother', 'father...</td>\n",
              "    </tr>\n",
              "    <tr>\n",
              "      <th>12</th>\n",
              "      <td>traveltime</td>\n",
              "      <td>home to school travel time (numeric: 1 - &lt;15 m...</td>\n",
              "    </tr>\n",
              "    <tr>\n",
              "      <th>13</th>\n",
              "      <td>studytime</td>\n",
              "      <td>weekly study time (numeric: 1 - &lt;2 hours, 2 - ...</td>\n",
              "    </tr>\n",
              "    <tr>\n",
              "      <th>14</th>\n",
              "      <td>failures</td>\n",
              "      <td>number of past class failures (numeric: n if 1...</td>\n",
              "    </tr>\n",
              "    <tr>\n",
              "      <th>15</th>\n",
              "      <td>schoolsup</td>\n",
              "      <td>extra educational support (binary: yes or no)</td>\n",
              "    </tr>\n",
              "    <tr>\n",
              "      <th>16</th>\n",
              "      <td>famsup</td>\n",
              "      <td>family educational support (binary: yes or no)</td>\n",
              "    </tr>\n",
              "    <tr>\n",
              "      <th>17</th>\n",
              "      <td>paid</td>\n",
              "      <td>extra paid classes within the course subject (...</td>\n",
              "    </tr>\n",
              "    <tr>\n",
              "      <th>18</th>\n",
              "      <td>activities</td>\n",
              "      <td>extra-curricular activities (binary: yes or no)</td>\n",
              "    </tr>\n",
              "    <tr>\n",
              "      <th>19</th>\n",
              "      <td>nursery</td>\n",
              "      <td>attended nursery school (binary: yes or no)</td>\n",
              "    </tr>\n",
              "    <tr>\n",
              "      <th>20</th>\n",
              "      <td>higher</td>\n",
              "      <td>wants to take higher education (binary: yes or...</td>\n",
              "    </tr>\n",
              "    <tr>\n",
              "      <th>21</th>\n",
              "      <td>internet</td>\n",
              "      <td>Internet access at home (binary: yes or no)</td>\n",
              "    </tr>\n",
              "    <tr>\n",
              "      <th>22</th>\n",
              "      <td>romantic</td>\n",
              "      <td>with a romantic relationship (binary: yes or no)</td>\n",
              "    </tr>\n",
              "    <tr>\n",
              "      <th>23</th>\n",
              "      <td>famrel</td>\n",
              "      <td>quality of family relationships (numeric: from...</td>\n",
              "    </tr>\n",
              "    <tr>\n",
              "      <th>24</th>\n",
              "      <td>freetime</td>\n",
              "      <td>free time after school (numeric: from 1 - very...</td>\n",
              "    </tr>\n",
              "    <tr>\n",
              "      <th>25</th>\n",
              "      <td>goout</td>\n",
              "      <td>going out with friends (numeric: from 1 - very...</td>\n",
              "    </tr>\n",
              "    <tr>\n",
              "      <th>26</th>\n",
              "      <td>Dalc</td>\n",
              "      <td>workday alcohol consumption (numeric: from 1 -...</td>\n",
              "    </tr>\n",
              "    <tr>\n",
              "      <th>27</th>\n",
              "      <td>Walc</td>\n",
              "      <td>weekend alcohol consumption (numeric: from 1 -...</td>\n",
              "    </tr>\n",
              "    <tr>\n",
              "      <th>28</th>\n",
              "      <td>health</td>\n",
              "      <td>current health status (numeric: from 1 - very ...</td>\n",
              "    </tr>\n",
              "    <tr>\n",
              "      <th>29</th>\n",
              "      <td>absences</td>\n",
              "      <td>number of school absences (numeric: from 0 to 93)</td>\n",
              "    </tr>\n",
              "  </tbody>\n",
              "</table>\n",
              "</div>\n",
              "      <button class=\"colab-df-convert\" onclick=\"convertToInteractive('df-7153343f-eae2-4d39-9586-527f37a33f25')\"\n",
              "              title=\"Convert this dataframe to an interactive table.\"\n",
              "              style=\"display:none;\">\n",
              "        \n",
              "  <svg xmlns=\"http://www.w3.org/2000/svg\" height=\"24px\"viewBox=\"0 0 24 24\"\n",
              "       width=\"24px\">\n",
              "    <path d=\"M0 0h24v24H0V0z\" fill=\"none\"/>\n",
              "    <path d=\"M18.56 5.44l.94 2.06.94-2.06 2.06-.94-2.06-.94-.94-2.06-.94 2.06-2.06.94zm-11 1L8.5 8.5l.94-2.06 2.06-.94-2.06-.94L8.5 2.5l-.94 2.06-2.06.94zm10 10l.94 2.06.94-2.06 2.06-.94-2.06-.94-.94-2.06-.94 2.06-2.06.94z\"/><path d=\"M17.41 7.96l-1.37-1.37c-.4-.4-.92-.59-1.43-.59-.52 0-1.04.2-1.43.59L10.3 9.45l-7.72 7.72c-.78.78-.78 2.05 0 2.83L4 21.41c.39.39.9.59 1.41.59.51 0 1.02-.2 1.41-.59l7.78-7.78 2.81-2.81c.8-.78.8-2.07 0-2.86zM5.41 20L4 18.59l7.72-7.72 1.47 1.35L5.41 20z\"/>\n",
              "  </svg>\n",
              "      </button>\n",
              "      \n",
              "  <style>\n",
              "    .colab-df-container {\n",
              "      display:flex;\n",
              "      flex-wrap:wrap;\n",
              "      gap: 12px;\n",
              "    }\n",
              "\n",
              "    .colab-df-convert {\n",
              "      background-color: #E8F0FE;\n",
              "      border: none;\n",
              "      border-radius: 50%;\n",
              "      cursor: pointer;\n",
              "      display: none;\n",
              "      fill: #1967D2;\n",
              "      height: 32px;\n",
              "      padding: 0 0 0 0;\n",
              "      width: 32px;\n",
              "    }\n",
              "\n",
              "    .colab-df-convert:hover {\n",
              "      background-color: #E2EBFA;\n",
              "      box-shadow: 0px 1px 2px rgba(60, 64, 67, 0.3), 0px 1px 3px 1px rgba(60, 64, 67, 0.15);\n",
              "      fill: #174EA6;\n",
              "    }\n",
              "\n",
              "    [theme=dark] .colab-df-convert {\n",
              "      background-color: #3B4455;\n",
              "      fill: #D2E3FC;\n",
              "    }\n",
              "\n",
              "    [theme=dark] .colab-df-convert:hover {\n",
              "      background-color: #434B5C;\n",
              "      box-shadow: 0px 1px 3px 1px rgba(0, 0, 0, 0.15);\n",
              "      filter: drop-shadow(0px 1px 2px rgba(0, 0, 0, 0.3));\n",
              "      fill: #FFFFFF;\n",
              "    }\n",
              "  </style>\n",
              "\n",
              "      <script>\n",
              "        const buttonEl =\n",
              "          document.querySelector('#df-7153343f-eae2-4d39-9586-527f37a33f25 button.colab-df-convert');\n",
              "        buttonEl.style.display =\n",
              "          google.colab.kernel.accessAllowed ? 'block' : 'none';\n",
              "\n",
              "        async function convertToInteractive(key) {\n",
              "          const element = document.querySelector('#df-7153343f-eae2-4d39-9586-527f37a33f25');\n",
              "          const dataTable =\n",
              "            await google.colab.kernel.invokeFunction('convertToInteractive',\n",
              "                                                     [key], {});\n",
              "          if (!dataTable) return;\n",
              "\n",
              "          const docLinkHtml = 'Like what you see? Visit the ' +\n",
              "            '<a target=\"_blank\" href=https://colab.research.google.com/notebooks/data_table.ipynb>data table notebook</a>'\n",
              "            + ' to learn more about interactive tables.';\n",
              "          element.innerHTML = '';\n",
              "          dataTable['output_type'] = 'display_data';\n",
              "          await google.colab.output.renderOutput(dataTable, element);\n",
              "          const docLink = document.createElement('div');\n",
              "          docLink.innerHTML = docLinkHtml;\n",
              "          element.appendChild(docLink);\n",
              "        }\n",
              "      </script>\n",
              "    </div>\n",
              "  </div>\n",
              "  "
            ]
          },
          "metadata": {},
          "execution_count": 16
        }
      ]
    },
    {
      "cell_type": "code",
      "source": [
        "# Target attributes description \n",
        "gradeDescription = pd.read_csv('https://raw.githubusercontent.com/Caroline132/project-data/main/Grade.csv')\n",
        "gradeDescription"
      ],
      "metadata": {
        "colab": {
          "base_uri": "https://localhost:8080/",
          "height": 143
        },
        "outputId": "6dfe1091-f9d0-40d5-d0a0-16be4c76eab1",
        "id": "bkv7ODPH23jn"
      },
      "execution_count": null,
      "outputs": [
        {
          "output_type": "execute_result",
          "data": {
            "text/plain": [
              "  Grade                                        Description\n",
              "0    G1         first period grade (numeric: from 0 to 20)\n",
              "1    G2        second period grade (numeric: from 0 to 20)\n",
              "2    G3  final grade (numeric: from 0 to 20, output tar..."
            ],
            "text/html": [
              "\n",
              "  <div id=\"df-3237f632-74e6-4b3c-9ba4-d755d07981c6\">\n",
              "    <div class=\"colab-df-container\">\n",
              "      <div>\n",
              "<style scoped>\n",
              "    .dataframe tbody tr th:only-of-type {\n",
              "        vertical-align: middle;\n",
              "    }\n",
              "\n",
              "    .dataframe tbody tr th {\n",
              "        vertical-align: top;\n",
              "    }\n",
              "\n",
              "    .dataframe thead th {\n",
              "        text-align: right;\n",
              "    }\n",
              "</style>\n",
              "<table border=\"1\" class=\"dataframe\">\n",
              "  <thead>\n",
              "    <tr style=\"text-align: right;\">\n",
              "      <th></th>\n",
              "      <th>Grade</th>\n",
              "      <th>Description</th>\n",
              "    </tr>\n",
              "  </thead>\n",
              "  <tbody>\n",
              "    <tr>\n",
              "      <th>0</th>\n",
              "      <td>G1</td>\n",
              "      <td>first period grade (numeric: from 0 to 20)</td>\n",
              "    </tr>\n",
              "    <tr>\n",
              "      <th>1</th>\n",
              "      <td>G2</td>\n",
              "      <td>second period grade (numeric: from 0 to 20)</td>\n",
              "    </tr>\n",
              "    <tr>\n",
              "      <th>2</th>\n",
              "      <td>G3</td>\n",
              "      <td>final grade (numeric: from 0 to 20, output tar...</td>\n",
              "    </tr>\n",
              "  </tbody>\n",
              "</table>\n",
              "</div>\n",
              "      <button class=\"colab-df-convert\" onclick=\"convertToInteractive('df-3237f632-74e6-4b3c-9ba4-d755d07981c6')\"\n",
              "              title=\"Convert this dataframe to an interactive table.\"\n",
              "              style=\"display:none;\">\n",
              "        \n",
              "  <svg xmlns=\"http://www.w3.org/2000/svg\" height=\"24px\"viewBox=\"0 0 24 24\"\n",
              "       width=\"24px\">\n",
              "    <path d=\"M0 0h24v24H0V0z\" fill=\"none\"/>\n",
              "    <path d=\"M18.56 5.44l.94 2.06.94-2.06 2.06-.94-2.06-.94-.94-2.06-.94 2.06-2.06.94zm-11 1L8.5 8.5l.94-2.06 2.06-.94-2.06-.94L8.5 2.5l-.94 2.06-2.06.94zm10 10l.94 2.06.94-2.06 2.06-.94-2.06-.94-.94-2.06-.94 2.06-2.06.94z\"/><path d=\"M17.41 7.96l-1.37-1.37c-.4-.4-.92-.59-1.43-.59-.52 0-1.04.2-1.43.59L10.3 9.45l-7.72 7.72c-.78.78-.78 2.05 0 2.83L4 21.41c.39.39.9.59 1.41.59.51 0 1.02-.2 1.41-.59l7.78-7.78 2.81-2.81c.8-.78.8-2.07 0-2.86zM5.41 20L4 18.59l7.72-7.72 1.47 1.35L5.41 20z\"/>\n",
              "  </svg>\n",
              "      </button>\n",
              "      \n",
              "  <style>\n",
              "    .colab-df-container {\n",
              "      display:flex;\n",
              "      flex-wrap:wrap;\n",
              "      gap: 12px;\n",
              "    }\n",
              "\n",
              "    .colab-df-convert {\n",
              "      background-color: #E8F0FE;\n",
              "      border: none;\n",
              "      border-radius: 50%;\n",
              "      cursor: pointer;\n",
              "      display: none;\n",
              "      fill: #1967D2;\n",
              "      height: 32px;\n",
              "      padding: 0 0 0 0;\n",
              "      width: 32px;\n",
              "    }\n",
              "\n",
              "    .colab-df-convert:hover {\n",
              "      background-color: #E2EBFA;\n",
              "      box-shadow: 0px 1px 2px rgba(60, 64, 67, 0.3), 0px 1px 3px 1px rgba(60, 64, 67, 0.15);\n",
              "      fill: #174EA6;\n",
              "    }\n",
              "\n",
              "    [theme=dark] .colab-df-convert {\n",
              "      background-color: #3B4455;\n",
              "      fill: #D2E3FC;\n",
              "    }\n",
              "\n",
              "    [theme=dark] .colab-df-convert:hover {\n",
              "      background-color: #434B5C;\n",
              "      box-shadow: 0px 1px 3px 1px rgba(0, 0, 0, 0.15);\n",
              "      filter: drop-shadow(0px 1px 2px rgba(0, 0, 0, 0.3));\n",
              "      fill: #FFFFFF;\n",
              "    }\n",
              "  </style>\n",
              "\n",
              "      <script>\n",
              "        const buttonEl =\n",
              "          document.querySelector('#df-3237f632-74e6-4b3c-9ba4-d755d07981c6 button.colab-df-convert');\n",
              "        buttonEl.style.display =\n",
              "          google.colab.kernel.accessAllowed ? 'block' : 'none';\n",
              "\n",
              "        async function convertToInteractive(key) {\n",
              "          const element = document.querySelector('#df-3237f632-74e6-4b3c-9ba4-d755d07981c6');\n",
              "          const dataTable =\n",
              "            await google.colab.kernel.invokeFunction('convertToInteractive',\n",
              "                                                     [key], {});\n",
              "          if (!dataTable) return;\n",
              "\n",
              "          const docLinkHtml = 'Like what you see? Visit the ' +\n",
              "            '<a target=\"_blank\" href=https://colab.research.google.com/notebooks/data_table.ipynb>data table notebook</a>'\n",
              "            + ' to learn more about interactive tables.';\n",
              "          element.innerHTML = '';\n",
              "          dataTable['output_type'] = 'display_data';\n",
              "          await google.colab.output.renderOutput(dataTable, element);\n",
              "          const docLink = document.createElement('div');\n",
              "          docLink.innerHTML = docLinkHtml;\n",
              "          element.appendChild(docLink);\n",
              "        }\n",
              "      </script>\n",
              "    </div>\n",
              "  </div>\n",
              "  "
            ]
          },
          "metadata": {},
          "execution_count": 17
        }
      ]
    },
    {
      "cell_type": "code",
      "source": [
        "# Load CSV into Pandas dataframe\n",
        "df = pd.read_csv('https://raw.githubusercontent.com/Caroline132/project-data/main/student-por.csv')\n",
        "print(df.shape)\n",
        "df.head()"
      ],
      "metadata": {
        "colab": {
          "base_uri": "https://localhost:8080/",
          "height": 288
        },
        "outputId": "cb0938d5-0f3b-4299-ab14-34ece2695329",
        "id": "amuoAr6A23jn"
      },
      "execution_count": null,
      "outputs": [
        {
          "output_type": "stream",
          "name": "stdout",
          "text": [
            "(649, 33)\n"
          ]
        },
        {
          "output_type": "execute_result",
          "data": {
            "text/plain": [
              "  school sex  age address famsize Pstatus  Medu  Fedu     Mjob      Fjob  \\\n",
              "0     GP   F   18       U     GT3       A     4     4  at_home   teacher   \n",
              "1     GP   F   17       U     GT3       T     1     1  at_home     other   \n",
              "2     GP   F   15       U     LE3       T     1     1  at_home     other   \n",
              "3     GP   F   15       U     GT3       T     4     2   health  services   \n",
              "4     GP   F   16       U     GT3       T     3     3    other     other   \n",
              "\n",
              "   reason guardian  traveltime  studytime  failures schoolsup famsup paid  \\\n",
              "0  course   mother           2          2         0       yes     no   no   \n",
              "1  course   father           1          2         0        no    yes   no   \n",
              "2   other   mother           1          2         0       yes     no   no   \n",
              "3    home   mother           1          3         0        no    yes   no   \n",
              "4    home   father           1          2         0        no    yes   no   \n",
              "\n",
              "  activities nursery higher internet romantic  famrel  freetime  goout  Dalc  \\\n",
              "0         no     yes    yes       no       no       4         3      4     1   \n",
              "1         no      no    yes      yes       no       5         3      3     1   \n",
              "2         no     yes    yes      yes       no       4         3      2     2   \n",
              "3        yes     yes    yes      yes      yes       3         2      2     1   \n",
              "4         no     yes    yes       no       no       4         3      2     1   \n",
              "\n",
              "   Walc  health  absences  G1  G2  G3  \n",
              "0     1       3         4   0  11  11  \n",
              "1     1       3         2   9  11  11  \n",
              "2     3       3         6  12  13  12  \n",
              "3     1       5         0  14  14  14  \n",
              "4     2       5         0  11  13  13  "
            ],
            "text/html": [
              "\n",
              "  <div id=\"df-0d6a6291-e2c3-472c-a30b-c2822850e277\">\n",
              "    <div class=\"colab-df-container\">\n",
              "      <div>\n",
              "<style scoped>\n",
              "    .dataframe tbody tr th:only-of-type {\n",
              "        vertical-align: middle;\n",
              "    }\n",
              "\n",
              "    .dataframe tbody tr th {\n",
              "        vertical-align: top;\n",
              "    }\n",
              "\n",
              "    .dataframe thead th {\n",
              "        text-align: right;\n",
              "    }\n",
              "</style>\n",
              "<table border=\"1\" class=\"dataframe\">\n",
              "  <thead>\n",
              "    <tr style=\"text-align: right;\">\n",
              "      <th></th>\n",
              "      <th>school</th>\n",
              "      <th>sex</th>\n",
              "      <th>age</th>\n",
              "      <th>address</th>\n",
              "      <th>famsize</th>\n",
              "      <th>Pstatus</th>\n",
              "      <th>Medu</th>\n",
              "      <th>Fedu</th>\n",
              "      <th>Mjob</th>\n",
              "      <th>Fjob</th>\n",
              "      <th>reason</th>\n",
              "      <th>guardian</th>\n",
              "      <th>traveltime</th>\n",
              "      <th>studytime</th>\n",
              "      <th>failures</th>\n",
              "      <th>schoolsup</th>\n",
              "      <th>famsup</th>\n",
              "      <th>paid</th>\n",
              "      <th>activities</th>\n",
              "      <th>nursery</th>\n",
              "      <th>higher</th>\n",
              "      <th>internet</th>\n",
              "      <th>romantic</th>\n",
              "      <th>famrel</th>\n",
              "      <th>freetime</th>\n",
              "      <th>goout</th>\n",
              "      <th>Dalc</th>\n",
              "      <th>Walc</th>\n",
              "      <th>health</th>\n",
              "      <th>absences</th>\n",
              "      <th>G1</th>\n",
              "      <th>G2</th>\n",
              "      <th>G3</th>\n",
              "    </tr>\n",
              "  </thead>\n",
              "  <tbody>\n",
              "    <tr>\n",
              "      <th>0</th>\n",
              "      <td>GP</td>\n",
              "      <td>F</td>\n",
              "      <td>18</td>\n",
              "      <td>U</td>\n",
              "      <td>GT3</td>\n",
              "      <td>A</td>\n",
              "      <td>4</td>\n",
              "      <td>4</td>\n",
              "      <td>at_home</td>\n",
              "      <td>teacher</td>\n",
              "      <td>course</td>\n",
              "      <td>mother</td>\n",
              "      <td>2</td>\n",
              "      <td>2</td>\n",
              "      <td>0</td>\n",
              "      <td>yes</td>\n",
              "      <td>no</td>\n",
              "      <td>no</td>\n",
              "      <td>no</td>\n",
              "      <td>yes</td>\n",
              "      <td>yes</td>\n",
              "      <td>no</td>\n",
              "      <td>no</td>\n",
              "      <td>4</td>\n",
              "      <td>3</td>\n",
              "      <td>4</td>\n",
              "      <td>1</td>\n",
              "      <td>1</td>\n",
              "      <td>3</td>\n",
              "      <td>4</td>\n",
              "      <td>0</td>\n",
              "      <td>11</td>\n",
              "      <td>11</td>\n",
              "    </tr>\n",
              "    <tr>\n",
              "      <th>1</th>\n",
              "      <td>GP</td>\n",
              "      <td>F</td>\n",
              "      <td>17</td>\n",
              "      <td>U</td>\n",
              "      <td>GT3</td>\n",
              "      <td>T</td>\n",
              "      <td>1</td>\n",
              "      <td>1</td>\n",
              "      <td>at_home</td>\n",
              "      <td>other</td>\n",
              "      <td>course</td>\n",
              "      <td>father</td>\n",
              "      <td>1</td>\n",
              "      <td>2</td>\n",
              "      <td>0</td>\n",
              "      <td>no</td>\n",
              "      <td>yes</td>\n",
              "      <td>no</td>\n",
              "      <td>no</td>\n",
              "      <td>no</td>\n",
              "      <td>yes</td>\n",
              "      <td>yes</td>\n",
              "      <td>no</td>\n",
              "      <td>5</td>\n",
              "      <td>3</td>\n",
              "      <td>3</td>\n",
              "      <td>1</td>\n",
              "      <td>1</td>\n",
              "      <td>3</td>\n",
              "      <td>2</td>\n",
              "      <td>9</td>\n",
              "      <td>11</td>\n",
              "      <td>11</td>\n",
              "    </tr>\n",
              "    <tr>\n",
              "      <th>2</th>\n",
              "      <td>GP</td>\n",
              "      <td>F</td>\n",
              "      <td>15</td>\n",
              "      <td>U</td>\n",
              "      <td>LE3</td>\n",
              "      <td>T</td>\n",
              "      <td>1</td>\n",
              "      <td>1</td>\n",
              "      <td>at_home</td>\n",
              "      <td>other</td>\n",
              "      <td>other</td>\n",
              "      <td>mother</td>\n",
              "      <td>1</td>\n",
              "      <td>2</td>\n",
              "      <td>0</td>\n",
              "      <td>yes</td>\n",
              "      <td>no</td>\n",
              "      <td>no</td>\n",
              "      <td>no</td>\n",
              "      <td>yes</td>\n",
              "      <td>yes</td>\n",
              "      <td>yes</td>\n",
              "      <td>no</td>\n",
              "      <td>4</td>\n",
              "      <td>3</td>\n",
              "      <td>2</td>\n",
              "      <td>2</td>\n",
              "      <td>3</td>\n",
              "      <td>3</td>\n",
              "      <td>6</td>\n",
              "      <td>12</td>\n",
              "      <td>13</td>\n",
              "      <td>12</td>\n",
              "    </tr>\n",
              "    <tr>\n",
              "      <th>3</th>\n",
              "      <td>GP</td>\n",
              "      <td>F</td>\n",
              "      <td>15</td>\n",
              "      <td>U</td>\n",
              "      <td>GT3</td>\n",
              "      <td>T</td>\n",
              "      <td>4</td>\n",
              "      <td>2</td>\n",
              "      <td>health</td>\n",
              "      <td>services</td>\n",
              "      <td>home</td>\n",
              "      <td>mother</td>\n",
              "      <td>1</td>\n",
              "      <td>3</td>\n",
              "      <td>0</td>\n",
              "      <td>no</td>\n",
              "      <td>yes</td>\n",
              "      <td>no</td>\n",
              "      <td>yes</td>\n",
              "      <td>yes</td>\n",
              "      <td>yes</td>\n",
              "      <td>yes</td>\n",
              "      <td>yes</td>\n",
              "      <td>3</td>\n",
              "      <td>2</td>\n",
              "      <td>2</td>\n",
              "      <td>1</td>\n",
              "      <td>1</td>\n",
              "      <td>5</td>\n",
              "      <td>0</td>\n",
              "      <td>14</td>\n",
              "      <td>14</td>\n",
              "      <td>14</td>\n",
              "    </tr>\n",
              "    <tr>\n",
              "      <th>4</th>\n",
              "      <td>GP</td>\n",
              "      <td>F</td>\n",
              "      <td>16</td>\n",
              "      <td>U</td>\n",
              "      <td>GT3</td>\n",
              "      <td>T</td>\n",
              "      <td>3</td>\n",
              "      <td>3</td>\n",
              "      <td>other</td>\n",
              "      <td>other</td>\n",
              "      <td>home</td>\n",
              "      <td>father</td>\n",
              "      <td>1</td>\n",
              "      <td>2</td>\n",
              "      <td>0</td>\n",
              "      <td>no</td>\n",
              "      <td>yes</td>\n",
              "      <td>no</td>\n",
              "      <td>no</td>\n",
              "      <td>yes</td>\n",
              "      <td>yes</td>\n",
              "      <td>no</td>\n",
              "      <td>no</td>\n",
              "      <td>4</td>\n",
              "      <td>3</td>\n",
              "      <td>2</td>\n",
              "      <td>1</td>\n",
              "      <td>2</td>\n",
              "      <td>5</td>\n",
              "      <td>0</td>\n",
              "      <td>11</td>\n",
              "      <td>13</td>\n",
              "      <td>13</td>\n",
              "    </tr>\n",
              "  </tbody>\n",
              "</table>\n",
              "</div>\n",
              "      <button class=\"colab-df-convert\" onclick=\"convertToInteractive('df-0d6a6291-e2c3-472c-a30b-c2822850e277')\"\n",
              "              title=\"Convert this dataframe to an interactive table.\"\n",
              "              style=\"display:none;\">\n",
              "        \n",
              "  <svg xmlns=\"http://www.w3.org/2000/svg\" height=\"24px\"viewBox=\"0 0 24 24\"\n",
              "       width=\"24px\">\n",
              "    <path d=\"M0 0h24v24H0V0z\" fill=\"none\"/>\n",
              "    <path d=\"M18.56 5.44l.94 2.06.94-2.06 2.06-.94-2.06-.94-.94-2.06-.94 2.06-2.06.94zm-11 1L8.5 8.5l.94-2.06 2.06-.94-2.06-.94L8.5 2.5l-.94 2.06-2.06.94zm10 10l.94 2.06.94-2.06 2.06-.94-2.06-.94-.94-2.06-.94 2.06-2.06.94z\"/><path d=\"M17.41 7.96l-1.37-1.37c-.4-.4-.92-.59-1.43-.59-.52 0-1.04.2-1.43.59L10.3 9.45l-7.72 7.72c-.78.78-.78 2.05 0 2.83L4 21.41c.39.39.9.59 1.41.59.51 0 1.02-.2 1.41-.59l7.78-7.78 2.81-2.81c.8-.78.8-2.07 0-2.86zM5.41 20L4 18.59l7.72-7.72 1.47 1.35L5.41 20z\"/>\n",
              "  </svg>\n",
              "      </button>\n",
              "      \n",
              "  <style>\n",
              "    .colab-df-container {\n",
              "      display:flex;\n",
              "      flex-wrap:wrap;\n",
              "      gap: 12px;\n",
              "    }\n",
              "\n",
              "    .colab-df-convert {\n",
              "      background-color: #E8F0FE;\n",
              "      border: none;\n",
              "      border-radius: 50%;\n",
              "      cursor: pointer;\n",
              "      display: none;\n",
              "      fill: #1967D2;\n",
              "      height: 32px;\n",
              "      padding: 0 0 0 0;\n",
              "      width: 32px;\n",
              "    }\n",
              "\n",
              "    .colab-df-convert:hover {\n",
              "      background-color: #E2EBFA;\n",
              "      box-shadow: 0px 1px 2px rgba(60, 64, 67, 0.3), 0px 1px 3px 1px rgba(60, 64, 67, 0.15);\n",
              "      fill: #174EA6;\n",
              "    }\n",
              "\n",
              "    [theme=dark] .colab-df-convert {\n",
              "      background-color: #3B4455;\n",
              "      fill: #D2E3FC;\n",
              "    }\n",
              "\n",
              "    [theme=dark] .colab-df-convert:hover {\n",
              "      background-color: #434B5C;\n",
              "      box-shadow: 0px 1px 3px 1px rgba(0, 0, 0, 0.15);\n",
              "      filter: drop-shadow(0px 1px 2px rgba(0, 0, 0, 0.3));\n",
              "      fill: #FFFFFF;\n",
              "    }\n",
              "  </style>\n",
              "\n",
              "      <script>\n",
              "        const buttonEl =\n",
              "          document.querySelector('#df-0d6a6291-e2c3-472c-a30b-c2822850e277 button.colab-df-convert');\n",
              "        buttonEl.style.display =\n",
              "          google.colab.kernel.accessAllowed ? 'block' : 'none';\n",
              "\n",
              "        async function convertToInteractive(key) {\n",
              "          const element = document.querySelector('#df-0d6a6291-e2c3-472c-a30b-c2822850e277');\n",
              "          const dataTable =\n",
              "            await google.colab.kernel.invokeFunction('convertToInteractive',\n",
              "                                                     [key], {});\n",
              "          if (!dataTable) return;\n",
              "\n",
              "          const docLinkHtml = 'Like what you see? Visit the ' +\n",
              "            '<a target=\"_blank\" href=https://colab.research.google.com/notebooks/data_table.ipynb>data table notebook</a>'\n",
              "            + ' to learn more about interactive tables.';\n",
              "          element.innerHTML = '';\n",
              "          dataTable['output_type'] = 'display_data';\n",
              "          await google.colab.output.renderOutput(dataTable, element);\n",
              "          const docLink = document.createElement('div');\n",
              "          docLink.innerHTML = docLinkHtml;\n",
              "          element.appendChild(docLink);\n",
              "        }\n",
              "      </script>\n",
              "    </div>\n",
              "  </div>\n",
              "  "
            ]
          },
          "metadata": {},
          "execution_count": 18
        }
      ]
    },
    {
      "cell_type": "code",
      "source": [
        "# G3 (target attribute) grade distribution\n",
        "sns.countplot(x='G3',data=df)\n",
        "plt.show()"
      ],
      "metadata": {
        "colab": {
          "base_uri": "https://localhost:8080/",
          "height": 279
        },
        "outputId": "0e566312-cdb7-4549-86ca-f7aee82b8e30",
        "id": "x62cMCx93k2x"
      },
      "execution_count": null,
      "outputs": [
        {
          "output_type": "display_data",
          "data": {
            "text/plain": [
              "<Figure size 432x288 with 1 Axes>"
            ],
            "image/png": "[encoded data removed]"
          },
          "metadata": {
            "needs_background": "light"
          }
        }
      ]
    },
    {
      "cell_type": "markdown",
      "source": [
        "## **Characterization**\n",
        "* **Number of training examples:** 649\n",
        "* **Number of features:** 30\n",
        "* **Missing data:** none\n",
        "* **Bias:** as seen in the G3 grade distribution graph above, there is a large bias for passing (grades ≥ 10). Therefore, we must consider this imbalance when implementing our models and analyzing the results."
      ],
      "metadata": {
        "id": "90BodLEpYMjs"
      }
    },
    {
      "cell_type": "markdown",
      "source": [
        "# **3. Brainstorm about the attributes (Feature engineering)**\n",
        "* **Are all features present in the dataset?** The 30 features provide a comprehensive view of elements that could impact a student's grade. Thus, all features are present in the dataset.\n",
        "* **Are there any missing features?** All necessary features are provided in the dataset. Maybe an interesting additional feature would be a ***mental health*** feature in addition to the more general ***health*** feature since mental health plays a significant role in performance.\n",
        "* **Any attribute provided that doesn't seem useful to you?** Some features that may not have a significant impact on student performance might be: ***gender*** (both should perform equally), ***guardian*** (having a mother or father as guardian probably has the same effect), ***activities*** (might provide additional noise as some students might have personal activities at home that are not considered), ***romantic*** (may have both a positive and negative impact depending on the quality of the relationship), ***goout*** (both introverted and extroverted people do well in school; thus it might be hard to determine if going out has a great impact on school performance). Nevertheless, all features will be kept for the main results and use Recursive Feature Elimination (see Section 11) to compare afterward."
      ],
      "metadata": {
        "id": "RQtqHyP02KmT"
      }
    },
    {
      "cell_type": "markdown",
      "source": [
        "# **4. Encode the features**\n"
      ],
      "metadata": {
        "id": "Po0UTiZY0I9U"
      }
    },
    {
      "cell_type": "code",
      "source": [
        "# Dropping G1 and G2 as are interested in the G3 target attribute\n",
        "df = df.drop(columns=['G1', 'G2'])"
      ],
      "metadata": {
        "id": "ICoMLifgDnQa"
      },
      "execution_count": null,
      "outputs": []
    },
    {
      "cell_type": "code",
      "source": [
        "# Change G3 to binary classes (0 = Fail and 1 = Pass)\n",
        "df['G3'] = np.where(df['G3'] <= 10, 0, df['G3'])\n",
        "df['G3'] = np.where(df['G3'] > 10, 1, df['G3'])"
      ],
      "metadata": {
        "id": "B0eJa4bDnCPo"
      },
      "execution_count": null,
      "outputs": []
    },
    {
      "cell_type": "markdown",
      "source": [
        "## **Discretization**"
      ],
      "metadata": {
        "id": "AmQbYvu_XbqL"
      }
    },
    {
      "cell_type": "code",
      "source": [
        "# Discretize features for the Naive Bayes model\n",
        "dataD = df.copy()\n",
        "le = LabelEncoder()\n",
        "dataD = dataD[dataD.columns[:]].apply(le.fit_transform)\n",
        "dataD.head()"
      ],
      "metadata": {
        "id": "oZAJHliJWyry",
        "colab": {
          "base_uri": "https://localhost:8080/",
          "height": 270
        },
        "outputId": "4d4d515f-0c78-47f3-c874-8c3388dd1f83"
      },
      "execution_count": null,
      "outputs": [
        {
          "output_type": "execute_result",
          "data": {
            "text/plain": [
              "   school  sex  age  address  famsize  Pstatus  Medu  Fedu  Mjob  Fjob  \\\n",
              "0       0    0    3        1        0        0     4     4     0     4   \n",
              "1       0    0    2        1        0        1     1     1     0     2   \n",
              "2       0    0    0        1        1        1     1     1     0     2   \n",
              "3       0    0    0        1        0        1     4     2     1     3   \n",
              "4       0    0    1        1        0        1     3     3     2     2   \n",
              "\n",
              "   reason  guardian  traveltime  studytime  failures  schoolsup  famsup  paid  \\\n",
              "0       0         1           1          1         0          1       0     0   \n",
              "1       0         0           0          1         0          0       1     0   \n",
              "2       2         1           0          1         0          1       0     0   \n",
              "3       1         1           0          2         0          0       1     0   \n",
              "4       1         0           0          1         0          0       1     0   \n",
              "\n",
              "   activities  nursery  higher  internet  romantic  famrel  freetime  goout  \\\n",
              "0           0        1       1         0         0       3         2      3   \n",
              "1           0        0       1         1         0       4         2      2   \n",
              "2           0        1       1         1         0       3         2      1   \n",
              "3           1        1       1         1         1       2         1      1   \n",
              "4           0        1       1         0         0       3         2      1   \n",
              "\n",
              "   Dalc  Walc  health  absences  G3  \n",
              "0     0     0       2         4   1  \n",
              "1     0     0       2         2   1  \n",
              "2     1     2       2         6   1  \n",
              "3     0     0       4         0   1  \n",
              "4     0     1       4         0   1  "
            ],
            "text/html": [
              "\n",
              "  <div id=\"df-b16be34d-72fa-487e-a4c0-86836f416bb8\">\n",
              "    <div class=\"colab-df-container\">\n",
              "      <div>\n",
              "<style scoped>\n",
              "    .dataframe tbody tr th:only-of-type {\n",
              "        vertical-align: middle;\n",
              "    }\n",
              "\n",
              "    .dataframe tbody tr th {\n",
              "        vertical-align: top;\n",
              "    }\n",
              "\n",
              "    .dataframe thead th {\n",
              "        text-align: right;\n",
              "    }\n",
              "</style>\n",
              "<table border=\"1\" class=\"dataframe\">\n",
              "  <thead>\n",
              "    <tr style=\"text-align: right;\">\n",
              "      <th></th>\n",
              "      <th>school</th>\n",
              "      <th>sex</th>\n",
              "      <th>age</th>\n",
              "      <th>address</th>\n",
              "      <th>famsize</th>\n",
              "      <th>Pstatus</th>\n",
              "      <th>Medu</th>\n",
              "      <th>Fedu</th>\n",
              "      <th>Mjob</th>\n",
              "      <th>Fjob</th>\n",
              "      <th>reason</th>\n",
              "      <th>guardian</th>\n",
              "      <th>traveltime</th>\n",
              "      <th>studytime</th>\n",
              "      <th>failures</th>\n",
              "      <th>schoolsup</th>\n",
              "      <th>famsup</th>\n",
              "      <th>paid</th>\n",
              "      <th>activities</th>\n",
              "      <th>nursery</th>\n",
              "      <th>higher</th>\n",
              "      <th>internet</th>\n",
              "      <th>romantic</th>\n",
              "      <th>famrel</th>\n",
              "      <th>freetime</th>\n",
              "      <th>goout</th>\n",
              "      <th>Dalc</th>\n",
              "      <th>Walc</th>\n",
              "      <th>health</th>\n",
              "      <th>absences</th>\n",
              "      <th>G3</th>\n",
              "    </tr>\n",
              "  </thead>\n",
              "  <tbody>\n",
              "    <tr>\n",
              "      <th>0</th>\n",
              "      <td>0</td>\n",
              "      <td>0</td>\n",
              "      <td>3</td>\n",
              "      <td>1</td>\n",
              "      <td>0</td>\n",
              "      <td>0</td>\n",
              "      <td>4</td>\n",
              "      <td>4</td>\n",
              "      <td>0</td>\n",
              "      <td>4</td>\n",
              "      <td>0</td>\n",
              "      <td>1</td>\n",
              "      <td>1</td>\n",
              "      <td>1</td>\n",
              "      <td>0</td>\n",
              "      <td>1</td>\n",
              "      <td>0</td>\n",
              "      <td>0</td>\n",
              "      <td>0</td>\n",
              "      <td>1</td>\n",
              "      <td>1</td>\n",
              "      <td>0</td>\n",
              "      <td>0</td>\n",
              "      <td>3</td>\n",
              "      <td>2</td>\n",
              "      <td>3</td>\n",
              "      <td>0</td>\n",
              "      <td>0</td>\n",
              "      <td>2</td>\n",
              "      <td>4</td>\n",
              "      <td>1</td>\n",
              "    </tr>\n",
              "    <tr>\n",
              "      <th>1</th>\n",
              "      <td>0</td>\n",
              "      <td>0</td>\n",
              "      <td>2</td>\n",
              "      <td>1</td>\n",
              "      <td>0</td>\n",
              "      <td>1</td>\n",
              "      <td>1</td>\n",
              "      <td>1</td>\n",
              "      <td>0</td>\n",
              "      <td>2</td>\n",
              "      <td>0</td>\n",
              "      <td>0</td>\n",
              "      <td>0</td>\n",
              "      <td>1</td>\n",
              "      <td>0</td>\n",
              "      <td>0</td>\n",
              "      <td>1</td>\n",
              "      <td>0</td>\n",
              "      <td>0</td>\n",
              "      <td>0</td>\n",
              "      <td>1</td>\n",
              "      <td>1</td>\n",
              "      <td>0</td>\n",
              "      <td>4</td>\n",
              "      <td>2</td>\n",
              "      <td>2</td>\n",
              "      <td>0</td>\n",
              "      <td>0</td>\n",
              "      <td>2</td>\n",
              "      <td>2</td>\n",
              "      <td>1</td>\n",
              "    </tr>\n",
              "    <tr>\n",
              "      <th>2</th>\n",
              "      <td>0</td>\n",
              "      <td>0</td>\n",
              "      <td>0</td>\n",
              "      <td>1</td>\n",
              "      <td>1</td>\n",
              "      <td>1</td>\n",
              "      <td>1</td>\n",
              "      <td>1</td>\n",
              "      <td>0</td>\n",
              "      <td>2</td>\n",
              "      <td>2</td>\n",
              "      <td>1</td>\n",
              "      <td>0</td>\n",
              "      <td>1</td>\n",
              "      <td>0</td>\n",
              "      <td>1</td>\n",
              "      <td>0</td>\n",
              "      <td>0</td>\n",
              "      <td>0</td>\n",
              "      <td>1</td>\n",
              "      <td>1</td>\n",
              "      <td>1</td>\n",
              "      <td>0</td>\n",
              "      <td>3</td>\n",
              "      <td>2</td>\n",
              "      <td>1</td>\n",
              "      <td>1</td>\n",
              "      <td>2</td>\n",
              "      <td>2</td>\n",
              "      <td>6</td>\n",
              "      <td>1</td>\n",
              "    </tr>\n",
              "    <tr>\n",
              "      <th>3</th>\n",
              "      <td>0</td>\n",
              "      <td>0</td>\n",
              "      <td>0</td>\n",
              "      <td>1</td>\n",
              "      <td>0</td>\n",
              "      <td>1</td>\n",
              "      <td>4</td>\n",
              "      <td>2</td>\n",
              "      <td>1</td>\n",
              "      <td>3</td>\n",
              "      <td>1</td>\n",
              "      <td>1</td>\n",
              "      <td>0</td>\n",
              "      <td>2</td>\n",
              "      <td>0</td>\n",
              "      <td>0</td>\n",
              "      <td>1</td>\n",
              "      <td>0</td>\n",
              "      <td>1</td>\n",
              "      <td>1</td>\n",
              "      <td>1</td>\n",
              "      <td>1</td>\n",
              "      <td>1</td>\n",
              "      <td>2</td>\n",
              "      <td>1</td>\n",
              "      <td>1</td>\n",
              "      <td>0</td>\n",
              "      <td>0</td>\n",
              "      <td>4</td>\n",
              "      <td>0</td>\n",
              "      <td>1</td>\n",
              "    </tr>\n",
              "    <tr>\n",
              "      <th>4</th>\n",
              "      <td>0</td>\n",
              "      <td>0</td>\n",
              "      <td>1</td>\n",
              "      <td>1</td>\n",
              "      <td>0</td>\n",
              "      <td>1</td>\n",
              "      <td>3</td>\n",
              "      <td>3</td>\n",
              "      <td>2</td>\n",
              "      <td>2</td>\n",
              "      <td>1</td>\n",
              "      <td>0</td>\n",
              "      <td>0</td>\n",
              "      <td>1</td>\n",
              "      <td>0</td>\n",
              "      <td>0</td>\n",
              "      <td>1</td>\n",
              "      <td>0</td>\n",
              "      <td>0</td>\n",
              "      <td>1</td>\n",
              "      <td>1</td>\n",
              "      <td>0</td>\n",
              "      <td>0</td>\n",
              "      <td>3</td>\n",
              "      <td>2</td>\n",
              "      <td>1</td>\n",
              "      <td>0</td>\n",
              "      <td>1</td>\n",
              "      <td>4</td>\n",
              "      <td>0</td>\n",
              "      <td>1</td>\n",
              "    </tr>\n",
              "  </tbody>\n",
              "</table>\n",
              "</div>\n",
              "      <button class=\"colab-df-convert\" onclick=\"convertToInteractive('df-b16be34d-72fa-487e-a4c0-86836f416bb8')\"\n",
              "              title=\"Convert this dataframe to an interactive table.\"\n",
              "              style=\"display:none;\">\n",
              "        \n",
              "  <svg xmlns=\"http://www.w3.org/2000/svg\" height=\"24px\"viewBox=\"0 0 24 24\"\n",
              "       width=\"24px\">\n",
              "    <path d=\"M0 0h24v24H0V0z\" fill=\"none\"/>\n",
              "    <path d=\"M18.56 5.44l.94 2.06.94-2.06 2.06-.94-2.06-.94-.94-2.06-.94 2.06-2.06.94zm-11 1L8.5 8.5l.94-2.06 2.06-.94-2.06-.94L8.5 2.5l-.94 2.06-2.06.94zm10 10l.94 2.06.94-2.06 2.06-.94-2.06-.94-.94-2.06-.94 2.06-2.06.94z\"/><path d=\"M17.41 7.96l-1.37-1.37c-.4-.4-.92-.59-1.43-.59-.52 0-1.04.2-1.43.59L10.3 9.45l-7.72 7.72c-.78.78-.78 2.05 0 2.83L4 21.41c.39.39.9.59 1.41.59.51 0 1.02-.2 1.41-.59l7.78-7.78 2.81-2.81c.8-.78.8-2.07 0-2.86zM5.41 20L4 18.59l7.72-7.72 1.47 1.35L5.41 20z\"/>\n",
              "  </svg>\n",
              "      </button>\n",
              "      \n",
              "  <style>\n",
              "    .colab-df-container {\n",
              "      display:flex;\n",
              "      flex-wrap:wrap;\n",
              "      gap: 12px;\n",
              "    }\n",
              "\n",
              "    .colab-df-convert {\n",
              "      background-color: #E8F0FE;\n",
              "      border: none;\n",
              "      border-radius: 50%;\n",
              "      cursor: pointer;\n",
              "      display: none;\n",
              "      fill: #1967D2;\n",
              "      height: 32px;\n",
              "      padding: 0 0 0 0;\n",
              "      width: 32px;\n",
              "    }\n",
              "\n",
              "    .colab-df-convert:hover {\n",
              "      background-color: #E2EBFA;\n",
              "      box-shadow: 0px 1px 2px rgba(60, 64, 67, 0.3), 0px 1px 3px 1px rgba(60, 64, 67, 0.15);\n",
              "      fill: #174EA6;\n",
              "    }\n",
              "\n",
              "    [theme=dark] .colab-df-convert {\n",
              "      background-color: #3B4455;\n",
              "      fill: #D2E3FC;\n",
              "    }\n",
              "\n",
              "    [theme=dark] .colab-df-convert:hover {\n",
              "      background-color: #434B5C;\n",
              "      box-shadow: 0px 1px 3px 1px rgba(0, 0, 0, 0.15);\n",
              "      filter: drop-shadow(0px 1px 2px rgba(0, 0, 0, 0.3));\n",
              "      fill: #FFFFFF;\n",
              "    }\n",
              "  </style>\n",
              "\n",
              "      <script>\n",
              "        const buttonEl =\n",
              "          document.querySelector('#df-b16be34d-72fa-487e-a4c0-86836f416bb8 button.colab-df-convert');\n",
              "        buttonEl.style.display =\n",
              "          google.colab.kernel.accessAllowed ? 'block' : 'none';\n",
              "\n",
              "        async function convertToInteractive(key) {\n",
              "          const element = document.querySelector('#df-b16be34d-72fa-487e-a4c0-86836f416bb8');\n",
              "          const dataTable =\n",
              "            await google.colab.kernel.invokeFunction('convertToInteractive',\n",
              "                                                     [key], {});\n",
              "          if (!dataTable) return;\n",
              "\n",
              "          const docLinkHtml = 'Like what you see? Visit the ' +\n",
              "            '<a target=\"_blank\" href=https://colab.research.google.com/notebooks/data_table.ipynb>data table notebook</a>'\n",
              "            + ' to learn more about interactive tables.';\n",
              "          element.innerHTML = '';\n",
              "          dataTable['output_type'] = 'display_data';\n",
              "          await google.colab.output.renderOutput(dataTable, element);\n",
              "          const docLink = document.createElement('div');\n",
              "          docLink.innerHTML = docLinkHtml;\n",
              "          element.appendChild(docLink);\n",
              "        }\n",
              "      </script>\n",
              "    </div>\n",
              "  </div>\n",
              "  "
            ]
          },
          "metadata": {},
          "execution_count": 22
        }
      ]
    },
    {
      "cell_type": "markdown",
      "source": [
        "## **One-Hot Encoding**"
      ],
      "metadata": {
        "id": "DFSSEPfHIsMj"
      }
    },
    {
      "cell_type": "code",
      "source": [
        "# Change binary value features from yes/no values to 1/0\n",
        "dataOHE = df.copy()\n",
        "binaryFeatures = ['schoolsup','famsup','paid','activities','nursery','higher','internet','romantic']\n",
        "\n",
        "for feature in binaryFeatures:\n",
        "  dataOHE[feature] = np.where(dataOHE[feature] == 'no', 0, dataOHE[feature])\n",
        "  dataOHE[feature] = np.where(dataOHE[feature] == 'yes', 1, dataOHE[feature])"
      ],
      "metadata": {
        "id": "CXQUgeveD8so"
      },
      "execution_count": null,
      "outputs": []
    },
    {
      "cell_type": "code",
      "source": [
        "# Make discrete features continuous for the Logistic Regression and Multi-Layer perceptron models\n",
        "discreteFeatures = ['school','sex','address','famsize','Pstatus','Mjob','Fjob','reason','guardian']\n",
        "\n",
        "for feature in discreteFeatures:\n",
        "  one_hot_encoded_data = pd.get_dummies(dataOHE[feature],prefix=feature)\n",
        "  data=dataOHE.join(one_hot_encoded_data)\n",
        "  dataOHE = data\n",
        "\n",
        "# Drop discrete features\n",
        "features = dataOHE.columns.values.tolist()\n",
        "includedFeatures=[i for i in features if i not in discreteFeatures]\n",
        "dataOHE=dataOHE[includedFeatures]\n",
        "dataOHE.head()"
      ],
      "metadata": {
        "id": "MOvDtNV_ENCt",
        "colab": {
          "base_uri": "https://localhost:8080/",
          "height": 270
        },
        "outputId": "69600976-7de8-4c29-8982-91931c7b62f3"
      },
      "execution_count": null,
      "outputs": [
        {
          "output_type": "execute_result",
          "data": {
            "text/plain": [
              "   age  Medu  Fedu  traveltime  studytime  failures schoolsup famsup paid  \\\n",
              "0   18     4     4           2          2         0         1      0    0   \n",
              "1   17     1     1           1          2         0         0      1    0   \n",
              "2   15     1     1           1          2         0         1      0    0   \n",
              "3   15     4     2           1          3         0         0      1    0   \n",
              "4   16     3     3           1          2         0         0      1    0   \n",
              "\n",
              "  activities nursery higher internet romantic  famrel  freetime  goout  Dalc  \\\n",
              "0          0       1      1        0        0       4         3      4     1   \n",
              "1          0       0      1        1        0       5         3      3     1   \n",
              "2          0       1      1        1        0       4         3      2     2   \n",
              "3          1       1      1        1        1       3         2      2     1   \n",
              "4          0       1      1        0        0       4         3      2     1   \n",
              "\n",
              "   Walc  health  absences  G3  school_GP  school_MS  sex_F  sex_M  address_R  \\\n",
              "0     1       3         4   1          1          0      1      0          0   \n",
              "1     1       3         2   1          1          0      1      0          0   \n",
              "2     3       3         6   1          1          0      1      0          0   \n",
              "3     1       5         0   1          1          0      1      0          0   \n",
              "4     2       5         0   1          1          0      1      0          0   \n",
              "\n",
              "   address_U  famsize_GT3  famsize_LE3  Pstatus_A  Pstatus_T  Mjob_at_home  \\\n",
              "0          1            1            0          1          0             1   \n",
              "1          1            1            0          0          1             1   \n",
              "2          1            0            1          0          1             1   \n",
              "3          1            1            0          0          1             0   \n",
              "4          1            1            0          0          1             0   \n",
              "\n",
              "   Mjob_health  Mjob_other  Mjob_services  Mjob_teacher  Fjob_at_home  \\\n",
              "0            0           0              0             0             0   \n",
              "1            0           0              0             0             0   \n",
              "2            0           0              0             0             0   \n",
              "3            1           0              0             0             0   \n",
              "4            0           1              0             0             0   \n",
              "\n",
              "   Fjob_health  Fjob_other  Fjob_services  Fjob_teacher  reason_course  \\\n",
              "0            0           0              0             1              1   \n",
              "1            0           1              0             0              1   \n",
              "2            0           1              0             0              0   \n",
              "3            0           0              1             0              0   \n",
              "4            0           1              0             0              0   \n",
              "\n",
              "   reason_home  reason_other  reason_reputation  guardian_father  \\\n",
              "0            0             0                  0                0   \n",
              "1            0             0                  0                1   \n",
              "2            0             1                  0                0   \n",
              "3            1             0                  0                0   \n",
              "4            1             0                  0                1   \n",
              "\n",
              "   guardian_mother  guardian_other  \n",
              "0                1               0  \n",
              "1                0               0  \n",
              "2                1               0  \n",
              "3                1               0  \n",
              "4                0               0  "
            ],
            "text/html": [
              "\n",
              "  <div id=\"df-3a1f3507-c532-4e9c-b4cc-c0f2dbf17ad1\">\n",
              "    <div class=\"colab-df-container\">\n",
              "      <div>\n",
              "<style scoped>\n",
              "    .dataframe tbody tr th:only-of-type {\n",
              "        vertical-align: middle;\n",
              "    }\n",
              "\n",
              "    .dataframe tbody tr th {\n",
              "        vertical-align: top;\n",
              "    }\n",
              "\n",
              "    .dataframe thead th {\n",
              "        text-align: right;\n",
              "    }\n",
              "</style>\n",
              "<table border=\"1\" class=\"dataframe\">\n",
              "  <thead>\n",
              "    <tr style=\"text-align: right;\">\n",
              "      <th></th>\n",
              "      <th>age</th>\n",
              "      <th>Medu</th>\n",
              "      <th>Fedu</th>\n",
              "      <th>traveltime</th>\n",
              "      <th>studytime</th>\n",
              "      <th>failures</th>\n",
              "      <th>schoolsup</th>\n",
              "      <th>famsup</th>\n",
              "      <th>paid</th>\n",
              "      <th>activities</th>\n",
              "      <th>nursery</th>\n",
              "      <th>higher</th>\n",
              "      <th>internet</th>\n",
              "      <th>romantic</th>\n",
              "      <th>famrel</th>\n",
              "      <th>freetime</th>\n",
              "      <th>goout</th>\n",
              "      <th>Dalc</th>\n",
              "      <th>Walc</th>\n",
              "      <th>health</th>\n",
              "      <th>absences</th>\n",
              "      <th>G3</th>\n",
              "      <th>school_GP</th>\n",
              "      <th>school_MS</th>\n",
              "      <th>sex_F</th>\n",
              "      <th>sex_M</th>\n",
              "      <th>address_R</th>\n",
              "      <th>address_U</th>\n",
              "      <th>famsize_GT3</th>\n",
              "      <th>famsize_LE3</th>\n",
              "      <th>Pstatus_A</th>\n",
              "      <th>Pstatus_T</th>\n",
              "      <th>Mjob_at_home</th>\n",
              "      <th>Mjob_health</th>\n",
              "      <th>Mjob_other</th>\n",
              "      <th>Mjob_services</th>\n",
              "      <th>Mjob_teacher</th>\n",
              "      <th>Fjob_at_home</th>\n",
              "      <th>Fjob_health</th>\n",
              "      <th>Fjob_other</th>\n",
              "      <th>Fjob_services</th>\n",
              "      <th>Fjob_teacher</th>\n",
              "      <th>reason_course</th>\n",
              "      <th>reason_home</th>\n",
              "      <th>reason_other</th>\n",
              "      <th>reason_reputation</th>\n",
              "      <th>guardian_father</th>\n",
              "      <th>guardian_mother</th>\n",
              "      <th>guardian_other</th>\n",
              "    </tr>\n",
              "  </thead>\n",
              "  <tbody>\n",
              "    <tr>\n",
              "      <th>0</th>\n",
              "      <td>18</td>\n",
              "      <td>4</td>\n",
              "      <td>4</td>\n",
              "      <td>2</td>\n",
              "      <td>2</td>\n",
              "      <td>0</td>\n",
              "      <td>1</td>\n",
              "      <td>0</td>\n",
              "      <td>0</td>\n",
              "      <td>0</td>\n",
              "      <td>1</td>\n",
              "      <td>1</td>\n",
              "      <td>0</td>\n",
              "      <td>0</td>\n",
              "      <td>4</td>\n",
              "      <td>3</td>\n",
              "      <td>4</td>\n",
              "      <td>1</td>\n",
              "      <td>1</td>\n",
              "      <td>3</td>\n",
              "      <td>4</td>\n",
              "      <td>1</td>\n",
              "      <td>1</td>\n",
              "      <td>0</td>\n",
              "      <td>1</td>\n",
              "      <td>0</td>\n",
              "      <td>0</td>\n",
              "      <td>1</td>\n",
              "      <td>1</td>\n",
              "      <td>0</td>\n",
              "      <td>1</td>\n",
              "      <td>0</td>\n",
              "      <td>1</td>\n",
              "      <td>0</td>\n",
              "      <td>0</td>\n",
              "      <td>0</td>\n",
              "      <td>0</td>\n",
              "      <td>0</td>\n",
              "      <td>0</td>\n",
              "      <td>0</td>\n",
              "      <td>0</td>\n",
              "      <td>1</td>\n",
              "      <td>1</td>\n",
              "      <td>0</td>\n",
              "      <td>0</td>\n",
              "      <td>0</td>\n",
              "      <td>0</td>\n",
              "      <td>1</td>\n",
              "      <td>0</td>\n",
              "    </tr>\n",
              "    <tr>\n",
              "      <th>1</th>\n",
              "      <td>17</td>\n",
              "      <td>1</td>\n",
              "      <td>1</td>\n",
              "      <td>1</td>\n",
              "      <td>2</td>\n",
              "      <td>0</td>\n",
              "      <td>0</td>\n",
              "      <td>1</td>\n",
              "      <td>0</td>\n",
              "      <td>0</td>\n",
              "      <td>0</td>\n",
              "      <td>1</td>\n",
              "      <td>1</td>\n",
              "      <td>0</td>\n",
              "      <td>5</td>\n",
              "      <td>3</td>\n",
              "      <td>3</td>\n",
              "      <td>1</td>\n",
              "      <td>1</td>\n",
              "      <td>3</td>\n",
              "      <td>2</td>\n",
              "      <td>1</td>\n",
              "      <td>1</td>\n",
              "      <td>0</td>\n",
              "      <td>1</td>\n",
              "      <td>0</td>\n",
              "      <td>0</td>\n",
              "      <td>1</td>\n",
              "      <td>1</td>\n",
              "      <td>0</td>\n",
              "      <td>0</td>\n",
              "      <td>1</td>\n",
              "      <td>1</td>\n",
              "      <td>0</td>\n",
              "      <td>0</td>\n",
              "      <td>0</td>\n",
              "      <td>0</td>\n",
              "      <td>0</td>\n",
              "      <td>0</td>\n",
              "      <td>1</td>\n",
              "      <td>0</td>\n",
              "      <td>0</td>\n",
              "      <td>1</td>\n",
              "      <td>0</td>\n",
              "      <td>0</td>\n",
              "      <td>0</td>\n",
              "      <td>1</td>\n",
              "      <td>0</td>\n",
              "      <td>0</td>\n",
              "    </tr>\n",
              "    <tr>\n",
              "      <th>2</th>\n",
              "      <td>15</td>\n",
              "      <td>1</td>\n",
              "      <td>1</td>\n",
              "      <td>1</td>\n",
              "      <td>2</td>\n",
              "      <td>0</td>\n",
              "      <td>1</td>\n",
              "      <td>0</td>\n",
              "      <td>0</td>\n",
              "      <td>0</td>\n",
              "      <td>1</td>\n",
              "      <td>1</td>\n",
              "      <td>1</td>\n",
              "      <td>0</td>\n",
              "      <td>4</td>\n",
              "      <td>3</td>\n",
              "      <td>2</td>\n",
              "      <td>2</td>\n",
              "      <td>3</td>\n",
              "      <td>3</td>\n",
              "      <td>6</td>\n",
              "      <td>1</td>\n",
              "      <td>1</td>\n",
              "      <td>0</td>\n",
              "      <td>1</td>\n",
              "      <td>0</td>\n",
              "      <td>0</td>\n",
              "      <td>1</td>\n",
              "      <td>0</td>\n",
              "      <td>1</td>\n",
              "      <td>0</td>\n",
              "      <td>1</td>\n",
              "      <td>1</td>\n",
              "      <td>0</td>\n",
              "      <td>0</td>\n",
              "      <td>0</td>\n",
              "      <td>0</td>\n",
              "      <td>0</td>\n",
              "      <td>0</td>\n",
              "      <td>1</td>\n",
              "      <td>0</td>\n",
              "      <td>0</td>\n",
              "      <td>0</td>\n",
              "      <td>0</td>\n",
              "      <td>1</td>\n",
              "      <td>0</td>\n",
              "      <td>0</td>\n",
              "      <td>1</td>\n",
              "      <td>0</td>\n",
              "    </tr>\n",
              "    <tr>\n",
              "      <th>3</th>\n",
              "      <td>15</td>\n",
              "      <td>4</td>\n",
              "      <td>2</td>\n",
              "      <td>1</td>\n",
              "      <td>3</td>\n",
              "      <td>0</td>\n",
              "      <td>0</td>\n",
              "      <td>1</td>\n",
              "      <td>0</td>\n",
              "      <td>1</td>\n",
              "      <td>1</td>\n",
              "      <td>1</td>\n",
              "      <td>1</td>\n",
              "      <td>1</td>\n",
              "      <td>3</td>\n",
              "      <td>2</td>\n",
              "      <td>2</td>\n",
              "      <td>1</td>\n",
              "      <td>1</td>\n",
              "      <td>5</td>\n",
              "      <td>0</td>\n",
              "      <td>1</td>\n",
              "      <td>1</td>\n",
              "      <td>0</td>\n",
              "      <td>1</td>\n",
              "      <td>0</td>\n",
              "      <td>0</td>\n",
              "      <td>1</td>\n",
              "      <td>1</td>\n",
              "      <td>0</td>\n",
              "      <td>0</td>\n",
              "      <td>1</td>\n",
              "      <td>0</td>\n",
              "      <td>1</td>\n",
              "      <td>0</td>\n",
              "      <td>0</td>\n",
              "      <td>0</td>\n",
              "      <td>0</td>\n",
              "      <td>0</td>\n",
              "      <td>0</td>\n",
              "      <td>1</td>\n",
              "      <td>0</td>\n",
              "      <td>0</td>\n",
              "      <td>1</td>\n",
              "      <td>0</td>\n",
              "      <td>0</td>\n",
              "      <td>0</td>\n",
              "      <td>1</td>\n",
              "      <td>0</td>\n",
              "    </tr>\n",
              "    <tr>\n",
              "      <th>4</th>\n",
              "      <td>16</td>\n",
              "      <td>3</td>\n",
              "      <td>3</td>\n",
              "      <td>1</td>\n",
              "      <td>2</td>\n",
              "      <td>0</td>\n",
              "      <td>0</td>\n",
              "      <td>1</td>\n",
              "      <td>0</td>\n",
              "      <td>0</td>\n",
              "      <td>1</td>\n",
              "      <td>1</td>\n",
              "      <td>0</td>\n",
              "      <td>0</td>\n",
              "      <td>4</td>\n",
              "      <td>3</td>\n",
              "      <td>2</td>\n",
              "      <td>1</td>\n",
              "      <td>2</td>\n",
              "      <td>5</td>\n",
              "      <td>0</td>\n",
              "      <td>1</td>\n",
              "      <td>1</td>\n",
              "      <td>0</td>\n",
              "      <td>1</td>\n",
              "      <td>0</td>\n",
              "      <td>0</td>\n",
              "      <td>1</td>\n",
              "      <td>1</td>\n",
              "      <td>0</td>\n",
              "      <td>0</td>\n",
              "      <td>1</td>\n",
              "      <td>0</td>\n",
              "      <td>0</td>\n",
              "      <td>1</td>\n",
              "      <td>0</td>\n",
              "      <td>0</td>\n",
              "      <td>0</td>\n",
              "      <td>0</td>\n",
              "      <td>1</td>\n",
              "      <td>0</td>\n",
              "      <td>0</td>\n",
              "      <td>0</td>\n",
              "      <td>1</td>\n",
              "      <td>0</td>\n",
              "      <td>0</td>\n",
              "      <td>1</td>\n",
              "      <td>0</td>\n",
              "      <td>0</td>\n",
              "    </tr>\n",
              "  </tbody>\n",
              "</table>\n",
              "</div>\n",
              "      <button class=\"colab-df-convert\" onclick=\"convertToInteractive('df-3a1f3507-c532-4e9c-b4cc-c0f2dbf17ad1')\"\n",
              "              title=\"Convert this dataframe to an interactive table.\"\n",
              "              style=\"display:none;\">\n",
              "        \n",
              "  <svg xmlns=\"http://www.w3.org/2000/svg\" height=\"24px\"viewBox=\"0 0 24 24\"\n",
              "       width=\"24px\">\n",
              "    <path d=\"M0 0h24v24H0V0z\" fill=\"none\"/>\n",
              "    <path d=\"M18.56 5.44l.94 2.06.94-2.06 2.06-.94-2.06-.94-.94-2.06-.94 2.06-2.06.94zm-11 1L8.5 8.5l.94-2.06 2.06-.94-2.06-.94L8.5 2.5l-.94 2.06-2.06.94zm10 10l.94 2.06.94-2.06 2.06-.94-2.06-.94-.94-2.06-.94 2.06-2.06.94z\"/><path d=\"M17.41 7.96l-1.37-1.37c-.4-.4-.92-.59-1.43-.59-.52 0-1.04.2-1.43.59L10.3 9.45l-7.72 7.72c-.78.78-.78 2.05 0 2.83L4 21.41c.39.39.9.59 1.41.59.51 0 1.02-.2 1.41-.59l7.78-7.78 2.81-2.81c.8-.78.8-2.07 0-2.86zM5.41 20L4 18.59l7.72-7.72 1.47 1.35L5.41 20z\"/>\n",
              "  </svg>\n",
              "      </button>\n",
              "      \n",
              "  <style>\n",
              "    .colab-df-container {\n",
              "      display:flex;\n",
              "      flex-wrap:wrap;\n",
              "      gap: 12px;\n",
              "    }\n",
              "\n",
              "    .colab-df-convert {\n",
              "      background-color: #E8F0FE;\n",
              "      border: none;\n",
              "      border-radius: 50%;\n",
              "      cursor: pointer;\n",
              "      display: none;\n",
              "      fill: #1967D2;\n",
              "      height: 32px;\n",
              "      padding: 0 0 0 0;\n",
              "      width: 32px;\n",
              "    }\n",
              "\n",
              "    .colab-df-convert:hover {\n",
              "      background-color: #E2EBFA;\n",
              "      box-shadow: 0px 1px 2px rgba(60, 64, 67, 0.3), 0px 1px 3px 1px rgba(60, 64, 67, 0.15);\n",
              "      fill: #174EA6;\n",
              "    }\n",
              "\n",
              "    [theme=dark] .colab-df-convert {\n",
              "      background-color: #3B4455;\n",
              "      fill: #D2E3FC;\n",
              "    }\n",
              "\n",
              "    [theme=dark] .colab-df-convert:hover {\n",
              "      background-color: #434B5C;\n",
              "      box-shadow: 0px 1px 3px 1px rgba(0, 0, 0, 0.15);\n",
              "      filter: drop-shadow(0px 1px 2px rgba(0, 0, 0, 0.3));\n",
              "      fill: #FFFFFF;\n",
              "    }\n",
              "  </style>\n",
              "\n",
              "      <script>\n",
              "        const buttonEl =\n",
              "          document.querySelector('#df-3a1f3507-c532-4e9c-b4cc-c0f2dbf17ad1 button.colab-df-convert');\n",
              "        buttonEl.style.display =\n",
              "          google.colab.kernel.accessAllowed ? 'block' : 'none';\n",
              "\n",
              "        async function convertToInteractive(key) {\n",
              "          const element = document.querySelector('#df-3a1f3507-c532-4e9c-b4cc-c0f2dbf17ad1');\n",
              "          const dataTable =\n",
              "            await google.colab.kernel.invokeFunction('convertToInteractive',\n",
              "                                                     [key], {});\n",
              "          if (!dataTable) return;\n",
              "\n",
              "          const docLinkHtml = 'Like what you see? Visit the ' +\n",
              "            '<a target=\"_blank\" href=https://colab.research.google.com/notebooks/data_table.ipynb>data table notebook</a>'\n",
              "            + ' to learn more about interactive tables.';\n",
              "          element.innerHTML = '';\n",
              "          dataTable['output_type'] = 'display_data';\n",
              "          await google.colab.output.renderOutput(dataTable, element);\n",
              "          const docLink = document.createElement('div');\n",
              "          docLink.innerHTML = docLinkHtml;\n",
              "          element.appendChild(docLink);\n",
              "        }\n",
              "      </script>\n",
              "    </div>\n",
              "  </div>\n",
              "  "
            ]
          },
          "metadata": {},
          "execution_count": 24
        }
      ]
    },
    {
      "cell_type": "markdown",
      "source": [
        "#**5. Prepare data for the experiment, using cross-validation**"
      ],
      "metadata": {
        "id": "GU_G__C5WSyD"
      }
    },
    {
      "cell_type": "code",
      "source": [
        "# Get x a.nd y data from discretized data\n",
        "X_D = dataD.drop(columns=['G3'])\n",
        "y_D = dataD['G3']"
      ],
      "metadata": {
        "id": "ZTkiUGntkNIf"
      },
      "execution_count": null,
      "outputs": []
    },
    {
      "cell_type": "code",
      "source": [
        "# 1-fold cross-validation test/train discretized data \n",
        "X_train_D, X_test_D, y_train_D, y_test_D = train_test_split(X_D, y_D, test_size=0.3, random_state=0)"
      ],
      "metadata": {
        "id": "DY5tzbyXkeAm"
      },
      "execution_count": null,
      "outputs": []
    },
    {
      "cell_type": "code",
      "source": [
        "# Get x and y data from one-hot encoded data\n",
        "X_OHE = dataOHE.drop(columns=['G3'])\n",
        "y_OHE = dataOHE['G3']"
      ],
      "metadata": {
        "id": "v7MuHizb7Zw5"
      },
      "execution_count": null,
      "outputs": []
    },
    {
      "cell_type": "code",
      "source": [
        "# 1-fold cross-validation test/train one-hot encoded data \n",
        "X_train_OHE, X_test_OHE, y_train_OHE, y_test_OHE = train_test_split(X_OHE, y_OHE, test_size=0.3, random_state=0)"
      ],
      "metadata": {
        "id": "9squzF_Sb_P8"
      },
      "execution_count": null,
      "outputs": []
    },
    {
      "cell_type": "markdown",
      "source": [
        "# **6-9. Train 3 models, evaluate with precision/recall measures and repeat**"
      ],
      "metadata": {
        "id": "NjWAV-T-Y3cP"
      }
    },
    {
      "cell_type": "markdown",
      "source": [
        "## **a. Naive Bayes**\n",
        "*   This section was achieved with the help of the scikit-learn GaussianNB documentation [3] along with a website to understand its implementation [4]."
      ],
      "metadata": {
        "id": "k-qqRRU8ja2A"
      }
    },
    {
      "cell_type": "markdown",
      "source": [
        "###**Result 1**\n",
        "* Using the default parameters of the GaussianNB model."
      ],
      "metadata": {
        "id": "sPOSdmDPk2SD"
      }
    },
    {
      "cell_type": "code",
      "source": [
        "# Fit model and get information about model\n",
        "mNB1 =  GaussianNB().fit(X_train_D, y_train_D)\n",
        "getInfoNB(mNB1)"
      ],
      "metadata": {
        "id": "dtDeYLrlk3e_",
        "colab": {
          "base_uri": "https://localhost:8080/"
        },
        "outputId": "e62f0f59-1405-4d98-dc59-bfb2e1279f46"
      },
      "execution_count": null,
      "outputs": [
        {
          "output_type": "stream",
          "name": "stdout",
          "text": [
            "Parameters:\n",
            "{'priors': None, 'var_smoothing': 1e-09}\n",
            "Classes:\n",
            "[0 1]\n",
            "Feature:\n",
            "30\n",
            "Feature names:\n",
            "['school' 'sex' 'age' 'address' 'famsize' 'Pstatus' 'Medu' 'Fedu' 'Mjob'\n",
            " 'Fjob' 'reason' 'guardian' 'traveltime' 'studytime' 'failures'\n",
            " 'schoolsup' 'famsup' 'paid' 'activities' 'nursery' 'higher' 'internet'\n",
            " 'romantic' 'famrel' 'freetime' 'goout' 'Dalc' 'Walc' 'health' 'absences']\n"
          ]
        }
      ]
    },
    {
      "cell_type": "code",
      "source": [
        "# Get results for 1-fold cross-validation\n",
        "getOneFoldResults(X_test_D, y_test_D, mNB1)"
      ],
      "metadata": {
        "id": "f3TPFlHuk4YS",
        "colab": {
          "base_uri": "https://localhost:8080/"
        },
        "outputId": "94246195-4514-42cc-8a86-caf0f565f64c"
      },
      "execution_count": null,
      "outputs": [
        {
          "output_type": "stream",
          "name": "stdout",
          "text": [
            "              precision    recall  f1-score   support\n",
            "\n",
            "           0       0.67      0.60      0.63        55\n",
            "           1       0.85      0.89      0.87       140\n",
            "\n",
            "    accuracy                           0.81       195\n",
            "   macro avg       0.76      0.74      0.75       195\n",
            "weighted avg       0.80      0.81      0.80       195\n",
            "\n"
          ]
        }
      ]
    },
    {
      "cell_type": "code",
      "source": [
        "# Get results for multi-fold cross-validation\n",
        "outputNB1 = getMultiFoldResults(X_D, y_D, mNB1)"
      ],
      "metadata": {
        "id": "Jk6yvT4_k6aY",
        "colab": {
          "base_uri": "https://localhost:8080/"
        },
        "outputId": "3bc7010f-9fb6-4165-c43c-12aeba651de4"
      },
      "execution_count": null,
      "outputs": [
        {
          "output_type": "stream",
          "name": "stdout",
          "text": [
            "Accuracy: 0.803 (0.055)\n",
            "Precision: 0.840 (0.052)\n",
            "Recall: 0.892 (0.065)\n"
          ]
        }
      ]
    },
    {
      "cell_type": "code",
      "source": [
        "# Get predicted values\n",
        "predictedNB1 = mNB1.predict(X_test_D)"
      ],
      "metadata": {
        "id": "H0IIEu5Wt6Z0"
      },
      "execution_count": null,
      "outputs": []
    },
    {
      "cell_type": "markdown",
      "source": [
        "### **Result 2**\n",
        "*   Changing the **var_smoothing** parameter to 1e-3, which adjusts the \"calculation stability\" by modifying the value to the Gaussian distribution variance [3]."
      ],
      "metadata": {
        "id": "8T78M92U_slq"
      }
    },
    {
      "cell_type": "code",
      "source": [
        "# Fit model and get information about model\n",
        "mNB2 =  GaussianNB(var_smoothing=1e-3).fit(X_train_D, y_train_D)\n",
        "getInfoNB(mNB2)"
      ],
      "metadata": {
        "colab": {
          "base_uri": "https://localhost:8080/"
        },
        "id": "eTStZczA_sE2",
        "outputId": "3f6be9da-8439-4f5c-eff0-49a7947b63bb"
      },
      "execution_count": null,
      "outputs": [
        {
          "output_type": "stream",
          "name": "stdout",
          "text": [
            "Parameters:\n",
            "{'priors': None, 'var_smoothing': 0.001}\n",
            "Classes:\n",
            "[0 1]\n",
            "Feature:\n",
            "30\n",
            "Feature names:\n",
            "['school' 'sex' 'age' 'address' 'famsize' 'Pstatus' 'Medu' 'Fedu' 'Mjob'\n",
            " 'Fjob' 'reason' 'guardian' 'traveltime' 'studytime' 'failures'\n",
            " 'schoolsup' 'famsup' 'paid' 'activities' 'nursery' 'higher' 'internet'\n",
            " 'romantic' 'famrel' 'freetime' 'goout' 'Dalc' 'Walc' 'health' 'absences']\n"
          ]
        }
      ]
    },
    {
      "cell_type": "code",
      "source": [
        "# Get results for 1-fold cross-validation\n",
        "getOneFoldResults(X_test_D, y_test_D, mNB2)"
      ],
      "metadata": {
        "colab": {
          "base_uri": "https://localhost:8080/"
        },
        "id": "NKgnPVYW_9tW",
        "outputId": "f4f946be-b177-4a61-9512-0c23d659a38b"
      },
      "execution_count": null,
      "outputs": [
        {
          "output_type": "stream",
          "name": "stdout",
          "text": [
            "              precision    recall  f1-score   support\n",
            "\n",
            "           0       0.67      0.60      0.63        55\n",
            "           1       0.85      0.89      0.87       140\n",
            "\n",
            "    accuracy                           0.81       195\n",
            "   macro avg       0.76      0.74      0.75       195\n",
            "weighted avg       0.80      0.81      0.80       195\n",
            "\n"
          ]
        }
      ]
    },
    {
      "cell_type": "code",
      "source": [
        "# Get results for multi-fold cross-validation\n",
        "outputNB2 = getMultiFoldResults(X_D, y_D, mNB2)"
      ],
      "metadata": {
        "colab": {
          "base_uri": "https://localhost:8080/"
        },
        "id": "UJdWeCOl__at",
        "outputId": "0aaeec4f-c108-431f-d0a5-62b59b367ec0"
      },
      "execution_count": null,
      "outputs": [
        {
          "output_type": "stream",
          "name": "stdout",
          "text": [
            "Accuracy: 0.803 (0.055)\n",
            "Precision: 0.842 (0.055)\n",
            "Recall: 0.889 (0.064)\n"
          ]
        }
      ]
    },
    {
      "cell_type": "code",
      "source": [
        "# Get predicted values\n",
        "predictedNB2 = mNB2.predict(X_test_D)"
      ],
      "metadata": {
        "id": "yINdgA8gtpUx"
      },
      "execution_count": null,
      "outputs": []
    },
    {
      "cell_type": "markdown",
      "source": [
        "### **Result 3**\n",
        "*   Changing the **var_smoothing** parameter to 1e-15, which adjusts the \"calculation stability\" by modifying the value to the Gaussian distribution variance [3]."
      ],
      "metadata": {
        "id": "N32ahpziw8RP"
      }
    },
    {
      "cell_type": "code",
      "source": [
        "# Fit model and get information about model\n",
        "mNB3 =  GaussianNB(var_smoothing=1e-15).fit(X_train_D, y_train_D)\n",
        "getInfoNB(mNB3)"
      ],
      "metadata": {
        "colab": {
          "base_uri": "https://localhost:8080/"
        },
        "id": "0fkVZSI2ABYR",
        "outputId": "fff0b632-eba3-415e-f0f3-72b2215ec689"
      },
      "execution_count": null,
      "outputs": [
        {
          "output_type": "stream",
          "name": "stdout",
          "text": [
            "Parameters:\n",
            "{'priors': None, 'var_smoothing': 1e-15}\n",
            "Classes:\n",
            "[0 1]\n",
            "Feature:\n",
            "30\n",
            "Feature names:\n",
            "['school' 'sex' 'age' 'address' 'famsize' 'Pstatus' 'Medu' 'Fedu' 'Mjob'\n",
            " 'Fjob' 'reason' 'guardian' 'traveltime' 'studytime' 'failures'\n",
            " 'schoolsup' 'famsup' 'paid' 'activities' 'nursery' 'higher' 'internet'\n",
            " 'romantic' 'famrel' 'freetime' 'goout' 'Dalc' 'Walc' 'health' 'absences']\n"
          ]
        }
      ]
    },
    {
      "cell_type": "code",
      "source": [
        "# Get results for 1-fold cross-validation\n",
        "getOneFoldResults(X_test_D, y_test_D, mNB3)"
      ],
      "metadata": {
        "colab": {
          "base_uri": "https://localhost:8080/"
        },
        "id": "WSQekzuzABSd",
        "outputId": "9b37e1b4-1cf0-4313-e873-2f7c63069ffc"
      },
      "execution_count": null,
      "outputs": [
        {
          "output_type": "stream",
          "name": "stdout",
          "text": [
            "              precision    recall  f1-score   support\n",
            "\n",
            "           0       0.67      0.60      0.63        55\n",
            "           1       0.85      0.89      0.87       140\n",
            "\n",
            "    accuracy                           0.81       195\n",
            "   macro avg       0.76      0.74      0.75       195\n",
            "weighted avg       0.80      0.81      0.80       195\n",
            "\n"
          ]
        }
      ]
    },
    {
      "cell_type": "code",
      "source": [
        "# Get results for multi-fold cross-validation\n",
        "outputNB3 = getMultiFoldResults(X_D, y_D, mNB3)"
      ],
      "metadata": {
        "colab": {
          "base_uri": "https://localhost:8080/"
        },
        "id": "ttlDngluABGa",
        "outputId": "7280471d-d673-4128-8815-a1917e681ed4"
      },
      "execution_count": null,
      "outputs": [
        {
          "output_type": "stream",
          "name": "stdout",
          "text": [
            "Accuracy: 0.803 (0.055)\n",
            "Precision: 0.840 (0.052)\n",
            "Recall: 0.892 (0.065)\n"
          ]
        }
      ]
    },
    {
      "cell_type": "code",
      "source": [
        "# Get predicted values\n",
        "predictedNB3 = mNB3.predict(X_test_D)"
      ],
      "metadata": {
        "id": "XLu5ll9ctY0z"
      },
      "execution_count": null,
      "outputs": []
    },
    {
      "cell_type": "markdown",
      "source": [
        "## **b. Logistic Regression**\n",
        "*   This section was achieved with the help of the scikit-learn LogisticRegression documentation [5], along with a few articles to understand its implementation [6]-[8]."
      ],
      "metadata": {
        "id": "onmTaR5Ktjrf"
      }
    },
    {
      "cell_type": "markdown",
      "source": [
        "### **Result 1**\n",
        "* Using the default parameters of the LogisticRegression model.\n"
      ],
      "metadata": {
        "id": "aXVV9xpX9i2F"
      }
    },
    {
      "cell_type": "code",
      "source": [
        "# Fit model and get information about model\n",
        "mLR1 = LogisticRegression(max_iter=1000).fit(X_train_OHE, y_train_OHE)\n",
        "getInfoLR(mLR1)"
      ],
      "metadata": {
        "id": "yglmnqf-mLTz",
        "colab": {
          "base_uri": "https://localhost:8080/"
        },
        "outputId": "ccde0e07-d6f7-48bd-da91-c6a265f7a79b"
      },
      "execution_count": null,
      "outputs": [
        {
          "output_type": "stream",
          "name": "stdout",
          "text": [
            "Parameters:\n",
            "{'C': 1.0, 'class_weight': None, 'dual': False, 'fit_intercept': True, 'intercept_scaling': 1, 'l1_ratio': None, 'max_iter': 1000, 'multi_class': 'auto', 'n_jobs': None, 'penalty': 'l2', 'random_state': None, 'solver': 'lbfgs', 'tol': 0.0001, 'verbose': 0, 'warm_start': False}\n",
            "Classes:\n",
            "[0 1]\n",
            "Coefficients:\n",
            "[[-0.00828445  0.20917731  0.09276444  0.01404267  0.02563638 -1.84479281\n",
            "  -0.82898606 -0.19863956  0.40764022  0.0434381  -0.21716106  1.39850531\n",
            "   0.05344759 -0.33579034  0.03333304 -0.10259203  0.01246559  0.06395647\n",
            "  -0.17964505 -0.03318939 -0.0853485   0.38451417 -0.38197799  0.32919978\n",
            "  -0.3266636  -0.11953863  0.12207481  0.08925148 -0.08671529  0.03029743\n",
            "  -0.02776125 -0.3091806   0.37850772 -0.24571824 -0.11284254  0.29176985\n",
            "   0.4906276  -0.85643252  0.32092175 -0.33498461  0.38240397 -0.42491287\n",
            "   0.43195294  0.00270843 -0.00721232 -0.06457963 -0.74562581  0.81274163]]\n",
            "Intercept:\n",
            "[1.20153877]\n",
            "Feature:\n",
            "48\n",
            "Feature names:\n",
            "['age' 'Medu' 'Fedu' 'traveltime' 'studytime' 'failures' 'schoolsup'\n",
            " 'famsup' 'paid' 'activities' 'nursery' 'higher' 'internet' 'romantic'\n",
            " 'famrel' 'freetime' 'goout' 'Dalc' 'Walc' 'health' 'absences' 'school_GP'\n",
            " 'school_MS' 'sex_F' 'sex_M' 'address_R' 'address_U' 'famsize_GT3'\n",
            " 'famsize_LE3' 'Pstatus_A' 'Pstatus_T' 'Mjob_at_home' 'Mjob_health'\n",
            " 'Mjob_other' 'Mjob_services' 'Mjob_teacher' 'Fjob_at_home' 'Fjob_health'\n",
            " 'Fjob_other' 'Fjob_services' 'Fjob_teacher' 'reason_course' 'reason_home'\n",
            " 'reason_other' 'reason_reputation' 'guardian_father' 'guardian_mother'\n",
            " 'guardian_other']\n",
            "Number of iterations:\n",
            "[203]\n"
          ]
        }
      ]
    },
    {
      "cell_type": "code",
      "source": [
        "# Get results for 1-fold cross-validation\n",
        "getOneFoldResults(X_test_OHE,y_test_OHE,mLR1)"
      ],
      "metadata": {
        "id": "OPRy4VEufIB0",
        "colab": {
          "base_uri": "https://localhost:8080/"
        },
        "outputId": "352b361b-506e-4c96-c2b0-3c7f3e122c59"
      },
      "execution_count": null,
      "outputs": [
        {
          "output_type": "stream",
          "name": "stdout",
          "text": [
            "              precision    recall  f1-score   support\n",
            "\n",
            "           0       0.76      0.45      0.57        55\n",
            "           1       0.81      0.94      0.87       140\n",
            "\n",
            "    accuracy                           0.81       195\n",
            "   macro avg       0.79      0.70      0.72       195\n",
            "weighted avg       0.80      0.81      0.79       195\n",
            "\n"
          ]
        }
      ]
    },
    {
      "cell_type": "code",
      "source": [
        "# Get results for multi-fold cross-validation\n",
        "outputLR1 = getMultiFoldResults(X_OHE, y_OHE, mLR1)"
      ],
      "metadata": {
        "id": "hNQDEN8Tfm9o",
        "colab": {
          "base_uri": "https://localhost:8080/"
        },
        "outputId": "d845088e-3642-4d82-a0b8-54ef2e563719"
      },
      "execution_count": null,
      "outputs": [
        {
          "output_type": "stream",
          "name": "stdout",
          "text": [
            "Accuracy: 0.790 (0.049)\n",
            "Precision: 0.815 (0.053)\n",
            "Recall: 0.912 (0.049)\n"
          ]
        }
      ]
    },
    {
      "cell_type": "code",
      "source": [
        "# Get predicted values\n",
        "predictedLR1 = mLR1.predict(X_test_OHE)"
      ],
      "metadata": {
        "id": "osc9wKdCvdvh"
      },
      "execution_count": null,
      "outputs": []
    },
    {
      "cell_type": "markdown",
      "source": [
        "### **Result 2**\n",
        "*   Initially, tried changing the **solver**, it did not change the results.\n",
        "* Then decided to change **class_weight** to 'balanced' to help with the class imbalance. According to sklearn documentation: \"[t]he 'balanced' mode uses the values of y to automatically adjust weights inversely proportional to class frequencies in the input data as n_samples / (n_classes * np.bincount(y))\" [5]."
      ],
      "metadata": {
        "id": "at9xs-Ed_9r4"
      }
    },
    {
      "cell_type": "code",
      "source": [
        "# Fit model and get information about model\n",
        "mLR2 = LogisticRegression(max_iter=1000, class_weight='balanced').fit(X_train_OHE, y_train_OHE)\n",
        "getInfoLR(mLR2)"
      ],
      "metadata": {
        "id": "QO5hpozH_9r5",
        "colab": {
          "base_uri": "https://localhost:8080/"
        },
        "outputId": "88eec185-5d38-432f-915a-085c0bbb470a"
      },
      "execution_count": null,
      "outputs": [
        {
          "output_type": "stream",
          "name": "stdout",
          "text": [
            "Parameters:\n",
            "{'C': 1.0, 'class_weight': 'balanced', 'dual': False, 'fit_intercept': True, 'intercept_scaling': 1, 'l1_ratio': None, 'max_iter': 1000, 'multi_class': 'auto', 'n_jobs': None, 'penalty': 'l2', 'random_state': None, 'solver': 'lbfgs', 'tol': 0.0001, 'verbose': 0, 'warm_start': False}\n",
            "Classes:\n",
            "[0 1]\n",
            "Coefficients:\n",
            "[[ 0.00429971  0.15070325  0.10406265 -0.03931896  0.04931277 -1.78345943\n",
            "  -0.93406057 -0.14977793  0.50907184  0.02699514 -0.04803472  1.36707443\n",
            "   0.05716175 -0.27716554  0.02392617 -0.08330841 -0.00829661  0.03557208\n",
            "  -0.15018756 -0.06135554 -0.08948002  0.43087451 -0.43073504  0.34037821\n",
            "  -0.34023874 -0.11215062  0.11229009  0.11417841 -0.11403895  0.05380845\n",
            "  -0.05366898 -0.35156952  0.46253366 -0.27096101 -0.16501958  0.32515592\n",
            "   0.51029893 -0.89159472  0.33356946 -0.30964138  0.35750718 -0.43178941\n",
            "   0.44651274  0.00724747 -0.02183134 -0.02574813 -0.6878339   0.7137215 ]]\n",
            "Intercept:\n",
            "[0.33701396]\n",
            "Feature:\n",
            "48\n",
            "Feature names:\n",
            "['age' 'Medu' 'Fedu' 'traveltime' 'studytime' 'failures' 'schoolsup'\n",
            " 'famsup' 'paid' 'activities' 'nursery' 'higher' 'internet' 'romantic'\n",
            " 'famrel' 'freetime' 'goout' 'Dalc' 'Walc' 'health' 'absences' 'school_GP'\n",
            " 'school_MS' 'sex_F' 'sex_M' 'address_R' 'address_U' 'famsize_GT3'\n",
            " 'famsize_LE3' 'Pstatus_A' 'Pstatus_T' 'Mjob_at_home' 'Mjob_health'\n",
            " 'Mjob_other' 'Mjob_services' 'Mjob_teacher' 'Fjob_at_home' 'Fjob_health'\n",
            " 'Fjob_other' 'Fjob_services' 'Fjob_teacher' 'reason_course' 'reason_home'\n",
            " 'reason_other' 'reason_reputation' 'guardian_father' 'guardian_mother'\n",
            " 'guardian_other']\n",
            "Number of iterations:\n",
            "[300]\n"
          ]
        }
      ]
    },
    {
      "cell_type": "code",
      "source": [
        "# Get results for 1-fold cross-validation\n",
        "getOneFoldResults(X_test_OHE,y_test_OHE,mLR2)"
      ],
      "metadata": {
        "colab": {
          "base_uri": "https://localhost:8080/"
        },
        "outputId": "044ba824-c5b6-4b6a-b6d1-9a528b53ddc2",
        "id": "UQeqtqrN7IW2"
      },
      "execution_count": null,
      "outputs": [
        {
          "output_type": "stream",
          "name": "stdout",
          "text": [
            "              precision    recall  f1-score   support\n",
            "\n",
            "           0       0.60      0.58      0.59        55\n",
            "           1       0.84      0.85      0.84       140\n",
            "\n",
            "    accuracy                           0.77       195\n",
            "   macro avg       0.72      0.72      0.72       195\n",
            "weighted avg       0.77      0.77      0.77       195\n",
            "\n"
          ]
        }
      ]
    },
    {
      "cell_type": "code",
      "source": [
        "# Get results for multi-fold cross-validation\n",
        "outputLR2 = getMultiFoldResults(X_OHE, y_OHE, mLR2)"
      ],
      "metadata": {
        "colab": {
          "base_uri": "https://localhost:8080/"
        },
        "outputId": "04aa631a-1a6d-4355-d07e-6fdff86cbd06",
        "id": "3rAna8EG7IW3"
      },
      "execution_count": null,
      "outputs": [
        {
          "output_type": "stream",
          "name": "stdout",
          "text": [
            "Accuracy: 0.758 (0.055)\n",
            "Precision: 0.856 (0.055)\n",
            "Recall: 0.789 (0.056)\n"
          ]
        }
      ]
    },
    {
      "cell_type": "code",
      "source": [
        "# Get predicted values\n",
        "predictedLR2 = mLR2.predict(X_test_OHE)"
      ],
      "metadata": {
        "id": "xHPZOFSjvaKS"
      },
      "execution_count": null,
      "outputs": []
    },
    {
      "cell_type": "markdown",
      "source": [
        "### **Result 3**\n",
        "*   Changed the **C** parameter from 1.0 to 0.1, which is the \"inverse of regularization strength; must be a positive float. Like in support vector machines, smaller values specify stronger regularization\" [5].\n",
        "* In fact, a high C means the training data is trustworthy, while a low value means the \"data may not be fully representative of the real world data, so if it's telling you to make a parameter really large, don't listen to it\" [9]."
      ],
      "metadata": {
        "id": "T97-OzxMKJ5l"
      }
    },
    {
      "cell_type": "code",
      "source": [
        "# Fit model and get information about model\n",
        "mLR3 = LogisticRegression(max_iter=1000, C=0.1).fit(X_train_OHE, y_train_OHE)\n",
        "getInfoLR(mLR3)"
      ],
      "metadata": {
        "id": "EiwMQKM2KJ5w",
        "colab": {
          "base_uri": "https://localhost:8080/"
        },
        "outputId": "61759a48-f531-4ed1-b7e5-74949b877fa5"
      },
      "execution_count": null,
      "outputs": [
        {
          "output_type": "stream",
          "name": "stdout",
          "text": [
            "Parameters:\n",
            "{'C': 0.1, 'class_weight': None, 'dual': False, 'fit_intercept': True, 'intercept_scaling': 1, 'l1_ratio': None, 'max_iter': 1000, 'multi_class': 'auto', 'n_jobs': None, 'penalty': 'l2', 'random_state': None, 'solver': 'lbfgs', 'tol': 0.0001, 'verbose': 0, 'warm_start': False}\n",
            "Classes:\n",
            "[0 1]\n",
            "Coefficients:\n",
            "[[-0.05200945  0.24645071  0.08395525  0.01110523  0.0739319  -1.01668361\n",
            "  -0.31806569 -0.07833217  0.06673703  0.02436254 -0.08922171  0.62910909\n",
            "   0.10568869 -0.19417177  0.02859796 -0.10597094  0.00450262 -0.01010926\n",
            "  -0.118037   -0.05608607 -0.08007653  0.3032762  -0.30298973  0.18786077\n",
            "  -0.18757431 -0.11979847  0.12008493  0.05421023 -0.05392377  0.0053087\n",
            "  -0.00502224 -0.13190807  0.08676573 -0.05065515 -0.0578532   0.15393715\n",
            "   0.11298581 -0.24255406  0.20854795 -0.20202387  0.12333064 -0.26875818\n",
            "   0.27456746 -0.04926852  0.0437457   0.08901091 -0.31431504  0.22559059]]\n",
            "Intercept:\n",
            "[1.67656048]\n",
            "Feature:\n",
            "48\n",
            "Feature names:\n",
            "['age' 'Medu' 'Fedu' 'traveltime' 'studytime' 'failures' 'schoolsup'\n",
            " 'famsup' 'paid' 'activities' 'nursery' 'higher' 'internet' 'romantic'\n",
            " 'famrel' 'freetime' 'goout' 'Dalc' 'Walc' 'health' 'absences' 'school_GP'\n",
            " 'school_MS' 'sex_F' 'sex_M' 'address_R' 'address_U' 'famsize_GT3'\n",
            " 'famsize_LE3' 'Pstatus_A' 'Pstatus_T' 'Mjob_at_home' 'Mjob_health'\n",
            " 'Mjob_other' 'Mjob_services' 'Mjob_teacher' 'Fjob_at_home' 'Fjob_health'\n",
            " 'Fjob_other' 'Fjob_services' 'Fjob_teacher' 'reason_course' 'reason_home'\n",
            " 'reason_other' 'reason_reputation' 'guardian_father' 'guardian_mother'\n",
            " 'guardian_other']\n",
            "Number of iterations:\n",
            "[87]\n"
          ]
        }
      ]
    },
    {
      "cell_type": "code",
      "source": [
        "# Get results for 1-fold cross-validation\n",
        "getOneFoldResults(X_test_OHE,y_test_OHE,mLR3)"
      ],
      "metadata": {
        "colab": {
          "base_uri": "https://localhost:8080/"
        },
        "outputId": "85823e76-c0df-4e51-e2ce-46b17760e1e3",
        "id": "ORhYz3en7S4I"
      },
      "execution_count": null,
      "outputs": [
        {
          "output_type": "stream",
          "name": "stdout",
          "text": [
            "              precision    recall  f1-score   support\n",
            "\n",
            "           0       0.75      0.49      0.59        55\n",
            "           1       0.82      0.94      0.88       140\n",
            "\n",
            "    accuracy                           0.81       195\n",
            "   macro avg       0.79      0.71      0.73       195\n",
            "weighted avg       0.80      0.81      0.80       195\n",
            "\n"
          ]
        }
      ]
    },
    {
      "cell_type": "code",
      "source": [
        "# Get results for multi-fold cross-validation\n",
        "outputLR3 = getMultiFoldResults(X_OHE, y_OHE, mLR3)"
      ],
      "metadata": {
        "colab": {
          "base_uri": "https://localhost:8080/"
        },
        "outputId": "953d6801-9621-428d-ffd9-015fcf3fd4a4",
        "id": "q4mzWA1i7S4I"
      },
      "execution_count": null,
      "outputs": [
        {
          "output_type": "stream",
          "name": "stdout",
          "text": [
            "Accuracy: 0.781 (0.047)\n",
            "Precision: 0.800 (0.055)\n",
            "Recall: 0.921 (0.049)\n"
          ]
        }
      ]
    },
    {
      "cell_type": "code",
      "source": [
        "# Get predicted values\n",
        "predictedLR3 = mLR3.predict(X_test_OHE)"
      ],
      "metadata": {
        "id": "X2QY5-c8vBfL"
      },
      "execution_count": null,
      "outputs": []
    },
    {
      "cell_type": "markdown",
      "source": [
        "## **c. Multi-Layer Perceptron**\n",
        "*   This section was achieved with the help of the scikit-learn MLPClassifier documentation [10]."
      ],
      "metadata": {
        "id": "7u5O4Pm6Y6j4"
      }
    },
    {
      "cell_type": "markdown",
      "source": [
        "### **Result 1**\n",
        "\n",
        "\n",
        "*  Using the default parameters of the MLPClassifier model."
      ],
      "metadata": {
        "id": "uGWXbvDHeupT"
      }
    },
    {
      "cell_type": "code",
      "source": [
        "# Fit model and get information about model\n",
        "clf1 = MLPClassifier(max_iter=1000).fit(X_train_OHE, y_train_OHE)\n",
        "getInfoMLP(clf1)"
      ],
      "metadata": {
        "colab": {
          "base_uri": "https://localhost:8080/"
        },
        "id": "2Ien9POoZXZp",
        "outputId": "4398ab82-b0eb-4f00-edbe-5291ba0eed4d"
      },
      "execution_count": null,
      "outputs": [
        {
          "output_type": "stream",
          "name": "stdout",
          "text": [
            "Parameters:\n",
            "{'activation': 'relu', 'alpha': 0.0001, 'batch_size': 'auto', 'beta_1': 0.9, 'beta_2': 0.999, 'early_stopping': False, 'epsilon': 1e-08, 'hidden_layer_sizes': (100,), 'learning_rate': 'constant', 'learning_rate_init': 0.001, 'max_fun': 15000, 'max_iter': 1000, 'momentum': 0.9, 'n_iter_no_change': 10, 'nesterovs_momentum': True, 'power_t': 0.5, 'random_state': None, 'shuffle': True, 'solver': 'adam', 'tol': 0.0001, 'validation_fraction': 0.1, 'verbose': False, 'warm_start': False}\n",
            "Classes:\n",
            "[0 1]\n",
            "Current loss computed with the loss function:\n",
            "0.013045188440780418\n",
            "Minimum loss reached by the solver throughout fitting:\n",
            "0.013001164632737363\n",
            "Number of training samples seen by the solver during fitting:\n",
            "363200\n",
            "Feature:\n",
            "48\n",
            "Feature names:\n",
            "['age' 'Medu' 'Fedu' 'traveltime' 'studytime' 'failures' 'schoolsup'\n",
            " 'famsup' 'paid' 'activities' 'nursery' 'higher' 'internet' 'romantic'\n",
            " 'famrel' 'freetime' 'goout' 'Dalc' 'Walc' 'health' 'absences' 'school_GP'\n",
            " 'school_MS' 'sex_F' 'sex_M' 'address_R' 'address_U' 'famsize_GT3'\n",
            " 'famsize_LE3' 'Pstatus_A' 'Pstatus_T' 'Mjob_at_home' 'Mjob_health'\n",
            " 'Mjob_other' 'Mjob_services' 'Mjob_teacher' 'Fjob_at_home' 'Fjob_health'\n",
            " 'Fjob_other' 'Fjob_services' 'Fjob_teacher' 'reason_course' 'reason_home'\n",
            " 'reason_other' 'reason_reputation' 'guardian_father' 'guardian_mother'\n",
            " 'guardian_other']\n",
            "Number of iterations:\n",
            "800\n",
            "Number of layers:\n",
            "3\n",
            "Number of outputs:\n",
            "1\n",
            "Name of the output activation function:\n",
            "logistic\n"
          ]
        }
      ]
    },
    {
      "cell_type": "code",
      "source": [
        "# Get results for 1-fold cross-validation\n",
        "getOneFoldResults(X_test_OHE,y_test_OHE,clf1)"
      ],
      "metadata": {
        "colab": {
          "base_uri": "https://localhost:8080/"
        },
        "outputId": "cf647ee2-85f8-4a91-fb6a-3951ce4fc3ef",
        "id": "gOgqR9t77Y16"
      },
      "execution_count": null,
      "outputs": [
        {
          "output_type": "stream",
          "name": "stdout",
          "text": [
            "              precision    recall  f1-score   support\n",
            "\n",
            "           0       0.59      0.44      0.50        55\n",
            "           1       0.80      0.88      0.84       140\n",
            "\n",
            "    accuracy                           0.75       195\n",
            "   macro avg       0.69      0.66      0.67       195\n",
            "weighted avg       0.74      0.75      0.74       195\n",
            "\n"
          ]
        }
      ]
    },
    {
      "cell_type": "code",
      "source": [
        "# Get results for multi-fold cross-validation\n",
        "outputMLP1 = getMultiFoldResults(X_OHE, y_OHE, clf1)"
      ],
      "metadata": {
        "colab": {
          "base_uri": "https://localhost:8080/"
        },
        "outputId": "d0f5e123-be73-46a9-ee0d-49b922d70eeb",
        "id": "xQ-9NWAF7Y17"
      },
      "execution_count": null,
      "outputs": [
        {
          "output_type": "stream",
          "name": "stdout",
          "text": [
            "Accuracy: 0.747 (0.033)\n",
            "Precision: 0.817 (0.052)\n",
            "Recall: 0.866 (0.050)\n"
          ]
        }
      ]
    },
    {
      "cell_type": "code",
      "source": [
        "# Get predicted values\n",
        "predictedMLP1 = clf1.predict(X_test_OHE)"
      ],
      "metadata": {
        "id": "LQ8QDBFnu9Y5"
      },
      "execution_count": null,
      "outputs": []
    },
    {
      "cell_type": "markdown",
      "source": [
        "### **Result 2**\n",
        "*   Changing the **solver** to 'sgd', which is the \"stochastic gradient descent\" instead of the default 'adam' solver [10]."
      ],
      "metadata": {
        "id": "s7dlLFsIe0Sa"
      }
    },
    {
      "cell_type": "code",
      "source": [
        "# Fit model and get information about model\n",
        "clf2 = MLPClassifier(max_iter=1000, solver='sgd').fit(X_train_OHE, y_train_OHE)\n",
        "getInfoMLP(clf2)"
      ],
      "metadata": {
        "id": "nVd53uRte0Sa",
        "colab": {
          "base_uri": "https://localhost:8080/"
        },
        "outputId": "cf28566e-66a2-4184-ccdc-a11bfdac73d1"
      },
      "execution_count": null,
      "outputs": [
        {
          "output_type": "stream",
          "name": "stdout",
          "text": [
            "Parameters:\n",
            "{'activation': 'relu', 'alpha': 0.0001, 'batch_size': 'auto', 'beta_1': 0.9, 'beta_2': 0.999, 'early_stopping': False, 'epsilon': 1e-08, 'hidden_layer_sizes': (100,), 'learning_rate': 'constant', 'learning_rate_init': 0.001, 'max_fun': 15000, 'max_iter': 1000, 'momentum': 0.9, 'n_iter_no_change': 10, 'nesterovs_momentum': True, 'power_t': 0.5, 'random_state': None, 'shuffle': True, 'solver': 'sgd', 'tol': 0.0001, 'validation_fraction': 0.1, 'verbose': False, 'warm_start': False}\n",
            "Classes:\n",
            "[0 1]\n",
            "Current loss computed with the loss function:\n",
            "0.4112013377087793\n",
            "Minimum loss reached by the solver throughout fitting:\n",
            "0.41093211789955286\n",
            "Number of training samples seen by the solver during fitting:\n",
            "231086\n",
            "Feature:\n",
            "48\n",
            "Feature names:\n",
            "['age' 'Medu' 'Fedu' 'traveltime' 'studytime' 'failures' 'schoolsup'\n",
            " 'famsup' 'paid' 'activities' 'nursery' 'higher' 'internet' 'romantic'\n",
            " 'famrel' 'freetime' 'goout' 'Dalc' 'Walc' 'health' 'absences' 'school_GP'\n",
            " 'school_MS' 'sex_F' 'sex_M' 'address_R' 'address_U' 'famsize_GT3'\n",
            " 'famsize_LE3' 'Pstatus_A' 'Pstatus_T' 'Mjob_at_home' 'Mjob_health'\n",
            " 'Mjob_other' 'Mjob_services' 'Mjob_teacher' 'Fjob_at_home' 'Fjob_health'\n",
            " 'Fjob_other' 'Fjob_services' 'Fjob_teacher' 'reason_course' 'reason_home'\n",
            " 'reason_other' 'reason_reputation' 'guardian_father' 'guardian_mother'\n",
            " 'guardian_other']\n",
            "Number of iterations:\n",
            "509\n",
            "Number of layers:\n",
            "3\n",
            "Number of outputs:\n",
            "1\n",
            "Name of the output activation function:\n",
            "logistic\n"
          ]
        }
      ]
    },
    {
      "cell_type": "code",
      "source": [
        "# Get results for 1-fold cross-validation\n",
        "getOneFoldResults(X_test_OHE,y_test_OHE,clf2)"
      ],
      "metadata": {
        "colab": {
          "base_uri": "https://localhost:8080/"
        },
        "outputId": "27bf2586-196f-48b7-b7ad-304fe9a734d2",
        "id": "c0H96HDp7iPH"
      },
      "execution_count": null,
      "outputs": [
        {
          "output_type": "stream",
          "name": "stdout",
          "text": [
            "              precision    recall  f1-score   support\n",
            "\n",
            "           0       0.71      0.49      0.58        55\n",
            "           1       0.82      0.92      0.87       140\n",
            "\n",
            "    accuracy                           0.80       195\n",
            "   macro avg       0.77      0.71      0.72       195\n",
            "weighted avg       0.79      0.80      0.79       195\n",
            "\n"
          ]
        }
      ]
    },
    {
      "cell_type": "code",
      "source": [
        "# Get results for multi-fold cross-validation\n",
        "outputMLP2 = getMultiFoldResults(X_OHE, y_OHE, clf2)"
      ],
      "metadata": {
        "colab": {
          "base_uri": "https://localhost:8080/"
        },
        "outputId": "e224317d-022e-43b9-c949-d63f13469708",
        "id": "aSxZhkNZ7iPI"
      },
      "execution_count": null,
      "outputs": [
        {
          "output_type": "stream",
          "name": "stdout",
          "text": [
            "Accuracy: 0.787 (0.051)\n",
            "Precision: 0.810 (0.053)\n",
            "Recall: 0.916 (0.053)\n"
          ]
        }
      ]
    },
    {
      "cell_type": "code",
      "source": [
        "# Get predicted values\n",
        "predictedMLP2 = clf2.predict(X_test_OHE)"
      ],
      "metadata": {
        "id": "on7o0EwUu40F"
      },
      "execution_count": null,
      "outputs": []
    },
    {
      "cell_type": "markdown",
      "source": [
        "### **Result 3**\n",
        "*   Since the 'sgd' solver improved the Model 2 performance, we decided to keep the **solver** as 'sgd' and also set **warm_start** to True, which aims to use previously learned weights \"to fit as initialization\" [10]."
      ],
      "metadata": {
        "id": "E3BXCrsSkNCl"
      }
    },
    {
      "cell_type": "code",
      "source": [
        "# Fit model and get information about model\n",
        "clf3 = MLPClassifier(max_iter=1000, solver='sgd',warm_start=True).fit(X_train_OHE, y_train_OHE)\n",
        "getInfoMLP(clf3)"
      ],
      "metadata": {
        "id": "ETKnkpQNkNCw",
        "colab": {
          "base_uri": "https://localhost:8080/"
        },
        "outputId": "58b9e957-faa5-4c33-aedb-f742c7f27f30"
      },
      "execution_count": null,
      "outputs": [
        {
          "output_type": "stream",
          "name": "stdout",
          "text": [
            "Parameters:\n",
            "{'activation': 'relu', 'alpha': 0.0001, 'batch_size': 'auto', 'beta_1': 0.9, 'beta_2': 0.999, 'early_stopping': False, 'epsilon': 1e-08, 'hidden_layer_sizes': (100,), 'learning_rate': 'constant', 'learning_rate_init': 0.001, 'max_fun': 15000, 'max_iter': 1000, 'momentum': 0.9, 'n_iter_no_change': 10, 'nesterovs_momentum': True, 'power_t': 0.5, 'random_state': None, 'shuffle': True, 'solver': 'sgd', 'tol': 0.0001, 'validation_fraction': 0.1, 'verbose': False, 'warm_start': True}\n",
            "Classes:\n",
            "[0 1]\n",
            "Current loss computed with the loss function:\n",
            "0.3872787758540363\n",
            "Minimum loss reached by the solver throughout fitting:\n",
            "0.3871242581380147\n",
            "Number of training samples seen by the solver during fitting:\n",
            "360930\n",
            "Feature:\n",
            "48\n",
            "Feature names:\n",
            "['age' 'Medu' 'Fedu' 'traveltime' 'studytime' 'failures' 'schoolsup'\n",
            " 'famsup' 'paid' 'activities' 'nursery' 'higher' 'internet' 'romantic'\n",
            " 'famrel' 'freetime' 'goout' 'Dalc' 'Walc' 'health' 'absences' 'school_GP'\n",
            " 'school_MS' 'sex_F' 'sex_M' 'address_R' 'address_U' 'famsize_GT3'\n",
            " 'famsize_LE3' 'Pstatus_A' 'Pstatus_T' 'Mjob_at_home' 'Mjob_health'\n",
            " 'Mjob_other' 'Mjob_services' 'Mjob_teacher' 'Fjob_at_home' 'Fjob_health'\n",
            " 'Fjob_other' 'Fjob_services' 'Fjob_teacher' 'reason_course' 'reason_home'\n",
            " 'reason_other' 'reason_reputation' 'guardian_father' 'guardian_mother'\n",
            " 'guardian_other']\n",
            "Number of iterations:\n",
            "795\n",
            "Number of layers:\n",
            "3\n",
            "Number of outputs:\n",
            "1\n",
            "Name of the output activation function:\n",
            "logistic\n"
          ]
        }
      ]
    },
    {
      "cell_type": "code",
      "source": [
        "# Get results for 1-fold cross-validation\n",
        "getOneFoldResults(X_test_OHE,y_test_OHE,clf3)"
      ],
      "metadata": {
        "colab": {
          "base_uri": "https://localhost:8080/"
        },
        "outputId": "73c4c726-4c38-4fd7-8660-22aac4189ff5",
        "id": "0Iee3GQ67nL9"
      },
      "execution_count": null,
      "outputs": [
        {
          "output_type": "stream",
          "name": "stdout",
          "text": [
            "              precision    recall  f1-score   support\n",
            "\n",
            "           0       0.74      0.47      0.58        55\n",
            "           1       0.82      0.94      0.87       140\n",
            "\n",
            "    accuracy                           0.81       195\n",
            "   macro avg       0.78      0.70      0.73       195\n",
            "weighted avg       0.80      0.81      0.79       195\n",
            "\n"
          ]
        }
      ]
    },
    {
      "cell_type": "code",
      "source": [
        "# Get results for multi-fold cross-validation\n",
        "outputMLP3 = getMultiFoldResults(X_OHE, y_OHE, clf3)"
      ],
      "metadata": {
        "colab": {
          "base_uri": "https://localhost:8080/"
        },
        "outputId": "68910c7d-56d4-489d-f09c-881e154fee6b",
        "id": "LB5BQeeK7nL-"
      },
      "execution_count": null,
      "outputs": [
        {
          "output_type": "stream",
          "name": "stdout",
          "text": [
            "Accuracy: 0.789 (0.052)\n",
            "Precision: 0.803 (0.057)\n",
            "Recall: 0.914 (0.060)\n"
          ]
        }
      ]
    },
    {
      "cell_type": "code",
      "source": [
        "# Get predicted values\n",
        "predictedMLP3 = clf3.predict(X_test_OHE)"
      ],
      "metadata": {
        "id": "-43zzFniubrx"
      },
      "execution_count": null,
      "outputs": []
    },
    {
      "cell_type": "markdown",
      "source": [
        "# **10. Analyze the obtained results**\n",
        "* Sources were consulted to understand how to plot a bar chart, see [11], generate the confusion matrix, see [12], and create subplots, see [13].\n",
        "\n"
      ],
      "metadata": {
        "id": "jePYpsrLszfa"
      }
    },
    {
      "cell_type": "markdown",
      "source": [
        "## **a. Qualitative analysis of 9 results**"
      ],
      "metadata": {
        "id": "NtDKv3QTsJWG"
      }
    },
    {
      "cell_type": "code",
      "source": [
        "# Accuracy, precision and recall of 10-fold cross-validation results\n",
        "plotModelBars(\"Naive Bayes\",[outputNB1,outputNB2,outputNB3],3)\n",
        "plotModelBars(\"Logistic Regression\",[outputLR1,outputLR2,outputLR3],3)\n",
        "plotModelBars(\"Multi-Layer Perceptron\",[outputMLP1,outputMLP2,outputMLP3],3)"
      ],
      "metadata": {
        "colab": {
          "base_uri": "https://localhost:8080/",
          "height": 848
        },
        "id": "U-IoDPeYczOE",
        "outputId": "98d0201a-d9ed-4ae9-8d59-e9239a27a46f"
      },
      "execution_count": null,
      "outputs": [
        {
          "output_type": "display_data",
          "data": {
            "text/plain": [
              "<Figure size 1440x288 with 3 Axes>"
            ],
            "image/png": "[encoded data removed]"
          },
          "metadata": {
            "needs_background": "light"
          }
        },
        {
          "output_type": "display_data",
          "data": {
            "text/plain": [
              "<Figure size 1440x288 with 3 Axes>"
            ],
            "image/png": "[encoded data removed]"
          },
          "metadata": {
            "needs_background": "light"
          }
        },
        {
          "output_type": "display_data",
          "data": {
            "text/plain": [
              "<Figure size 1440x288 with 3 Axes>"
            ],
            "image/png": "[encoded data removed]"
          },
          "metadata": {
            "needs_background": "light"
          }
        }
      ]
    },
    {
      "cell_type": "markdown",
      "source": [
        "### **Analysis**\n",
        "* The ***Naive Bayes*** results are all the same in terms of accuracy, precision, and recall. If you look at the individual output for each result (see section 9), you see a minimal difference (only change at three decimal places). Thus, changing the var_smoothing parameter does not significantly impact the results, which means that the data samples are close to the distribution mean. \n",
        "* The ***Logistic Regression*** results perform slightly differently. Result 1 (default values) is relatively good for the three values and the best for accuracy. Result 2 (class_weight='balanced') is the best for precision (reduced number of false positives) but performs relatively poorly for recall (increased number of false negatives). Result 3 (C=0.1) is also good for all three values and is the best for recall (reduced number of false negatives).\n",
        "* The ***Multi-Layer Perceptron*** results perform similarly. Result 1 (default values) performs the best for precision but is the worse for recall and accuracy by a small amount. Result 2 (solver='sgd') performs the best for recall (reduced number of false negatives). Result 3 (solver='sgd' and warm_start=True) performs similarly to Model 2 and is the best for accuracy (increased amount of true positives and negatives) by a small amount.\n",
        "* The tradeoff between precision and recall can be observed. If the model is too rigid, there will be a higher precision, but a low recall is obtained."
      ],
      "metadata": {
        "id": "89LHE6AORDEL"
      }
    },
    {
      "cell_type": "markdown",
      "source": [
        "## **b. Show good and not good results (false positives and negatives)**"
      ],
      "metadata": {
        "id": "CpDsz9w-hDZs"
      }
    },
    {
      "cell_type": "markdown",
      "source": [
        "### **b.1. General overview using confusion matrices**"
      ],
      "metadata": {
        "id": "PaDsSDWoDITv"
      }
    },
    {
      "cell_type": "code",
      "source": [
        "# Confusion matrices (True negatives & positives and False negatives & positives)\n",
        "plotModelCM(\"Naive Bayes\",[predictedNB1, predictedNB1, predictedNB1],y_test_D,3)\n",
        "plotModelCM(\"Logistic Regression\",[predictedLR1, predictedLR2, predictedLR3],y_test_OHE,3)\n",
        "plotModelCM(\"Multi-Layer Perceptron\",[predictedMLP1, predictedMLP2, predictedMLP3],y_test_OHE,3)"
      ],
      "metadata": {
        "colab": {
          "base_uri": "https://localhost:8080/",
          "height": 974
        },
        "id": "zXDOn9cnp5tt",
        "outputId": "6dcd4eb8-1c63-49a0-a1e4-57300755bda0"
      },
      "execution_count": null,
      "outputs": [
        {
          "output_type": "display_data",
          "data": {
            "text/plain": [
              "<Figure size 1440x324 with 4 Axes>"
            ],
            "image/png": "[encoded data removed]"
          },
          "metadata": {
            "needs_background": "light"
          }
        },
        {
          "output_type": "display_data",
          "data": {
            "text/plain": [
              "<Figure size 1440x324 with 4 Axes>"
            ],
            "image/png": "[encoded data removed]"
          },
          "metadata": {
            "needs_background": "light"
          }
        },
        {
          "output_type": "display_data",
          "data": {
            "text/plain": [
              "<Figure size 1440x324 with 4 Axes>"
            ],
            "image/png": "[encoded data removed]"
          },
          "metadata": {
            "needs_background": "light"
          }
        }
      ]
    },
    {
      "cell_type": "markdown",
      "source": [
        "**Analysis**\n",
        "* Out of all three model types, ***Naive Bayes*** has the most true negatives, which is good considering the significant bias for positive values in the dataset.\n",
        "* Out of the three ***Logistic Regression*** results, Result 1 (default values) has the least false positives but the most false negatives. This is probably due to the bias in the data for positive values. Result 2 (class_weight='balanced') has the least false negatives but the most false positives, possibly from the 'balanced' class_weight that adjusts weights inversely proportional to class frequencies. Result 3 (C=0.1) is similar to Result 1, good for predicting true positives and negatives. This is probably because the data is trustworthy and does not need much regularization.\n",
        "* The ***Multi-Layer Perceptron*** results perform similarly to the Logistic Regression results. However, it is better than the Naive Bayes model at predicting true negatives. It may be because it is a more complex model, and there is a bias for positive values."
      ],
      "metadata": {
        "id": "_Ks3jMyYs5xa"
      }
    },
    {
      "cell_type": "markdown",
      "source": [
        "### **b.2. Analysis of examples of results**"
      ],
      "metadata": {
        "id": "HV9BDvaaDbg-"
      }
    },
    {
      "cell_type": "markdown",
      "source": [
        "* Section b.1. above, provided an overview of each model's false positive and negative results. We will now look closely at examples of rows that triggered good (true positives and negatives) and bad (false positives and negatives) results for the Naive Bayes model."
      ],
      "metadata": {
        "id": "_Y9ZPl_EEhhF"
      }
    },
    {
      "cell_type": "code",
      "source": [
        "# Get all false positives indices from results for the NB Model 1\n",
        "falsePositives_NB = findFalsePositives(predictedNB1,y_test_D.to_numpy())\n",
        "\n",
        "# Show affected rows in datafrane that correspond to the false positives\n",
        "X_test_NB_FP = X_test_D.copy()\n",
        "X_test_NB_FP.reset_index(drop=True, inplace=True)\n",
        "X_test_NB_FP.loc[np.array(falsePositives_NB)].head()"
      ],
      "metadata": {
        "colab": {
          "base_uri": "https://localhost:8080/",
          "height": 270
        },
        "id": "evOGtGz0N5K6",
        "outputId": "c962761d-90fc-4be7-d513-8ec70d888776"
      },
      "execution_count": null,
      "outputs": [
        {
          "output_type": "execute_result",
          "data": {
            "text/plain": [
              "    school  sex  age  address  famsize  Pstatus  Medu  Fedu  Mjob  Fjob  \\\n",
              "0        1    1    1        1        0        1     2     1     1     3   \n",
              "3        1    0    3        1        0        1     2     3     0     3   \n",
              "11       0    1    4        0        0        1     3     2     0     3   \n",
              "13       0    0    3        0        0        1     3     1     2     2   \n",
              "19       1    1    2        1        0        1     1     1     0     3   \n",
              "\n",
              "    reason  guardian  traveltime  studytime  failures  schoolsup  famsup  \\\n",
              "0        2         1           1          1         0          0       0   \n",
              "3        0         0           1          0         0          0       1   \n",
              "11       1         2           0          0         0          0       1   \n",
              "13       3         1           0          1         0          0       0   \n",
              "19       2         1           2          1         0          0       0   \n",
              "\n",
              "    paid  activities  nursery  higher  internet  romantic  famrel  freetime  \\\n",
              "0      0           0        0       1         1         1       3         1   \n",
              "3      0           0        1       1         1         1       4         1   \n",
              "11     0           0        0       1         0         1       4         2   \n",
              "13     0           1        1       1         1         1       4         2   \n",
              "19     0           0        1       1         1         1       4         0   \n",
              "\n",
              "    goout  Dalc  Walc  health  absences  \n",
              "0       1     0     3       4         2  \n",
              "3       2     0     1       3         0  \n",
              "11      3     1     1       4         0  \n",
              "13      2     0     0       3         4  \n",
              "19      2     2     2       0         0  "
            ],
            "text/html": [
              "\n",
              "  <div id=\"df-3cc182ed-6f6c-4ef2-8804-2d45d12c7b3c\">\n",
              "    <div class=\"colab-df-container\">\n",
              "      <div>\n",
              "<style scoped>\n",
              "    .dataframe tbody tr th:only-of-type {\n",
              "        vertical-align: middle;\n",
              "    }\n",
              "\n",
              "    .dataframe tbody tr th {\n",
              "        vertical-align: top;\n",
              "    }\n",
              "\n",
              "    .dataframe thead th {\n",
              "        text-align: right;\n",
              "    }\n",
              "</style>\n",
              "<table border=\"1\" class=\"dataframe\">\n",
              "  <thead>\n",
              "    <tr style=\"text-align: right;\">\n",
              "      <th></th>\n",
              "      <th>school</th>\n",
              "      <th>sex</th>\n",
              "      <th>age</th>\n",
              "      <th>address</th>\n",
              "      <th>famsize</th>\n",
              "      <th>Pstatus</th>\n",
              "      <th>Medu</th>\n",
              "      <th>Fedu</th>\n",
              "      <th>Mjob</th>\n",
              "      <th>Fjob</th>\n",
              "      <th>reason</th>\n",
              "      <th>guardian</th>\n",
              "      <th>traveltime</th>\n",
              "      <th>studytime</th>\n",
              "      <th>failures</th>\n",
              "      <th>schoolsup</th>\n",
              "      <th>famsup</th>\n",
              "      <th>paid</th>\n",
              "      <th>activities</th>\n",
              "      <th>nursery</th>\n",
              "      <th>higher</th>\n",
              "      <th>internet</th>\n",
              "      <th>romantic</th>\n",
              "      <th>famrel</th>\n",
              "      <th>freetime</th>\n",
              "      <th>goout</th>\n",
              "      <th>Dalc</th>\n",
              "      <th>Walc</th>\n",
              "      <th>health</th>\n",
              "      <th>absences</th>\n",
              "    </tr>\n",
              "  </thead>\n",
              "  <tbody>\n",
              "    <tr>\n",
              "      <th>0</th>\n",
              "      <td>1</td>\n",
              "      <td>1</td>\n",
              "      <td>1</td>\n",
              "      <td>1</td>\n",
              "      <td>0</td>\n",
              "      <td>1</td>\n",
              "      <td>2</td>\n",
              "      <td>1</td>\n",
              "      <td>1</td>\n",
              "      <td>3</td>\n",
              "      <td>2</td>\n",
              "      <td>1</td>\n",
              "      <td>1</td>\n",
              "      <td>1</td>\n",
              "      <td>0</td>\n",
              "      <td>0</td>\n",
              "      <td>0</td>\n",
              "      <td>0</td>\n",
              "      <td>0</td>\n",
              "      <td>0</td>\n",
              "      <td>1</td>\n",
              "      <td>1</td>\n",
              "      <td>1</td>\n",
              "      <td>3</td>\n",
              "      <td>1</td>\n",
              "      <td>1</td>\n",
              "      <td>0</td>\n",
              "      <td>3</td>\n",
              "      <td>4</td>\n",
              "      <td>2</td>\n",
              "    </tr>\n",
              "    <tr>\n",
              "      <th>3</th>\n",
              "      <td>1</td>\n",
              "      <td>0</td>\n",
              "      <td>3</td>\n",
              "      <td>1</td>\n",
              "      <td>0</td>\n",
              "      <td>1</td>\n",
              "      <td>2</td>\n",
              "      <td>3</td>\n",
              "      <td>0</td>\n",
              "      <td>3</td>\n",
              "      <td>0</td>\n",
              "      <td>0</td>\n",
              "      <td>1</td>\n",
              "      <td>0</td>\n",
              "      <td>0</td>\n",
              "      <td>0</td>\n",
              "      <td>1</td>\n",
              "      <td>0</td>\n",
              "      <td>0</td>\n",
              "      <td>1</td>\n",
              "      <td>1</td>\n",
              "      <td>1</td>\n",
              "      <td>1</td>\n",
              "      <td>4</td>\n",
              "      <td>1</td>\n",
              "      <td>2</td>\n",
              "      <td>0</td>\n",
              "      <td>1</td>\n",
              "      <td>3</td>\n",
              "      <td>0</td>\n",
              "    </tr>\n",
              "    <tr>\n",
              "      <th>11</th>\n",
              "      <td>0</td>\n",
              "      <td>1</td>\n",
              "      <td>4</td>\n",
              "      <td>0</td>\n",
              "      <td>0</td>\n",
              "      <td>1</td>\n",
              "      <td>3</td>\n",
              "      <td>2</td>\n",
              "      <td>0</td>\n",
              "      <td>3</td>\n",
              "      <td>1</td>\n",
              "      <td>2</td>\n",
              "      <td>0</td>\n",
              "      <td>0</td>\n",
              "      <td>0</td>\n",
              "      <td>0</td>\n",
              "      <td>1</td>\n",
              "      <td>0</td>\n",
              "      <td>0</td>\n",
              "      <td>0</td>\n",
              "      <td>1</td>\n",
              "      <td>0</td>\n",
              "      <td>1</td>\n",
              "      <td>4</td>\n",
              "      <td>2</td>\n",
              "      <td>3</td>\n",
              "      <td>1</td>\n",
              "      <td>1</td>\n",
              "      <td>4</td>\n",
              "      <td>0</td>\n",
              "    </tr>\n",
              "    <tr>\n",
              "      <th>13</th>\n",
              "      <td>0</td>\n",
              "      <td>0</td>\n",
              "      <td>3</td>\n",
              "      <td>0</td>\n",
              "      <td>0</td>\n",
              "      <td>1</td>\n",
              "      <td>3</td>\n",
              "      <td>1</td>\n",
              "      <td>2</td>\n",
              "      <td>2</td>\n",
              "      <td>3</td>\n",
              "      <td>1</td>\n",
              "      <td>0</td>\n",
              "      <td>1</td>\n",
              "      <td>0</td>\n",
              "      <td>0</td>\n",
              "      <td>0</td>\n",
              "      <td>0</td>\n",
              "      <td>1</td>\n",
              "      <td>1</td>\n",
              "      <td>1</td>\n",
              "      <td>1</td>\n",
              "      <td>1</td>\n",
              "      <td>4</td>\n",
              "      <td>2</td>\n",
              "      <td>2</td>\n",
              "      <td>0</td>\n",
              "      <td>0</td>\n",
              "      <td>3</td>\n",
              "      <td>4</td>\n",
              "    </tr>\n",
              "    <tr>\n",
              "      <th>19</th>\n",
              "      <td>1</td>\n",
              "      <td>1</td>\n",
              "      <td>2</td>\n",
              "      <td>1</td>\n",
              "      <td>0</td>\n",
              "      <td>1</td>\n",
              "      <td>1</td>\n",
              "      <td>1</td>\n",
              "      <td>0</td>\n",
              "      <td>3</td>\n",
              "      <td>2</td>\n",
              "      <td>1</td>\n",
              "      <td>2</td>\n",
              "      <td>1</td>\n",
              "      <td>0</td>\n",
              "      <td>0</td>\n",
              "      <td>0</td>\n",
              "      <td>0</td>\n",
              "      <td>0</td>\n",
              "      <td>1</td>\n",
              "      <td>1</td>\n",
              "      <td>1</td>\n",
              "      <td>1</td>\n",
              "      <td>4</td>\n",
              "      <td>0</td>\n",
              "      <td>2</td>\n",
              "      <td>2</td>\n",
              "      <td>2</td>\n",
              "      <td>0</td>\n",
              "      <td>0</td>\n",
              "    </tr>\n",
              "  </tbody>\n",
              "</table>\n",
              "</div>\n",
              "      <button class=\"colab-df-convert\" onclick=\"convertToInteractive('df-3cc182ed-6f6c-4ef2-8804-2d45d12c7b3c')\"\n",
              "              title=\"Convert this dataframe to an interactive table.\"\n",
              "              style=\"display:none;\">\n",
              "        \n",
              "  <svg xmlns=\"http://www.w3.org/2000/svg\" height=\"24px\"viewBox=\"0 0 24 24\"\n",
              "       width=\"24px\">\n",
              "    <path d=\"M0 0h24v24H0V0z\" fill=\"none\"/>\n",
              "    <path d=\"M18.56 5.44l.94 2.06.94-2.06 2.06-.94-2.06-.94-.94-2.06-.94 2.06-2.06.94zm-11 1L8.5 8.5l.94-2.06 2.06-.94-2.06-.94L8.5 2.5l-.94 2.06-2.06.94zm10 10l.94 2.06.94-2.06 2.06-.94-2.06-.94-.94-2.06-.94 2.06-2.06.94z\"/><path d=\"M17.41 7.96l-1.37-1.37c-.4-.4-.92-.59-1.43-.59-.52 0-1.04.2-1.43.59L10.3 9.45l-7.72 7.72c-.78.78-.78 2.05 0 2.83L4 21.41c.39.39.9.59 1.41.59.51 0 1.02-.2 1.41-.59l7.78-7.78 2.81-2.81c.8-.78.8-2.07 0-2.86zM5.41 20L4 18.59l7.72-7.72 1.47 1.35L5.41 20z\"/>\n",
              "  </svg>\n",
              "      </button>\n",
              "      \n",
              "  <style>\n",
              "    .colab-df-container {\n",
              "      display:flex;\n",
              "      flex-wrap:wrap;\n",
              "      gap: 12px;\n",
              "    }\n",
              "\n",
              "    .colab-df-convert {\n",
              "      background-color: #E8F0FE;\n",
              "      border: none;\n",
              "      border-radius: 50%;\n",
              "      cursor: pointer;\n",
              "      display: none;\n",
              "      fill: #1967D2;\n",
              "      height: 32px;\n",
              "      padding: 0 0 0 0;\n",
              "      width: 32px;\n",
              "    }\n",
              "\n",
              "    .colab-df-convert:hover {\n",
              "      background-color: #E2EBFA;\n",
              "      box-shadow: 0px 1px 2px rgba(60, 64, 67, 0.3), 0px 1px 3px 1px rgba(60, 64, 67, 0.15);\n",
              "      fill: #174EA6;\n",
              "    }\n",
              "\n",
              "    [theme=dark] .colab-df-convert {\n",
              "      background-color: #3B4455;\n",
              "      fill: #D2E3FC;\n",
              "    }\n",
              "\n",
              "    [theme=dark] .colab-df-convert:hover {\n",
              "      background-color: #434B5C;\n",
              "      box-shadow: 0px 1px 3px 1px rgba(0, 0, 0, 0.15);\n",
              "      filter: drop-shadow(0px 1px 2px rgba(0, 0, 0, 0.3));\n",
              "      fill: #FFFFFF;\n",
              "    }\n",
              "  </style>\n",
              "\n",
              "      <script>\n",
              "        const buttonEl =\n",
              "          document.querySelector('#df-3cc182ed-6f6c-4ef2-8804-2d45d12c7b3c button.colab-df-convert');\n",
              "        buttonEl.style.display =\n",
              "          google.colab.kernel.accessAllowed ? 'block' : 'none';\n",
              "\n",
              "        async function convertToInteractive(key) {\n",
              "          const element = document.querySelector('#df-3cc182ed-6f6c-4ef2-8804-2d45d12c7b3c');\n",
              "          const dataTable =\n",
              "            await google.colab.kernel.invokeFunction('convertToInteractive',\n",
              "                                                     [key], {});\n",
              "          if (!dataTable) return;\n",
              "\n",
              "          const docLinkHtml = 'Like what you see? Visit the ' +\n",
              "            '<a target=\"_blank\" href=https://colab.research.google.com/notebooks/data_table.ipynb>data table notebook</a>'\n",
              "            + ' to learn more about interactive tables.';\n",
              "          element.innerHTML = '';\n",
              "          dataTable['output_type'] = 'display_data';\n",
              "          await google.colab.output.renderOutput(dataTable, element);\n",
              "          const docLink = document.createElement('div');\n",
              "          docLink.innerHTML = docLinkHtml;\n",
              "          element.appendChild(docLink);\n",
              "        }\n",
              "      </script>\n",
              "    </div>\n",
              "  </div>\n",
              "  "
            ]
          },
          "metadata": {},
          "execution_count": 67
        }
      ]
    },
    {
      "cell_type": "code",
      "source": [
        "# Get all true positives indices from results for the NB Model 1\n",
        "truePositives_NB = findTruePositives(predictedNB1,y_test_D.to_numpy())\n",
        "\n",
        "# Show affected rows in datafrane that correspond to the true positives\n",
        "X_test_NB_TP = X_test_D.copy()\n",
        "X_test_NB_TP.reset_index(drop=True, inplace=True)\n",
        "X_test_NB_TP.loc[np.array(truePositives_NB)].head()"
      ],
      "metadata": {
        "colab": {
          "base_uri": "https://localhost:8080/",
          "height": 270
        },
        "id": "k0-MgmspGTD0",
        "outputId": "431b4f0c-86c8-43c8-a33b-b3292f0f1453"
      },
      "execution_count": null,
      "outputs": [
        {
          "output_type": "execute_result",
          "data": {
            "text/plain": [
              "   school  sex  age  address  famsize  Pstatus  Medu  Fedu  Mjob  Fjob  \\\n",
              "1       0    0    2        1        1        1     0     2     0     0   \n",
              "2       0    1    3        0        1        0     3     4     2     2   \n",
              "5       1    0    0        0        0        1     3     3     3     2   \n",
              "6       0    0    2        1        0        1     3     3     2     2   \n",
              "7       0    0    2        1        0        1     3     2     2     2   \n",
              "\n",
              "   reason  guardian  traveltime  studytime  failures  schoolsup  famsup  paid  \\\n",
              "1       1         0           1          2         0          0       0     0   \n",
              "2       3         1           1          1         0          0       1     0   \n",
              "5       3         1           0          1         0          0       1     0   \n",
              "6       1         1           0          2         0          0       0     0   \n",
              "7       0         1           0          1         0          0       0     0   \n",
              "\n",
              "   activities  nursery  higher  internet  romantic  famrel  freetime  goout  \\\n",
              "1           0        1       1         1         0       2         2      2   \n",
              "2           1        1       1         1         0       3         1      4   \n",
              "5           0        1       1         1         1       3         4      3   \n",
              "6           1        0       1         0         0       2         1      2   \n",
              "7           1        0       1         1         0       4         2      3   \n",
              "\n",
              "   Dalc  Walc  health  absences  \n",
              "1     1     2       1         0  \n",
              "2     2     3       0         6  \n",
              "5     0     0       0         4  \n",
              "6     0     0       3         2  \n",
              "7     0     2       2         2  "
            ],
            "text/html": [
              "\n",
              "  <div id=\"df-a39fc62b-694f-41ca-bf7a-b622b9731879\">\n",
              "    <div class=\"colab-df-container\">\n",
              "      <div>\n",
              "<style scoped>\n",
              "    .dataframe tbody tr th:only-of-type {\n",
              "        vertical-align: middle;\n",
              "    }\n",
              "\n",
              "    .dataframe tbody tr th {\n",
              "        vertical-align: top;\n",
              "    }\n",
              "\n",
              "    .dataframe thead th {\n",
              "        text-align: right;\n",
              "    }\n",
              "</style>\n",
              "<table border=\"1\" class=\"dataframe\">\n",
              "  <thead>\n",
              "    <tr style=\"text-align: right;\">\n",
              "      <th></th>\n",
              "      <th>school</th>\n",
              "      <th>sex</th>\n",
              "      <th>age</th>\n",
              "      <th>address</th>\n",
              "      <th>famsize</th>\n",
              "      <th>Pstatus</th>\n",
              "      <th>Medu</th>\n",
              "      <th>Fedu</th>\n",
              "      <th>Mjob</th>\n",
              "      <th>Fjob</th>\n",
              "      <th>reason</th>\n",
              "      <th>guardian</th>\n",
              "      <th>traveltime</th>\n",
              "      <th>studytime</th>\n",
              "      <th>failures</th>\n",
              "      <th>schoolsup</th>\n",
              "      <th>famsup</th>\n",
              "      <th>paid</th>\n",
              "      <th>activities</th>\n",
              "      <th>nursery</th>\n",
              "      <th>higher</th>\n",
              "      <th>internet</th>\n",
              "      <th>romantic</th>\n",
              "      <th>famrel</th>\n",
              "      <th>freetime</th>\n",
              "      <th>goout</th>\n",
              "      <th>Dalc</th>\n",
              "      <th>Walc</th>\n",
              "      <th>health</th>\n",
              "      <th>absences</th>\n",
              "    </tr>\n",
              "  </thead>\n",
              "  <tbody>\n",
              "    <tr>\n",
              "      <th>1</th>\n",
              "      <td>0</td>\n",
              "      <td>0</td>\n",
              "      <td>2</td>\n",
              "      <td>1</td>\n",
              "      <td>1</td>\n",
              "      <td>1</td>\n",
              "      <td>0</td>\n",
              "      <td>2</td>\n",
              "      <td>0</td>\n",
              "      <td>0</td>\n",
              "      <td>1</td>\n",
              "      <td>0</td>\n",
              "      <td>1</td>\n",
              "      <td>2</td>\n",
              "      <td>0</td>\n",
              "      <td>0</td>\n",
              "      <td>0</td>\n",
              "      <td>0</td>\n",
              "      <td>0</td>\n",
              "      <td>1</td>\n",
              "      <td>1</td>\n",
              "      <td>1</td>\n",
              "      <td>0</td>\n",
              "      <td>2</td>\n",
              "      <td>2</td>\n",
              "      <td>2</td>\n",
              "      <td>1</td>\n",
              "      <td>2</td>\n",
              "      <td>1</td>\n",
              "      <td>0</td>\n",
              "    </tr>\n",
              "    <tr>\n",
              "      <th>2</th>\n",
              "      <td>0</td>\n",
              "      <td>1</td>\n",
              "      <td>3</td>\n",
              "      <td>0</td>\n",
              "      <td>1</td>\n",
              "      <td>0</td>\n",
              "      <td>3</td>\n",
              "      <td>4</td>\n",
              "      <td>2</td>\n",
              "      <td>2</td>\n",
              "      <td>3</td>\n",
              "      <td>1</td>\n",
              "      <td>1</td>\n",
              "      <td>1</td>\n",
              "      <td>0</td>\n",
              "      <td>0</td>\n",
              "      <td>1</td>\n",
              "      <td>0</td>\n",
              "      <td>1</td>\n",
              "      <td>1</td>\n",
              "      <td>1</td>\n",
              "      <td>1</td>\n",
              "      <td>0</td>\n",
              "      <td>3</td>\n",
              "      <td>1</td>\n",
              "      <td>4</td>\n",
              "      <td>2</td>\n",
              "      <td>3</td>\n",
              "      <td>0</td>\n",
              "      <td>6</td>\n",
              "    </tr>\n",
              "    <tr>\n",
              "      <th>5</th>\n",
              "      <td>1</td>\n",
              "      <td>0</td>\n",
              "      <td>0</td>\n",
              "      <td>0</td>\n",
              "      <td>0</td>\n",
              "      <td>1</td>\n",
              "      <td>3</td>\n",
              "      <td>3</td>\n",
              "      <td>3</td>\n",
              "      <td>2</td>\n",
              "      <td>3</td>\n",
              "      <td>1</td>\n",
              "      <td>0</td>\n",
              "      <td>1</td>\n",
              "      <td>0</td>\n",
              "      <td>0</td>\n",
              "      <td>1</td>\n",
              "      <td>0</td>\n",
              "      <td>0</td>\n",
              "      <td>1</td>\n",
              "      <td>1</td>\n",
              "      <td>1</td>\n",
              "      <td>1</td>\n",
              "      <td>3</td>\n",
              "      <td>4</td>\n",
              "      <td>3</td>\n",
              "      <td>0</td>\n",
              "      <td>0</td>\n",
              "      <td>0</td>\n",
              "      <td>4</td>\n",
              "    </tr>\n",
              "    <tr>\n",
              "      <th>6</th>\n",
              "      <td>0</td>\n",
              "      <td>0</td>\n",
              "      <td>2</td>\n",
              "      <td>1</td>\n",
              "      <td>0</td>\n",
              "      <td>1</td>\n",
              "      <td>3</td>\n",
              "      <td>3</td>\n",
              "      <td>2</td>\n",
              "      <td>2</td>\n",
              "      <td>1</td>\n",
              "      <td>1</td>\n",
              "      <td>0</td>\n",
              "      <td>2</td>\n",
              "      <td>0</td>\n",
              "      <td>0</td>\n",
              "      <td>0</td>\n",
              "      <td>0</td>\n",
              "      <td>1</td>\n",
              "      <td>0</td>\n",
              "      <td>1</td>\n",
              "      <td>0</td>\n",
              "      <td>0</td>\n",
              "      <td>2</td>\n",
              "      <td>1</td>\n",
              "      <td>2</td>\n",
              "      <td>0</td>\n",
              "      <td>0</td>\n",
              "      <td>3</td>\n",
              "      <td>2</td>\n",
              "    </tr>\n",
              "    <tr>\n",
              "      <th>7</th>\n",
              "      <td>0</td>\n",
              "      <td>0</td>\n",
              "      <td>2</td>\n",
              "      <td>1</td>\n",
              "      <td>0</td>\n",
              "      <td>1</td>\n",
              "      <td>3</td>\n",
              "      <td>2</td>\n",
              "      <td>2</td>\n",
              "      <td>2</td>\n",
              "      <td>0</td>\n",
              "      <td>1</td>\n",
              "      <td>0</td>\n",
              "      <td>1</td>\n",
              "      <td>0</td>\n",
              "      <td>0</td>\n",
              "      <td>0</td>\n",
              "      <td>0</td>\n",
              "      <td>1</td>\n",
              "      <td>0</td>\n",
              "      <td>1</td>\n",
              "      <td>1</td>\n",
              "      <td>0</td>\n",
              "      <td>4</td>\n",
              "      <td>2</td>\n",
              "      <td>3</td>\n",
              "      <td>0</td>\n",
              "      <td>2</td>\n",
              "      <td>2</td>\n",
              "      <td>2</td>\n",
              "    </tr>\n",
              "  </tbody>\n",
              "</table>\n",
              "</div>\n",
              "      <button class=\"colab-df-convert\" onclick=\"convertToInteractive('df-a39fc62b-694f-41ca-bf7a-b622b9731879')\"\n",
              "              title=\"Convert this dataframe to an interactive table.\"\n",
              "              style=\"display:none;\">\n",
              "        \n",
              "  <svg xmlns=\"http://www.w3.org/2000/svg\" height=\"24px\"viewBox=\"0 0 24 24\"\n",
              "       width=\"24px\">\n",
              "    <path d=\"M0 0h24v24H0V0z\" fill=\"none\"/>\n",
              "    <path d=\"M18.56 5.44l.94 2.06.94-2.06 2.06-.94-2.06-.94-.94-2.06-.94 2.06-2.06.94zm-11 1L8.5 8.5l.94-2.06 2.06-.94-2.06-.94L8.5 2.5l-.94 2.06-2.06.94zm10 10l.94 2.06.94-2.06 2.06-.94-2.06-.94-.94-2.06-.94 2.06-2.06.94z\"/><path d=\"M17.41 7.96l-1.37-1.37c-.4-.4-.92-.59-1.43-.59-.52 0-1.04.2-1.43.59L10.3 9.45l-7.72 7.72c-.78.78-.78 2.05 0 2.83L4 21.41c.39.39.9.59 1.41.59.51 0 1.02-.2 1.41-.59l7.78-7.78 2.81-2.81c.8-.78.8-2.07 0-2.86zM5.41 20L4 18.59l7.72-7.72 1.47 1.35L5.41 20z\"/>\n",
              "  </svg>\n",
              "      </button>\n",
              "      \n",
              "  <style>\n",
              "    .colab-df-container {\n",
              "      display:flex;\n",
              "      flex-wrap:wrap;\n",
              "      gap: 12px;\n",
              "    }\n",
              "\n",
              "    .colab-df-convert {\n",
              "      background-color: #E8F0FE;\n",
              "      border: none;\n",
              "      border-radius: 50%;\n",
              "      cursor: pointer;\n",
              "      display: none;\n",
              "      fill: #1967D2;\n",
              "      height: 32px;\n",
              "      padding: 0 0 0 0;\n",
              "      width: 32px;\n",
              "    }\n",
              "\n",
              "    .colab-df-convert:hover {\n",
              "      background-color: #E2EBFA;\n",
              "      box-shadow: 0px 1px 2px rgba(60, 64, 67, 0.3), 0px 1px 3px 1px rgba(60, 64, 67, 0.15);\n",
              "      fill: #174EA6;\n",
              "    }\n",
              "\n",
              "    [theme=dark] .colab-df-convert {\n",
              "      background-color: #3B4455;\n",
              "      fill: #D2E3FC;\n",
              "    }\n",
              "\n",
              "    [theme=dark] .colab-df-convert:hover {\n",
              "      background-color: #434B5C;\n",
              "      box-shadow: 0px 1px 3px 1px rgba(0, 0, 0, 0.15);\n",
              "      filter: drop-shadow(0px 1px 2px rgba(0, 0, 0, 0.3));\n",
              "      fill: #FFFFFF;\n",
              "    }\n",
              "  </style>\n",
              "\n",
              "      <script>\n",
              "        const buttonEl =\n",
              "          document.querySelector('#df-a39fc62b-694f-41ca-bf7a-b622b9731879 button.colab-df-convert');\n",
              "        buttonEl.style.display =\n",
              "          google.colab.kernel.accessAllowed ? 'block' : 'none';\n",
              "\n",
              "        async function convertToInteractive(key) {\n",
              "          const element = document.querySelector('#df-a39fc62b-694f-41ca-bf7a-b622b9731879');\n",
              "          const dataTable =\n",
              "            await google.colab.kernel.invokeFunction('convertToInteractive',\n",
              "                                                     [key], {});\n",
              "          if (!dataTable) return;\n",
              "\n",
              "          const docLinkHtml = 'Like what you see? Visit the ' +\n",
              "            '<a target=\"_blank\" href=https://colab.research.google.com/notebooks/data_table.ipynb>data table notebook</a>'\n",
              "            + ' to learn more about interactive tables.';\n",
              "          element.innerHTML = '';\n",
              "          dataTable['output_type'] = 'display_data';\n",
              "          await google.colab.output.renderOutput(dataTable, element);\n",
              "          const docLink = document.createElement('div');\n",
              "          docLink.innerHTML = docLinkHtml;\n",
              "          element.appendChild(docLink);\n",
              "        }\n",
              "      </script>\n",
              "    </div>\n",
              "  </div>\n",
              "  "
            ]
          },
          "metadata": {},
          "execution_count": 68
        }
      ]
    },
    {
      "cell_type": "code",
      "source": [
        "# Get all false negatives indices from results for the NB Model 1\n",
        "falseNegatives_NB = findFalseNegatives(predictedNB1,y_test_D.to_numpy())\n",
        "\n",
        "# Show affected rows in datafrane that correspond to the false negatives\n",
        "X_test_NB_FN = X_test_D.copy()\n",
        "X_test_NB_FN.reset_index(drop=True, inplace=True)\n",
        "X_test_NB_FN.loc[np.array(falseNegatives_NB)].head()"
      ],
      "metadata": {
        "colab": {
          "base_uri": "https://localhost:8080/",
          "height": 270
        },
        "id": "EAXe2NlLIZEv",
        "outputId": "920926be-528d-4486-fcb8-9e198f175daa"
      },
      "execution_count": null,
      "outputs": [
        {
          "output_type": "execute_result",
          "data": {
            "text/plain": [
              "    school  sex  age  address  famsize  Pstatus  Medu  Fedu  Mjob  Fjob  \\\n",
              "55       0    0    4        1        1        0     2     3     0     2   \n",
              "57       0    1    2        1        0        1     1     2     0     3   \n",
              "88       1    0    1        1        0        1     3     3     2     2   \n",
              "90       0    1    3        1        1        1     3     1     3     3   \n",
              "93       0    1    0        1        1        0     2     1     3     2   \n",
              "\n",
              "    reason  guardian  traveltime  studytime  failures  schoolsup  famsup  \\\n",
              "55       1         2           1          0         1          0       0   \n",
              "57       2         2           1          1         0          0       0   \n",
              "88       3         1           0          0         0          0       0   \n",
              "90       0         1           1          0         0          0       0   \n",
              "93       0         1           3          0         0          0       0   \n",
              "\n",
              "    paid  activities  nursery  higher  internet  romantic  famrel  freetime  \\\n",
              "55     0           0        1       0         1         0       1         1   \n",
              "57     0           1        0       1         1         0       3         3   \n",
              "88     0           1        1       0         1         1       3         4   \n",
              "90     0           1        1       1         1         1       2         2   \n",
              "93     0           0        1       1         1         0       3         4   \n",
              "\n",
              "    goout  Dalc  Walc  health  absences  \n",
              "55      2     2     3       4        16  \n",
              "57      3     3     4       4        16  \n",
              "88      3     0     0       3         0  \n",
              "90      3     3     4       3         2  \n",
              "93      4     1     4       4         0  "
            ],
            "text/html": [
              "\n",
              "  <div id=\"df-e85c01d8-703c-4014-b167-1ea9c35a3421\">\n",
              "    <div class=\"colab-df-container\">\n",
              "      <div>\n",
              "<style scoped>\n",
              "    .dataframe tbody tr th:only-of-type {\n",
              "        vertical-align: middle;\n",
              "    }\n",
              "\n",
              "    .dataframe tbody tr th {\n",
              "        vertical-align: top;\n",
              "    }\n",
              "\n",
              "    .dataframe thead th {\n",
              "        text-align: right;\n",
              "    }\n",
              "</style>\n",
              "<table border=\"1\" class=\"dataframe\">\n",
              "  <thead>\n",
              "    <tr style=\"text-align: right;\">\n",
              "      <th></th>\n",
              "      <th>school</th>\n",
              "      <th>sex</th>\n",
              "      <th>age</th>\n",
              "      <th>address</th>\n",
              "      <th>famsize</th>\n",
              "      <th>Pstatus</th>\n",
              "      <th>Medu</th>\n",
              "      <th>Fedu</th>\n",
              "      <th>Mjob</th>\n",
              "      <th>Fjob</th>\n",
              "      <th>reason</th>\n",
              "      <th>guardian</th>\n",
              "      <th>traveltime</th>\n",
              "      <th>studytime</th>\n",
              "      <th>failures</th>\n",
              "      <th>schoolsup</th>\n",
              "      <th>famsup</th>\n",
              "      <th>paid</th>\n",
              "      <th>activities</th>\n",
              "      <th>nursery</th>\n",
              "      <th>higher</th>\n",
              "      <th>internet</th>\n",
              "      <th>romantic</th>\n",
              "      <th>famrel</th>\n",
              "      <th>freetime</th>\n",
              "      <th>goout</th>\n",
              "      <th>Dalc</th>\n",
              "      <th>Walc</th>\n",
              "      <th>health</th>\n",
              "      <th>absences</th>\n",
              "    </tr>\n",
              "  </thead>\n",
              "  <tbody>\n",
              "    <tr>\n",
              "      <th>55</th>\n",
              "      <td>0</td>\n",
              "      <td>0</td>\n",
              "      <td>4</td>\n",
              "      <td>1</td>\n",
              "      <td>1</td>\n",
              "      <td>0</td>\n",
              "      <td>2</td>\n",
              "      <td>3</td>\n",
              "      <td>0</td>\n",
              "      <td>2</td>\n",
              "      <td>1</td>\n",
              "      <td>2</td>\n",
              "      <td>1</td>\n",
              "      <td>0</td>\n",
              "      <td>1</td>\n",
              "      <td>0</td>\n",
              "      <td>0</td>\n",
              "      <td>0</td>\n",
              "      <td>0</td>\n",
              "      <td>1</td>\n",
              "      <td>0</td>\n",
              "      <td>1</td>\n",
              "      <td>0</td>\n",
              "      <td>1</td>\n",
              "      <td>1</td>\n",
              "      <td>2</td>\n",
              "      <td>2</td>\n",
              "      <td>3</td>\n",
              "      <td>4</td>\n",
              "      <td>16</td>\n",
              "    </tr>\n",
              "    <tr>\n",
              "      <th>57</th>\n",
              "      <td>0</td>\n",
              "      <td>1</td>\n",
              "      <td>2</td>\n",
              "      <td>1</td>\n",
              "      <td>0</td>\n",
              "      <td>1</td>\n",
              "      <td>1</td>\n",
              "      <td>2</td>\n",
              "      <td>0</td>\n",
              "      <td>3</td>\n",
              "      <td>2</td>\n",
              "      <td>2</td>\n",
              "      <td>1</td>\n",
              "      <td>1</td>\n",
              "      <td>0</td>\n",
              "      <td>0</td>\n",
              "      <td>0</td>\n",
              "      <td>0</td>\n",
              "      <td>1</td>\n",
              "      <td>0</td>\n",
              "      <td>1</td>\n",
              "      <td>1</td>\n",
              "      <td>0</td>\n",
              "      <td>3</td>\n",
              "      <td>3</td>\n",
              "      <td>3</td>\n",
              "      <td>3</td>\n",
              "      <td>4</td>\n",
              "      <td>4</td>\n",
              "      <td>16</td>\n",
              "    </tr>\n",
              "    <tr>\n",
              "      <th>88</th>\n",
              "      <td>1</td>\n",
              "      <td>0</td>\n",
              "      <td>1</td>\n",
              "      <td>1</td>\n",
              "      <td>0</td>\n",
              "      <td>1</td>\n",
              "      <td>3</td>\n",
              "      <td>3</td>\n",
              "      <td>2</td>\n",
              "      <td>2</td>\n",
              "      <td>3</td>\n",
              "      <td>1</td>\n",
              "      <td>0</td>\n",
              "      <td>0</td>\n",
              "      <td>0</td>\n",
              "      <td>0</td>\n",
              "      <td>0</td>\n",
              "      <td>0</td>\n",
              "      <td>1</td>\n",
              "      <td>1</td>\n",
              "      <td>0</td>\n",
              "      <td>1</td>\n",
              "      <td>1</td>\n",
              "      <td>3</td>\n",
              "      <td>4</td>\n",
              "      <td>3</td>\n",
              "      <td>0</td>\n",
              "      <td>0</td>\n",
              "      <td>3</td>\n",
              "      <td>0</td>\n",
              "    </tr>\n",
              "    <tr>\n",
              "      <th>90</th>\n",
              "      <td>0</td>\n",
              "      <td>1</td>\n",
              "      <td>3</td>\n",
              "      <td>1</td>\n",
              "      <td>1</td>\n",
              "      <td>1</td>\n",
              "      <td>3</td>\n",
              "      <td>1</td>\n",
              "      <td>3</td>\n",
              "      <td>3</td>\n",
              "      <td>0</td>\n",
              "      <td>1</td>\n",
              "      <td>1</td>\n",
              "      <td>0</td>\n",
              "      <td>0</td>\n",
              "      <td>0</td>\n",
              "      <td>0</td>\n",
              "      <td>0</td>\n",
              "      <td>1</td>\n",
              "      <td>1</td>\n",
              "      <td>1</td>\n",
              "      <td>1</td>\n",
              "      <td>1</td>\n",
              "      <td>2</td>\n",
              "      <td>2</td>\n",
              "      <td>3</td>\n",
              "      <td>3</td>\n",
              "      <td>4</td>\n",
              "      <td>3</td>\n",
              "      <td>2</td>\n",
              "    </tr>\n",
              "    <tr>\n",
              "      <th>93</th>\n",
              "      <td>0</td>\n",
              "      <td>1</td>\n",
              "      <td>0</td>\n",
              "      <td>1</td>\n",
              "      <td>1</td>\n",
              "      <td>0</td>\n",
              "      <td>2</td>\n",
              "      <td>1</td>\n",
              "      <td>3</td>\n",
              "      <td>2</td>\n",
              "      <td>0</td>\n",
              "      <td>1</td>\n",
              "      <td>3</td>\n",
              "      <td>0</td>\n",
              "      <td>0</td>\n",
              "      <td>0</td>\n",
              "      <td>0</td>\n",
              "      <td>0</td>\n",
              "      <td>0</td>\n",
              "      <td>1</td>\n",
              "      <td>1</td>\n",
              "      <td>1</td>\n",
              "      <td>0</td>\n",
              "      <td>3</td>\n",
              "      <td>4</td>\n",
              "      <td>4</td>\n",
              "      <td>1</td>\n",
              "      <td>4</td>\n",
              "      <td>4</td>\n",
              "      <td>0</td>\n",
              "    </tr>\n",
              "  </tbody>\n",
              "</table>\n",
              "</div>\n",
              "      <button class=\"colab-df-convert\" onclick=\"convertToInteractive('df-e85c01d8-703c-4014-b167-1ea9c35a3421')\"\n",
              "              title=\"Convert this dataframe to an interactive table.\"\n",
              "              style=\"display:none;\">\n",
              "        \n",
              "  <svg xmlns=\"http://www.w3.org/2000/svg\" height=\"24px\"viewBox=\"0 0 24 24\"\n",
              "       width=\"24px\">\n",
              "    <path d=\"M0 0h24v24H0V0z\" fill=\"none\"/>\n",
              "    <path d=\"M18.56 5.44l.94 2.06.94-2.06 2.06-.94-2.06-.94-.94-2.06-.94 2.06-2.06.94zm-11 1L8.5 8.5l.94-2.06 2.06-.94-2.06-.94L8.5 2.5l-.94 2.06-2.06.94zm10 10l.94 2.06.94-2.06 2.06-.94-2.06-.94-.94-2.06-.94 2.06-2.06.94z\"/><path d=\"M17.41 7.96l-1.37-1.37c-.4-.4-.92-.59-1.43-.59-.52 0-1.04.2-1.43.59L10.3 9.45l-7.72 7.72c-.78.78-.78 2.05 0 2.83L4 21.41c.39.39.9.59 1.41.59.51 0 1.02-.2 1.41-.59l7.78-7.78 2.81-2.81c.8-.78.8-2.07 0-2.86zM5.41 20L4 18.59l7.72-7.72 1.47 1.35L5.41 20z\"/>\n",
              "  </svg>\n",
              "      </button>\n",
              "      \n",
              "  <style>\n",
              "    .colab-df-container {\n",
              "      display:flex;\n",
              "      flex-wrap:wrap;\n",
              "      gap: 12px;\n",
              "    }\n",
              "\n",
              "    .colab-df-convert {\n",
              "      background-color: #E8F0FE;\n",
              "      border: none;\n",
              "      border-radius: 50%;\n",
              "      cursor: pointer;\n",
              "      display: none;\n",
              "      fill: #1967D2;\n",
              "      height: 32px;\n",
              "      padding: 0 0 0 0;\n",
              "      width: 32px;\n",
              "    }\n",
              "\n",
              "    .colab-df-convert:hover {\n",
              "      background-color: #E2EBFA;\n",
              "      box-shadow: 0px 1px 2px rgba(60, 64, 67, 0.3), 0px 1px 3px 1px rgba(60, 64, 67, 0.15);\n",
              "      fill: #174EA6;\n",
              "    }\n",
              "\n",
              "    [theme=dark] .colab-df-convert {\n",
              "      background-color: #3B4455;\n",
              "      fill: #D2E3FC;\n",
              "    }\n",
              "\n",
              "    [theme=dark] .colab-df-convert:hover {\n",
              "      background-color: #434B5C;\n",
              "      box-shadow: 0px 1px 3px 1px rgba(0, 0, 0, 0.15);\n",
              "      filter: drop-shadow(0px 1px 2px rgba(0, 0, 0, 0.3));\n",
              "      fill: #FFFFFF;\n",
              "    }\n",
              "  </style>\n",
              "\n",
              "      <script>\n",
              "        const buttonEl =\n",
              "          document.querySelector('#df-e85c01d8-703c-4014-b167-1ea9c35a3421 button.colab-df-convert');\n",
              "        buttonEl.style.display =\n",
              "          google.colab.kernel.accessAllowed ? 'block' : 'none';\n",
              "\n",
              "        async function convertToInteractive(key) {\n",
              "          const element = document.querySelector('#df-e85c01d8-703c-4014-b167-1ea9c35a3421');\n",
              "          const dataTable =\n",
              "            await google.colab.kernel.invokeFunction('convertToInteractive',\n",
              "                                                     [key], {});\n",
              "          if (!dataTable) return;\n",
              "\n",
              "          const docLinkHtml = 'Like what you see? Visit the ' +\n",
              "            '<a target=\"_blank\" href=https://colab.research.google.com/notebooks/data_table.ipynb>data table notebook</a>'\n",
              "            + ' to learn more about interactive tables.';\n",
              "          element.innerHTML = '';\n",
              "          dataTable['output_type'] = 'display_data';\n",
              "          await google.colab.output.renderOutput(dataTable, element);\n",
              "          const docLink = document.createElement('div');\n",
              "          docLink.innerHTML = docLinkHtml;\n",
              "          element.appendChild(docLink);\n",
              "        }\n",
              "      </script>\n",
              "    </div>\n",
              "  </div>\n",
              "  "
            ]
          },
          "metadata": {},
          "execution_count": 69
        }
      ]
    },
    {
      "cell_type": "code",
      "source": [
        "# Get all true negatives indices from results for the NB Model 1\n",
        "trueNegatives_NB = findTrueNegatives(predictedNB1,y_test_D.to_numpy())\n",
        "\n",
        "# Show affected rows in datafrane that correspond to the false negatives\n",
        "X_test_NB_TN = X_test_D.copy()\n",
        "X_test_NB_TN.reset_index(drop=True, inplace=True)\n",
        "X_test_NB_TN.loc[np.array(trueNegatives_NB)].head()"
      ],
      "metadata": {
        "id": "-WpwobqUJGsZ",
        "colab": {
          "base_uri": "https://localhost:8080/",
          "height": 270
        },
        "outputId": "48eaad06-b68b-4760-e077-ec69a18058bd"
      },
      "execution_count": null,
      "outputs": [
        {
          "output_type": "execute_result",
          "data": {
            "text/plain": [
              "    school  sex  age  address  famsize  Pstatus  Medu  Fedu  Mjob  Fjob  \\\n",
              "4        1    0    4        1        0        1     2     3     0     3   \n",
              "18       0    0    0        1        1        0     2     1     0     2   \n",
              "29       1    0    3        1        0        1     1     1     2     2   \n",
              "35       1    1    2        1        0        1     3     3     1     2   \n",
              "36       1    0    5        1        0        1     3     3     0     3   \n",
              "\n",
              "    reason  guardian  traveltime  studytime  failures  schoolsup  famsup  \\\n",
              "4        0         2           0          0         1          0       0   \n",
              "18       1         1           1          0         0          0       1   \n",
              "29       0         1           1          1         0          0       0   \n",
              "35       0         1           1          1         1          0       1   \n",
              "36       2         1           1          1         1          0       0   \n",
              "\n",
              "    paid  activities  nursery  higher  internet  romantic  famrel  freetime  \\\n",
              "4      0           0        1       0         1         1       3         3   \n",
              "18     0           1        1       0         1         1       3         3   \n",
              "29     0           1        1       1         0         0       0         0   \n",
              "35     0           0        1       1         1         0       3         4   \n",
              "36     0           1        1       1         1         1       2         2   \n",
              "\n",
              "    goout  Dalc  Walc  health  absences  \n",
              "4       3     0     0       1         0  \n",
              "18      1     0     0       4         0  \n",
              "29      0     0     0       4         6  \n",
              "35      3     1     2       2         4  \n",
              "36      3     1     3       2         8  "
            ],
            "text/html": [
              "\n",
              "  <div id=\"df-ae016120-9459-44a2-a19c-23d4f1af969a\">\n",
              "    <div class=\"colab-df-container\">\n",
              "      <div>\n",
              "<style scoped>\n",
              "    .dataframe tbody tr th:only-of-type {\n",
              "        vertical-align: middle;\n",
              "    }\n",
              "\n",
              "    .dataframe tbody tr th {\n",
              "        vertical-align: top;\n",
              "    }\n",
              "\n",
              "    .dataframe thead th {\n",
              "        text-align: right;\n",
              "    }\n",
              "</style>\n",
              "<table border=\"1\" class=\"dataframe\">\n",
              "  <thead>\n",
              "    <tr style=\"text-align: right;\">\n",
              "      <th></th>\n",
              "      <th>school</th>\n",
              "      <th>sex</th>\n",
              "      <th>age</th>\n",
              "      <th>address</th>\n",
              "      <th>famsize</th>\n",
              "      <th>Pstatus</th>\n",
              "      <th>Medu</th>\n",
              "      <th>Fedu</th>\n",
              "      <th>Mjob</th>\n",
              "      <th>Fjob</th>\n",
              "      <th>reason</th>\n",
              "      <th>guardian</th>\n",
              "      <th>traveltime</th>\n",
              "      <th>studytime</th>\n",
              "      <th>failures</th>\n",
              "      <th>schoolsup</th>\n",
              "      <th>famsup</th>\n",
              "      <th>paid</th>\n",
              "      <th>activities</th>\n",
              "      <th>nursery</th>\n",
              "      <th>higher</th>\n",
              "      <th>internet</th>\n",
              "      <th>romantic</th>\n",
              "      <th>famrel</th>\n",
              "      <th>freetime</th>\n",
              "      <th>goout</th>\n",
              "      <th>Dalc</th>\n",
              "      <th>Walc</th>\n",
              "      <th>health</th>\n",
              "      <th>absences</th>\n",
              "    </tr>\n",
              "  </thead>\n",
              "  <tbody>\n",
              "    <tr>\n",
              "      <th>4</th>\n",
              "      <td>1</td>\n",
              "      <td>0</td>\n",
              "      <td>4</td>\n",
              "      <td>1</td>\n",
              "      <td>0</td>\n",
              "      <td>1</td>\n",
              "      <td>2</td>\n",
              "      <td>3</td>\n",
              "      <td>0</td>\n",
              "      <td>3</td>\n",
              "      <td>0</td>\n",
              "      <td>2</td>\n",
              "      <td>0</td>\n",
              "      <td>0</td>\n",
              "      <td>1</td>\n",
              "      <td>0</td>\n",
              "      <td>0</td>\n",
              "      <td>0</td>\n",
              "      <td>0</td>\n",
              "      <td>1</td>\n",
              "      <td>0</td>\n",
              "      <td>1</td>\n",
              "      <td>1</td>\n",
              "      <td>3</td>\n",
              "      <td>3</td>\n",
              "      <td>3</td>\n",
              "      <td>0</td>\n",
              "      <td>0</td>\n",
              "      <td>1</td>\n",
              "      <td>0</td>\n",
              "    </tr>\n",
              "    <tr>\n",
              "      <th>18</th>\n",
              "      <td>0</td>\n",
              "      <td>0</td>\n",
              "      <td>0</td>\n",
              "      <td>1</td>\n",
              "      <td>1</td>\n",
              "      <td>0</td>\n",
              "      <td>2</td>\n",
              "      <td>1</td>\n",
              "      <td>0</td>\n",
              "      <td>2</td>\n",
              "      <td>1</td>\n",
              "      <td>1</td>\n",
              "      <td>1</td>\n",
              "      <td>0</td>\n",
              "      <td>0</td>\n",
              "      <td>0</td>\n",
              "      <td>1</td>\n",
              "      <td>0</td>\n",
              "      <td>1</td>\n",
              "      <td>1</td>\n",
              "      <td>0</td>\n",
              "      <td>1</td>\n",
              "      <td>1</td>\n",
              "      <td>3</td>\n",
              "      <td>3</td>\n",
              "      <td>1</td>\n",
              "      <td>0</td>\n",
              "      <td>0</td>\n",
              "      <td>4</td>\n",
              "      <td>0</td>\n",
              "    </tr>\n",
              "    <tr>\n",
              "      <th>29</th>\n",
              "      <td>1</td>\n",
              "      <td>0</td>\n",
              "      <td>3</td>\n",
              "      <td>1</td>\n",
              "      <td>0</td>\n",
              "      <td>1</td>\n",
              "      <td>1</td>\n",
              "      <td>1</td>\n",
              "      <td>2</td>\n",
              "      <td>2</td>\n",
              "      <td>0</td>\n",
              "      <td>1</td>\n",
              "      <td>1</td>\n",
              "      <td>1</td>\n",
              "      <td>0</td>\n",
              "      <td>0</td>\n",
              "      <td>0</td>\n",
              "      <td>0</td>\n",
              "      <td>1</td>\n",
              "      <td>1</td>\n",
              "      <td>1</td>\n",
              "      <td>0</td>\n",
              "      <td>0</td>\n",
              "      <td>0</td>\n",
              "      <td>0</td>\n",
              "      <td>0</td>\n",
              "      <td>0</td>\n",
              "      <td>0</td>\n",
              "      <td>4</td>\n",
              "      <td>6</td>\n",
              "    </tr>\n",
              "    <tr>\n",
              "      <th>35</th>\n",
              "      <td>1</td>\n",
              "      <td>1</td>\n",
              "      <td>2</td>\n",
              "      <td>1</td>\n",
              "      <td>0</td>\n",
              "      <td>1</td>\n",
              "      <td>3</td>\n",
              "      <td>3</td>\n",
              "      <td>1</td>\n",
              "      <td>2</td>\n",
              "      <td>0</td>\n",
              "      <td>1</td>\n",
              "      <td>1</td>\n",
              "      <td>1</td>\n",
              "      <td>1</td>\n",
              "      <td>0</td>\n",
              "      <td>1</td>\n",
              "      <td>0</td>\n",
              "      <td>0</td>\n",
              "      <td>1</td>\n",
              "      <td>1</td>\n",
              "      <td>1</td>\n",
              "      <td>0</td>\n",
              "      <td>3</td>\n",
              "      <td>4</td>\n",
              "      <td>3</td>\n",
              "      <td>1</td>\n",
              "      <td>2</td>\n",
              "      <td>2</td>\n",
              "      <td>4</td>\n",
              "    </tr>\n",
              "    <tr>\n",
              "      <th>36</th>\n",
              "      <td>1</td>\n",
              "      <td>0</td>\n",
              "      <td>5</td>\n",
              "      <td>1</td>\n",
              "      <td>0</td>\n",
              "      <td>1</td>\n",
              "      <td>3</td>\n",
              "      <td>3</td>\n",
              "      <td>0</td>\n",
              "      <td>3</td>\n",
              "      <td>2</td>\n",
              "      <td>1</td>\n",
              "      <td>1</td>\n",
              "      <td>1</td>\n",
              "      <td>1</td>\n",
              "      <td>0</td>\n",
              "      <td>0</td>\n",
              "      <td>0</td>\n",
              "      <td>1</td>\n",
              "      <td>1</td>\n",
              "      <td>1</td>\n",
              "      <td>1</td>\n",
              "      <td>1</td>\n",
              "      <td>2</td>\n",
              "      <td>2</td>\n",
              "      <td>3</td>\n",
              "      <td>1</td>\n",
              "      <td>3</td>\n",
              "      <td>2</td>\n",
              "      <td>8</td>\n",
              "    </tr>\n",
              "  </tbody>\n",
              "</table>\n",
              "</div>\n",
              "      <button class=\"colab-df-convert\" onclick=\"convertToInteractive('df-ae016120-9459-44a2-a19c-23d4f1af969a')\"\n",
              "              title=\"Convert this dataframe to an interactive table.\"\n",
              "              style=\"display:none;\">\n",
              "        \n",
              "  <svg xmlns=\"http://www.w3.org/2000/svg\" height=\"24px\"viewBox=\"0 0 24 24\"\n",
              "       width=\"24px\">\n",
              "    <path d=\"M0 0h24v24H0V0z\" fill=\"none\"/>\n",
              "    <path d=\"M18.56 5.44l.94 2.06.94-2.06 2.06-.94-2.06-.94-.94-2.06-.94 2.06-2.06.94zm-11 1L8.5 8.5l.94-2.06 2.06-.94-2.06-.94L8.5 2.5l-.94 2.06-2.06.94zm10 10l.94 2.06.94-2.06 2.06-.94-2.06-.94-.94-2.06-.94 2.06-2.06.94z\"/><path d=\"M17.41 7.96l-1.37-1.37c-.4-.4-.92-.59-1.43-.59-.52 0-1.04.2-1.43.59L10.3 9.45l-7.72 7.72c-.78.78-.78 2.05 0 2.83L4 21.41c.39.39.9.59 1.41.59.51 0 1.02-.2 1.41-.59l7.78-7.78 2.81-2.81c.8-.78.8-2.07 0-2.86zM5.41 20L4 18.59l7.72-7.72 1.47 1.35L5.41 20z\"/>\n",
              "  </svg>\n",
              "      </button>\n",
              "      \n",
              "  <style>\n",
              "    .colab-df-container {\n",
              "      display:flex;\n",
              "      flex-wrap:wrap;\n",
              "      gap: 12px;\n",
              "    }\n",
              "\n",
              "    .colab-df-convert {\n",
              "      background-color: #E8F0FE;\n",
              "      border: none;\n",
              "      border-radius: 50%;\n",
              "      cursor: pointer;\n",
              "      display: none;\n",
              "      fill: #1967D2;\n",
              "      height: 32px;\n",
              "      padding: 0 0 0 0;\n",
              "      width: 32px;\n",
              "    }\n",
              "\n",
              "    .colab-df-convert:hover {\n",
              "      background-color: #E2EBFA;\n",
              "      box-shadow: 0px 1px 2px rgba(60, 64, 67, 0.3), 0px 1px 3px 1px rgba(60, 64, 67, 0.15);\n",
              "      fill: #174EA6;\n",
              "    }\n",
              "\n",
              "    [theme=dark] .colab-df-convert {\n",
              "      background-color: #3B4455;\n",
              "      fill: #D2E3FC;\n",
              "    }\n",
              "\n",
              "    [theme=dark] .colab-df-convert:hover {\n",
              "      background-color: #434B5C;\n",
              "      box-shadow: 0px 1px 3px 1px rgba(0, 0, 0, 0.15);\n",
              "      filter: drop-shadow(0px 1px 2px rgba(0, 0, 0, 0.3));\n",
              "      fill: #FFFFFF;\n",
              "    }\n",
              "  </style>\n",
              "\n",
              "      <script>\n",
              "        const buttonEl =\n",
              "          document.querySelector('#df-ae016120-9459-44a2-a19c-23d4f1af969a button.colab-df-convert');\n",
              "        buttonEl.style.display =\n",
              "          google.colab.kernel.accessAllowed ? 'block' : 'none';\n",
              "\n",
              "        async function convertToInteractive(key) {\n",
              "          const element = document.querySelector('#df-ae016120-9459-44a2-a19c-23d4f1af969a');\n",
              "          const dataTable =\n",
              "            await google.colab.kernel.invokeFunction('convertToInteractive',\n",
              "                                                     [key], {});\n",
              "          if (!dataTable) return;\n",
              "\n",
              "          const docLinkHtml = 'Like what you see? Visit the ' +\n",
              "            '<a target=\"_blank\" href=https://colab.research.google.com/notebooks/data_table.ipynb>data table notebook</a>'\n",
              "            + ' to learn more about interactive tables.';\n",
              "          element.innerHTML = '';\n",
              "          dataTable['output_type'] = 'display_data';\n",
              "          await google.colab.output.renderOutput(dataTable, element);\n",
              "          const docLink = document.createElement('div');\n",
              "          docLink.innerHTML = docLinkHtml;\n",
              "          element.appendChild(docLink);\n",
              "        }\n",
              "      </script>\n",
              "    </div>\n",
              "  </div>\n",
              "  "
            ]
          },
          "metadata": {},
          "execution_count": 70
        }
      ]
    },
    {
      "cell_type": "markdown",
      "source": [
        "**Analysis**\n",
        "* The ***false positives*** and true positives both have no previous failures (failures=0), which could be a solid indicator for passing.\n",
        "* The ***false negatives*** had almost no study time or many absences, which could indicate failure.\n",
        "* Some features may add noise to the dataset by not being helpful to predict. Also, there is the possibility that the data was badly annotated or the wrong feature values were entered."
      ],
      "metadata": {
        "id": "DUbejrGgXFUP"
      }
    },
    {
      "cell_type": "markdown",
      "source": [
        "# **11. Extra Elements**"
      ],
      "metadata": {
        "id": "CNDdtRJxTrIe"
      }
    },
    {
      "cell_type": "markdown",
      "source": [
        "## **a. Dropping features using Recursive Feature Elimination** \n",
        "*   During the features engineering (see Section 3), some useless features that might add noise to the dataset and affect the models were mentioned. Thus, Recursive Feature Elimination (RFE) will be used to use the most important features in predicting.\n",
        "* sklearn.feature_selection.RFE [14] requires a supervised learning estimator with an attribute about feature importance (e.g., coef_). Thus, sklearn.linear_model.LogisticRegression model will be used as it does provide this attribute.\n"
      ],
      "metadata": {
        "id": "bYlm_ywlBRLF"
      }
    },
    {
      "cell_type": "code",
      "source": [
        "# Logistic Regression\n",
        "lrRFE = LogisticRegression(max_iter=1000)\n",
        "rfe = RFE(lrRFE)\n",
        "rfe = rfe.fit(X_OHE, y_OHE)\n",
        "toDrop = []\n",
        "for i in range(0,len(rfe.support_)):\n",
        "  if rfe.support_[i] == False:\n",
        "    toDrop.append(X_OHE.columns.values[i])\n",
        "X_LR = X_OHE.drop(columns=toDrop)\n",
        "X_train_LR = X_train_OHE.drop(columns=toDrop)\n",
        "X_test_LR = X_test_OHE.drop(columns=toDrop)\n",
        "lrRFE = lrRFE.fit(X_train_LR, y_train_OHE)"
      ],
      "metadata": {
        "id": "glyIRngVNNfT"
      },
      "execution_count": null,
      "outputs": []
    },
    {
      "cell_type": "code",
      "source": [
        "# Get results for multi-fold cross-validation\n",
        "outputLR_RFE = getMultiFoldResults(X_LR, y_OHE, lrRFE)"
      ],
      "metadata": {
        "colab": {
          "base_uri": "https://localhost:8080/"
        },
        "outputId": "2bbbcb87-2934-4e3b-e79c-98a3967b73c1",
        "id": "NedwO6hXWhhQ"
      },
      "execution_count": null,
      "outputs": [
        {
          "output_type": "stream",
          "name": "stdout",
          "text": [
            "Accuracy: 0.794 (0.052)\n",
            "Precision: 0.815 (0.058)\n",
            "Recall: 0.916 (0.052)\n"
          ]
        }
      ]
    },
    {
      "cell_type": "code",
      "source": [
        "# Get predicted values\n",
        "predictedLR_RFE = lrRFE.predict(X_test_LR)"
      ],
      "metadata": {
        "id": "npoQ3EKWWhhR"
      },
      "execution_count": null,
      "outputs": []
    },
    {
      "cell_type": "code",
      "source": [
        "# Accuracy, precision and recall\n",
        "plotModelBars(\"Logistic Regression\",[outputLR_RFE,outputLR1],2)"
      ],
      "metadata": {
        "colab": {
          "base_uri": "https://localhost:8080/",
          "height": 294
        },
        "id": "kb7gyWd7bmtl",
        "outputId": "6ae5e1fc-ea3e-401f-a134-ff7256a7e5bd"
      },
      "execution_count": null,
      "outputs": [
        {
          "output_type": "display_data",
          "data": {
            "text/plain": [
              "<Figure size 1440x288 with 2 Axes>"
            ],
            "image/png": "[encoded data removed]"
          },
          "metadata": {
            "needs_background": "light"
          }
        }
      ]
    },
    {
      "cell_type": "code",
      "source": [
        "# Confusion matrices (True negatives & positives and False negatives & positives)\n",
        "plotModelCM(\"Logistic Regression\",[predictedLR_RFE, predictedLR1],y_test_OHE,2)"
      ],
      "metadata": {
        "colab": {
          "base_uri": "https://localhost:8080/",
          "height": 339
        },
        "id": "mPrJmPm6fDxm",
        "outputId": "dfc83fb3-915e-4606-8ab0-1494efd0caf0"
      },
      "execution_count": null,
      "outputs": [
        {
          "output_type": "display_data",
          "data": {
            "text/plain": [
              "<Figure size 1440x324 with 3 Axes>"
            ],
            "image/png": "[encoded data removed]"
          },
          "metadata": {
            "needs_background": "light"
          }
        }
      ]
    },
    {
      "cell_type": "markdown",
      "source": [
        "\n",
        "### **Analysis**\n",
        "* Observing the first graph above, we can see that the RFE model (Result 1) performs slightly better for precision and recall than the default Logistic Regression model (Result 2). \n",
        "* Looking at the second graph, we see that the RFE model (Result 1) is slightly better at predicting negative values (more true negatives).\n",
        "* Both models are very similar, but the RFE model is a bit better for precision, recall and predicting negative values."
      ],
      "metadata": {
        "id": "chHr4FmOessd"
      }
    },
    {
      "cell_type": "markdown",
      "source": [
        "## **b. Reducing data bias using SMOTE algorithm (Synthetic Minority Oversampling Technique)**\n",
        "* Since our classes our imbalanced (more passes than fails), we can use the SMOTE algorithm [15] that creates synthetic samples from the minor class (fail) instead of making copies. This allows for reducing the bias in our data."
      ],
      "metadata": {
        "id": "e7cl930Vh-kv"
      }
    },
    {
      "cell_type": "code",
      "source": [
        "oversample = SMOTE(random_state=0)\n",
        "\n",
        "# Get oversampled data for LR and MLP models\n",
        "oversample = SMOTE(random_state=0)\n",
        "columns = X_OHE.columns\n",
        "os1_data_X,os1_data_y=oversample.fit_resample(X_OHE, y_OHE)\n",
        "os1_data_X = pd.DataFrame(data=os1_data_X,columns=columns)\n",
        "os1_data_y= pd.DataFrame(data=os1_data_y,columns=['G3'])\n",
        "\n",
        "os1_data_X=os1_data_X[columns]\n",
        "os1_data_y=os1_data_y['G3']\n",
        "X_train_os1, X_test_os1, y_train_os1, y_test_os1 = train_test_split(os1_data_X, os1_data_y, test_size=0.3, random_state=0)\n",
        "\n",
        "# Get oversampled data for NB models\n",
        "columns = X_D.columns\n",
        "os2_data_X,os2_data_y=oversample.fit_resample(X_D, y_D)\n",
        "os2_data_X = pd.DataFrame(data=os2_data_X,columns=columns)\n",
        "os2_data_y= pd.DataFrame(data=os2_data_y,columns=['G3'])\n",
        "\n",
        "os2_data_X=os2_data_X[columns]\n",
        "os2_data_y=os2_data_y['G3']\n",
        "X_train_os2, X_test_os2, y_train_os2, y_test_os2 = train_test_split(os2_data_X, os2_data_y, test_size=0.3, random_state=0)"
      ],
      "metadata": {
        "id": "-M0WZmSniHDD"
      },
      "execution_count": null,
      "outputs": []
    },
    {
      "cell_type": "code",
      "source": [
        "nbOS = GaussianNB().fit(X_train_os2, y_train_os2)\n",
        "lrOS = LogisticRegression(max_iter=1000).fit(X_train_os1, y_train_os1)\n",
        "mlpOS = MLPClassifier(max_iter=1000).fit(X_train_os1, y_train_os1)"
      ],
      "metadata": {
        "id": "fFM2mhKQkPZy"
      },
      "execution_count": null,
      "outputs": []
    },
    {
      "cell_type": "code",
      "source": [
        "# Get results for multi-fold cross-validation\n",
        "outputNB_os = getMultiFoldResults(os2_data_X, os2_data_y, nbOS)\n",
        "outputLR_os = getMultiFoldResults(os1_data_X, os1_data_y, lrOS)\n",
        "outputMLP_os = getMultiFoldResults(os1_data_X, os1_data_y, mlpOS)"
      ],
      "metadata": {
        "colab": {
          "base_uri": "https://localhost:8080/"
        },
        "outputId": "0ce90fa7-d77e-4c74-c788-5d919a765d30",
        "id": "obqQwjy0mfui"
      },
      "execution_count": null,
      "outputs": [
        {
          "output_type": "stream",
          "name": "stdout",
          "text": [
            "Accuracy: 0.769 (0.051)\n",
            "Precision: 0.744 (0.065)\n",
            "Recall: 0.820 (0.047)\n",
            "Accuracy: 0.842 (0.033)\n",
            "Precision: 0.819 (0.049)\n",
            "Recall: 0.879 (0.051)\n",
            "Accuracy: 0.834 (0.028)\n",
            "Precision: 0.826 (0.044)\n",
            "Recall: 0.859 (0.043)\n"
          ]
        }
      ]
    },
    {
      "cell_type": "code",
      "source": [
        "# Accuracy, precision and recall\n",
        "plotModelBars(\"Naive Bayes\",[outputNB_os,outputNB1],2)\n",
        "plotModelBars(\"Logistic Regression\",[outputLR_os,outputLR1],2)\n",
        "plotModelBars(\"Multi-Layer Perceptron\",[outputMLP_os,outputMLP1],2)"
      ],
      "metadata": {
        "colab": {
          "base_uri": "https://localhost:8080/",
          "height": 848
        },
        "outputId": "f9626498-a2b6-426c-eb14-ff06d9a4af58",
        "id": "MxceSpinmx0e"
      },
      "execution_count": null,
      "outputs": [
        {
          "output_type": "display_data",
          "data": {
            "text/plain": [
              "<Figure size 1440x288 with 2 Axes>"
            ],
            "image/png": "[encoded data removed]"
          },
          "metadata": {
            "needs_background": "light"
          }
        },
        {
          "output_type": "display_data",
          "data": {
            "text/plain": [
              "<Figure size 1440x288 with 2 Axes>"
            ],
            "image/png": "[encoded data removed]"
          },
          "metadata": {
            "needs_background": "light"
          }
        },
        {
          "output_type": "display_data",
          "data": {
            "text/plain": [
              "<Figure size 1440x288 with 2 Axes>"
            ],
            "image/png": "[encoded data removed]"
          },
          "metadata": {
            "needs_background": "light"
          }
        }
      ]
    },
    {
      "cell_type": "markdown",
      "source": [
        "\n",
        "### **Analysis**\n",
        "* In the Naive Bayes graph, we see the oversampled model (Result 1) performs worse than the default model (Result 2). \n",
        "* In the Logistic Regression graph, we see the oversampled model (Result 1) performs slightly better in accuracy and precision than the default model (Result 2). \n",
        "* In the Logistic Regression graph, we see the oversampled model (Result 1) performs slightly better in accuracy and precision than the default model (Result 2). \n",
        "* In the Multi-Layer Perceptron graph, we see that the oversampled model (Result 1) performs better for accuracy and precision than the default model (Result 2).\n",
        "* Since the oversampled model performs worse for Naive Bayes, it should probably not be used for this type of model. However, it could be used for Logistic Regression and Multi-Layer Perception models as there is a bias in the data."
      ],
      "metadata": {
        "id": "OrBfsLa7pg6I"
      }
    },
    {
      "cell_type": "markdown",
      "source": [
        "# **12. References**\n",
        "[1] \tD.-S. Sean, \"Student Performance Data Set,\" Kaggle, 2019. [Online]. Available: https://www.kaggle.com/datasets/larsen0966/student-performance-data-set. \n",
        "\n",
        "[2] \tP. Cortez and A. Silva, \"Using Data Mining to Predict Secondary School Student Performance,\" in Proceedings of 5th FUture BUsiness TEChnology Conference, Porto, 2008. \n",
        "\n",
        "[3] \tscikit-learn, \"sklearn.naive_bayes.GaussianNB,\" [Online]. Available: https://scikit-learn.org/stable/modules/generated/sklearn.naive_bayes.GaussianNB.html.\n",
        "\n",
        "[4] \tA. Navlani, \"Naive Bayes Classification Tutorial using Scikit-learn,\" DataCamp, December 2018. [Online]. Available: https://www.datacamp.com/tutorial/naive-bayes-scikit-learn. \n",
        "\n",
        "[5] \t\"sklearn.linear_model.LogisticRegression,\" scikit-learn, [Online]. Available: https://scikit-learn.org/stable/modules/generated/sklearn.linear_model.LogisticRegression.html. \n",
        "\n",
        "[6] \tS. Li, \"Building A Logistic Regression in Python, Step by Step,\" Towards Data Science, 28 September 2017. [Online]. Available: https://towardsdatascience.com/building-a-logistic-regression-in-python-step-by-step-becd4d56c9c8. \n",
        "\n",
        "[7] \tA. J. Mayer, \"Using K-Fold Cross-Validation to Evaluate the Performance of Logistic Regression,\" Python in Plain English, 7 May 2021. [Online]. Available: https://python.plainenglish.io/using-k-fold-cross-validation-to-evaluate-the-performance-of-logistic-regression-4439215f24c4. \n",
        "\n",
        "[8] \tM. Stojiljković, \"Logistic Regression in Python,\" Real Python, 13 January 2020. [Online]. Available: https://realpython.com/logistic-regression-python/. \n",
        " \n",
        "[9] \tA. Almestekawy, \"what is C parameter in sklearn Logistic Regression?,\" Stack Exchange Inc, 13 May 2021. [Online]. Available: https://stackoverflow.com/questions/67513075/what-is-c-parameter-in-sklearn-logistic-regression. \n",
        "\n",
        "[10] \t\"sklearn.neural_network.MLPClassifier,\" scikit-learn, [Online]. Available: https://scikit-learn.org/stable/modules/generated/sklearn.neural_network.MLPClassifier.html. \n",
        "\n",
        "[11] \t\"Grouped bar chart with labels,\" Matplotlib, [Online]. Available: https://matplotlib.org/3.1.1/gallery/lines_bars_and_markers/barchart.html#sphx-glr-gallery-lines-bars-and-markers-barchart-py. \n",
        "\n",
        "[12] \t\"sklearn.metrics.plot_confusion_matrix,\" scikit-learn, [Online]. Available: https://scikit-learn.org/stable/modules/generated/sklearn.metrics.plot_confusion_matrix.html. \n",
        "\n",
        "[13] \"Creating multiple subplots using plt.subplot,\" Matplotlib, [Online]. Available: https://matplotlib.org/3.1.0/gallery/subplots_axes_and_figures/subplots_demo.html.\n",
        "\n",
        "[14] \"sklearn.feature_selection.RFE,\" scikit-learn, [Online]. Available: https://scikit-learn.org/stable/modules/generated/sklearn.feature_selection.RFE.html.\n",
        "\n",
        "[15] \"SMOTE,\" imbalanced-learn, [Online]. Available: https://imbalanced-learn.org/stable/references/generated/imblearn.over_sampling.SMOTE.html."
      ],
      "metadata": {
        "id": "pHp0GA_jz-8y"
      }
    }
  ]
}