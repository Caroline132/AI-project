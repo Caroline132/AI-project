{
  "nbformat": 4,
  "nbformat_minor": 0,
  "metadata": {
    "colab": {
      "provenance": [],
      "collapsed_sections": [
        "at9xs-Ed_9r4",
        "T97-OzxMKJ5l",
        "uGWXbvDHeupT",
        "s7dlLFsIe0Sa",
        "E3BXCrsSkNCl"
      ],
      "toc_visible": true,
      "include_colab_link": true
    },
    "kernelspec": {
      "name": "python3",
      "display_name": "Python 3"
    },
    "language_info": {
      "name": "python"
    }
  },
  "cells": [
    {
      "cell_type": "markdown",
      "metadata": {
        "id": "view-in-github",
        "colab_type": "text"
      },
      "source": [
        "<a href=\"https://colab.research.google.com/github/Caroline132/AI-project/blob/main/AI_Project.ipynb\" target=\"_parent\"><img src=\"https://colab.research.google.com/assets/colab-badge.svg\" alt=\"Open In Colab\"/></a>"
      ]
    },
    {
      "cell_type": "markdown",
      "source": [
        "# **Libraries**"
      ],
      "metadata": {
        "id": "GG1U8NWR09tU"
      }
    },
    {
      "cell_type": "code",
      "source": [
        "import pandas as pd\n",
        "import numpy as np\n",
        "import seaborn as sns\n",
        "import matplotlib.pyplot as plt \n",
        "from sklearn.datasets import make_classification\n",
        "from sklearn.model_selection import KFold\n",
        "from sklearn.metrics import accuracy_score\n",
        "from sklearn.metrics import precision_score\n",
        "from sklearn.metrics import recall_score\n",
        "from sklearn.feature_selection import RFE\n",
        "from sklearn.metrics import confusion_matrix,ConfusionMatrixDisplay\n",
        "from sklearn.model_selection import cross_val_score\n",
        "from sklearn.linear_model import LogisticRegression\n",
        "from sklearn.neural_network import MLPClassifier\n",
        "from sklearn.metrics import plot_confusion_matrix\n",
        "from sklearn.model_selection import train_test_split\n",
        "from sklearn.metrics import classification_report\n",
        "from imblearn.over_sampling import SMOTE\n",
        "import statsmodels.api as sm\n",
        "from sklearn.naive_bayes import GaussianNB\n",
        "from sklearn.preprocessing import LabelEncoder\n",
        "from google.colab.data_table import DataTable"
      ],
      "metadata": {
        "id": "BMGqMwb709tV"
      },
      "execution_count": null,
      "outputs": []
    },
    {
      "cell_type": "markdown",
      "source": [
        "# **Helper functions**"
      ],
      "metadata": {
        "id": "yfPiSUM-1B67"
      }
    },
    {
      "cell_type": "code",
      "source": [
        "def getInfoNB(model):\n",
        "  \"\"\" Get information about Naive Bayes model\"\"\"\n",
        "  print(\"Parameters:\")\n",
        "  print(model.get_params(deep=True))\n",
        "  print(\"Classes:\")\n",
        "  print(model.classes_)\n",
        "  print(\"Feature:\")\n",
        "  print(model.n_features_in_)\n",
        "  print(\"Feature names:\")\n",
        "  print(model.feature_names_in_)"
      ],
      "metadata": {
        "id": "mpj4As5c1B68"
      },
      "execution_count": null,
      "outputs": []
    },
    {
      "cell_type": "code",
      "source": [
        "def getInfoLR(model):\n",
        "  \"\"\"Get information about Logistic Regression model\"\"\"\n",
        "  print(\"Parameters:\")\n",
        "  print(model.get_params(deep=True))\n",
        "  print(\"Classes:\")\n",
        "  print(model.classes_)\n",
        "  print(\"Coefficients:\")\n",
        "  print(model.coef_)\n",
        "  print(\"Intercept:\")\n",
        "  print(model.intercept_)\n",
        "  print(\"Feature:\")\n",
        "  print(model.n_features_in_)\n",
        "  print(\"Feature names:\")\n",
        "  print(model.feature_names_in_)\n",
        "  print(\"Number of iterations:\")\n",
        "  print(model.n_iter_)"
      ],
      "metadata": {
        "id": "oAVuyPdA1B68"
      },
      "execution_count": null,
      "outputs": []
    },
    {
      "cell_type": "code",
      "source": [
        "def getInfoMLP(model):\n",
        "  \"\"\"Get information about MLP model\"\"\"\n",
        "  print(\"Parameters:\")\n",
        "  print(model.get_params(deep=True))\n",
        "  print(\"Classes:\")\n",
        "  print(model.classes_)\n",
        "  print(\"Current loss computed with the loss function:\")\n",
        "  print(model.loss_)\n",
        "  print(\"Minimum loss reached by the solver throughout fitting:\")\n",
        "  print(model.best_loss_)\n",
        "  print(\"ith element in the list represents the loss at the ith iteration:\")\n",
        "  print(model.loss_curve_)\n",
        "  print(\"Number of training samples seen by the solver during fitting:\")\n",
        "  print(model.t_)\n",
        "  print(\"Feature:\")\n",
        "  print(model.n_features_in_)\n",
        "  print(\"Feature names:\")\n",
        "  print(model.feature_names_in_)\n",
        "  print(\"Number of iterations:\")\n",
        "  print(model.n_iter_)\n",
        "  print(\"Number of layers:\")\n",
        "  print(model.n_layers_)\n",
        "  print(\"Number of outputs:\")\n",
        "  print(model.n_outputs_)\n",
        "  print(\"Name of the output activation function:\")\n",
        "  print(model.out_activation_)"
      ],
      "metadata": {
        "id": "V6wqL2-t1B68"
      },
      "execution_count": null,
      "outputs": []
    },
    {
      "cell_type": "code",
      "source": [
        "def getOneFoldResults(X_test, y_test, model):\n",
        "  \"\"\"Get precision, recall, accuracy and F1-score for 1-fold cross validation\"\"\"\n",
        "  y_pred = model.predict(X_test)\n",
        "  print(classification_report(y_test, y_pred))"
      ],
      "metadata": {
        "id": "QDE0LG_j1B68"
      },
      "execution_count": null,
      "outputs": []
    },
    {
      "cell_type": "code",
      "source": [
        "def getMultiFoldResults(X, y, model):\n",
        "  \"\"\"Get precision, recall, accuracy and F1-score for multi-fold cross validation\"\"\"\n",
        "  # setting the multi-fold cross-validation procedure\n",
        "  crossValidation = KFold(n_splits=10, random_state=0, shuffle=True)\n",
        "  # evaluate model\n",
        "  accuracyScores = cross_val_score(model, X, y, scoring='accuracy', cv=crossValidation, n_jobs=-1)\n",
        "  precisionScores = cross_val_score(model, X, y, scoring='precision', cv=crossValidation, n_jobs=-1)\n",
        "  recallScores = cross_val_score(model, X, y, scoring='recall', cv=crossValidation, n_jobs=-1)\n",
        "  # report performance\n",
        "  print('Accuracy: %.3f (%.3f)' % (np.mean(accuracyScores), np.std(accuracyScores)))\n",
        "  print('Precision: %.3f (%.3f)' % (np.mean(precisionScores), np.std(precisionScores)))\n",
        "  print('Recall: %.3f (%.3f)' % (np.mean(recallScores), np.std(recallScores)))\n",
        "  return [accuracyScores,precisionScores,recallScores]"
      ],
      "metadata": {
        "id": "qnPhNJ0i1B69"
      },
      "execution_count": null,
      "outputs": []
    },
    {
      "cell_type": "code",
      "source": [
        "def generateBarPlot(title,values):\n",
        "  \"\"\"Generates a bar plot using recall,precision, and accuracy) gotten from getMultiFoldResults\"\"\"\n",
        "  sns.barplot(x=[\"accuracy\",\"precision\",\"recall\"],y=[np.mean(v) for v in values], ci=None)\n",
        "  plt.title(title)\n",
        "  plt.xlabel(\"Values\")\n",
        "  plt.ylabel(\"\")\n",
        "  i = 0\n",
        "  for v in values:\n",
        "      plt.errorbar(i,np.mean(v),yerr=np.std(v),ecolor='black',capsize=10)\n",
        "      i+=1"
      ],
      "metadata": {
        "id": "Vh7bRonh1B69"
      },
      "execution_count": null,
      "outputs": []
    },
    {
      "cell_type": "code",
      "source": [
        "def autolabel(bars,axs,axis):\n",
        "    \"\"\"Attach a text label above each bar in *bars*, displaying its height.\"\"\"\n",
        "    for rect in bars:\n",
        "        height = rect.get_height()\n",
        "        axs[axis].annotate('{0:.2f}'.format(height),\n",
        "                    xy=(rect.get_x() + rect.get_width() / 2, height),\n",
        "                    xytext=(25, 3),  # 3 points vertical offset\n",
        "                    textcoords=\"offset points\",\n",
        "                    ha='center', va='bottom')"
      ],
      "metadata": {
        "id": "VkhtW0551B69"
      },
      "execution_count": null,
      "outputs": []
    },
    {
      "cell_type": "code",
      "source": [
        "def plotModelBars(modelType,outputs,cols):\n",
        "  \"\"\"Plotting Accuracy, precision and recall for 'cols' results\"\"\"\n",
        "  fig, axs = plt.subplots(ncols=cols,figsize=(20,4),sharey='row',gridspec_kw={'hspace': 0, 'wspace': 0})\n",
        "  for i in range(0,cols):\n",
        "    bars = axs[i].bar([0, 1, 2], [np.mean(v) for v in outputs[i]], yerr=[np.std(v) for v in outputs[i]], align='center', ecolor='black', capsize=10, color=['tab:blue', 'tab:orange','tab:green'])\n",
        "    axs[i].set_xticks([0, 1, 2])\n",
        "    axs[i].set_xticklabels([\"accuracy\",\"precision\",\"recall\"])\n",
        "    axs[i].set_title(\"Result \"+str(i+1))\n",
        "    autolabel(bars,axs,i)\n",
        "  plt.suptitle(modelType,fontweight=\"bold\")\n",
        "  plt.show()"
      ],
      "metadata": {
        "id": "-G9oxouq1B69"
      },
      "execution_count": null,
      "outputs": []
    },
    {
      "cell_type": "code",
      "source": [
        "def plotModelCM(modelType,predictions,y_test,cols):\n",
        "  \"\"\"Plotting Confusion Matrices\"\"\"\n",
        "  fig, axs = plt.subplots(ncols=cols,figsize=(20,4.5),sharey='row',gridspec_kw={'hspace': 0, 'wspace': 0})\n",
        "  for i in range(0,cols):\n",
        "    matrix = confusion_matrix(y_test, predictions[i])\n",
        "    disp = ConfusionMatrixDisplay(confusion_matrix=matrix,display_labels=[0, 1])\n",
        "    disp.plot(ax=axs[i])\n",
        "    axs[i].set_title(\"Result \"+str(i+1))\n",
        "    disp.im_.colorbar.remove()\n",
        "    if i!=0:\n",
        "      disp.ax_.set_ylabel('')\n",
        "    if i!=1:\n",
        "      disp.ax_.set_xlabel('')\n",
        "  plt.suptitle(modelType,fontweight=\"bold\",horizontalalignment='center',x=0.42)\n",
        "  fig.colorbar(disp.im_, ax=axs)\n",
        "  plt.show()"
      ],
      "metadata": {
        "id": "KNWKvtIVug59"
      },
      "execution_count": null,
      "outputs": []
    },
    {
      "cell_type": "code",
      "source": [
        "def findTruePositives(predicted, actual):\n",
        "  \"\"\"Find indices of false positives\"\"\"\n",
        "  truePositives = []\n",
        "  for i in range(0,len(predicted)):\n",
        "    if predicted[i]==1 and actual[i]==1:\n",
        "      truePositives.append(i)\n",
        "  return truePositives"
      ],
      "metadata": {
        "id": "O4bOBKnOJFwA"
      },
      "execution_count": null,
      "outputs": []
    },
    {
      "cell_type": "code",
      "source": [
        "def findTrueNegatives(predicted, actual):\n",
        "  \"\"\"Find indices of true positives\"\"\"\n",
        "  truePositives = []\n",
        "  for i in range(0,len(predicted)):\n",
        "    if predicted[i]==0 and actual[i]==0:\n",
        "      truePositives.append(i)\n",
        "  return truePositives"
      ],
      "metadata": {
        "id": "VFgC_P_XKhme"
      },
      "execution_count": null,
      "outputs": []
    },
    {
      "cell_type": "code",
      "source": [
        "def findFalsePositives(predicted, actual):\n",
        "  \"\"\"Find indices of false positives\"\"\"\n",
        "  falsePositives = []\n",
        "  for i in range(0,len(predicted)):\n",
        "    if predicted[i]==1 and actual[i]==0:\n",
        "      falsePositives.append(i)\n",
        "  return falsePositives"
      ],
      "metadata": {
        "id": "iiZgV8XIMkza"
      },
      "execution_count": null,
      "outputs": []
    },
    {
      "cell_type": "code",
      "source": [
        "def findFalseNegatives(predicted, actual):\n",
        "  \"\"\"Find indices of false positives\"\"\"\n",
        "  falsePositives = []\n",
        "  for i in range(0,len(predicted)):\n",
        "    if predicted[i]==0 and actual[i]==1:\n",
        "      falsePositives.append(i)\n",
        "  return falsePositives"
      ],
      "metadata": {
        "id": "mZIEnKWMMkzb"
      },
      "execution_count": null,
      "outputs": []
    },
    {
      "cell_type": "markdown",
      "source": [
        "# **1. Understand the classification task for your dataset** \n",
        "**a. Is it a binary/multi-class classification?**  \n",
        "* The Kaggle dataset we are using is titled \"Student Performance Data Set\" [1], and it provides the performance of Portuguese students based on multiple features (see Section 2 for a description of the features).\n",
        "* The dataset we are using is multi-class as it provides students' school results (column **'G3'**) on a scale from 0 to 20. However, to use it for the Logistic Regression classifier, we will convert the results to a binary classification indicating if the student passed or failed. Furthermore, for consistency purposes, we will keep this binary classification for our three models.\n",
        "* The article from which the data is sourced provides the following ***binary classification***: \"*pass* if G3≥10, else *fail*\" [2]. Therefore, we will use this binary classification for our modeling.\n",
        "\n",
        "**b. What is the goal? Is this for a particular application?** \n",
        "* The goal is to use the target attribute G3 (final grade) to predict if a student passes or fails based on multiple features.\n",
        "\n"
      ],
      "metadata": {
        "id": "W-Su4Hzz1ll-"
      }
    },
    {
      "cell_type": "markdown",
      "source": [
        "# **2. Analyze your dataset** \n"
      ],
      "metadata": {
        "id": "gzMxko-G1_NA"
      }
    },
    {
      "cell_type": "markdown",
      "source": [
        "\n",
        "\n",
        "##**Load Data**"
      ],
      "metadata": {
        "id": "m4x_BLTO23jm"
      }
    },
    {
      "cell_type": "code",
      "source": [
        "# Want all features to be displayed\n",
        "pd.set_option('max_columns', None)"
      ],
      "metadata": {
        "id": "ZUGnFesZzEyq"
      },
      "execution_count": null,
      "outputs": []
    },
    {
      "cell_type": "code",
      "source": [
        "# Column descriptions\n",
        "columnDescription = pd.read_csv('https://raw.githubusercontent.com/Caroline132/project-data/main/Column%20Description.csv')\n",
        "columnDescription"
      ],
      "metadata": {
        "colab": {
          "base_uri": "https://localhost:8080/",
          "height": 990
        },
        "outputId": "b05113d2-8555-4e90-c3f8-56962288dd14",
        "id": "voaDsZqR23jm"
      },
      "execution_count": null,
      "outputs": [
        {
          "output_type": "execute_result",
          "data": {
            "text/plain": [
              "       Columns                                        Description\n",
              "0       school  student's school (binary: 'GP' - Gabriel Perei...\n",
              "1          sex  student's sex (binary: 'F' - female or 'M' - m...\n",
              "2          age             student's age (numeric: from 15 to 22)\n",
              "3      address  student's home address type (binary: 'U' - urb...\n",
              "4      famsize  family size (binary: 'LE3' - less or equal to ...\n",
              "5      Pstatus  parent's cohabitation status (binary: 'T' - li...\n",
              "6         Medu  mother's education (numeric: 0 - none, 1 - pri...\n",
              "7         Fedu  father's education (numeric: 0 - none, 1 - pri...\n",
              "8         Mjob  mother's job (nominal: 'teacher', 'health' car...\n",
              "9         Fjob  father's job (nominal: 'teacher', 'health' car...\n",
              "10      reason  reason to choose this school (nominal: close t...\n",
              "11    guardian  student's guardian (nominal: 'mother', 'father...\n",
              "12  traveltime  home to school travel time (numeric: 1 - <15 m...\n",
              "13   studytime  weekly study time (numeric: 1 - <2 hours, 2 - ...\n",
              "14    failures  number of past class failures (numeric: n if 1...\n",
              "15   schoolsup      extra educational support (binary: yes or no)\n",
              "16      famsup     family educational support (binary: yes or no)\n",
              "17        paid  extra paid classes within the course subject (...\n",
              "18  activities    extra-curricular activities (binary: yes or no)\n",
              "19     nursery        attended nursery school (binary: yes or no)\n",
              "20      higher  wants to take higher education (binary: yes or...\n",
              "21    internet        Internet access at home (binary: yes or no)\n",
              "22    romantic   with a romantic relationship (binary: yes or no)\n",
              "23      famrel  quality of family relationships (numeric: from...\n",
              "24    freetime  free time after school (numeric: from 1 - very...\n",
              "25       goout  going out with friends (numeric: from 1 - very...\n",
              "26        Dalc  workday alcohol consumption (numeric: from 1 -...\n",
              "27        Walc  weekend alcohol consumption (numeric: from 1 -...\n",
              "28      health  current health status (numeric: from 1 - very ...\n",
              "29    absences  number of school absences (numeric: from 0 to 93)"
            ],
            "text/html": [
              "\n",
              "  <div id=\"df-b4d47bdd-1f3d-48d8-8296-d2903f7bb052\">\n",
              "    <div class=\"colab-df-container\">\n",
              "      <div>\n",
              "<style scoped>\n",
              "    .dataframe tbody tr th:only-of-type {\n",
              "        vertical-align: middle;\n",
              "    }\n",
              "\n",
              "    .dataframe tbody tr th {\n",
              "        vertical-align: top;\n",
              "    }\n",
              "\n",
              "    .dataframe thead th {\n",
              "        text-align: right;\n",
              "    }\n",
              "</style>\n",
              "<table border=\"1\" class=\"dataframe\">\n",
              "  <thead>\n",
              "    <tr style=\"text-align: right;\">\n",
              "      <th></th>\n",
              "      <th>Columns</th>\n",
              "      <th>Description</th>\n",
              "    </tr>\n",
              "  </thead>\n",
              "  <tbody>\n",
              "    <tr>\n",
              "      <th>0</th>\n",
              "      <td>school</td>\n",
              "      <td>student's school (binary: 'GP' - Gabriel Perei...</td>\n",
              "    </tr>\n",
              "    <tr>\n",
              "      <th>1</th>\n",
              "      <td>sex</td>\n",
              "      <td>student's sex (binary: 'F' - female or 'M' - m...</td>\n",
              "    </tr>\n",
              "    <tr>\n",
              "      <th>2</th>\n",
              "      <td>age</td>\n",
              "      <td>student's age (numeric: from 15 to 22)</td>\n",
              "    </tr>\n",
              "    <tr>\n",
              "      <th>3</th>\n",
              "      <td>address</td>\n",
              "      <td>student's home address type (binary: 'U' - urb...</td>\n",
              "    </tr>\n",
              "    <tr>\n",
              "      <th>4</th>\n",
              "      <td>famsize</td>\n",
              "      <td>family size (binary: 'LE3' - less or equal to ...</td>\n",
              "    </tr>\n",
              "    <tr>\n",
              "      <th>5</th>\n",
              "      <td>Pstatus</td>\n",
              "      <td>parent's cohabitation status (binary: 'T' - li...</td>\n",
              "    </tr>\n",
              "    <tr>\n",
              "      <th>6</th>\n",
              "      <td>Medu</td>\n",
              "      <td>mother's education (numeric: 0 - none, 1 - pri...</td>\n",
              "    </tr>\n",
              "    <tr>\n",
              "      <th>7</th>\n",
              "      <td>Fedu</td>\n",
              "      <td>father's education (numeric: 0 - none, 1 - pri...</td>\n",
              "    </tr>\n",
              "    <tr>\n",
              "      <th>8</th>\n",
              "      <td>Mjob</td>\n",
              "      <td>mother's job (nominal: 'teacher', 'health' car...</td>\n",
              "    </tr>\n",
              "    <tr>\n",
              "      <th>9</th>\n",
              "      <td>Fjob</td>\n",
              "      <td>father's job (nominal: 'teacher', 'health' car...</td>\n",
              "    </tr>\n",
              "    <tr>\n",
              "      <th>10</th>\n",
              "      <td>reason</td>\n",
              "      <td>reason to choose this school (nominal: close t...</td>\n",
              "    </tr>\n",
              "    <tr>\n",
              "      <th>11</th>\n",
              "      <td>guardian</td>\n",
              "      <td>student's guardian (nominal: 'mother', 'father...</td>\n",
              "    </tr>\n",
              "    <tr>\n",
              "      <th>12</th>\n",
              "      <td>traveltime</td>\n",
              "      <td>home to school travel time (numeric: 1 - &lt;15 m...</td>\n",
              "    </tr>\n",
              "    <tr>\n",
              "      <th>13</th>\n",
              "      <td>studytime</td>\n",
              "      <td>weekly study time (numeric: 1 - &lt;2 hours, 2 - ...</td>\n",
              "    </tr>\n",
              "    <tr>\n",
              "      <th>14</th>\n",
              "      <td>failures</td>\n",
              "      <td>number of past class failures (numeric: n if 1...</td>\n",
              "    </tr>\n",
              "    <tr>\n",
              "      <th>15</th>\n",
              "      <td>schoolsup</td>\n",
              "      <td>extra educational support (binary: yes or no)</td>\n",
              "    </tr>\n",
              "    <tr>\n",
              "      <th>16</th>\n",
              "      <td>famsup</td>\n",
              "      <td>family educational support (binary: yes or no)</td>\n",
              "    </tr>\n",
              "    <tr>\n",
              "      <th>17</th>\n",
              "      <td>paid</td>\n",
              "      <td>extra paid classes within the course subject (...</td>\n",
              "    </tr>\n",
              "    <tr>\n",
              "      <th>18</th>\n",
              "      <td>activities</td>\n",
              "      <td>extra-curricular activities (binary: yes or no)</td>\n",
              "    </tr>\n",
              "    <tr>\n",
              "      <th>19</th>\n",
              "      <td>nursery</td>\n",
              "      <td>attended nursery school (binary: yes or no)</td>\n",
              "    </tr>\n",
              "    <tr>\n",
              "      <th>20</th>\n",
              "      <td>higher</td>\n",
              "      <td>wants to take higher education (binary: yes or...</td>\n",
              "    </tr>\n",
              "    <tr>\n",
              "      <th>21</th>\n",
              "      <td>internet</td>\n",
              "      <td>Internet access at home (binary: yes or no)</td>\n",
              "    </tr>\n",
              "    <tr>\n",
              "      <th>22</th>\n",
              "      <td>romantic</td>\n",
              "      <td>with a romantic relationship (binary: yes or no)</td>\n",
              "    </tr>\n",
              "    <tr>\n",
              "      <th>23</th>\n",
              "      <td>famrel</td>\n",
              "      <td>quality of family relationships (numeric: from...</td>\n",
              "    </tr>\n",
              "    <tr>\n",
              "      <th>24</th>\n",
              "      <td>freetime</td>\n",
              "      <td>free time after school (numeric: from 1 - very...</td>\n",
              "    </tr>\n",
              "    <tr>\n",
              "      <th>25</th>\n",
              "      <td>goout</td>\n",
              "      <td>going out with friends (numeric: from 1 - very...</td>\n",
              "    </tr>\n",
              "    <tr>\n",
              "      <th>26</th>\n",
              "      <td>Dalc</td>\n",
              "      <td>workday alcohol consumption (numeric: from 1 -...</td>\n",
              "    </tr>\n",
              "    <tr>\n",
              "      <th>27</th>\n",
              "      <td>Walc</td>\n",
              "      <td>weekend alcohol consumption (numeric: from 1 -...</td>\n",
              "    </tr>\n",
              "    <tr>\n",
              "      <th>28</th>\n",
              "      <td>health</td>\n",
              "      <td>current health status (numeric: from 1 - very ...</td>\n",
              "    </tr>\n",
              "    <tr>\n",
              "      <th>29</th>\n",
              "      <td>absences</td>\n",
              "      <td>number of school absences (numeric: from 0 to 93)</td>\n",
              "    </tr>\n",
              "  </tbody>\n",
              "</table>\n",
              "</div>\n",
              "      <button class=\"colab-df-convert\" onclick=\"convertToInteractive('df-b4d47bdd-1f3d-48d8-8296-d2903f7bb052')\"\n",
              "              title=\"Convert this dataframe to an interactive table.\"\n",
              "              style=\"display:none;\">\n",
              "        \n",
              "  <svg xmlns=\"http://www.w3.org/2000/svg\" height=\"24px\"viewBox=\"0 0 24 24\"\n",
              "       width=\"24px\">\n",
              "    <path d=\"M0 0h24v24H0V0z\" fill=\"none\"/>\n",
              "    <path d=\"M18.56 5.44l.94 2.06.94-2.06 2.06-.94-2.06-.94-.94-2.06-.94 2.06-2.06.94zm-11 1L8.5 8.5l.94-2.06 2.06-.94-2.06-.94L8.5 2.5l-.94 2.06-2.06.94zm10 10l.94 2.06.94-2.06 2.06-.94-2.06-.94-.94-2.06-.94 2.06-2.06.94z\"/><path d=\"M17.41 7.96l-1.37-1.37c-.4-.4-.92-.59-1.43-.59-.52 0-1.04.2-1.43.59L10.3 9.45l-7.72 7.72c-.78.78-.78 2.05 0 2.83L4 21.41c.39.39.9.59 1.41.59.51 0 1.02-.2 1.41-.59l7.78-7.78 2.81-2.81c.8-.78.8-2.07 0-2.86zM5.41 20L4 18.59l7.72-7.72 1.47 1.35L5.41 20z\"/>\n",
              "  </svg>\n",
              "      </button>\n",
              "      \n",
              "  <style>\n",
              "    .colab-df-container {\n",
              "      display:flex;\n",
              "      flex-wrap:wrap;\n",
              "      gap: 12px;\n",
              "    }\n",
              "\n",
              "    .colab-df-convert {\n",
              "      background-color: #E8F0FE;\n",
              "      border: none;\n",
              "      border-radius: 50%;\n",
              "      cursor: pointer;\n",
              "      display: none;\n",
              "      fill: #1967D2;\n",
              "      height: 32px;\n",
              "      padding: 0 0 0 0;\n",
              "      width: 32px;\n",
              "    }\n",
              "\n",
              "    .colab-df-convert:hover {\n",
              "      background-color: #E2EBFA;\n",
              "      box-shadow: 0px 1px 2px rgba(60, 64, 67, 0.3), 0px 1px 3px 1px rgba(60, 64, 67, 0.15);\n",
              "      fill: #174EA6;\n",
              "    }\n",
              "\n",
              "    [theme=dark] .colab-df-convert {\n",
              "      background-color: #3B4455;\n",
              "      fill: #D2E3FC;\n",
              "    }\n",
              "\n",
              "    [theme=dark] .colab-df-convert:hover {\n",
              "      background-color: #434B5C;\n",
              "      box-shadow: 0px 1px 3px 1px rgba(0, 0, 0, 0.15);\n",
              "      filter: drop-shadow(0px 1px 2px rgba(0, 0, 0, 0.3));\n",
              "      fill: #FFFFFF;\n",
              "    }\n",
              "  </style>\n",
              "\n",
              "      <script>\n",
              "        const buttonEl =\n",
              "          document.querySelector('#df-b4d47bdd-1f3d-48d8-8296-d2903f7bb052 button.colab-df-convert');\n",
              "        buttonEl.style.display =\n",
              "          google.colab.kernel.accessAllowed ? 'block' : 'none';\n",
              "\n",
              "        async function convertToInteractive(key) {\n",
              "          const element = document.querySelector('#df-b4d47bdd-1f3d-48d8-8296-d2903f7bb052');\n",
              "          const dataTable =\n",
              "            await google.colab.kernel.invokeFunction('convertToInteractive',\n",
              "                                                     [key], {});\n",
              "          if (!dataTable) return;\n",
              "\n",
              "          const docLinkHtml = 'Like what you see? Visit the ' +\n",
              "            '<a target=\"_blank\" href=https://colab.research.google.com/notebooks/data_table.ipynb>data table notebook</a>'\n",
              "            + ' to learn more about interactive tables.';\n",
              "          element.innerHTML = '';\n",
              "          dataTable['output_type'] = 'display_data';\n",
              "          await google.colab.output.renderOutput(dataTable, element);\n",
              "          const docLink = document.createElement('div');\n",
              "          docLink.innerHTML = docLinkHtml;\n",
              "          element.appendChild(docLink);\n",
              "        }\n",
              "      </script>\n",
              "    </div>\n",
              "  </div>\n",
              "  "
            ]
          },
          "metadata": {},
          "execution_count": 16
        }
      ]
    },
    {
      "cell_type": "code",
      "source": [
        "# Target attributes description \n",
        "gradeDescription = pd.read_csv('https://raw.githubusercontent.com/Caroline132/project-data/main/Grade.csv')\n",
        "gradeDescription"
      ],
      "metadata": {
        "colab": {
          "base_uri": "https://localhost:8080/",
          "height": 143
        },
        "outputId": "bac3bfbf-e2d7-4add-afa9-e8bd188dab91",
        "id": "bkv7ODPH23jn"
      },
      "execution_count": null,
      "outputs": [
        {
          "output_type": "execute_result",
          "data": {
            "text/plain": [
              "  Grade                                        Description\n",
              "0    G1         first period grade (numeric: from 0 to 20)\n",
              "1    G2        second period grade (numeric: from 0 to 20)\n",
              "2    G3  final grade (numeric: from 0 to 20, output tar..."
            ],
            "text/html": [
              "\n",
              "  <div id=\"df-0196c5a4-bbbd-44bf-b49a-60fcb25229e1\">\n",
              "    <div class=\"colab-df-container\">\n",
              "      <div>\n",
              "<style scoped>\n",
              "    .dataframe tbody tr th:only-of-type {\n",
              "        vertical-align: middle;\n",
              "    }\n",
              "\n",
              "    .dataframe tbody tr th {\n",
              "        vertical-align: top;\n",
              "    }\n",
              "\n",
              "    .dataframe thead th {\n",
              "        text-align: right;\n",
              "    }\n",
              "</style>\n",
              "<table border=\"1\" class=\"dataframe\">\n",
              "  <thead>\n",
              "    <tr style=\"text-align: right;\">\n",
              "      <th></th>\n",
              "      <th>Grade</th>\n",
              "      <th>Description</th>\n",
              "    </tr>\n",
              "  </thead>\n",
              "  <tbody>\n",
              "    <tr>\n",
              "      <th>0</th>\n",
              "      <td>G1</td>\n",
              "      <td>first period grade (numeric: from 0 to 20)</td>\n",
              "    </tr>\n",
              "    <tr>\n",
              "      <th>1</th>\n",
              "      <td>G2</td>\n",
              "      <td>second period grade (numeric: from 0 to 20)</td>\n",
              "    </tr>\n",
              "    <tr>\n",
              "      <th>2</th>\n",
              "      <td>G3</td>\n",
              "      <td>final grade (numeric: from 0 to 20, output tar...</td>\n",
              "    </tr>\n",
              "  </tbody>\n",
              "</table>\n",
              "</div>\n",
              "      <button class=\"colab-df-convert\" onclick=\"convertToInteractive('df-0196c5a4-bbbd-44bf-b49a-60fcb25229e1')\"\n",
              "              title=\"Convert this dataframe to an interactive table.\"\n",
              "              style=\"display:none;\">\n",
              "        \n",
              "  <svg xmlns=\"http://www.w3.org/2000/svg\" height=\"24px\"viewBox=\"0 0 24 24\"\n",
              "       width=\"24px\">\n",
              "    <path d=\"M0 0h24v24H0V0z\" fill=\"none\"/>\n",
              "    <path d=\"M18.56 5.44l.94 2.06.94-2.06 2.06-.94-2.06-.94-.94-2.06-.94 2.06-2.06.94zm-11 1L8.5 8.5l.94-2.06 2.06-.94-2.06-.94L8.5 2.5l-.94 2.06-2.06.94zm10 10l.94 2.06.94-2.06 2.06-.94-2.06-.94-.94-2.06-.94 2.06-2.06.94z\"/><path d=\"M17.41 7.96l-1.37-1.37c-.4-.4-.92-.59-1.43-.59-.52 0-1.04.2-1.43.59L10.3 9.45l-7.72 7.72c-.78.78-.78 2.05 0 2.83L4 21.41c.39.39.9.59 1.41.59.51 0 1.02-.2 1.41-.59l7.78-7.78 2.81-2.81c.8-.78.8-2.07 0-2.86zM5.41 20L4 18.59l7.72-7.72 1.47 1.35L5.41 20z\"/>\n",
              "  </svg>\n",
              "      </button>\n",
              "      \n",
              "  <style>\n",
              "    .colab-df-container {\n",
              "      display:flex;\n",
              "      flex-wrap:wrap;\n",
              "      gap: 12px;\n",
              "    }\n",
              "\n",
              "    .colab-df-convert {\n",
              "      background-color: #E8F0FE;\n",
              "      border: none;\n",
              "      border-radius: 50%;\n",
              "      cursor: pointer;\n",
              "      display: none;\n",
              "      fill: #1967D2;\n",
              "      height: 32px;\n",
              "      padding: 0 0 0 0;\n",
              "      width: 32px;\n",
              "    }\n",
              "\n",
              "    .colab-df-convert:hover {\n",
              "      background-color: #E2EBFA;\n",
              "      box-shadow: 0px 1px 2px rgba(60, 64, 67, 0.3), 0px 1px 3px 1px rgba(60, 64, 67, 0.15);\n",
              "      fill: #174EA6;\n",
              "    }\n",
              "\n",
              "    [theme=dark] .colab-df-convert {\n",
              "      background-color: #3B4455;\n",
              "      fill: #D2E3FC;\n",
              "    }\n",
              "\n",
              "    [theme=dark] .colab-df-convert:hover {\n",
              "      background-color: #434B5C;\n",
              "      box-shadow: 0px 1px 3px 1px rgba(0, 0, 0, 0.15);\n",
              "      filter: drop-shadow(0px 1px 2px rgba(0, 0, 0, 0.3));\n",
              "      fill: #FFFFFF;\n",
              "    }\n",
              "  </style>\n",
              "\n",
              "      <script>\n",
              "        const buttonEl =\n",
              "          document.querySelector('#df-0196c5a4-bbbd-44bf-b49a-60fcb25229e1 button.colab-df-convert');\n",
              "        buttonEl.style.display =\n",
              "          google.colab.kernel.accessAllowed ? 'block' : 'none';\n",
              "\n",
              "        async function convertToInteractive(key) {\n",
              "          const element = document.querySelector('#df-0196c5a4-bbbd-44bf-b49a-60fcb25229e1');\n",
              "          const dataTable =\n",
              "            await google.colab.kernel.invokeFunction('convertToInteractive',\n",
              "                                                     [key], {});\n",
              "          if (!dataTable) return;\n",
              "\n",
              "          const docLinkHtml = 'Like what you see? Visit the ' +\n",
              "            '<a target=\"_blank\" href=https://colab.research.google.com/notebooks/data_table.ipynb>data table notebook</a>'\n",
              "            + ' to learn more about interactive tables.';\n",
              "          element.innerHTML = '';\n",
              "          dataTable['output_type'] = 'display_data';\n",
              "          await google.colab.output.renderOutput(dataTable, element);\n",
              "          const docLink = document.createElement('div');\n",
              "          docLink.innerHTML = docLinkHtml;\n",
              "          element.appendChild(docLink);\n",
              "        }\n",
              "      </script>\n",
              "    </div>\n",
              "  </div>\n",
              "  "
            ]
          },
          "metadata": {},
          "execution_count": 17
        }
      ]
    },
    {
      "cell_type": "code",
      "source": [
        "# Load CSV into Pandas dataframe\n",
        "df = pd.read_csv('https://raw.githubusercontent.com/Caroline132/project-data/main/student-por.csv')\n",
        "print(df.shape)\n",
        "df.head()"
      ],
      "metadata": {
        "colab": {
          "base_uri": "https://localhost:8080/"
        },
        "outputId": "144fff3e-4195-4e0d-f1db-1515622da7d4",
        "id": "amuoAr6A23jn"
      },
      "execution_count": null,
      "outputs": [
        {
          "output_type": "stream",
          "name": "stdout",
          "text": [
            "(649, 33)\n"
          ]
        },
        {
          "output_type": "execute_result",
          "data": {
            "text/plain": [
              "  school sex  age address famsize Pstatus  Medu  Fedu     Mjob      Fjob  \\\n",
              "0     GP   F   18       U     GT3       A     4     4  at_home   teacher   \n",
              "1     GP   F   17       U     GT3       T     1     1  at_home     other   \n",
              "2     GP   F   15       U     LE3       T     1     1  at_home     other   \n",
              "3     GP   F   15       U     GT3       T     4     2   health  services   \n",
              "4     GP   F   16       U     GT3       T     3     3    other     other   \n",
              "\n",
              "   reason guardian  traveltime  studytime  failures schoolsup famsup paid  \\\n",
              "0  course   mother           2          2         0       yes     no   no   \n",
              "1  course   father           1          2         0        no    yes   no   \n",
              "2   other   mother           1          2         0       yes     no   no   \n",
              "3    home   mother           1          3         0        no    yes   no   \n",
              "4    home   father           1          2         0        no    yes   no   \n",
              "\n",
              "  activities nursery higher internet romantic  famrel  freetime  goout  Dalc  \\\n",
              "0         no     yes    yes       no       no       4         3      4     1   \n",
              "1         no      no    yes      yes       no       5         3      3     1   \n",
              "2         no     yes    yes      yes       no       4         3      2     2   \n",
              "3        yes     yes    yes      yes      yes       3         2      2     1   \n",
              "4         no     yes    yes       no       no       4         3      2     1   \n",
              "\n",
              "   Walc  health  absences  G1  G2  G3  \n",
              "0     1       3         4   0  11  11  \n",
              "1     1       3         2   9  11  11  \n",
              "2     3       3         6  12  13  12  \n",
              "3     1       5         0  14  14  14  \n",
              "4     2       5         0  11  13  13  "
            ],
            "text/html": [
              "\n",
              "  <div id=\"df-148c3f1d-28a8-4f98-8785-2dec2d54954a\">\n",
              "    <div class=\"colab-df-container\">\n",
              "      <div>\n",
              "<style scoped>\n",
              "    .dataframe tbody tr th:only-of-type {\n",
              "        vertical-align: middle;\n",
              "    }\n",
              "\n",
              "    .dataframe tbody tr th {\n",
              "        vertical-align: top;\n",
              "    }\n",
              "\n",
              "    .dataframe thead th {\n",
              "        text-align: right;\n",
              "    }\n",
              "</style>\n",
              "<table border=\"1\" class=\"dataframe\">\n",
              "  <thead>\n",
              "    <tr style=\"text-align: right;\">\n",
              "      <th></th>\n",
              "      <th>school</th>\n",
              "      <th>sex</th>\n",
              "      <th>age</th>\n",
              "      <th>address</th>\n",
              "      <th>famsize</th>\n",
              "      <th>Pstatus</th>\n",
              "      <th>Medu</th>\n",
              "      <th>Fedu</th>\n",
              "      <th>Mjob</th>\n",
              "      <th>Fjob</th>\n",
              "      <th>reason</th>\n",
              "      <th>guardian</th>\n",
              "      <th>traveltime</th>\n",
              "      <th>studytime</th>\n",
              "      <th>failures</th>\n",
              "      <th>schoolsup</th>\n",
              "      <th>famsup</th>\n",
              "      <th>paid</th>\n",
              "      <th>activities</th>\n",
              "      <th>nursery</th>\n",
              "      <th>higher</th>\n",
              "      <th>internet</th>\n",
              "      <th>romantic</th>\n",
              "      <th>famrel</th>\n",
              "      <th>freetime</th>\n",
              "      <th>goout</th>\n",
              "      <th>Dalc</th>\n",
              "      <th>Walc</th>\n",
              "      <th>health</th>\n",
              "      <th>absences</th>\n",
              "      <th>G1</th>\n",
              "      <th>G2</th>\n",
              "      <th>G3</th>\n",
              "    </tr>\n",
              "  </thead>\n",
              "  <tbody>\n",
              "    <tr>\n",
              "      <th>0</th>\n",
              "      <td>GP</td>\n",
              "      <td>F</td>\n",
              "      <td>18</td>\n",
              "      <td>U</td>\n",
              "      <td>GT3</td>\n",
              "      <td>A</td>\n",
              "      <td>4</td>\n",
              "      <td>4</td>\n",
              "      <td>at_home</td>\n",
              "      <td>teacher</td>\n",
              "      <td>course</td>\n",
              "      <td>mother</td>\n",
              "      <td>2</td>\n",
              "      <td>2</td>\n",
              "      <td>0</td>\n",
              "      <td>yes</td>\n",
              "      <td>no</td>\n",
              "      <td>no</td>\n",
              "      <td>no</td>\n",
              "      <td>yes</td>\n",
              "      <td>yes</td>\n",
              "      <td>no</td>\n",
              "      <td>no</td>\n",
              "      <td>4</td>\n",
              "      <td>3</td>\n",
              "      <td>4</td>\n",
              "      <td>1</td>\n",
              "      <td>1</td>\n",
              "      <td>3</td>\n",
              "      <td>4</td>\n",
              "      <td>0</td>\n",
              "      <td>11</td>\n",
              "      <td>11</td>\n",
              "    </tr>\n",
              "    <tr>\n",
              "      <th>1</th>\n",
              "      <td>GP</td>\n",
              "      <td>F</td>\n",
              "      <td>17</td>\n",
              "      <td>U</td>\n",
              "      <td>GT3</td>\n",
              "      <td>T</td>\n",
              "      <td>1</td>\n",
              "      <td>1</td>\n",
              "      <td>at_home</td>\n",
              "      <td>other</td>\n",
              "      <td>course</td>\n",
              "      <td>father</td>\n",
              "      <td>1</td>\n",
              "      <td>2</td>\n",
              "      <td>0</td>\n",
              "      <td>no</td>\n",
              "      <td>yes</td>\n",
              "      <td>no</td>\n",
              "      <td>no</td>\n",
              "      <td>no</td>\n",
              "      <td>yes</td>\n",
              "      <td>yes</td>\n",
              "      <td>no</td>\n",
              "      <td>5</td>\n",
              "      <td>3</td>\n",
              "      <td>3</td>\n",
              "      <td>1</td>\n",
              "      <td>1</td>\n",
              "      <td>3</td>\n",
              "      <td>2</td>\n",
              "      <td>9</td>\n",
              "      <td>11</td>\n",
              "      <td>11</td>\n",
              "    </tr>\n",
              "    <tr>\n",
              "      <th>2</th>\n",
              "      <td>GP</td>\n",
              "      <td>F</td>\n",
              "      <td>15</td>\n",
              "      <td>U</td>\n",
              "      <td>LE3</td>\n",
              "      <td>T</td>\n",
              "      <td>1</td>\n",
              "      <td>1</td>\n",
              "      <td>at_home</td>\n",
              "      <td>other</td>\n",
              "      <td>other</td>\n",
              "      <td>mother</td>\n",
              "      <td>1</td>\n",
              "      <td>2</td>\n",
              "      <td>0</td>\n",
              "      <td>yes</td>\n",
              "      <td>no</td>\n",
              "      <td>no</td>\n",
              "      <td>no</td>\n",
              "      <td>yes</td>\n",
              "      <td>yes</td>\n",
              "      <td>yes</td>\n",
              "      <td>no</td>\n",
              "      <td>4</td>\n",
              "      <td>3</td>\n",
              "      <td>2</td>\n",
              "      <td>2</td>\n",
              "      <td>3</td>\n",
              "      <td>3</td>\n",
              "      <td>6</td>\n",
              "      <td>12</td>\n",
              "      <td>13</td>\n",
              "      <td>12</td>\n",
              "    </tr>\n",
              "    <tr>\n",
              "      <th>3</th>\n",
              "      <td>GP</td>\n",
              "      <td>F</td>\n",
              "      <td>15</td>\n",
              "      <td>U</td>\n",
              "      <td>GT3</td>\n",
              "      <td>T</td>\n",
              "      <td>4</td>\n",
              "      <td>2</td>\n",
              "      <td>health</td>\n",
              "      <td>services</td>\n",
              "      <td>home</td>\n",
              "      <td>mother</td>\n",
              "      <td>1</td>\n",
              "      <td>3</td>\n",
              "      <td>0</td>\n",
              "      <td>no</td>\n",
              "      <td>yes</td>\n",
              "      <td>no</td>\n",
              "      <td>yes</td>\n",
              "      <td>yes</td>\n",
              "      <td>yes</td>\n",
              "      <td>yes</td>\n",
              "      <td>yes</td>\n",
              "      <td>3</td>\n",
              "      <td>2</td>\n",
              "      <td>2</td>\n",
              "      <td>1</td>\n",
              "      <td>1</td>\n",
              "      <td>5</td>\n",
              "      <td>0</td>\n",
              "      <td>14</td>\n",
              "      <td>14</td>\n",
              "      <td>14</td>\n",
              "    </tr>\n",
              "    <tr>\n",
              "      <th>4</th>\n",
              "      <td>GP</td>\n",
              "      <td>F</td>\n",
              "      <td>16</td>\n",
              "      <td>U</td>\n",
              "      <td>GT3</td>\n",
              "      <td>T</td>\n",
              "      <td>3</td>\n",
              "      <td>3</td>\n",
              "      <td>other</td>\n",
              "      <td>other</td>\n",
              "      <td>home</td>\n",
              "      <td>father</td>\n",
              "      <td>1</td>\n",
              "      <td>2</td>\n",
              "      <td>0</td>\n",
              "      <td>no</td>\n",
              "      <td>yes</td>\n",
              "      <td>no</td>\n",
              "      <td>no</td>\n",
              "      <td>yes</td>\n",
              "      <td>yes</td>\n",
              "      <td>no</td>\n",
              "      <td>no</td>\n",
              "      <td>4</td>\n",
              "      <td>3</td>\n",
              "      <td>2</td>\n",
              "      <td>1</td>\n",
              "      <td>2</td>\n",
              "      <td>5</td>\n",
              "      <td>0</td>\n",
              "      <td>11</td>\n",
              "      <td>13</td>\n",
              "      <td>13</td>\n",
              "    </tr>\n",
              "  </tbody>\n",
              "</table>\n",
              "</div>\n",
              "      <button class=\"colab-df-convert\" onclick=\"convertToInteractive('df-148c3f1d-28a8-4f98-8785-2dec2d54954a')\"\n",
              "              title=\"Convert this dataframe to an interactive table.\"\n",
              "              style=\"display:none;\">\n",
              "        \n",
              "  <svg xmlns=\"http://www.w3.org/2000/svg\" height=\"24px\"viewBox=\"0 0 24 24\"\n",
              "       width=\"24px\">\n",
              "    <path d=\"M0 0h24v24H0V0z\" fill=\"none\"/>\n",
              "    <path d=\"M18.56 5.44l.94 2.06.94-2.06 2.06-.94-2.06-.94-.94-2.06-.94 2.06-2.06.94zm-11 1L8.5 8.5l.94-2.06 2.06-.94-2.06-.94L8.5 2.5l-.94 2.06-2.06.94zm10 10l.94 2.06.94-2.06 2.06-.94-2.06-.94-.94-2.06-.94 2.06-2.06.94z\"/><path d=\"M17.41 7.96l-1.37-1.37c-.4-.4-.92-.59-1.43-.59-.52 0-1.04.2-1.43.59L10.3 9.45l-7.72 7.72c-.78.78-.78 2.05 0 2.83L4 21.41c.39.39.9.59 1.41.59.51 0 1.02-.2 1.41-.59l7.78-7.78 2.81-2.81c.8-.78.8-2.07 0-2.86zM5.41 20L4 18.59l7.72-7.72 1.47 1.35L5.41 20z\"/>\n",
              "  </svg>\n",
              "      </button>\n",
              "      \n",
              "  <style>\n",
              "    .colab-df-container {\n",
              "      display:flex;\n",
              "      flex-wrap:wrap;\n",
              "      gap: 12px;\n",
              "    }\n",
              "\n",
              "    .colab-df-convert {\n",
              "      background-color: #E8F0FE;\n",
              "      border: none;\n",
              "      border-radius: 50%;\n",
              "      cursor: pointer;\n",
              "      display: none;\n",
              "      fill: #1967D2;\n",
              "      height: 32px;\n",
              "      padding: 0 0 0 0;\n",
              "      width: 32px;\n",
              "    }\n",
              "\n",
              "    .colab-df-convert:hover {\n",
              "      background-color: #E2EBFA;\n",
              "      box-shadow: 0px 1px 2px rgba(60, 64, 67, 0.3), 0px 1px 3px 1px rgba(60, 64, 67, 0.15);\n",
              "      fill: #174EA6;\n",
              "    }\n",
              "\n",
              "    [theme=dark] .colab-df-convert {\n",
              "      background-color: #3B4455;\n",
              "      fill: #D2E3FC;\n",
              "    }\n",
              "\n",
              "    [theme=dark] .colab-df-convert:hover {\n",
              "      background-color: #434B5C;\n",
              "      box-shadow: 0px 1px 3px 1px rgba(0, 0, 0, 0.15);\n",
              "      filter: drop-shadow(0px 1px 2px rgba(0, 0, 0, 0.3));\n",
              "      fill: #FFFFFF;\n",
              "    }\n",
              "  </style>\n",
              "\n",
              "      <script>\n",
              "        const buttonEl =\n",
              "          document.querySelector('#df-148c3f1d-28a8-4f98-8785-2dec2d54954a button.colab-df-convert');\n",
              "        buttonEl.style.display =\n",
              "          google.colab.kernel.accessAllowed ? 'block' : 'none';\n",
              "\n",
              "        async function convertToInteractive(key) {\n",
              "          const element = document.querySelector('#df-148c3f1d-28a8-4f98-8785-2dec2d54954a');\n",
              "          const dataTable =\n",
              "            await google.colab.kernel.invokeFunction('convertToInteractive',\n",
              "                                                     [key], {});\n",
              "          if (!dataTable) return;\n",
              "\n",
              "          const docLinkHtml = 'Like what you see? Visit the ' +\n",
              "            '<a target=\"_blank\" href=https://colab.research.google.com/notebooks/data_table.ipynb>data table notebook</a>'\n",
              "            + ' to learn more about interactive tables.';\n",
              "          element.innerHTML = '';\n",
              "          dataTable['output_type'] = 'display_data';\n",
              "          await google.colab.output.renderOutput(dataTable, element);\n",
              "          const docLink = document.createElement('div');\n",
              "          docLink.innerHTML = docLinkHtml;\n",
              "          element.appendChild(docLink);\n",
              "        }\n",
              "      </script>\n",
              "    </div>\n",
              "  </div>\n",
              "  "
            ]
          },
          "metadata": {},
          "execution_count": 18
        }
      ]
    },
    {
      "cell_type": "code",
      "source": [
        "# G3 (target attribute) grade distribution\n",
        "sns.countplot(x='G3',data=df)\n",
        "plt.show()"
      ],
      "metadata": {
        "colab": {
          "base_uri": "https://localhost:8080/"
        },
        "outputId": "e587eaf4-4ac2-462b-d9eb-661d013741ac",
        "id": "x62cMCx93k2x"
      },
      "execution_count": null,
      "outputs": [
        {
          "output_type": "display_data",
          "data": {
            "text/plain": [
              "<Figure size 432x288 with 1 Axes>"
            ],
            "image/png": "[encoded data removed]"
          },
          "metadata": {
            "needs_background": "light"
          }
        }
      ]
    },
    {
      "cell_type": "markdown",
      "source": [
        "## **Characterization**\n",
        "* **Number of training examples:** 649\n",
        "* **Number of features:** 30\n",
        "* **Missing data:** none\n",
        "* **Bias:** as seen in the G3 grade distribution graph above, there is a large bias for passing (grades ≥ 10). Therefore, we must consider this imbalance when implementing our models and analyzing the results."
      ],
      "metadata": {
        "id": "90BodLEpYMjs"
      }
    },
    {
      "cell_type": "markdown",
      "source": [
        "# **3. Brainstorm about the attributes (Feature engineering)**\n",
        "* **Are all features present in the dataset?** The 30 features provide a comprehensive view of elements that could impact a student's grade. Thus, we believe that all features are present in the dataset.\n",
        "* **Are there any missing features?** We think that all necessary features are provided in the dataset. Maybe an interesting additional feature would be a ***mental health*** feature in addition to the more general ***health*** feature since mental health plays a significant role in performance.\n",
        "* **Any attribute provided that doesn't seem useful to you?** Some features that may not have a significant impact on student performance might be: ***gender*** (both should perform equally), ***guardian*** (having a mother or father as guardian probably has the same effect), ***activities*** (might provide additional noise as some students might have personal activities at home that are not considered), ***romantic*** (may have both a positive and negative impact depending on the quality of the relationship), ***goout*** (both introverted and extroverted people do well in school; thus it might be hard to determine if going out has a great impact on school performance). Nevertheless, we will keep all features for our main results and use Recursive Feature Elimination (see Section 11) to compare afterward."
      ],
      "metadata": {
        "id": "RQtqHyP02KmT"
      }
    },
    {
      "cell_type": "markdown",
      "source": [
        "# **4. Encode the features**\n"
      ],
      "metadata": {
        "id": "Po0UTiZY0I9U"
      }
    },
    {
      "cell_type": "code",
      "source": [
        "# Dropping G1 and G2 as we are interested in the G3 target attribute\n",
        "df = df.drop(columns=['G1', 'G2'])"
      ],
      "metadata": {
        "id": "ICoMLifgDnQa"
      },
      "execution_count": null,
      "outputs": []
    },
    {
      "cell_type": "code",
      "source": [
        "# Change G3 to binary classes (0 = Fail and 1 = Pass)\n",
        "df['G3'] = np.where(df['G3'] <= 10, 0, df['G3'])\n",
        "df['G3'] = np.where(df['G3'] > 10, 1, df['G3'])"
      ],
      "metadata": {
        "id": "B0eJa4bDnCPo"
      },
      "execution_count": null,
      "outputs": []
    },
    {
      "cell_type": "markdown",
      "source": [
        "## **Discretization**"
      ],
      "metadata": {
        "id": "AmQbYvu_XbqL"
      }
    },
    {
      "cell_type": "code",
      "source": [
        "# Discretize features for the Naive Bayes model\n",
        "dataD = df.copy()\n",
        "le = LabelEncoder()\n",
        "dataD = dataD[dataD.columns[:]].apply(le.fit_transform)\n",
        "dataD.head()"
      ],
      "metadata": {
        "id": "oZAJHliJWyry",
        "colab": {
          "base_uri": "https://localhost:8080/",
          "height": 270
        },
        "outputId": "07867e98-b637-41c7-9bf4-eb4f5ba4a170"
      },
      "execution_count": null,
      "outputs": [
        {
          "output_type": "execute_result",
          "data": {
            "text/plain": [
              "   school  sex  age  address  famsize  Pstatus  Medu  Fedu  Mjob  Fjob  \\\n",
              "0       0    0    3        1        0        0     4     4     0     4   \n",
              "1       0    0    2        1        0        1     1     1     0     2   \n",
              "2       0    0    0        1        1        1     1     1     0     2   \n",
              "3       0    0    0        1        0        1     4     2     1     3   \n",
              "4       0    0    1        1        0        1     3     3     2     2   \n",
              "\n",
              "   reason  guardian  traveltime  studytime  failures  schoolsup  famsup  paid  \\\n",
              "0       0         1           1          1         0          1       0     0   \n",
              "1       0         0           0          1         0          0       1     0   \n",
              "2       2         1           0          1         0          1       0     0   \n",
              "3       1         1           0          2         0          0       1     0   \n",
              "4       1         0           0          1         0          0       1     0   \n",
              "\n",
              "   activities  nursery  higher  internet  romantic  famrel  freetime  goout  \\\n",
              "0           0        1       1         0         0       3         2      3   \n",
              "1           0        0       1         1         0       4         2      2   \n",
              "2           0        1       1         1         0       3         2      1   \n",
              "3           1        1       1         1         1       2         1      1   \n",
              "4           0        1       1         0         0       3         2      1   \n",
              "\n",
              "   Dalc  Walc  health  absences  G3  \n",
              "0     0     0       2         4   1  \n",
              "1     0     0       2         2   1  \n",
              "2     1     2       2         6   1  \n",
              "3     0     0       4         0   1  \n",
              "4     0     1       4         0   1  "
            ],
            "text/html": [
              "\n",
              "  <div id=\"df-716d40d5-2a76-43cf-803f-4aaeb7332f9f\">\n",
              "    <div class=\"colab-df-container\">\n",
              "      <div>\n",
              "<style scoped>\n",
              "    .dataframe tbody tr th:only-of-type {\n",
              "        vertical-align: middle;\n",
              "    }\n",
              "\n",
              "    .dataframe tbody tr th {\n",
              "        vertical-align: top;\n",
              "    }\n",
              "\n",
              "    .dataframe thead th {\n",
              "        text-align: right;\n",
              "    }\n",
              "</style>\n",
              "<table border=\"1\" class=\"dataframe\">\n",
              "  <thead>\n",
              "    <tr style=\"text-align: right;\">\n",
              "      <th></th>\n",
              "      <th>school</th>\n",
              "      <th>sex</th>\n",
              "      <th>age</th>\n",
              "      <th>address</th>\n",
              "      <th>famsize</th>\n",
              "      <th>Pstatus</th>\n",
              "      <th>Medu</th>\n",
              "      <th>Fedu</th>\n",
              "      <th>Mjob</th>\n",
              "      <th>Fjob</th>\n",
              "      <th>reason</th>\n",
              "      <th>guardian</th>\n",
              "      <th>traveltime</th>\n",
              "      <th>studytime</th>\n",
              "      <th>failures</th>\n",
              "      <th>schoolsup</th>\n",
              "      <th>famsup</th>\n",
              "      <th>paid</th>\n",
              "      <th>activities</th>\n",
              "      <th>nursery</th>\n",
              "      <th>higher</th>\n",
              "      <th>internet</th>\n",
              "      <th>romantic</th>\n",
              "      <th>famrel</th>\n",
              "      <th>freetime</th>\n",
              "      <th>goout</th>\n",
              "      <th>Dalc</th>\n",
              "      <th>Walc</th>\n",
              "      <th>health</th>\n",
              "      <th>absences</th>\n",
              "      <th>G3</th>\n",
              "    </tr>\n",
              "  </thead>\n",
              "  <tbody>\n",
              "    <tr>\n",
              "      <th>0</th>\n",
              "      <td>0</td>\n",
              "      <td>0</td>\n",
              "      <td>3</td>\n",
              "      <td>1</td>\n",
              "      <td>0</td>\n",
              "      <td>0</td>\n",
              "      <td>4</td>\n",
              "      <td>4</td>\n",
              "      <td>0</td>\n",
              "      <td>4</td>\n",
              "      <td>0</td>\n",
              "      <td>1</td>\n",
              "      <td>1</td>\n",
              "      <td>1</td>\n",
              "      <td>0</td>\n",
              "      <td>1</td>\n",
              "      <td>0</td>\n",
              "      <td>0</td>\n",
              "      <td>0</td>\n",
              "      <td>1</td>\n",
              "      <td>1</td>\n",
              "      <td>0</td>\n",
              "      <td>0</td>\n",
              "      <td>3</td>\n",
              "      <td>2</td>\n",
              "      <td>3</td>\n",
              "      <td>0</td>\n",
              "      <td>0</td>\n",
              "      <td>2</td>\n",
              "      <td>4</td>\n",
              "      <td>1</td>\n",
              "    </tr>\n",
              "    <tr>\n",
              "      <th>1</th>\n",
              "      <td>0</td>\n",
              "      <td>0</td>\n",
              "      <td>2</td>\n",
              "      <td>1</td>\n",
              "      <td>0</td>\n",
              "      <td>1</td>\n",
              "      <td>1</td>\n",
              "      <td>1</td>\n",
              "      <td>0</td>\n",
              "      <td>2</td>\n",
              "      <td>0</td>\n",
              "      <td>0</td>\n",
              "      <td>0</td>\n",
              "      <td>1</td>\n",
              "      <td>0</td>\n",
              "      <td>0</td>\n",
              "      <td>1</td>\n",
              "      <td>0</td>\n",
              "      <td>0</td>\n",
              "      <td>0</td>\n",
              "      <td>1</td>\n",
              "      <td>1</td>\n",
              "      <td>0</td>\n",
              "      <td>4</td>\n",
              "      <td>2</td>\n",
              "      <td>2</td>\n",
              "      <td>0</td>\n",
              "      <td>0</td>\n",
              "      <td>2</td>\n",
              "      <td>2</td>\n",
              "      <td>1</td>\n",
              "    </tr>\n",
              "    <tr>\n",
              "      <th>2</th>\n",
              "      <td>0</td>\n",
              "      <td>0</td>\n",
              "      <td>0</td>\n",
              "      <td>1</td>\n",
              "      <td>1</td>\n",
              "      <td>1</td>\n",
              "      <td>1</td>\n",
              "      <td>1</td>\n",
              "      <td>0</td>\n",
              "      <td>2</td>\n",
              "      <td>2</td>\n",
              "      <td>1</td>\n",
              "      <td>0</td>\n",
              "      <td>1</td>\n",
              "      <td>0</td>\n",
              "      <td>1</td>\n",
              "      <td>0</td>\n",
              "      <td>0</td>\n",
              "      <td>0</td>\n",
              "      <td>1</td>\n",
              "      <td>1</td>\n",
              "      <td>1</td>\n",
              "      <td>0</td>\n",
              "      <td>3</td>\n",
              "      <td>2</td>\n",
              "      <td>1</td>\n",
              "      <td>1</td>\n",
              "      <td>2</td>\n",
              "      <td>2</td>\n",
              "      <td>6</td>\n",
              "      <td>1</td>\n",
              "    </tr>\n",
              "    <tr>\n",
              "      <th>3</th>\n",
              "      <td>0</td>\n",
              "      <td>0</td>\n",
              "      <td>0</td>\n",
              "      <td>1</td>\n",
              "      <td>0</td>\n",
              "      <td>1</td>\n",
              "      <td>4</td>\n",
              "      <td>2</td>\n",
              "      <td>1</td>\n",
              "      <td>3</td>\n",
              "      <td>1</td>\n",
              "      <td>1</td>\n",
              "      <td>0</td>\n",
              "      <td>2</td>\n",
              "      <td>0</td>\n",
              "      <td>0</td>\n",
              "      <td>1</td>\n",
              "      <td>0</td>\n",
              "      <td>1</td>\n",
              "      <td>1</td>\n",
              "      <td>1</td>\n",
              "      <td>1</td>\n",
              "      <td>1</td>\n",
              "      <td>2</td>\n",
              "      <td>1</td>\n",
              "      <td>1</td>\n",
              "      <td>0</td>\n",
              "      <td>0</td>\n",
              "      <td>4</td>\n",
              "      <td>0</td>\n",
              "      <td>1</td>\n",
              "    </tr>\n",
              "    <tr>\n",
              "      <th>4</th>\n",
              "      <td>0</td>\n",
              "      <td>0</td>\n",
              "      <td>1</td>\n",
              "      <td>1</td>\n",
              "      <td>0</td>\n",
              "      <td>1</td>\n",
              "      <td>3</td>\n",
              "      <td>3</td>\n",
              "      <td>2</td>\n",
              "      <td>2</td>\n",
              "      <td>1</td>\n",
              "      <td>0</td>\n",
              "      <td>0</td>\n",
              "      <td>1</td>\n",
              "      <td>0</td>\n",
              "      <td>0</td>\n",
              "      <td>1</td>\n",
              "      <td>0</td>\n",
              "      <td>0</td>\n",
              "      <td>1</td>\n",
              "      <td>1</td>\n",
              "      <td>0</td>\n",
              "      <td>0</td>\n",
              "      <td>3</td>\n",
              "      <td>2</td>\n",
              "      <td>1</td>\n",
              "      <td>0</td>\n",
              "      <td>1</td>\n",
              "      <td>4</td>\n",
              "      <td>0</td>\n",
              "      <td>1</td>\n",
              "    </tr>\n",
              "  </tbody>\n",
              "</table>\n",
              "</div>\n",
              "      <button class=\"colab-df-convert\" onclick=\"convertToInteractive('df-716d40d5-2a76-43cf-803f-4aaeb7332f9f')\"\n",
              "              title=\"Convert this dataframe to an interactive table.\"\n",
              "              style=\"display:none;\">\n",
              "        \n",
              "  <svg xmlns=\"http://www.w3.org/2000/svg\" height=\"24px\"viewBox=\"0 0 24 24\"\n",
              "       width=\"24px\">\n",
              "    <path d=\"M0 0h24v24H0V0z\" fill=\"none\"/>\n",
              "    <path d=\"M18.56 5.44l.94 2.06.94-2.06 2.06-.94-2.06-.94-.94-2.06-.94 2.06-2.06.94zm-11 1L8.5 8.5l.94-2.06 2.06-.94-2.06-.94L8.5 2.5l-.94 2.06-2.06.94zm10 10l.94 2.06.94-2.06 2.06-.94-2.06-.94-.94-2.06-.94 2.06-2.06.94z\"/><path d=\"M17.41 7.96l-1.37-1.37c-.4-.4-.92-.59-1.43-.59-.52 0-1.04.2-1.43.59L10.3 9.45l-7.72 7.72c-.78.78-.78 2.05 0 2.83L4 21.41c.39.39.9.59 1.41.59.51 0 1.02-.2 1.41-.59l7.78-7.78 2.81-2.81c.8-.78.8-2.07 0-2.86zM5.41 20L4 18.59l7.72-7.72 1.47 1.35L5.41 20z\"/>\n",
              "  </svg>\n",
              "      </button>\n",
              "      \n",
              "  <style>\n",
              "    .colab-df-container {\n",
              "      display:flex;\n",
              "      flex-wrap:wrap;\n",
              "      gap: 12px;\n",
              "    }\n",
              "\n",
              "    .colab-df-convert {\n",
              "      background-color: #E8F0FE;\n",
              "      border: none;\n",
              "      border-radius: 50%;\n",
              "      cursor: pointer;\n",
              "      display: none;\n",
              "      fill: #1967D2;\n",
              "      height: 32px;\n",
              "      padding: 0 0 0 0;\n",
              "      width: 32px;\n",
              "    }\n",
              "\n",
              "    .colab-df-convert:hover {\n",
              "      background-color: #E2EBFA;\n",
              "      box-shadow: 0px 1px 2px rgba(60, 64, 67, 0.3), 0px 1px 3px 1px rgba(60, 64, 67, 0.15);\n",
              "      fill: #174EA6;\n",
              "    }\n",
              "\n",
              "    [theme=dark] .colab-df-convert {\n",
              "      background-color: #3B4455;\n",
              "      fill: #D2E3FC;\n",
              "    }\n",
              "\n",
              "    [theme=dark] .colab-df-convert:hover {\n",
              "      background-color: #434B5C;\n",
              "      box-shadow: 0px 1px 3px 1px rgba(0, 0, 0, 0.15);\n",
              "      filter: drop-shadow(0px 1px 2px rgba(0, 0, 0, 0.3));\n",
              "      fill: #FFFFFF;\n",
              "    }\n",
              "  </style>\n",
              "\n",
              "      <script>\n",
              "        const buttonEl =\n",
              "          document.querySelector('#df-716d40d5-2a76-43cf-803f-4aaeb7332f9f button.colab-df-convert');\n",
              "        buttonEl.style.display =\n",
              "          google.colab.kernel.accessAllowed ? 'block' : 'none';\n",
              "\n",
              "        async function convertToInteractive(key) {\n",
              "          const element = document.querySelector('#df-716d40d5-2a76-43cf-803f-4aaeb7332f9f');\n",
              "          const dataTable =\n",
              "            await google.colab.kernel.invokeFunction('convertToInteractive',\n",
              "                                                     [key], {});\n",
              "          if (!dataTable) return;\n",
              "\n",
              "          const docLinkHtml = 'Like what you see? Visit the ' +\n",
              "            '<a target=\"_blank\" href=https://colab.research.google.com/notebooks/data_table.ipynb>data table notebook</a>'\n",
              "            + ' to learn more about interactive tables.';\n",
              "          element.innerHTML = '';\n",
              "          dataTable['output_type'] = 'display_data';\n",
              "          await google.colab.output.renderOutput(dataTable, element);\n",
              "          const docLink = document.createElement('div');\n",
              "          docLink.innerHTML = docLinkHtml;\n",
              "          element.appendChild(docLink);\n",
              "        }\n",
              "      </script>\n",
              "    </div>\n",
              "  </div>\n",
              "  "
            ]
          },
          "metadata": {},
          "execution_count": 22
        }
      ]
    },
    {
      "cell_type": "markdown",
      "source": [
        "## **One-Hot Encoding**"
      ],
      "metadata": {
        "id": "DFSSEPfHIsMj"
      }
    },
    {
      "cell_type": "code",
      "source": [
        "# Change binary value features from yes/no values to 1/0\n",
        "dataOHE = df.copy()\n",
        "binaryFeatures = ['schoolsup','famsup','paid','activities','nursery','higher','internet','romantic']\n",
        "\n",
        "for feature in binaryFeatures:\n",
        "  dataOHE[feature] = np.where(dataOHE[feature] == 'no', 0, dataOHE[feature])\n",
        "  dataOHE[feature] = np.where(dataOHE[feature] == 'yes', 1, dataOHE[feature])"
      ],
      "metadata": {
        "id": "CXQUgeveD8so"
      },
      "execution_count": null,
      "outputs": []
    },
    {
      "cell_type": "code",
      "source": [
        "# Make discrete features continuous for the Logistic Regression and Multi-Layer perceptron models\n",
        "discreteFeatures = ['school','sex','address','famsize','Pstatus','Mjob','Fjob','reason','guardian']\n",
        "\n",
        "for feature in discreteFeatures:\n",
        "  one_hot_encoded_data = pd.get_dummies(dataOHE[feature],prefix=feature)\n",
        "  data=dataOHE.join(one_hot_encoded_data)\n",
        "  dataOHE = data\n",
        "\n",
        "# Drop discrete features\n",
        "features = dataOHE.columns.values.tolist()\n",
        "includedFeatures=[i for i in features if i not in discreteFeatures]\n",
        "dataOHE=dataOHE[includedFeatures]\n",
        "dataOHE.head()"
      ],
      "metadata": {
        "id": "MOvDtNV_ENCt",
        "colab": {
          "base_uri": "https://localhost:8080/",
          "height": 270
        },
        "outputId": "d09935ac-ed31-4173-964e-f8b905041fd2"
      },
      "execution_count": null,
      "outputs": [
        {
          "output_type": "execute_result",
          "data": {
            "text/plain": [
              "   age  Medu  Fedu  traveltime  studytime  failures schoolsup famsup paid  \\\n",
              "0   18     4     4           2          2         0         1      0    0   \n",
              "1   17     1     1           1          2         0         0      1    0   \n",
              "2   15     1     1           1          2         0         1      0    0   \n",
              "3   15     4     2           1          3         0         0      1    0   \n",
              "4   16     3     3           1          2         0         0      1    0   \n",
              "\n",
              "  activities nursery higher internet romantic  famrel  freetime  goout  Dalc  \\\n",
              "0          0       1      1        0        0       4         3      4     1   \n",
              "1          0       0      1        1        0       5         3      3     1   \n",
              "2          0       1      1        1        0       4         3      2     2   \n",
              "3          1       1      1        1        1       3         2      2     1   \n",
              "4          0       1      1        0        0       4         3      2     1   \n",
              "\n",
              "   Walc  health  absences  G3  school_GP  school_MS  sex_F  sex_M  address_R  \\\n",
              "0     1       3         4   1          1          0      1      0          0   \n",
              "1     1       3         2   1          1          0      1      0          0   \n",
              "2     3       3         6   1          1          0      1      0          0   \n",
              "3     1       5         0   1          1          0      1      0          0   \n",
              "4     2       5         0   1          1          0      1      0          0   \n",
              "\n",
              "   address_U  famsize_GT3  famsize_LE3  Pstatus_A  Pstatus_T  Mjob_at_home  \\\n",
              "0          1            1            0          1          0             1   \n",
              "1          1            1            0          0          1             1   \n",
              "2          1            0            1          0          1             1   \n",
              "3          1            1            0          0          1             0   \n",
              "4          1            1            0          0          1             0   \n",
              "\n",
              "   Mjob_health  Mjob_other  Mjob_services  Mjob_teacher  Fjob_at_home  \\\n",
              "0            0           0              0             0             0   \n",
              "1            0           0              0             0             0   \n",
              "2            0           0              0             0             0   \n",
              "3            1           0              0             0             0   \n",
              "4            0           1              0             0             0   \n",
              "\n",
              "   Fjob_health  Fjob_other  Fjob_services  Fjob_teacher  reason_course  \\\n",
              "0            0           0              0             1              1   \n",
              "1            0           1              0             0              1   \n",
              "2            0           1              0             0              0   \n",
              "3            0           0              1             0              0   \n",
              "4            0           1              0             0              0   \n",
              "\n",
              "   reason_home  reason_other  reason_reputation  guardian_father  \\\n",
              "0            0             0                  0                0   \n",
              "1            0             0                  0                1   \n",
              "2            0             1                  0                0   \n",
              "3            1             0                  0                0   \n",
              "4            1             0                  0                1   \n",
              "\n",
              "   guardian_mother  guardian_other  \n",
              "0                1               0  \n",
              "1                0               0  \n",
              "2                1               0  \n",
              "3                1               0  \n",
              "4                0               0  "
            ],
            "text/html": [
              "\n",
              "  <div id=\"df-6c69a2af-7465-4c29-abf3-f9810bc30dc8\">\n",
              "    <div class=\"colab-df-container\">\n",
              "      <div>\n",
              "<style scoped>\n",
              "    .dataframe tbody tr th:only-of-type {\n",
              "        vertical-align: middle;\n",
              "    }\n",
              "\n",
              "    .dataframe tbody tr th {\n",
              "        vertical-align: top;\n",
              "    }\n",
              "\n",
              "    .dataframe thead th {\n",
              "        text-align: right;\n",
              "    }\n",
              "</style>\n",
              "<table border=\"1\" class=\"dataframe\">\n",
              "  <thead>\n",
              "    <tr style=\"text-align: right;\">\n",
              "      <th></th>\n",
              "      <th>age</th>\n",
              "      <th>Medu</th>\n",
              "      <th>Fedu</th>\n",
              "      <th>traveltime</th>\n",
              "      <th>studytime</th>\n",
              "      <th>failures</th>\n",
              "      <th>schoolsup</th>\n",
              "      <th>famsup</th>\n",
              "      <th>paid</th>\n",
              "      <th>activities</th>\n",
              "      <th>nursery</th>\n",
              "      <th>higher</th>\n",
              "      <th>internet</th>\n",
              "      <th>romantic</th>\n",
              "      <th>famrel</th>\n",
              "      <th>freetime</th>\n",
              "      <th>goout</th>\n",
              "      <th>Dalc</th>\n",
              "      <th>Walc</th>\n",
              "      <th>health</th>\n",
              "      <th>absences</th>\n",
              "      <th>G3</th>\n",
              "      <th>school_GP</th>\n",
              "      <th>school_MS</th>\n",
              "      <th>sex_F</th>\n",
              "      <th>sex_M</th>\n",
              "      <th>address_R</th>\n",
              "      <th>address_U</th>\n",
              "      <th>famsize_GT3</th>\n",
              "      <th>famsize_LE3</th>\n",
              "      <th>Pstatus_A</th>\n",
              "      <th>Pstatus_T</th>\n",
              "      <th>Mjob_at_home</th>\n",
              "      <th>Mjob_health</th>\n",
              "      <th>Mjob_other</th>\n",
              "      <th>Mjob_services</th>\n",
              "      <th>Mjob_teacher</th>\n",
              "      <th>Fjob_at_home</th>\n",
              "      <th>Fjob_health</th>\n",
              "      <th>Fjob_other</th>\n",
              "      <th>Fjob_services</th>\n",
              "      <th>Fjob_teacher</th>\n",
              "      <th>reason_course</th>\n",
              "      <th>reason_home</th>\n",
              "      <th>reason_other</th>\n",
              "      <th>reason_reputation</th>\n",
              "      <th>guardian_father</th>\n",
              "      <th>guardian_mother</th>\n",
              "      <th>guardian_other</th>\n",
              "    </tr>\n",
              "  </thead>\n",
              "  <tbody>\n",
              "    <tr>\n",
              "      <th>0</th>\n",
              "      <td>18</td>\n",
              "      <td>4</td>\n",
              "      <td>4</td>\n",
              "      <td>2</td>\n",
              "      <td>2</td>\n",
              "      <td>0</td>\n",
              "      <td>1</td>\n",
              "      <td>0</td>\n",
              "      <td>0</td>\n",
              "      <td>0</td>\n",
              "      <td>1</td>\n",
              "      <td>1</td>\n",
              "      <td>0</td>\n",
              "      <td>0</td>\n",
              "      <td>4</td>\n",
              "      <td>3</td>\n",
              "      <td>4</td>\n",
              "      <td>1</td>\n",
              "      <td>1</td>\n",
              "      <td>3</td>\n",
              "      <td>4</td>\n",
              "      <td>1</td>\n",
              "      <td>1</td>\n",
              "      <td>0</td>\n",
              "      <td>1</td>\n",
              "      <td>0</td>\n",
              "      <td>0</td>\n",
              "      <td>1</td>\n",
              "      <td>1</td>\n",
              "      <td>0</td>\n",
              "      <td>1</td>\n",
              "      <td>0</td>\n",
              "      <td>1</td>\n",
              "      <td>0</td>\n",
              "      <td>0</td>\n",
              "      <td>0</td>\n",
              "      <td>0</td>\n",
              "      <td>0</td>\n",
              "      <td>0</td>\n",
              "      <td>0</td>\n",
              "      <td>0</td>\n",
              "      <td>1</td>\n",
              "      <td>1</td>\n",
              "      <td>0</td>\n",
              "      <td>0</td>\n",
              "      <td>0</td>\n",
              "      <td>0</td>\n",
              "      <td>1</td>\n",
              "      <td>0</td>\n",
              "    </tr>\n",
              "    <tr>\n",
              "      <th>1</th>\n",
              "      <td>17</td>\n",
              "      <td>1</td>\n",
              "      <td>1</td>\n",
              "      <td>1</td>\n",
              "      <td>2</td>\n",
              "      <td>0</td>\n",
              "      <td>0</td>\n",
              "      <td>1</td>\n",
              "      <td>0</td>\n",
              "      <td>0</td>\n",
              "      <td>0</td>\n",
              "      <td>1</td>\n",
              "      <td>1</td>\n",
              "      <td>0</td>\n",
              "      <td>5</td>\n",
              "      <td>3</td>\n",
              "      <td>3</td>\n",
              "      <td>1</td>\n",
              "      <td>1</td>\n",
              "      <td>3</td>\n",
              "      <td>2</td>\n",
              "      <td>1</td>\n",
              "      <td>1</td>\n",
              "      <td>0</td>\n",
              "      <td>1</td>\n",
              "      <td>0</td>\n",
              "      <td>0</td>\n",
              "      <td>1</td>\n",
              "      <td>1</td>\n",
              "      <td>0</td>\n",
              "      <td>0</td>\n",
              "      <td>1</td>\n",
              "      <td>1</td>\n",
              "      <td>0</td>\n",
              "      <td>0</td>\n",
              "      <td>0</td>\n",
              "      <td>0</td>\n",
              "      <td>0</td>\n",
              "      <td>0</td>\n",
              "      <td>1</td>\n",
              "      <td>0</td>\n",
              "      <td>0</td>\n",
              "      <td>1</td>\n",
              "      <td>0</td>\n",
              "      <td>0</td>\n",
              "      <td>0</td>\n",
              "      <td>1</td>\n",
              "      <td>0</td>\n",
              "      <td>0</td>\n",
              "    </tr>\n",
              "    <tr>\n",
              "      <th>2</th>\n",
              "      <td>15</td>\n",
              "      <td>1</td>\n",
              "      <td>1</td>\n",
              "      <td>1</td>\n",
              "      <td>2</td>\n",
              "      <td>0</td>\n",
              "      <td>1</td>\n",
              "      <td>0</td>\n",
              "      <td>0</td>\n",
              "      <td>0</td>\n",
              "      <td>1</td>\n",
              "      <td>1</td>\n",
              "      <td>1</td>\n",
              "      <td>0</td>\n",
              "      <td>4</td>\n",
              "      <td>3</td>\n",
              "      <td>2</td>\n",
              "      <td>2</td>\n",
              "      <td>3</td>\n",
              "      <td>3</td>\n",
              "      <td>6</td>\n",
              "      <td>1</td>\n",
              "      <td>1</td>\n",
              "      <td>0</td>\n",
              "      <td>1</td>\n",
              "      <td>0</td>\n",
              "      <td>0</td>\n",
              "      <td>1</td>\n",
              "      <td>0</td>\n",
              "      <td>1</td>\n",
              "      <td>0</td>\n",
              "      <td>1</td>\n",
              "      <td>1</td>\n",
              "      <td>0</td>\n",
              "      <td>0</td>\n",
              "      <td>0</td>\n",
              "      <td>0</td>\n",
              "      <td>0</td>\n",
              "      <td>0</td>\n",
              "      <td>1</td>\n",
              "      <td>0</td>\n",
              "      <td>0</td>\n",
              "      <td>0</td>\n",
              "      <td>0</td>\n",
              "      <td>1</td>\n",
              "      <td>0</td>\n",
              "      <td>0</td>\n",
              "      <td>1</td>\n",
              "      <td>0</td>\n",
              "    </tr>\n",
              "    <tr>\n",
              "      <th>3</th>\n",
              "      <td>15</td>\n",
              "      <td>4</td>\n",
              "      <td>2</td>\n",
              "      <td>1</td>\n",
              "      <td>3</td>\n",
              "      <td>0</td>\n",
              "      <td>0</td>\n",
              "      <td>1</td>\n",
              "      <td>0</td>\n",
              "      <td>1</td>\n",
              "      <td>1</td>\n",
              "      <td>1</td>\n",
              "      <td>1</td>\n",
              "      <td>1</td>\n",
              "      <td>3</td>\n",
              "      <td>2</td>\n",
              "      <td>2</td>\n",
              "      <td>1</td>\n",
              "      <td>1</td>\n",
              "      <td>5</td>\n",
              "      <td>0</td>\n",
              "      <td>1</td>\n",
              "      <td>1</td>\n",
              "      <td>0</td>\n",
              "      <td>1</td>\n",
              "      <td>0</td>\n",
              "      <td>0</td>\n",
              "      <td>1</td>\n",
              "      <td>1</td>\n",
              "      <td>0</td>\n",
              "      <td>0</td>\n",
              "      <td>1</td>\n",
              "      <td>0</td>\n",
              "      <td>1</td>\n",
              "      <td>0</td>\n",
              "      <td>0</td>\n",
              "      <td>0</td>\n",
              "      <td>0</td>\n",
              "      <td>0</td>\n",
              "      <td>0</td>\n",
              "      <td>1</td>\n",
              "      <td>0</td>\n",
              "      <td>0</td>\n",
              "      <td>1</td>\n",
              "      <td>0</td>\n",
              "      <td>0</td>\n",
              "      <td>0</td>\n",
              "      <td>1</td>\n",
              "      <td>0</td>\n",
              "    </tr>\n",
              "    <tr>\n",
              "      <th>4</th>\n",
              "      <td>16</td>\n",
              "      <td>3</td>\n",
              "      <td>3</td>\n",
              "      <td>1</td>\n",
              "      <td>2</td>\n",
              "      <td>0</td>\n",
              "      <td>0</td>\n",
              "      <td>1</td>\n",
              "      <td>0</td>\n",
              "      <td>0</td>\n",
              "      <td>1</td>\n",
              "      <td>1</td>\n",
              "      <td>0</td>\n",
              "      <td>0</td>\n",
              "      <td>4</td>\n",
              "      <td>3</td>\n",
              "      <td>2</td>\n",
              "      <td>1</td>\n",
              "      <td>2</td>\n",
              "      <td>5</td>\n",
              "      <td>0</td>\n",
              "      <td>1</td>\n",
              "      <td>1</td>\n",
              "      <td>0</td>\n",
              "      <td>1</td>\n",
              "      <td>0</td>\n",
              "      <td>0</td>\n",
              "      <td>1</td>\n",
              "      <td>1</td>\n",
              "      <td>0</td>\n",
              "      <td>0</td>\n",
              "      <td>1</td>\n",
              "      <td>0</td>\n",
              "      <td>0</td>\n",
              "      <td>1</td>\n",
              "      <td>0</td>\n",
              "      <td>0</td>\n",
              "      <td>0</td>\n",
              "      <td>0</td>\n",
              "      <td>1</td>\n",
              "      <td>0</td>\n",
              "      <td>0</td>\n",
              "      <td>0</td>\n",
              "      <td>1</td>\n",
              "      <td>0</td>\n",
              "      <td>0</td>\n",
              "      <td>1</td>\n",
              "      <td>0</td>\n",
              "      <td>0</td>\n",
              "    </tr>\n",
              "  </tbody>\n",
              "</table>\n",
              "</div>\n",
              "      <button class=\"colab-df-convert\" onclick=\"convertToInteractive('df-6c69a2af-7465-4c29-abf3-f9810bc30dc8')\"\n",
              "              title=\"Convert this dataframe to an interactive table.\"\n",
              "              style=\"display:none;\">\n",
              "        \n",
              "  <svg xmlns=\"http://www.w3.org/2000/svg\" height=\"24px\"viewBox=\"0 0 24 24\"\n",
              "       width=\"24px\">\n",
              "    <path d=\"M0 0h24v24H0V0z\" fill=\"none\"/>\n",
              "    <path d=\"M18.56 5.44l.94 2.06.94-2.06 2.06-.94-2.06-.94-.94-2.06-.94 2.06-2.06.94zm-11 1L8.5 8.5l.94-2.06 2.06-.94-2.06-.94L8.5 2.5l-.94 2.06-2.06.94zm10 10l.94 2.06.94-2.06 2.06-.94-2.06-.94-.94-2.06-.94 2.06-2.06.94z\"/><path d=\"M17.41 7.96l-1.37-1.37c-.4-.4-.92-.59-1.43-.59-.52 0-1.04.2-1.43.59L10.3 9.45l-7.72 7.72c-.78.78-.78 2.05 0 2.83L4 21.41c.39.39.9.59 1.41.59.51 0 1.02-.2 1.41-.59l7.78-7.78 2.81-2.81c.8-.78.8-2.07 0-2.86zM5.41 20L4 18.59l7.72-7.72 1.47 1.35L5.41 20z\"/>\n",
              "  </svg>\n",
              "      </button>\n",
              "      \n",
              "  <style>\n",
              "    .colab-df-container {\n",
              "      display:flex;\n",
              "      flex-wrap:wrap;\n",
              "      gap: 12px;\n",
              "    }\n",
              "\n",
              "    .colab-df-convert {\n",
              "      background-color: #E8F0FE;\n",
              "      border: none;\n",
              "      border-radius: 50%;\n",
              "      cursor: pointer;\n",
              "      display: none;\n",
              "      fill: #1967D2;\n",
              "      height: 32px;\n",
              "      padding: 0 0 0 0;\n",
              "      width: 32px;\n",
              "    }\n",
              "\n",
              "    .colab-df-convert:hover {\n",
              "      background-color: #E2EBFA;\n",
              "      box-shadow: 0px 1px 2px rgba(60, 64, 67, 0.3), 0px 1px 3px 1px rgba(60, 64, 67, 0.15);\n",
              "      fill: #174EA6;\n",
              "    }\n",
              "\n",
              "    [theme=dark] .colab-df-convert {\n",
              "      background-color: #3B4455;\n",
              "      fill: #D2E3FC;\n",
              "    }\n",
              "\n",
              "    [theme=dark] .colab-df-convert:hover {\n",
              "      background-color: #434B5C;\n",
              "      box-shadow: 0px 1px 3px 1px rgba(0, 0, 0, 0.15);\n",
              "      filter: drop-shadow(0px 1px 2px rgba(0, 0, 0, 0.3));\n",
              "      fill: #FFFFFF;\n",
              "    }\n",
              "  </style>\n",
              "\n",
              "      <script>\n",
              "        const buttonEl =\n",
              "          document.querySelector('#df-6c69a2af-7465-4c29-abf3-f9810bc30dc8 button.colab-df-convert');\n",
              "        buttonEl.style.display =\n",
              "          google.colab.kernel.accessAllowed ? 'block' : 'none';\n",
              "\n",
              "        async function convertToInteractive(key) {\n",
              "          const element = document.querySelector('#df-6c69a2af-7465-4c29-abf3-f9810bc30dc8');\n",
              "          const dataTable =\n",
              "            await google.colab.kernel.invokeFunction('convertToInteractive',\n",
              "                                                     [key], {});\n",
              "          if (!dataTable) return;\n",
              "\n",
              "          const docLinkHtml = 'Like what you see? Visit the ' +\n",
              "            '<a target=\"_blank\" href=https://colab.research.google.com/notebooks/data_table.ipynb>data table notebook</a>'\n",
              "            + ' to learn more about interactive tables.';\n",
              "          element.innerHTML = '';\n",
              "          dataTable['output_type'] = 'display_data';\n",
              "          await google.colab.output.renderOutput(dataTable, element);\n",
              "          const docLink = document.createElement('div');\n",
              "          docLink.innerHTML = docLinkHtml;\n",
              "          element.appendChild(docLink);\n",
              "        }\n",
              "      </script>\n",
              "    </div>\n",
              "  </div>\n",
              "  "
            ]
          },
          "metadata": {},
          "execution_count": 24
        }
      ]
    },
    {
      "cell_type": "markdown",
      "source": [
        "#**5. Prepare your data for the experiment, using cross-validation**"
      ],
      "metadata": {
        "id": "GU_G__C5WSyD"
      }
    },
    {
      "cell_type": "code",
      "source": [
        "# Get x a.nd y data from discretized data\n",
        "X_D = dataD.drop(columns=['G3'])\n",
        "y_D = dataD['G3']"
      ],
      "metadata": {
        "id": "ZTkiUGntkNIf"
      },
      "execution_count": null,
      "outputs": []
    },
    {
      "cell_type": "code",
      "source": [
        "# 1-fold cross-validation test/train discretized data \n",
        "X_train_D, X_test_D, y_train_D, y_test_D = train_test_split(X_D, y_D, test_size=0.3, random_state=0)"
      ],
      "metadata": {
        "id": "DY5tzbyXkeAm"
      },
      "execution_count": null,
      "outputs": []
    },
    {
      "cell_type": "code",
      "source": [
        "# Get x and y data from one-hot encoded data\n",
        "X_OHE = dataOHE.drop(columns=['G3'])\n",
        "y_OHE = dataOHE['G3']"
      ],
      "metadata": {
        "id": "v7MuHizb7Zw5"
      },
      "execution_count": null,
      "outputs": []
    },
    {
      "cell_type": "code",
      "source": [
        "# 1-fold cross-validation test/train one-hot encoded data \n",
        "X_train_OHE, X_test_OHE, y_train_OHE, y_test_OHE = train_test_split(X_OHE, y_OHE, test_size=0.3, random_state=0)"
      ],
      "metadata": {
        "id": "9squzF_Sb_P8"
      },
      "execution_count": null,
      "outputs": []
    },
    {
      "cell_type": "markdown",
      "source": [
        "# **6-9. Train 3 models, evaluate with precision/recall measures and repeat**"
      ],
      "metadata": {
        "id": "NjWAV-T-Y3cP"
      }
    },
    {
      "cell_type": "markdown",
      "source": [
        "## **a. Naive Bayes**\n",
        "*   This section was achieved with the help of the scikit-learn GaussianNB documentation [3] along with a website to understand its implementation [4]."
      ],
      "metadata": {
        "id": "k-qqRRU8ja2A"
      }
    },
    {
      "cell_type": "markdown",
      "source": [
        "###**Result 1**\n",
        "* Using the default parameters of the GaussianNB model."
      ],
      "metadata": {
        "id": "sPOSdmDPk2SD"
      }
    },
    {
      "cell_type": "code",
      "source": [
        "# Fit model and get information about model\n",
        "mNB1 =  GaussianNB().fit(X_train_D, y_train_D)\n",
        "getInfoNB(mNB1)"
      ],
      "metadata": {
        "id": "dtDeYLrlk3e_",
        "colab": {
          "base_uri": "https://localhost:8080/"
        },
        "outputId": "9ad6219c-db43-4921-bc8d-f0c334267ff4"
      },
      "execution_count": null,
      "outputs": [
        {
          "output_type": "stream",
          "name": "stdout",
          "text": [
            "Parameters:\n",
            "{'priors': None, 'var_smoothing': 1e-09}\n",
            "Classes:\n",
            "[0 1]\n",
            "Feature:\n",
            "30\n",
            "Feature names:\n",
            "['school' 'sex' 'age' 'address' 'famsize' 'Pstatus' 'Medu' 'Fedu' 'Mjob'\n",
            " 'Fjob' 'reason' 'guardian' 'traveltime' 'studytime' 'failures'\n",
            " 'schoolsup' 'famsup' 'paid' 'activities' 'nursery' 'higher' 'internet'\n",
            " 'romantic' 'famrel' 'freetime' 'goout' 'Dalc' 'Walc' 'health' 'absences']\n"
          ]
        }
      ]
    },
    {
      "cell_type": "code",
      "source": [
        "# Get results for 1-fold cross-validation\n",
        "getOneFoldResults(X_test_D, y_test_D, mNB1)"
      ],
      "metadata": {
        "id": "f3TPFlHuk4YS",
        "colab": {
          "base_uri": "https://localhost:8080/"
        },
        "outputId": "87fe93e1-66b9-4655-bee0-04f086c18b1c"
      },
      "execution_count": null,
      "outputs": [
        {
          "output_type": "stream",
          "name": "stdout",
          "text": [
            "              precision    recall  f1-score   support\n",
            "\n",
            "           0       0.67      0.60      0.63        55\n",
            "           1       0.85      0.89      0.87       140\n",
            "\n",
            "    accuracy                           0.81       195\n",
            "   macro avg       0.76      0.74      0.75       195\n",
            "weighted avg       0.80      0.81      0.80       195\n",
            "\n"
          ]
        }
      ]
    },
    {
      "cell_type": "code",
      "source": [
        "# Get results for multi-fold cross-validation\n",
        "outputNB1 = getMultiFoldResults(X_D, y_D, mNB1)"
      ],
      "metadata": {
        "id": "Jk6yvT4_k6aY",
        "colab": {
          "base_uri": "https://localhost:8080/"
        },
        "outputId": "99c7912d-12b9-4413-cccd-79abecff8cb6"
      },
      "execution_count": null,
      "outputs": [
        {
          "output_type": "stream",
          "name": "stdout",
          "text": [
            "Accuracy: 0.803 (0.055)\n",
            "Precision: 0.840 (0.052)\n",
            "Recall: 0.892 (0.065)\n"
          ]
        }
      ]
    },
    {
      "cell_type": "code",
      "source": [
        "# Get predicted values\n",
        "predictedNB1 = mNB1.predict(X_test_D)"
      ],
      "metadata": {
        "id": "H0IIEu5Wt6Z0"
      },
      "execution_count": null,
      "outputs": []
    },
    {
      "cell_type": "markdown",
      "source": [
        "### **Result 2**\n",
        "*   Changing the **var_smoothing** parameter to 1e-3, which adjusts the \"calculation stability\" by modifying the value to the Gaussian distribution variance [3]."
      ],
      "metadata": {
        "id": "8T78M92U_slq"
      }
    },
    {
      "cell_type": "code",
      "source": [
        "# Fit model and get information about model\n",
        "mNB2 =  GaussianNB(var_smoothing=1e-3).fit(X_train_D, y_train_D)\n",
        "getInfoNB(mNB2)"
      ],
      "metadata": {
        "colab": {
          "base_uri": "https://localhost:8080/"
        },
        "id": "eTStZczA_sE2",
        "outputId": "07f95638-327f-420b-a999-f4d1e6e4a566"
      },
      "execution_count": null,
      "outputs": [
        {
          "output_type": "stream",
          "name": "stdout",
          "text": [
            "Parameters:\n",
            "{'priors': None, 'var_smoothing': 0.001}\n",
            "Classes:\n",
            "[0 1]\n",
            "Feature:\n",
            "30\n",
            "Feature names:\n",
            "['school' 'sex' 'age' 'address' 'famsize' 'Pstatus' 'Medu' 'Fedu' 'Mjob'\n",
            " 'Fjob' 'reason' 'guardian' 'traveltime' 'studytime' 'failures'\n",
            " 'schoolsup' 'famsup' 'paid' 'activities' 'nursery' 'higher' 'internet'\n",
            " 'romantic' 'famrel' 'freetime' 'goout' 'Dalc' 'Walc' 'health' 'absences']\n"
          ]
        }
      ]
    },
    {
      "cell_type": "code",
      "source": [
        "# Get results for 1-fold cross-validation\n",
        "getOneFoldResults(X_test_D, y_test_D, mNB2)"
      ],
      "metadata": {
        "colab": {
          "base_uri": "https://localhost:8080/"
        },
        "id": "NKgnPVYW_9tW",
        "outputId": "d32a7dd6-39ef-4377-f47b-1cb47ebf536d"
      },
      "execution_count": null,
      "outputs": [
        {
          "output_type": "stream",
          "name": "stdout",
          "text": [
            "              precision    recall  f1-score   support\n",
            "\n",
            "           0       0.67      0.60      0.63        55\n",
            "           1       0.85      0.89      0.87       140\n",
            "\n",
            "    accuracy                           0.81       195\n",
            "   macro avg       0.76      0.74      0.75       195\n",
            "weighted avg       0.80      0.81      0.80       195\n",
            "\n"
          ]
        }
      ]
    },
    {
      "cell_type": "code",
      "source": [
        "# Get results for multi-fold cross-validation\n",
        "outputNB2 = getMultiFoldResults(X_D, y_D, mNB2)"
      ],
      "metadata": {
        "colab": {
          "base_uri": "https://localhost:8080/"
        },
        "id": "UJdWeCOl__at",
        "outputId": "33b7e26e-cf7a-4a2d-fe53-c578f751d6a0"
      },
      "execution_count": null,
      "outputs": [
        {
          "output_type": "stream",
          "name": "stdout",
          "text": [
            "Accuracy: 0.803 (0.055)\n",
            "Precision: 0.842 (0.055)\n",
            "Recall: 0.889 (0.064)\n"
          ]
        }
      ]
    },
    {
      "cell_type": "code",
      "source": [
        "# Get predicted values\n",
        "predictedNB2 = mNB2.predict(X_test_D)"
      ],
      "metadata": {
        "id": "yINdgA8gtpUx"
      },
      "execution_count": null,
      "outputs": []
    },
    {
      "cell_type": "markdown",
      "source": [
        "### **Result 3**\n",
        "*   Changing the **var_smoothing** parameter to 1e-15, which adjusts the \"calculation stability\" by modifying the value to the Gaussian distribution variance [3]."
      ],
      "metadata": {
        "id": "N32ahpziw8RP"
      }
    },
    {
      "cell_type": "code",
      "source": [
        "# Fit model and get information about model\n",
        "mNB3 =  GaussianNB(var_smoothing=1e-15).fit(X_train_D, y_train_D)\n",
        "getInfoNB(mNB3)"
      ],
      "metadata": {
        "colab": {
          "base_uri": "https://localhost:8080/"
        },
        "id": "0fkVZSI2ABYR",
        "outputId": "ee70ad2b-7080-4d08-b560-0694bf657449"
      },
      "execution_count": null,
      "outputs": [
        {
          "output_type": "stream",
          "name": "stdout",
          "text": [
            "Parameters:\n",
            "{'priors': None, 'var_smoothing': 1e-15}\n",
            "Classes:\n",
            "[0 1]\n",
            "Feature:\n",
            "30\n",
            "Feature names:\n",
            "['school' 'sex' 'age' 'address' 'famsize' 'Pstatus' 'Medu' 'Fedu' 'Mjob'\n",
            " 'Fjob' 'reason' 'guardian' 'traveltime' 'studytime' 'failures'\n",
            " 'schoolsup' 'famsup' 'paid' 'activities' 'nursery' 'higher' 'internet'\n",
            " 'romantic' 'famrel' 'freetime' 'goout' 'Dalc' 'Walc' 'health' 'absences']\n"
          ]
        }
      ]
    },
    {
      "cell_type": "code",
      "source": [
        "# Get results for 1-fold cross-validation\n",
        "getOneFoldResults(X_test_D, y_test_D, mNB3)"
      ],
      "metadata": {
        "colab": {
          "base_uri": "https://localhost:8080/"
        },
        "id": "WSQekzuzABSd",
        "outputId": "6a36d010-a8c5-4dfc-f6b6-8e8e97984bcd"
      },
      "execution_count": null,
      "outputs": [
        {
          "output_type": "stream",
          "name": "stdout",
          "text": [
            "              precision    recall  f1-score   support\n",
            "\n",
            "           0       0.67      0.60      0.63        55\n",
            "           1       0.85      0.89      0.87       140\n",
            "\n",
            "    accuracy                           0.81       195\n",
            "   macro avg       0.76      0.74      0.75       195\n",
            "weighted avg       0.80      0.81      0.80       195\n",
            "\n"
          ]
        }
      ]
    },
    {
      "cell_type": "code",
      "source": [
        "# Get results for multi-fold cross-validation\n",
        "outputNB3 = getMultiFoldResults(X_D, y_D, mNB3)"
      ],
      "metadata": {
        "colab": {
          "base_uri": "https://localhost:8080/"
        },
        "id": "ttlDngluABGa",
        "outputId": "7f1f86ce-8bf9-460e-ba9a-eebd5da9b9ab"
      },
      "execution_count": null,
      "outputs": [
        {
          "output_type": "stream",
          "name": "stdout",
          "text": [
            "Accuracy: 0.803 (0.055)\n",
            "Precision: 0.840 (0.052)\n",
            "Recall: 0.892 (0.065)\n"
          ]
        }
      ]
    },
    {
      "cell_type": "code",
      "source": [
        "# Get predicted values\n",
        "predictedNB3 = mNB3.predict(X_test_D)"
      ],
      "metadata": {
        "id": "XLu5ll9ctY0z"
      },
      "execution_count": null,
      "outputs": []
    },
    {
      "cell_type": "markdown",
      "source": [
        "## **b. Logistic Regression**\n",
        "*   This section was achieved with the help of the scikit-learn LogisticRegression documentation [5], along with a few articles to understand its implementation [6]-[8]."
      ],
      "metadata": {
        "id": "onmTaR5Ktjrf"
      }
    },
    {
      "cell_type": "markdown",
      "source": [
        "### **Result 1**\n",
        "* Using the default parameters of the LogisticRegression model.\n"
      ],
      "metadata": {
        "id": "aXVV9xpX9i2F"
      }
    },
    {
      "cell_type": "code",
      "source": [
        "# Fit model and get information about model\n",
        "mLR1 = LogisticRegression(max_iter=1000).fit(X_train_OHE, y_train_OHE)\n",
        "getInfoLR(mLR1)"
      ],
      "metadata": {
        "id": "yglmnqf-mLTz",
        "colab": {
          "base_uri": "https://localhost:8080/"
        },
        "outputId": "7ee3b1f5-c69b-45f3-a163-ee512e39d642"
      },
      "execution_count": null,
      "outputs": [
        {
          "output_type": "stream",
          "name": "stdout",
          "text": [
            "Parameters:\n",
            "{'C': 1.0, 'class_weight': None, 'dual': False, 'fit_intercept': True, 'intercept_scaling': 1, 'l1_ratio': None, 'max_iter': 1000, 'multi_class': 'auto', 'n_jobs': None, 'penalty': 'l2', 'random_state': None, 'solver': 'lbfgs', 'tol': 0.0001, 'verbose': 0, 'warm_start': False}\n",
            "Classes:\n",
            "[0 1]\n",
            "Coefficients:\n",
            "[[-0.00828445  0.20917731  0.09276444  0.01404267  0.02563638 -1.84479281\n",
            "  -0.82898606 -0.19863956  0.40764022  0.0434381  -0.21716106  1.39850531\n",
            "   0.05344759 -0.33579034  0.03333304 -0.10259203  0.01246559  0.06395647\n",
            "  -0.17964505 -0.03318939 -0.0853485   0.38451417 -0.38197799  0.32919978\n",
            "  -0.3266636  -0.11953863  0.12207481  0.08925148 -0.08671529  0.03029743\n",
            "  -0.02776125 -0.3091806   0.37850772 -0.24571824 -0.11284254  0.29176985\n",
            "   0.4906276  -0.85643252  0.32092175 -0.33498461  0.38240397 -0.42491287\n",
            "   0.43195294  0.00270843 -0.00721232 -0.06457963 -0.74562581  0.81274163]]\n",
            "Intercept:\n",
            "[1.20153877]\n",
            "Feature:\n",
            "48\n",
            "Feature names:\n",
            "['age' 'Medu' 'Fedu' 'traveltime' 'studytime' 'failures' 'schoolsup'\n",
            " 'famsup' 'paid' 'activities' 'nursery' 'higher' 'internet' 'romantic'\n",
            " 'famrel' 'freetime' 'goout' 'Dalc' 'Walc' 'health' 'absences' 'school_GP'\n",
            " 'school_MS' 'sex_F' 'sex_M' 'address_R' 'address_U' 'famsize_GT3'\n",
            " 'famsize_LE3' 'Pstatus_A' 'Pstatus_T' 'Mjob_at_home' 'Mjob_health'\n",
            " 'Mjob_other' 'Mjob_services' 'Mjob_teacher' 'Fjob_at_home' 'Fjob_health'\n",
            " 'Fjob_other' 'Fjob_services' 'Fjob_teacher' 'reason_course' 'reason_home'\n",
            " 'reason_other' 'reason_reputation' 'guardian_father' 'guardian_mother'\n",
            " 'guardian_other']\n",
            "Number of iterations:\n",
            "[203]\n"
          ]
        }
      ]
    },
    {
      "cell_type": "code",
      "source": [
        "# Get results for 1-fold cross-validation\n",
        "getOneFoldResults(X_test_OHE,y_test_OHE,mLR1)"
      ],
      "metadata": {
        "id": "OPRy4VEufIB0",
        "colab": {
          "base_uri": "https://localhost:8080/"
        },
        "outputId": "9ac93b82-0bbb-478e-e2f2-df4d13e49360"
      },
      "execution_count": null,
      "outputs": [
        {
          "output_type": "stream",
          "name": "stdout",
          "text": [
            "              precision    recall  f1-score   support\n",
            "\n",
            "           0       0.76      0.45      0.57        55\n",
            "           1       0.81      0.94      0.87       140\n",
            "\n",
            "    accuracy                           0.81       195\n",
            "   macro avg       0.79      0.70      0.72       195\n",
            "weighted avg       0.80      0.81      0.79       195\n",
            "\n"
          ]
        }
      ]
    },
    {
      "cell_type": "code",
      "source": [
        "# Get results for multi-fold cross-validation\n",
        "outputLR1 = getMultiFoldResults(X_OHE, y_OHE, mLR1)"
      ],
      "metadata": {
        "id": "hNQDEN8Tfm9o",
        "colab": {
          "base_uri": "https://localhost:8080/"
        },
        "outputId": "e7913831-857f-4ec9-ef7d-c5ce8551e3cd"
      },
      "execution_count": null,
      "outputs": [
        {
          "output_type": "stream",
          "name": "stdout",
          "text": [
            "Accuracy: 0.790 (0.049)\n",
            "Precision: 0.815 (0.053)\n",
            "Recall: 0.912 (0.049)\n"
          ]
        }
      ]
    },
    {
      "cell_type": "code",
      "source": [
        "# Get predicted values\n",
        "predictedLR1 = mLR1.predict(X_test_OHE)"
      ],
      "metadata": {
        "id": "osc9wKdCvdvh"
      },
      "execution_count": null,
      "outputs": []
    },
    {
      "cell_type": "markdown",
      "source": [
        "### **Result 2**\n",
        "*   Initially, we tried changing the **solver**, it did not change the results.\n",
        "* Then we decided to change **class_weight** to 'balanced' to help with the class imbalance. According to sklearn documentation: \"[t]he 'balanced' mode uses the values of y to automatically adjust weights inversely proportional to class frequencies in the input data as n_samples / (n_classes * np.bincount(y))\" [5]."
      ],
      "metadata": {
        "id": "at9xs-Ed_9r4"
      }
    },
    {
      "cell_type": "code",
      "source": [
        "# Fit model and get information about model\n",
        "mLR2 = LogisticRegression(max_iter=1000, class_weight='balanced').fit(X_train_OHE, y_train_OHE)\n",
        "getInfoLR(mLR2)"
      ],
      "metadata": {
        "id": "QO5hpozH_9r5",
        "colab": {
          "base_uri": "https://localhost:8080/"
        },
        "outputId": "bd9dd9e3-229c-4fba-a59f-c040b3a007ed"
      },
      "execution_count": null,
      "outputs": [
        {
          "output_type": "stream",
          "name": "stdout",
          "text": [
            "Parameters:\n",
            "{'C': 1.0, 'class_weight': 'balanced', 'dual': False, 'fit_intercept': True, 'intercept_scaling': 1, 'l1_ratio': None, 'max_iter': 1000, 'multi_class': 'auto', 'n_jobs': None, 'penalty': 'l2', 'random_state': None, 'solver': 'lbfgs', 'tol': 0.0001, 'verbose': 0, 'warm_start': False}\n",
            "Classes:\n",
            "[0 1]\n",
            "Coefficients:\n",
            "[[ 0.00429971  0.15070325  0.10406265 -0.03931896  0.04931277 -1.78345943\n",
            "  -0.93406057 -0.14977793  0.50907184  0.02699514 -0.04803472  1.36707443\n",
            "   0.05716175 -0.27716554  0.02392617 -0.08330841 -0.00829661  0.03557208\n",
            "  -0.15018756 -0.06135554 -0.08948002  0.43087451 -0.43073504  0.34037821\n",
            "  -0.34023874 -0.11215062  0.11229009  0.11417841 -0.11403895  0.05380845\n",
            "  -0.05366898 -0.35156952  0.46253366 -0.27096101 -0.16501958  0.32515592\n",
            "   0.51029893 -0.89159472  0.33356946 -0.30964138  0.35750718 -0.43178941\n",
            "   0.44651274  0.00724747 -0.02183134 -0.02574813 -0.6878339   0.7137215 ]]\n",
            "Intercept:\n",
            "[0.33701396]\n",
            "Feature:\n",
            "48\n",
            "Feature names:\n",
            "['age' 'Medu' 'Fedu' 'traveltime' 'studytime' 'failures' 'schoolsup'\n",
            " 'famsup' 'paid' 'activities' 'nursery' 'higher' 'internet' 'romantic'\n",
            " 'famrel' 'freetime' 'goout' 'Dalc' 'Walc' 'health' 'absences' 'school_GP'\n",
            " 'school_MS' 'sex_F' 'sex_M' 'address_R' 'address_U' 'famsize_GT3'\n",
            " 'famsize_LE3' 'Pstatus_A' 'Pstatus_T' 'Mjob_at_home' 'Mjob_health'\n",
            " 'Mjob_other' 'Mjob_services' 'Mjob_teacher' 'Fjob_at_home' 'Fjob_health'\n",
            " 'Fjob_other' 'Fjob_services' 'Fjob_teacher' 'reason_course' 'reason_home'\n",
            " 'reason_other' 'reason_reputation' 'guardian_father' 'guardian_mother'\n",
            " 'guardian_other']\n",
            "Number of iterations:\n",
            "[300]\n"
          ]
        }
      ]
    },
    {
      "cell_type": "code",
      "source": [
        "# Get results for 1-fold cross-validation\n",
        "getOneFoldResults(X_test_OHE,y_test_OHE,mLR2)"
      ],
      "metadata": {
        "colab": {
          "base_uri": "https://localhost:8080/"
        },
        "outputId": "dc92556f-dc4b-4522-e7e1-16e23a664c1c",
        "id": "UQeqtqrN7IW2"
      },
      "execution_count": null,
      "outputs": [
        {
          "output_type": "stream",
          "name": "stdout",
          "text": [
            "              precision    recall  f1-score   support\n",
            "\n",
            "           0       0.60      0.58      0.59        55\n",
            "           1       0.84      0.85      0.84       140\n",
            "\n",
            "    accuracy                           0.77       195\n",
            "   macro avg       0.72      0.72      0.72       195\n",
            "weighted avg       0.77      0.77      0.77       195\n",
            "\n"
          ]
        }
      ]
    },
    {
      "cell_type": "code",
      "source": [
        "# Get results for multi-fold cross-validation\n",
        "outputLR2 = getMultiFoldResults(X_OHE, y_OHE, mLR2)"
      ],
      "metadata": {
        "colab": {
          "base_uri": "https://localhost:8080/"
        },
        "outputId": "ed29bd07-18ef-4eb4-a0e2-08f9919efe26",
        "id": "3rAna8EG7IW3"
      },
      "execution_count": null,
      "outputs": [
        {
          "output_type": "stream",
          "name": "stdout",
          "text": [
            "Accuracy: 0.758 (0.055)\n",
            "Precision: 0.856 (0.055)\n",
            "Recall: 0.789 (0.056)\n"
          ]
        }
      ]
    },
    {
      "cell_type": "code",
      "source": [
        "# Get predicted values\n",
        "predictedLR2 = mLR2.predict(X_test_OHE)"
      ],
      "metadata": {
        "id": "xHPZOFSjvaKS"
      },
      "execution_count": null,
      "outputs": []
    },
    {
      "cell_type": "markdown",
      "source": [
        "### **Result 3**\n",
        "*   We changed the **C** parameter from 1.0 to 0.1, which is the \"inverse of regularization strength; must be a positive float. Like in support vector machines, smaller values specify stronger regularization\" [5].\n",
        "* In fact, a high C means the training data is trustworthy, while a low value means the \"data may not be fully representative of the real world data, so if it's telling you to make a parameter really large, don't listen to it\" [9]."
      ],
      "metadata": {
        "id": "T97-OzxMKJ5l"
      }
    },
    {
      "cell_type": "code",
      "source": [
        "# Fit model and get information about model\n",
        "mLR3 = LogisticRegression(max_iter=1000, C=0.1).fit(X_train_OHE, y_train_OHE)\n",
        "getInfoLR(mLR3)"
      ],
      "metadata": {
        "id": "EiwMQKM2KJ5w",
        "colab": {
          "base_uri": "https://localhost:8080/"
        },
        "outputId": "dab69c8e-4eca-478e-aaf9-6cd5e2e6d248"
      },
      "execution_count": null,
      "outputs": [
        {
          "output_type": "stream",
          "name": "stdout",
          "text": [
            "Parameters:\n",
            "{'C': 0.1, 'class_weight': None, 'dual': False, 'fit_intercept': True, 'intercept_scaling': 1, 'l1_ratio': None, 'max_iter': 1000, 'multi_class': 'auto', 'n_jobs': None, 'penalty': 'l2', 'random_state': None, 'solver': 'lbfgs', 'tol': 0.0001, 'verbose': 0, 'warm_start': False}\n",
            "Classes:\n",
            "[0 1]\n",
            "Coefficients:\n",
            "[[-0.05200945  0.24645071  0.08395525  0.01110523  0.0739319  -1.01668361\n",
            "  -0.31806569 -0.07833217  0.06673703  0.02436254 -0.08922171  0.62910909\n",
            "   0.10568869 -0.19417177  0.02859796 -0.10597094  0.00450262 -0.01010926\n",
            "  -0.118037   -0.05608607 -0.08007653  0.3032762  -0.30298973  0.18786077\n",
            "  -0.18757431 -0.11979847  0.12008493  0.05421023 -0.05392377  0.0053087\n",
            "  -0.00502224 -0.13190807  0.08676573 -0.05065515 -0.0578532   0.15393715\n",
            "   0.11298581 -0.24255406  0.20854795 -0.20202387  0.12333064 -0.26875818\n",
            "   0.27456746 -0.04926852  0.0437457   0.08901091 -0.31431504  0.22559059]]\n",
            "Intercept:\n",
            "[1.67656048]\n",
            "Feature:\n",
            "48\n",
            "Feature names:\n",
            "['age' 'Medu' 'Fedu' 'traveltime' 'studytime' 'failures' 'schoolsup'\n",
            " 'famsup' 'paid' 'activities' 'nursery' 'higher' 'internet' 'romantic'\n",
            " 'famrel' 'freetime' 'goout' 'Dalc' 'Walc' 'health' 'absences' 'school_GP'\n",
            " 'school_MS' 'sex_F' 'sex_M' 'address_R' 'address_U' 'famsize_GT3'\n",
            " 'famsize_LE3' 'Pstatus_A' 'Pstatus_T' 'Mjob_at_home' 'Mjob_health'\n",
            " 'Mjob_other' 'Mjob_services' 'Mjob_teacher' 'Fjob_at_home' 'Fjob_health'\n",
            " 'Fjob_other' 'Fjob_services' 'Fjob_teacher' 'reason_course' 'reason_home'\n",
            " 'reason_other' 'reason_reputation' 'guardian_father' 'guardian_mother'\n",
            " 'guardian_other']\n",
            "Number of iterations:\n",
            "[87]\n"
          ]
        }
      ]
    },
    {
      "cell_type": "code",
      "source": [
        "# Get results for 1-fold cross-validation\n",
        "getOneFoldResults(X_test_OHE,y_test_OHE,mLR3)"
      ],
      "metadata": {
        "colab": {
          "base_uri": "https://localhost:8080/"
        },
        "outputId": "3032a076-d7f9-42b9-ee9a-c813e1137ea7",
        "id": "ORhYz3en7S4I"
      },
      "execution_count": null,
      "outputs": [
        {
          "output_type": "stream",
          "name": "stdout",
          "text": [
            "              precision    recall  f1-score   support\n",
            "\n",
            "           0       0.75      0.49      0.59        55\n",
            "           1       0.82      0.94      0.88       140\n",
            "\n",
            "    accuracy                           0.81       195\n",
            "   macro avg       0.79      0.71      0.73       195\n",
            "weighted avg       0.80      0.81      0.80       195\n",
            "\n"
          ]
        }
      ]
    },
    {
      "cell_type": "code",
      "source": [
        "# Get results for multi-fold cross-validation\n",
        "outputLR3 = getMultiFoldResults(X_OHE, y_OHE, mLR3)"
      ],
      "metadata": {
        "colab": {
          "base_uri": "https://localhost:8080/"
        },
        "outputId": "1c67ff8a-6aef-43ee-dec8-e443a5eb396d",
        "id": "q4mzWA1i7S4I"
      },
      "execution_count": null,
      "outputs": [
        {
          "output_type": "stream",
          "name": "stdout",
          "text": [
            "Accuracy: 0.781 (0.047)\n",
            "Precision: 0.800 (0.055)\n",
            "Recall: 0.921 (0.049)\n"
          ]
        }
      ]
    },
    {
      "cell_type": "code",
      "source": [
        "# Get predicted values\n",
        "predictedLR3 = mLR3.predict(X_test_OHE)"
      ],
      "metadata": {
        "id": "X2QY5-c8vBfL"
      },
      "execution_count": null,
      "outputs": []
    },
    {
      "cell_type": "markdown",
      "source": [
        "## **c. Multi-Layer Perceptron**\n",
        "*   This section was achieved with the help of the scikit-learn MLPClassifier documentation [10]."
      ],
      "metadata": {
        "id": "7u5O4Pm6Y6j4"
      }
    },
    {
      "cell_type": "markdown",
      "source": [
        "### **Result 1**\n",
        "\n",
        "\n",
        "*  Using the default parameters of the MLPClassifier model."
      ],
      "metadata": {
        "id": "uGWXbvDHeupT"
      }
    },
    {
      "cell_type": "code",
      "source": [
        "# Fit model and get information about model\n",
        "clf1 = MLPClassifier(max_iter=1000).fit(X_train_OHE, y_train_OHE)\n",
        "getInfoMLP(clf1)"
      ],
      "metadata": {
        "colab": {
          "base_uri": "https://localhost:8080/"
        },
        "id": "2Ien9POoZXZp",
        "outputId": "6cbeeb5e-71ca-4cf4-ce95-335f704bd7e2"
      },
      "execution_count": null,
      "outputs": [
        {
          "output_type": "stream",
          "name": "stdout",
          "text": [
            "Parameters:\n",
            "{'activation': 'relu', 'alpha': 0.0001, 'batch_size': 'auto', 'beta_1': 0.9, 'beta_2': 0.999, 'early_stopping': False, 'epsilon': 1e-08, 'hidden_layer_sizes': (100,), 'learning_rate': 'constant', 'learning_rate_init': 0.001, 'max_fun': 15000, 'max_iter': 1000, 'momentum': 0.9, 'n_iter_no_change': 10, 'nesterovs_momentum': True, 'power_t': 0.5, 'random_state': None, 'shuffle': True, 'solver': 'adam', 'tol': 0.0001, 'validation_fraction': 0.1, 'verbose': False, 'warm_start': False}\n",
            "Classes:\n",
            "[0 1]\n",
            "Current loss computed with the loss function:\n",
            "0.012563755555300959\n",
            "Minimum loss reached by the solver throughout fitting:\n",
            "0.012004778705288648\n",
            "ith element in the list represents the loss at the ith iteration:\n",
            "[1.7662960270540504, 1.1474085013287545, 0.759710066116525, 0.6595556771080601, 0.711567539193994, 0.7571688344632891, 0.7464957220843728, 0.6956360918520884, 0.6418916055295943, 0.6096524017296202, 0.6007205946585431, 0.6008425972150213, 0.597220083621174, 0.5859412808801261, 0.5737950617678067, 0.5652821480941728, 0.5595392386599909, 0.5541691922838156, 0.5459276495494908, 0.5385956549733681, 0.5346167469974926, 0.5291698431296717, 0.5229084181354188, 0.5154233006260618, 0.5104490898099885, 0.5048068254933419, 0.4989453047427613, 0.49335441896695476, 0.4884294599751196, 0.48479733836393335, 0.4807190402157773, 0.47621049899958984, 0.47230173921459995, 0.4689114822084478, 0.4651616727304022, 0.4621193522595838, 0.45882443926503175, 0.45623769766878874, 0.45322680324029474, 0.45020109308049067, 0.44785280742645983, 0.4456678447105907, 0.44305229356968656, 0.44019114996001923, 0.43889669272990267, 0.43698376588933835, 0.4352164528114517, 0.43187146460816334, 0.4295798008016641, 0.42770201032813354, 0.4271051416263648, 0.4250114158473385, 0.4241002812385568, 0.42170736382586577, 0.41901086861475834, 0.4193515891817377, 0.41616453205199955, 0.41561898774770584, 0.41526715602599645, 0.41249339286714537, 0.41198176922990626, 0.4106298494418526, 0.40679562971332683, 0.4065572911855107, 0.40493218307229556, 0.40240589255896336, 0.40095226346863094, 0.39980029806088646, 0.3981992663311966, 0.396725915079505, 0.39540895825209205, 0.3938795729190272, 0.39276644667048993, 0.39094320881297573, 0.3919917810231646, 0.39191561906840156, 0.3868773081857739, 0.38888384203917054, 0.38593715180771687, 0.3832630050364955, 0.3824412318793341, 0.38109933416003605, 0.3787979760773892, 0.3785158169081601, 0.3773555038995248, 0.37701314521271934, 0.37499580716870046, 0.37451306167391224, 0.37266333039466254, 0.37066726576387304, 0.3696509210470905, 0.3685292879892132, 0.36692178033004225, 0.36619469943354155, 0.36710577561952984, 0.3645862001855039, 0.361376518119713, 0.3643568318009411, 0.36119872217781135, 0.3598270095503359, 0.36049856764972327, 0.3571168980631912, 0.35515414652089883, 0.35484614810115417, 0.35321621371117784, 0.3505388458352963, 0.3501014786658436, 0.34895641828144325, 0.34918132261123697, 0.3460960072914244, 0.3472525891252055, 0.3452805321028599, 0.34298355440386546, 0.34173350288034, 0.3414849588677462, 0.3384202191703876, 0.33828758682779575, 0.33757685482631494, 0.3355244874081286, 0.3343074040052913, 0.3334128450493211, 0.33174472506679925, 0.33013291049007193, 0.3290753718933621, 0.3274835341685778, 0.32842691886867764, 0.32764529224847766, 0.32518977760513795, 0.3233582039478617, 0.32417049092986394, 0.32128629107749745, 0.32230616413600854, 0.31981188916728404, 0.32240834214522746, 0.3184569260633515, 0.3192368082403169, 0.316101116039622, 0.3133777517425356, 0.31262227481542454, 0.3115417032698609, 0.3117733760165716, 0.3100044598006187, 0.3086348403021565, 0.30769163442555486, 0.3066800467549373, 0.30520861174211456, 0.30429402105717546, 0.30314483421748617, 0.30217117564046364, 0.30073686800714633, 0.30002499970742946, 0.2988077054186484, 0.29811432963484213, 0.2965135960141117, 0.2967767407999713, 0.29430360277789847, 0.2933764011553562, 0.2926493185381477, 0.2926363256712627, 0.2915547827279309, 0.2899403626577576, 0.28883296828710886, 0.28783132777469733, 0.28711887706617784, 0.2861042630757452, 0.28731900385294595, 0.28359534931973757, 0.2866446734792835, 0.28142670153764376, 0.28176477798618144, 0.281183754589958, 0.2784691916538392, 0.2779834729687068, 0.27638105795876117, 0.2758083976048807, 0.274771028330356, 0.27302590813727756, 0.27204940267028954, 0.27277752848506415, 0.27029248561314173, 0.27024412908496565, 0.26759354571621374, 0.2680611539449263, 0.26643545435303884, 0.26544178934689006, 0.2639915265437344, 0.2646762275517398, 0.261988854298151, 0.26196064226358945, 0.2618392498329425, 0.258860448149344, 0.2599327723557345, 0.25712883921548624, 0.25917316694724846, 0.25492271124903354, 0.2575002717261928, 0.25117703682356735, 0.261892842520613, 0.25738133840337796, 0.2501033089682345, 0.25160051190337906, 0.25053695052838515, 0.24969280649407152, 0.24659567776116909, 0.2499931012179602, 0.24709787513063153, 0.24452302108586263, 0.2434097705841217, 0.2445781565144474, 0.24161739907355362, 0.24123827806234013, 0.2385051159909436, 0.23969134949351528, 0.2383769074003689, 0.23623068188468221, 0.23464194953001388, 0.23454686027596924, 0.2344884976640086, 0.23167568054212545, 0.23209065591306527, 0.232094814786393, 0.2294661249205131, 0.22826132158203072, 0.2271517119565597, 0.22634227521316677, 0.2259166868810045, 0.22504641230225475, 0.2231126725684952, 0.22260778722601862, 0.22166344917099956, 0.2205298392548546, 0.2193845588602446, 0.2188243625114988, 0.21805678570732892, 0.2182466981966473, 0.21758200037912914, 0.21514277016292122, 0.2140727976338564, 0.21299414463021762, 0.212206400029152, 0.2123927627552402, 0.20952168954813458, 0.21270681177028392, 0.209094504926938, 0.2103384656611188, 0.20706813316136588, 0.2079027439757532, 0.20649586792091068, 0.20416895561655765, 0.20391407035082804, 0.20369028165592698, 0.20305812033694684, 0.2010372186527911, 0.20007451927672407, 0.2038720882591854, 0.19968304461804895, 0.20203727241113761, 0.19747738970736622, 0.19945931258208563, 0.19557070386205164, 0.1947392717319767, 0.19348478569964422, 0.19506252257233347, 0.19315877374677412, 0.19257645222377628, 0.194839997077207, 0.18905426785870844, 0.19144740542975955, 0.18912510311723435, 0.19160339281980632, 0.1879083830880147, 0.18498983555156917, 0.18607764774366217, 0.1838354783214339, 0.1827927806871843, 0.18313826444705453, 0.18106909446767347, 0.1802680660434722, 0.18064535042539043, 0.17878078734444425, 0.1805674232604755, 0.17804166234815047, 0.18177539524182496, 0.17613352780163058, 0.17957676637317246, 0.1753876661456492, 0.17693212522125654, 0.1743373650599437, 0.17452589700491575, 0.17513234774598138, 0.17184392749124341, 0.1717019345692197, 0.17099274222168898, 0.1701015096967488, 0.1693563001015637, 0.16658673015257625, 0.16903765210368157, 0.16537628290402798, 0.16736803968232225, 0.16497158209188123, 0.16654779955351798, 0.1631390619236838, 0.1636310578806529, 0.16147281836834412, 0.16122312159289848, 0.16574919973773727, 0.15940548672702454, 0.16161726667441226, 0.15788646199926698, 0.15852068901164626, 0.15574365778330426, 0.15713408807679288, 0.1548208592006203, 0.15443197663881422, 0.1534620779080111, 0.1531073650799063, 0.15194070347822713, 0.15162974771763182, 0.1511612052120065, 0.14993352000767346, 0.1490022056550092, 0.14811031189966986, 0.1477313978762856, 0.1478469668829879, 0.147339506015015, 0.1465865534295842, 0.14553022665741217, 0.14452616445448255, 0.1435871201034986, 0.14338362046125025, 0.14303728286497847, 0.1418833385321828, 0.14220488150177346, 0.14182950841385017, 0.14141887772071277, 0.14070697050537587, 0.14015610711383086, 0.13823379367712457, 0.13998174706935992, 0.13765689006889592, 0.13764600867301363, 0.13758701908764098, 0.1358324095296985, 0.13498279733404883, 0.13422411858109767, 0.1346760820358086, 0.13336189631057974, 0.1321378408353914, 0.13249419792237968, 0.1314402026066631, 0.1316998244201064, 0.1304371897279213, 0.13000114021305145, 0.12950140231721285, 0.12809419439144426, 0.12836527549770382, 0.12785999347966953, 0.12682234759819305, 0.12609696601500076, 0.12588002643821858, 0.12477184353336179, 0.12527249788314795, 0.1247405588234916, 0.12499804659316933, 0.12252876287607839, 0.12428552674883526, 0.12294835716421314, 0.12269524099620782, 0.1204697389652023, 0.12136587965022605, 0.12009777002907228, 0.12133018626719641, 0.11936376572290741, 0.11932071706388683, 0.11741255147397814, 0.11904007888856222, 0.11725709781577473, 0.11760749755656962, 0.1159684907189403, 0.11521875606256402, 0.11490659822277292, 0.11452463693455056, 0.1136290349955377, 0.11348188024930253, 0.11374470679869299, 0.11286841277026306, 0.11184483238398538, 0.11200684231371791, 0.11248559725303497, 0.11037006722711858, 0.11004597538489742, 0.10934600359568859, 0.1098115820557007, 0.10820910142705771, 0.10827675885633876, 0.1077561307329978, 0.10709616112847856, 0.10610297171379425, 0.10664300311605947, 0.10445146970124682, 0.10714680655481786, 0.10390857641863137, 0.10936737710410674, 0.10346636126340933, 0.11027130387745605, 0.10497648993842988, 0.10285748821405338, 0.10378787224097884, 0.10143037969547554, 0.10096683567246907, 0.100626225106708, 0.10043961786825882, 0.0990621626821857, 0.09950397369510258, 0.09832572651847868, 0.09927511826623908, 0.09794044481907989, 0.09747590405788979, 0.0967225310543734, 0.09682067244454713, 0.0966932598341105, 0.09504406061407922, 0.09700905796259514, 0.09452916545107094, 0.09666190355019602, 0.09507084388842436, 0.09328443657153841, 0.09317489917509648, 0.09304872160610432, 0.09219822437016044, 0.09190086053439582, 0.09137033902063885, 0.09115341821561274, 0.09043837691412024, 0.090150987476464, 0.08991977827060083, 0.08953907094043737, 0.08924310780422341, 0.08892627970359257, 0.08875258995462795, 0.08797160666636569, 0.08803779117691972, 0.0864929066280701, 0.08879466201369576, 0.08733937943666216, 0.08788137372191504, 0.08653732359470304, 0.08893107795849814, 0.085689404538121, 0.08487927905284558, 0.08469912287962059, 0.08556090016087348, 0.0834788805244424, 0.08808806389576315, 0.08453227674440539, 0.08500688340815803, 0.08278971244217005, 0.08332418985591794, 0.08237093418180119, 0.08187727629757906, 0.08165003030527467, 0.080830261004452, 0.08050464540856121, 0.07998478390155542, 0.08078901126833508, 0.08152023327444763, 0.08013215024552542, 0.07880931445729365, 0.08019511852843325, 0.07850417178941457, 0.08073293681178659, 0.07703758981515697, 0.07849865834545829, 0.07662626793514371, 0.07703495265839899, 0.07746493613384371, 0.07534501843124017, 0.07629416097763356, 0.07527320273775624, 0.07574263053560722, 0.07476304030913328, 0.073834002729141, 0.07437410086266073, 0.07426663826152545, 0.07429475325777396, 0.07376986140822812, 0.07339907905928805, 0.07276597459354917, 0.07283777378360025, 0.07232786937423259, 0.07243077317645648, 0.07088515981317156, 0.07210567656036838, 0.07169549020336004, 0.07113643813469733, 0.07184869721075443, 0.0695446942460271, 0.0692387148104675, 0.06905786753032189, 0.06902660833910298, 0.0684831117855208, 0.06838925167070618, 0.06773842937992448, 0.06737801887416969, 0.06731057281450042, 0.06677898215769007, 0.06671473128681989, 0.06611253520744205, 0.06702769587858473, 0.06625414706693503, 0.0656537294395153, 0.06614116843529168, 0.06602054816958601, 0.06519652900295037, 0.06568023616230406, 0.06425807637881671, 0.06490333883868253, 0.0642185572063325, 0.06374962098841307, 0.06367521661279013, 0.0631801452275796, 0.06305388193933029, 0.06308731813969888, 0.06259168654620736, 0.062201295680304754, 0.06191508801847344, 0.06153889652791925, 0.06278472631388005, 0.061285014274473824, 0.06207978672563183, 0.0604228640902717, 0.06050068369273129, 0.05973749067989532, 0.060206857870144494, 0.06044618747574838, 0.05953159246735999, 0.05890836541839408, 0.059095347489265426, 0.0586290360981182, 0.060244807538107854, 0.05888764035567077, 0.06256102400926664, 0.05821625989463543, 0.05832321926634067, 0.05770664733554596, 0.05806219780637563, 0.05861793887174645, 0.05703661614378396, 0.05797318645309437, 0.056520150878189304, 0.05638081684387042, 0.05639636938043583, 0.055261540607957425, 0.056185287383027735, 0.05569320329372965, 0.05488486881436324, 0.054765153797313476, 0.05446914975676062, 0.05443760389602283, 0.05387337740597873, 0.05440690609293174, 0.05350472643395494, 0.05334770168421225, 0.053685153390747205, 0.053126480515427885, 0.052792052163847414, 0.05262989754219812, 0.05265168308757354, 0.05223816244201909, 0.05183063217644048, 0.05206533409777627, 0.05179507095539965, 0.05117433169585377, 0.05185074748960868, 0.050930854096645876, 0.05076126288740062, 0.051643025663602696, 0.05019637601532733, 0.05049188238698229, 0.05025692782041294, 0.050307110645010304, 0.05005636590020067, 0.04922182845491467, 0.049580506611518985, 0.049311652505661205, 0.04876844660833837, 0.0485605946692341, 0.04845601931587809, 0.04864120709757012, 0.04868901480707098, 0.047897164291287424, 0.04820447494160576, 0.048217870074440235, 0.04729713258494203, 0.047436635217533406, 0.04698672931127748, 0.04759881823179668, 0.04714205244667394, 0.046602728827133275, 0.04692799845900504, 0.04651666296005509, 0.046118256289812136, 0.04586169606402672, 0.04550495417773248, 0.04524985883594995, 0.045183723606329024, 0.04506604527704379, 0.04502410482909146, 0.04485856969428265, 0.04452993692582369, 0.04443864819943004, 0.04457417684848311, 0.044136705337951256, 0.044111827591274216, 0.043773631254140244, 0.043610314367777916, 0.043384719291586916, 0.0432934608919107, 0.042920700877570335, 0.04332650109227523, 0.04261867134859024, 0.04301328162101361, 0.043063849819211096, 0.04225368738064835, 0.04223721241088091, 0.042035342557108606, 0.041769975190232816, 0.04286113377062576, 0.042127129732712196, 0.0413554040155952, 0.04133490767197878, 0.04153098344781756, 0.04128151283139095, 0.04113821841867952, 0.04074452462315315, 0.04058543281403977, 0.041323739899131524, 0.04043131600126776, 0.04003234239808806, 0.039826706009780825, 0.03961408305302392, 0.03937593619847719, 0.03939098071441648, 0.039130302064045754, 0.038937007312948906, 0.038891988607366264, 0.038638467612414996, 0.03856051999913716, 0.03852578003568694, 0.03843036813152463, 0.03815206728253627, 0.038220412764805214, 0.03806868674372769, 0.037889392446921834, 0.03763468751121113, 0.037423674246401153, 0.03739208302962937, 0.037302135415158755, 0.03719004016057291, 0.037090254760151375, 0.037055134426120837, 0.036831683956733224, 0.036759893107175735, 0.036358282608939384, 0.03650008544144124, 0.036412754921400586, 0.03614420216222101, 0.03600141170579102, 0.03581887346102365, 0.035986263770753514, 0.03566605203239452, 0.03540323593275888, 0.035395734537054864, 0.03534907971761547, 0.034963641039559526, 0.034834352012558675, 0.034846938338858324, 0.03492140204275345, 0.03465377403838083, 0.03434724617706454, 0.03437448893252761, 0.03482408164305676, 0.034523373791662926, 0.03417514748249159, 0.03419989602673359, 0.03387521943650088, 0.03349328787637077, 0.033612325267834774, 0.03352052918174675, 0.03329760350174215, 0.03332513354591382, 0.032979816588493104, 0.03269073273435204, 0.03257544097326232, 0.03252505688470322, 0.032296270023591124, 0.03215840048583026, 0.03198666710607556, 0.03215497971125391, 0.032314672580336504, 0.03173497716830406, 0.032753754580258254, 0.03275545483287457, 0.03137029525687294, 0.03186695346094222, 0.03134043607990421, 0.031491753114223274, 0.03139298881351335, 0.031075968452096224, 0.030845269047124056, 0.030830251201203574, 0.03046931050994755, 0.03080984917679399, 0.030696920250788864, 0.030333334690689898, 0.030108693735264442, 0.0301904301482766, 0.029940264952465358, 0.03013442090404725, 0.029666711535696857, 0.02977997839224528, 0.029751514559067344, 0.02917165983373439, 0.029138657125132885, 0.029039566255586347, 0.028873370745442946, 0.02899272448310857, 0.02880953355409386, 0.02854805063335713, 0.028643860029919616, 0.0284235405041919, 0.02839063789877179, 0.028268793595585127, 0.02825281039944432, 0.028446361807032798, 0.027932309834401044, 0.02771723823703683, 0.027722290181399024, 0.027688812016841292, 0.02775498923612789, 0.027789530834960757, 0.02738232519438624, 0.027927689447104897, 0.02765289926191408, 0.027116216297359583, 0.027169189922403456, 0.02676633117053578, 0.026788980997469593, 0.026789760523023953, 0.026691497484328537, 0.026658800578583587, 0.02635721750839285, 0.02635218354922332, 0.026428428314848266, 0.026216595732086314, 0.026800999323946556, 0.026984916652974034, 0.025495333617209688, 0.027280719828723828, 0.025857490850147248, 0.025989393399106872, 0.025970769927940313, 0.025250355570856628, 0.025684968998678285, 0.0254980781988603, 0.025267638257593154, 0.024990544780934078, 0.024990134332644628, 0.024889081427148952, 0.024802439513707336, 0.02461442363468923, 0.024555036193846712, 0.02453050167331948, 0.02443062285291053, 0.024241325436562104, 0.02404720631286071, 0.02404654714024482, 0.02386731357422833, 0.023975212110880034, 0.024275773125820365, 0.024190666868609732, 0.02440848129685969, 0.023888643437685844, 0.024262830701371623, 0.023641868447984306, 0.023470820575072, 0.023329751545454046, 0.02328908407014131, 0.02316374304708165, 0.023083062169268163, 0.0231315993732013, 0.02292460208967893, 0.022716239070968324, 0.022629785078139508, 0.023095028205572687, 0.022909258998365333, 0.02262302395427553, 0.023047707402638225, 0.022173239990467185, 0.022617623528571933, 0.022557198830522273, 0.02204635653053801, 0.02209095688303254, 0.021971324958229576, 0.021854620906383453, 0.02189374260324574, 0.021660452985770615, 0.021695668962071146, 0.022079071313743023, 0.02138978043594889, 0.02141870935697257, 0.021648999304599598, 0.02140206348373257, 0.021348634382019116, 0.021257453952536597, 0.021512084624843254, 0.02130045203937978, 0.021170124530002436, 0.021010106557028556, 0.020759542727967515, 0.02061816231278404, 0.02066161396123917, 0.020767795844716164, 0.02066982097424885, 0.020379791938908938, 0.020622666104323614, 0.02041488326819801, 0.020641757124150548, 0.020436939916876548, 0.020632869796788113, 0.02013589050597895, 0.02044703768281564, 0.019979648325242752, 0.02021287934092043, 0.020820603455983674, 0.019896006370529372, 0.0200029493271971, 0.019695182872552744, 0.019582282823601853, 0.01957313961078736, 0.019449205116059187, 0.01928010148115763, 0.019419714510272103, 0.01931528254086379, 0.019056184397917703, 0.019092748692117953, 0.019089710454001048, 0.01893337581676901, 0.018816721198710046, 0.01879657975830184, 0.01865510609448556, 0.018780289710661983, 0.018493998607414568, 0.01889554048397757, 0.01883771164964732, 0.01859076032994186, 0.018747481888195635, 0.0185277168359261, 0.018480824021341886, 0.01837515752659478, 0.01823931761309466, 0.018258768492044698, 0.01819132992867069, 0.018403410454252225, 0.017969524315768995, 0.018002959279048887, 0.018022367209229243, 0.017760836860672275, 0.017888055475690213, 0.01764468831578582, 0.01768806337718761, 0.017736447353744186, 0.01754072419532603, 0.017430636568450196, 0.017428608016283906, 0.017425675253079666, 0.017237246827849963, 0.017250496376913248, 0.01712261988979345, 0.017051938796484728, 0.017040092559261494, 0.017052373912381444, 0.016969878413563587, 0.016943482552441158, 0.016906651188190826, 0.017006119374878413, 0.016934380283413278, 0.01677483894347597, 0.01670787466588248, 0.016560606064220246, 0.01663827157697044, 0.016605708421027054, 0.016341375651947772, 0.016585231066002754, 0.01678371472870065, 0.016601156282527663, 0.016425198483351885, 0.016290733771325946, 0.01631356156904899, 0.015778739464028472, 0.016728985463990525, 0.01656213155675676, 0.016496993495025293, 0.016232635462477444, 0.01604351966424952, 0.016022746727767503, 0.016100678546155756, 0.01585545551182046, 0.015586493762489852, 0.01599500509459512, 0.016051112697798627, 0.015687923330161255, 0.015653802220175095, 0.015574766766235766, 0.015369100273230315, 0.015896407327184975, 0.015609179416480021, 0.015380930550380223, 0.01554898616912382, 0.015315918622021349, 0.015448451712623153, 0.015404323767699705, 0.015024732337986997, 0.015034580281029017, 0.014860497949866299, 0.014878322318093776, 0.01498132429242462, 0.014799956106040678, 0.014578162307917916, 0.014870710799261251, 0.014857741024593137, 0.014719180120261018, 0.014687148185517267, 0.014403552027449746, 0.014645054027975484, 0.014989461876217405, 0.01473604057869468, 0.014744224421925604, 0.01450315795957273, 0.014461141798508473, 0.014244356392878407, 0.01424806015853755, 0.014331037786528363, 0.014138701912740479, 0.014248047400088606, 0.014039444948077394, 0.014117255698150071, 0.014143274461690435, 0.013989796319482689, 0.013806397313213098, 0.013793753113844351, 0.01372347748229627, 0.013656727460092638, 0.01364830130627757, 0.013535508398741972, 0.013540477013751771, 0.013654910273157022, 0.013413797799542595, 0.013580645580010852, 0.013572890790982933, 0.013345874350509256, 0.013407159515234399, 0.013438504755126361, 0.01323446966995029, 0.013226762948365538, 0.013167137990049956, 0.013102407179917244, 0.013083112476235486, 0.01306749057464604, 0.012940763912104695, 0.013326053013351886, 0.013125748516130029, 0.013093492063410877, 0.012831797232821239, 0.012899335255729227, 0.01309726957322956, 0.012876785078581832, 0.012711574699749494, 0.012743459526563793, 0.012606884671334263, 0.012566516753129869, 0.01265995370012849, 0.012434895986178042, 0.012404406737297213, 0.012411168499512936, 0.01235706365879211, 0.012419222374875137, 0.012367806360193353, 0.012223593633492647, 0.01231756419538537, 0.01230947279283315, 0.012254578007679736, 0.01221024431130532, 0.012107076880004647, 0.0120601944135076, 0.012028110177295135, 0.012004778705288648, 0.012045439291431294, 0.012172466863600025, 0.012563755555300959]\n",
            "Number of training samples seen by the solver during fitting:\n",
            "454000\n",
            "Feature:\n",
            "48\n",
            "Feature names:\n",
            "['age' 'Medu' 'Fedu' 'traveltime' 'studytime' 'failures' 'schoolsup'\n",
            " 'famsup' 'paid' 'activities' 'nursery' 'higher' 'internet' 'romantic'\n",
            " 'famrel' 'freetime' 'goout' 'Dalc' 'Walc' 'health' 'absences' 'school_GP'\n",
            " 'school_MS' 'sex_F' 'sex_M' 'address_R' 'address_U' 'famsize_GT3'\n",
            " 'famsize_LE3' 'Pstatus_A' 'Pstatus_T' 'Mjob_at_home' 'Mjob_health'\n",
            " 'Mjob_other' 'Mjob_services' 'Mjob_teacher' 'Fjob_at_home' 'Fjob_health'\n",
            " 'Fjob_other' 'Fjob_services' 'Fjob_teacher' 'reason_course' 'reason_home'\n",
            " 'reason_other' 'reason_reputation' 'guardian_father' 'guardian_mother'\n",
            " 'guardian_other']\n",
            "Number of iterations:\n",
            "1000\n",
            "Number of layers:\n",
            "3\n",
            "Number of outputs:\n",
            "1\n",
            "Name of the output activation function:\n",
            "logistic\n"
          ]
        },
        {
          "output_type": "stream",
          "name": "stderr",
          "text": [
            "/usr/local/lib/python3.7/dist-packages/sklearn/neural_network/_multilayer_perceptron.py:696: ConvergenceWarning: Stochastic Optimizer: Maximum iterations (1000) reached and the optimization hasn't converged yet.\n",
            "  ConvergenceWarning,\n"
          ]
        }
      ]
    },
    {
      "cell_type": "code",
      "source": [
        "# Get results for 1-fold cross-validation\n",
        "getOneFoldResults(X_test_OHE,y_test_OHE,clf1)"
      ],
      "metadata": {
        "colab": {
          "base_uri": "https://localhost:8080/"
        },
        "outputId": "6af276c6-b11d-40cd-9cf4-df759e8db3fe",
        "id": "gOgqR9t77Y16"
      },
      "execution_count": null,
      "outputs": [
        {
          "output_type": "stream",
          "name": "stdout",
          "text": [
            "              precision    recall  f1-score   support\n",
            "\n",
            "           0       0.60      0.51      0.55        55\n",
            "           1       0.82      0.86      0.84       140\n",
            "\n",
            "    accuracy                           0.76       195\n",
            "   macro avg       0.71      0.69      0.69       195\n",
            "weighted avg       0.76      0.76      0.76       195\n",
            "\n"
          ]
        }
      ]
    },
    {
      "cell_type": "code",
      "source": [
        "# Get results for multi-fold cross-validation\n",
        "outputMLP1 = getMultiFoldResults(X_OHE, y_OHE, clf1)"
      ],
      "metadata": {
        "colab": {
          "base_uri": "https://localhost:8080/"
        },
        "outputId": "86da784e-b766-4099-eca9-118e062e625b",
        "id": "xQ-9NWAF7Y17"
      },
      "execution_count": null,
      "outputs": [
        {
          "output_type": "stream",
          "name": "stdout",
          "text": [
            "Accuracy: 0.758 (0.063)\n",
            "Precision: 0.812 (0.053)\n",
            "Recall: 0.860 (0.045)\n"
          ]
        }
      ]
    },
    {
      "cell_type": "code",
      "source": [
        "# Get predicted values\n",
        "predictedMLP1 = clf1.predict(X_test_OHE)"
      ],
      "metadata": {
        "id": "LQ8QDBFnu9Y5"
      },
      "execution_count": null,
      "outputs": []
    },
    {
      "cell_type": "markdown",
      "source": [
        "### **Result 2**\n",
        "*   Changing the **solver** to 'sgd', which is the \"stochastic gradient descent\" instead of the default 'adam' solver [10]."
      ],
      "metadata": {
        "id": "s7dlLFsIe0Sa"
      }
    },
    {
      "cell_type": "code",
      "source": [
        "# Fit model and get information about model\n",
        "clf2 = MLPClassifier(max_iter=1000, solver='sgd').fit(X_train_OHE, y_train_OHE)\n",
        "getInfoMLP(clf2)"
      ],
      "metadata": {
        "id": "nVd53uRte0Sa",
        "colab": {
          "base_uri": "https://localhost:8080/"
        },
        "outputId": "a7593ca8-bba7-4a06-8568-bb9b4ef99490"
      },
      "execution_count": null,
      "outputs": [
        {
          "output_type": "stream",
          "name": "stdout",
          "text": [
            "Parameters:\n",
            "{'activation': 'relu', 'alpha': 0.0001, 'batch_size': 'auto', 'beta_1': 0.9, 'beta_2': 0.999, 'early_stopping': False, 'epsilon': 1e-08, 'hidden_layer_sizes': (100,), 'learning_rate': 'constant', 'learning_rate_init': 0.001, 'max_fun': 15000, 'max_iter': 1000, 'momentum': 0.9, 'n_iter_no_change': 10, 'nesterovs_momentum': True, 'power_t': 0.5, 'random_state': None, 'shuffle': True, 'solver': 'sgd', 'tol': 0.0001, 'validation_fraction': 0.1, 'verbose': False, 'warm_start': False}\n",
            "Classes:\n",
            "[0 1]\n",
            "Current loss computed with the loss function:\n",
            "0.4125068113071645\n",
            "Minimum loss reached by the solver throughout fitting:\n",
            "0.4100418148683278\n",
            "ith element in the list represents the loss at the ith iteration:\n",
            "[0.6343659047422641, 0.6192470421509702, 0.6135477435160395, 0.6079171945190767, 0.6043815846357549, 0.5997038290156862, 0.5944511921199407, 0.5887120170132778, 0.5850139978546267, 0.5822684683287931, 0.5777224297746978, 0.5736700192327597, 0.5703803485603026, 0.567590822503846, 0.5647918369077595, 0.5619570525558246, 0.5591711411489655, 0.5567884562036187, 0.5539617390793752, 0.5515423516723241, 0.549610319431787, 0.5485434417879005, 0.5463513148902853, 0.5439237564819454, 0.5421455482750113, 0.540346989179657, 0.5381949941076661, 0.536869506421669, 0.5353904985421984, 0.5351970119442335, 0.535004141132352, 0.5322608148346706, 0.529859343914044, 0.5293625759841275, 0.5305408027202776, 0.5307427576959554, 0.5263191433009803, 0.5250485466005577, 0.5237875479939037, 0.5233969157008941, 0.5220291492417727, 0.520090920151349, 0.5196869555269531, 0.5202428699475421, 0.5178531465578661, 0.5170937479846055, 0.5158901886518995, 0.5148057075459747, 0.5142044031422461, 0.5142274149143322, 0.5130193176648062, 0.5117127773277652, 0.5106600032141299, 0.5105717024337395, 0.5100347470487775, 0.5085826664979165, 0.5084314995347456, 0.5076118076558056, 0.5071424444442981, 0.5063576162596624, 0.5050204706411586, 0.5043685163397454, 0.5036704619373964, 0.5027782087069608, 0.5026971086561897, 0.502684680550524, 0.5022942471700518, 0.5004372518382479, 0.49989531970925716, 0.4997591337240059, 0.4986940726809929, 0.49849465084731887, 0.4977862272653701, 0.4988005731375682, 0.4965876187571246, 0.4978508159301543, 0.49501296026560093, 0.4956181143976512, 0.4949406987365119, 0.49393773690103926, 0.4941495242745772, 0.4917800007675831, 0.49180625952178086, 0.4924159704281705, 0.4897803592186986, 0.491666580106882, 0.49026921961507863, 0.48913597932477937, 0.48788640665228866, 0.4880572429691338, 0.4875510778649928, 0.486230488064535, 0.4860430101992599, 0.48525835734227035, 0.48490643706455566, 0.4841651125583254, 0.4846101306874151, 0.4835865298127443, 0.4866753090950931, 0.4836220796446267, 0.48203880347736755, 0.48442332635416907, 0.4819446637031377, 0.48022105498291096, 0.48152834696065844, 0.4797313758417404, 0.47923700976260714, 0.4793123610578614, 0.47856336570361546, 0.4777288688888649, 0.4773974242909885, 0.4768725490716502, 0.47683347641207074, 0.4761973552202331, 0.4755587042825708, 0.47529695639777575, 0.47486770456774585, 0.4749943850106628, 0.474200196255067, 0.47377115414967735, 0.47359286554443547, 0.4729539704184687, 0.47280051636114667, 0.4727976998227966, 0.47232030968541006, 0.471730645471878, 0.47140675688277633, 0.47097048514968787, 0.4715526378943434, 0.4716420662697424, 0.4697304462228377, 0.47058326573871684, 0.4718695800627127, 0.4699917403372208, 0.4687764212109228, 0.46862336172706304, 0.4679283270359063, 0.4702124774112395, 0.46736427058458313, 0.46763949067020455, 0.4661987951039115, 0.46626768611370123, 0.46658255468110515, 0.46627035167376907, 0.4654621897979944, 0.4646122931414678, 0.4644550512289614, 0.46379078263175466, 0.4635491272283226, 0.4631392095210664, 0.4631382274675846, 0.4639883631658994, 0.46327789267654457, 0.4627664781894221, 0.46187982249010456, 0.4628782565031062, 0.46213403845649637, 0.4617502053803081, 0.46203891960913723, 0.46043513273876013, 0.4605984356521007, 0.46003194638185185, 0.45979100617406393, 0.45946992855209534, 0.45889014915987486, 0.45862508232049826, 0.45989160773800936, 0.458617611456965, 0.457731593827629, 0.457311977383836, 0.45787064913657743, 0.45787271658147033, 0.45742207643982924, 0.457726045000784, 0.4560557608992507, 0.4563625497877166, 0.4553488125537169, 0.4549315904956506, 0.45480219387569654, 0.45529203712872796, 0.4545900668838274, 0.45405885593180434, 0.45646214603807955, 0.4536227973464459, 0.4542413735644103, 0.4528857507315062, 0.4531212090574262, 0.4531917548627117, 0.4531007240628181, 0.45499863725421075, 0.4531099512817779, 0.4517494406077554, 0.45312671346218186, 0.45178429231259304, 0.4512643902136045, 0.45029357313270746, 0.449972728724017, 0.4497063221502779, 0.4496903057272773, 0.44923076771870474, 0.44936345208308603, 0.44922486403258316, 0.4487613302840575, 0.4489362410033917, 0.45064519640491835, 0.449510792901347, 0.45065937774512427, 0.44762663726444724, 0.44917329986461135, 0.449066501276905, 0.44803129790409246, 0.44650425572159824, 0.44696484985388274, 0.4473612754647602, 0.44736959870933285, 0.44646971833592697, 0.4463907953539096, 0.44658667423938236, 0.44649181213570016, 0.4450831768013874, 0.445187231258673, 0.4450576781525687, 0.4467378511017763, 0.44546643201666264, 0.44479235492389024, 0.4445040730539211, 0.4439850098187932, 0.44389195836725015, 0.4437228279528132, 0.4445928590581271, 0.4446155562938542, 0.444002619711834, 0.4424386265840893, 0.4425103030380444, 0.44412834579830973, 0.44251928624982323, 0.4418408226202521, 0.44165268111131994, 0.44167285667453937, 0.441323540463629, 0.44101002202587536, 0.441659591235701, 0.44066168694195473, 0.4407691009623282, 0.4398520729231967, 0.4411685568105893, 0.440462320891052, 0.44077196915805295, 0.4426829653397715, 0.4386412255574952, 0.44175536686271083, 0.43977960981773784, 0.4405399387854444, 0.44064220779533114, 0.4379539260050218, 0.4394401073677697, 0.4378266811366253, 0.4377498636502789, 0.43818456362796965, 0.4374962305221446, 0.43718468733197036, 0.4377719899853911, 0.4374642605012205, 0.43805058219565995, 0.4365876008319258, 0.4388868429988972, 0.43914276176253636, 0.43745867380085657, 0.4398477337759252, 0.43633529973988205, 0.4355580790911676, 0.43713580965880505, 0.4356658406193332, 0.4359306927969424, 0.43507754529644477, 0.4353958352351986, 0.4345765035790232, 0.43518620368202643, 0.43464763896365666, 0.43432750296586686, 0.43412711313628505, 0.43494223885850347, 0.4357528456563611, 0.4342646211522843, 0.43327960759650846, 0.4338590422130998, 0.43460001487994726, 0.43367389663044364, 0.43263343485606587, 0.4326766279942019, 0.43365345244330405, 0.4350499068305033, 0.43300438418767867, 0.43176762069315155, 0.4359596371229261, 0.4321002959533489, 0.43357826052496945, 0.43211527756600265, 0.43061792808323385, 0.433715225622337, 0.43166517775803276, 0.43062291473335246, 0.4312901710383259, 0.4304514343992178, 0.4305045026693446, 0.43003029436490026, 0.4309350944094143, 0.42991524676887166, 0.4300912240779577, 0.429675663935364, 0.42915423562994975, 0.43050840109436667, 0.4288625644675799, 0.43018875963163394, 0.42912446676331895, 0.4288990843487029, 0.4286899865071294, 0.4292016775941399, 0.4291800032486163, 0.4283112689184173, 0.4279915297130424, 0.42812906877801027, 0.42751373167020484, 0.4276046094669266, 0.42789421770599534, 0.4305356800972047, 0.42935936053559653, 0.4273949141659996, 0.42698655242030603, 0.4276308600472994, 0.42668716725344136, 0.42753240050897345, 0.42725625955102947, 0.42686555671775833, 0.4267112017334333, 0.4263163014185489, 0.4255655485730771, 0.42655958065409666, 0.42770292911372937, 0.42614729180229566, 0.4255476243876439, 0.4288318052761212, 0.4245958014878681, 0.4254106940564775, 0.4242776738027846, 0.42492765100572855, 0.4245951804834205, 0.42420150226520614, 0.42473495487265495, 0.4242113797006648, 0.4264776994317826, 0.4277575977857593, 0.42575350697432085, 0.42309157109399126, 0.42295693896500736, 0.42421532936828005, 0.4233732550466038, 0.42269466607513445, 0.4225187036097857, 0.422919631109657, 0.4221089611675292, 0.4227290174668302, 0.4224965789612406, 0.42174838856895164, 0.4217746229459274, 0.42168142498893035, 0.4226306332222485, 0.42313725508163275, 0.4214643512539472, 0.42221869247111693, 0.4221748858852522, 0.4212223535999619, 0.42097842032982075, 0.4208791187629088, 0.42096254076804834, 0.42069829777491874, 0.4204306689990035, 0.4207555487950704, 0.41988198490530093, 0.41986541347596257, 0.4204427407308166, 0.420374912013766, 0.4196015889151538, 0.42136393877183076, 0.42059837084202456, 0.42368353005095377, 0.42281696724151774, 0.41916226586169353, 0.4200155670830946, 0.419214894624221, 0.42047940957200214, 0.41900074953001865, 0.4186381510782749, 0.41950615875153224, 0.4179958187622442, 0.41939828488518044, 0.42087283545693366, 0.41809506019732606, 0.41841584636982904, 0.4190507236841805, 0.4183214437483451, 0.41912271107908017, 0.4177291717095073, 0.4169792462063365, 0.4185764757074641, 0.41697284645785915, 0.41776755214911576, 0.41705016952606294, 0.4171161103307686, 0.4165978377151118, 0.4163964945105896, 0.4164245643950523, 0.41663866163432794, 0.4161680297450682, 0.41633283836495194, 0.41670580751736225, 0.4185701328034724, 0.4175925586393981, 0.41618783412686944, 0.4154949847779677, 0.4155085256544869, 0.4156631960840086, 0.41570489965070684, 0.4158999895224396, 0.41560180707153516, 0.4154681958572265, 0.41498125710506245, 0.4143877207968755, 0.4156297178929425, 0.4177178748851174, 0.41334418097865006, 0.4202894096500819, 0.4198552852180022, 0.41297553236488826, 0.41833294084725764, 0.4138489017656188, 0.4140531712388621, 0.4167193817329911, 0.4131210379602177, 0.4144764668381585, 0.41718098800882436, 0.41228702557255925, 0.4166025340333201, 0.4170112494778119, 0.4135895158401779, 0.4132434013589186, 0.41261752564529086, 0.41386169825699665, 0.41239596356814345, 0.4127986569410526, 0.4132585127552888, 0.41206350618050125, 0.41299029816998695, 0.4116162701049869, 0.4126535521001447, 0.41342859239419977, 0.4120515753266716, 0.41134922358080445, 0.41192674962177556, 0.4122841963336352, 0.411816089823276, 0.4116757948687921, 0.41164992424037616, 0.4118764059550892, 0.41136368978077076, 0.41013177392498024, 0.41149640879184457, 0.4100418148683278, 0.41026199388634194, 0.4110677129096981, 0.41035322519930567, 0.41046727142958533, 0.4108063462561054, 0.4100866595385437, 0.4101525887843377, 0.41025784569227713, 0.4125068113071645]\n",
            "Number of training samples seen by the solver during fitting:\n",
            "216558\n",
            "Feature:\n",
            "48\n",
            "Feature names:\n",
            "['age' 'Medu' 'Fedu' 'traveltime' 'studytime' 'failures' 'schoolsup'\n",
            " 'famsup' 'paid' 'activities' 'nursery' 'higher' 'internet' 'romantic'\n",
            " 'famrel' 'freetime' 'goout' 'Dalc' 'Walc' 'health' 'absences' 'school_GP'\n",
            " 'school_MS' 'sex_F' 'sex_M' 'address_R' 'address_U' 'famsize_GT3'\n",
            " 'famsize_LE3' 'Pstatus_A' 'Pstatus_T' 'Mjob_at_home' 'Mjob_health'\n",
            " 'Mjob_other' 'Mjob_services' 'Mjob_teacher' 'Fjob_at_home' 'Fjob_health'\n",
            " 'Fjob_other' 'Fjob_services' 'Fjob_teacher' 'reason_course' 'reason_home'\n",
            " 'reason_other' 'reason_reputation' 'guardian_father' 'guardian_mother'\n",
            " 'guardian_other']\n",
            "Number of iterations:\n",
            "477\n",
            "Number of layers:\n",
            "3\n",
            "Number of outputs:\n",
            "1\n",
            "Name of the output activation function:\n",
            "logistic\n"
          ]
        }
      ]
    },
    {
      "cell_type": "code",
      "source": [
        "# Get results for 1-fold cross-validation\n",
        "getOneFoldResults(X_test_OHE,y_test_OHE,clf2)"
      ],
      "metadata": {
        "colab": {
          "base_uri": "https://localhost:8080/"
        },
        "outputId": "b9a9eb0b-a442-4bd4-eec2-1f77584ddaeb",
        "id": "c0H96HDp7iPH"
      },
      "execution_count": null,
      "outputs": [
        {
          "output_type": "stream",
          "name": "stdout",
          "text": [
            "              precision    recall  f1-score   support\n",
            "\n",
            "           0       0.71      0.53      0.60        55\n",
            "           1       0.83      0.91      0.87       140\n",
            "\n",
            "    accuracy                           0.81       195\n",
            "   macro avg       0.77      0.72      0.74       195\n",
            "weighted avg       0.80      0.81      0.80       195\n",
            "\n"
          ]
        }
      ]
    },
    {
      "cell_type": "code",
      "source": [
        "# Get results for multi-fold cross-validation\n",
        "outputMLP2 = getMultiFoldResults(X_OHE, y_OHE, clf2)"
      ],
      "metadata": {
        "colab": {
          "base_uri": "https://localhost:8080/"
        },
        "outputId": "d09ecf73-7a77-4725-a0df-069d54304cde",
        "id": "aSxZhkNZ7iPI"
      },
      "execution_count": null,
      "outputs": [
        {
          "output_type": "stream",
          "name": "stdout",
          "text": [
            "Accuracy: 0.786 (0.057)\n",
            "Precision: 0.808 (0.058)\n",
            "Recall: 0.909 (0.049)\n"
          ]
        }
      ]
    },
    {
      "cell_type": "code",
      "source": [
        "# Get predicted values\n",
        "predictedMLP2 = clf2.predict(X_test_OHE)"
      ],
      "metadata": {
        "id": "on7o0EwUu40F"
      },
      "execution_count": null,
      "outputs": []
    },
    {
      "cell_type": "markdown",
      "source": [
        "### **Result 3**\n",
        "*   Since the 'sgd' solver improved the Model 2 performance, we decided to keep the **solver** as 'sgd' and also set **warm_start** to True, which aims to use previously learned weights \"to fit as initialization\" [10]."
      ],
      "metadata": {
        "id": "E3BXCrsSkNCl"
      }
    },
    {
      "cell_type": "code",
      "source": [
        "# Fit model and get information about model\n",
        "clf3 = MLPClassifier(max_iter=1000, solver='sgd',warm_start=True).fit(X_train_OHE, y_train_OHE)\n",
        "getInfoMLP(clf3)"
      ],
      "metadata": {
        "id": "ETKnkpQNkNCw",
        "colab": {
          "base_uri": "https://localhost:8080/"
        },
        "outputId": "18fc5195-3d1c-4c4e-922c-4d0d19201b6e"
      },
      "execution_count": null,
      "outputs": [
        {
          "output_type": "stream",
          "name": "stdout",
          "text": [
            "Parameters:\n",
            "{'activation': 'relu', 'alpha': 0.0001, 'batch_size': 'auto', 'beta_1': 0.9, 'beta_2': 0.999, 'early_stopping': False, 'epsilon': 1e-08, 'hidden_layer_sizes': (100,), 'learning_rate': 'constant', 'learning_rate_init': 0.001, 'max_fun': 15000, 'max_iter': 1000, 'momentum': 0.9, 'n_iter_no_change': 10, 'nesterovs_momentum': True, 'power_t': 0.5, 'random_state': None, 'shuffle': True, 'solver': 'sgd', 'tol': 0.0001, 'validation_fraction': 0.1, 'verbose': False, 'warm_start': True}\n",
            "Classes:\n",
            "[0 1]\n",
            "Current loss computed with the loss function:\n",
            "0.4132468812580978\n",
            "Minimum loss reached by the solver throughout fitting:\n",
            "0.41086812530855343\n",
            "ith element in the list represents the loss at the ith iteration:\n",
            "[0.7887508166298617, 0.7447973238418579, 0.7264509976787041, 0.7059016502209035, 0.6864930066651809, 0.6715871382534344, 0.6581739500618513, 0.6515098610647228, 0.6439596680276738, 0.6369603606229784, 0.6323541254841113, 0.6290591185858534, 0.6239306715030424, 0.6191181479518276, 0.615634039307671, 0.6116906654647971, 0.6072728834208092, 0.6035243037240227, 0.6004717818865345, 0.597986167730865, 0.5941021629731258, 0.5930696315718236, 0.5875201098237297, 0.5848567504471684, 0.5822213611742715, 0.5797806731505459, 0.5774593265721859, 0.5752937233293712, 0.5728624552355324, 0.5720180939992565, 0.5679460233503963, 0.566588468341469, 0.5646578350003117, 0.5632984225744668, 0.5637608620437193, 0.5592335061381714, 0.5562728962213656, 0.5567368948450959, 0.554486783401115, 0.5510522203002424, 0.5500185586077745, 0.5489366662979137, 0.5465073139109283, 0.54465598268415, 0.5430144422338917, 0.5423764076721784, 0.5437345054190985, 0.5393471955872298, 0.537892286629931, 0.5362263342669202, 0.5364258895929632, 0.5346899682588254, 0.5324839671185984, 0.5361307534953194, 0.5346809592571878, 0.5304610016117632, 0.5286921476666857, 0.5277686144772442, 0.5266159918742941, 0.5260747413004511, 0.5257577498506751, 0.5251589646194501, 0.5249042135259889, 0.5243658730612667, 0.5226291365131003, 0.5213586644348809, 0.5203756950219741, 0.5184467714607291, 0.5201305746626347, 0.5198548725576069, 0.5162923771916255, 0.5154302411932751, 0.515797193144321, 0.5146551289280545, 0.5132678177560346, 0.5123537952168264, 0.5117999105048648, 0.512675131924188, 0.5139452607036609, 0.5086944662027858, 0.5092746501715484, 0.5089350177048011, 0.5079048556913561, 0.5075730534997916, 0.5053181904495646, 0.5120783286178925, 0.5073440281887743, 0.503879794698774, 0.503129036721406, 0.502459629080378, 0.5019328020428493, 0.5017605939613636, 0.5007797686124469, 0.4999224447828589, 0.49942798888232326, 0.49910905527665866, 0.49891047436658675, 0.4991489702850976, 0.4974299961405636, 0.4970982905178253, 0.4982083466722215, 0.4965945998000777, 0.49705722190221063, 0.4961958364626011, 0.49483793266870935, 0.49425730607207774, 0.49504712289807845, 0.49265040240721647, 0.49251656508443115, 0.493336970878052, 0.49212431983114613, 0.4909616897354802, 0.4903283605068321, 0.4898017631032044, 0.48934394697833655, 0.4899285229396311, 0.49204239516912734, 0.4910356252353166, 0.48722645723210795, 0.4881376272274249, 0.48884002032482476, 0.48801057380245494, 0.4874412905204215, 0.4858439306702328, 0.4877086453959779, 0.4846901892564234, 0.4865794764831022, 0.48412810923238647, 0.4837152285598451, 0.48320273071470676, 0.4827722469394221, 0.48234795343963865, 0.48263164750270626, 0.48255899161828014, 0.48150429081674645, 0.48327919891437515, 0.4810368052789784, 0.48001699984016916, 0.4810178267085, 0.481400819119414, 0.4799387189665398, 0.48069551477374317, 0.4777548492171021, 0.47909229207619214, 0.47719094908713183, 0.47850839624709185, 0.4771629999100085, 0.476401970473047, 0.47670300866582843, 0.4756068846861025, 0.4769177342814596, 0.4760147730831714, 0.4744145054048517, 0.47519075464682936, 0.4751528325933038, 0.47489686981797297, 0.47468995389092317, 0.4732737580071325, 0.4725674366972422, 0.4724617957630167, 0.4723230306933123, 0.4722206863053271, 0.47203114177993905, 0.4712648692021339, 0.471505293740243, 0.47081334949100284, 0.4739243683273428, 0.47305471421812983, 0.4710902440017451, 0.4699386309003051, 0.4688499192339929, 0.47129978149857105, 0.46939546136645716, 0.4682144178023731, 0.46836700518443997, 0.4694379944981458, 0.46659895756450076, 0.46942328597020716, 0.4680338817715899, 0.46615357777701916, 0.46949434120120037, 0.46506787973297165, 0.4677132900111018, 0.4680453632465022, 0.46574629646581495, 0.4666930821457755, 0.46638949717635314, 0.46530158114486736, 0.46392555458726653, 0.46494084966340676, 0.4637750511171536, 0.4636859525003579, 0.4626745306689528, 0.4634902838798353, 0.46370286710313297, 0.4639979188047323, 0.4622304877007263, 0.4645841194812549, 0.46378173863730376, 0.4610615696895059, 0.4612728296880009, 0.4618832391995845, 0.4609748640562069, 0.46081766124982404, 0.4596727207353345, 0.4593566674332961, 0.4592779405457864, 0.4599273795538701, 0.45926150088199486, 0.45899914618471105, 0.45815156005621865, 0.4585608803600256, 0.45789814024358805, 0.4581221091735176, 0.4587593478288461, 0.45771704977930583, 0.45849119222342016, 0.4564874972739645, 0.46088889464409755, 0.4607767074159077, 0.4548523742504332, 0.4643242015332765, 0.4611742468150728, 0.45578189699407784, 0.45580986206404217, 0.45496274517642354, 0.45583379417588116, 0.45579777205267386, 0.45525412700162554, 0.4536767704336794, 0.45482969899766007, 0.4536250246143957, 0.45465486748698686, 0.4553842053727649, 0.45458172407383884, 0.4531823347019189, 0.4530209314583531, 0.4527728689488404, 0.45317575104369334, 0.4515486671198114, 0.45273777333531856, 0.45113343777079173, 0.4518297540776531, 0.45200823325620787, 0.451773686787869, 0.45172813132169526, 0.4502416735744477, 0.4507270743205428, 0.4506043171941873, 0.45162256371195025, 0.4499333119742927, 0.4494407797787864, 0.4488407689238169, 0.44874893601804494, 0.44916178778847793, 0.45125616179682854, 0.4490016188961777, 0.4477170494902122, 0.452905068106242, 0.4474076163410713, 0.4491941508321737, 0.4503988619080578, 0.44746720265303036, 0.447072326696747, 0.44647115652313674, 0.44669657302816, 0.44686805513565175, 0.4482897712843224, 0.4477856366163375, 0.44610699609474497, 0.4454009945400537, 0.4454200462013097, 0.445342691330021, 0.44538469845522216, 0.4452515758027326, 0.4450259531452374, 0.44480410171210694, 0.44444671471221886, 0.4449367764152872, 0.4452871640000352, 0.4467890300332944, 0.44450779620298414, 0.4435864087596711, 0.44544730013484685, 0.4450301914049636, 0.4436194378366737, 0.4432380648156027, 0.4427455925430282, 0.44252449361265983, 0.44302551351760394, 0.44328375312591684, 0.4418759541331171, 0.44507385196608557, 0.4439157439718821, 0.4412701252614926, 0.44467357830371457, 0.4427007292735738, 0.44301721680662004, 0.44136368744452364, 0.44045300095093526, 0.4424066546110865, 0.4408285343721817, 0.4404155939305299, 0.4408832293010074, 0.44177684784145577, 0.44287117158601796, 0.4392004917966162, 0.44505321633110334, 0.44213819930524045, 0.43973517141567864, 0.4405154027768031, 0.4402374803462742, 0.44045617625344413, 0.4402865338856948, 0.4413240088428308, 0.4396326748238163, 0.4382911351442853, 0.4384854247206221, 0.43821098210231124, 0.4381799078402066, 0.4373843838002881, 0.43720847177745853, 0.43798295077329574, 0.43796691386841335, 0.43668311452179837, 0.43707169074135427, 0.43688874480476914, 0.4365535493652557, 0.43637749791073543, 0.43660116416871403, 0.43809690254211897, 0.4367814594874311, 0.4361516236537303, 0.4357175513254953, 0.4355189480406625, 0.4358580462653385, 0.43535920748486095, 0.43573116295571934, 0.4362507046217843, 0.43550649681842196, 0.43493479401806223, 0.4347590329051187, 0.43454565548868884, 0.43493151376817624, 0.4339188721713507, 0.4342522472349979, 0.433941867684311, 0.4340068647926014, 0.4369069348573093, 0.4345717910170806, 0.4340655681871749, 0.43386020479576215, 0.43462505910732124, 0.4335291010438713, 0.4330597025234787, 0.43352813082906255, 0.4348065067833213, 0.43310278242918365, 0.4324881348803935, 0.43279422030340226, 0.43426292009631595, 0.43175672041562885, 0.4324251234137946, 0.43186572391473343, 0.43270951458569074, 0.43092051868383396, 0.43502908129718265, 0.43100743385197204, 0.432117423142001, 0.43192059538228206, 0.4307738488468076, 0.4317393043826118, 0.4302429679657917, 0.43089788083213665, 0.43097021652404227, 0.43034019662442186, 0.4299861794448932, 0.4302969030719703, 0.42968376534863106, 0.4301322244975241, 0.43054753522107286, 0.43056418093966925, 0.43010973638959377, 0.4294950373336047, 0.4288947910318455, 0.4291494562724491, 0.42997867047863114, 0.42989904828041364, 0.4304705414875785, 0.4311744179820237, 0.4281757509005125, 0.4313438747253058, 0.42832714612227246, 0.4302048629574494, 0.4280307347160838, 0.42849090815052876, 0.42788160416928206, 0.427884542078663, 0.4291925236467839, 0.42780022361006337, 0.4301221653417228, 0.4270459856756877, 0.42726659796847666, 0.42712967010589525, 0.42720831652394636, 0.4265747901139267, 0.42676389116578867, 0.4268394211901522, 0.42622126344302086, 0.42731798004251675, 0.4267535312773703, 0.42655440872512135, 0.42588816483648245, 0.42644357247936593, 0.4255079281916721, 0.4271992994797222, 0.42570857351119634, 0.4256302706661225, 0.4250564812935922, 0.42502334298786415, 0.42527604509375794, 0.42499681153389957, 0.4256297648556916, 0.4247097581316925, 0.425232488483692, 0.4251413839246628, 0.4245411196199243, 0.42490888107745756, 0.4243376366176129, 0.4244121324106117, 0.42528192640421114, 0.42460212796221647, 0.4233362426721666, 0.42355278011515507, 0.42370948131931885, 0.42418701720746727, 0.42343127721668755, 0.42322218153296953, 0.4234684589219038, 0.4244085756461786, 0.4241052389730446, 0.42352316942472945, 0.42320048340738736, 0.4227731744432219, 0.42246392499362423, 0.42290468052338714, 0.4223053044950291, 0.42281341646053494, 0.42199700102877613, 0.4215578825797139, 0.4215477140125091, 0.4222676110589892, 0.4247632149894929, 0.42085213290406737, 0.42191779534488516, 0.4209848833072178, 0.4208471350390944, 0.422839512865388, 0.4234724236492696, 0.42087307534397844, 0.42093289456894395, 0.4205830156988919, 0.42048653684006826, 0.4208711163316438, 0.42011249768081355, 0.4200225187108582, 0.4200029919018283, 0.4215916833841479, 0.42123955621609704, 0.41977676759551635, 0.4209430016518223, 0.42122029895660035, 0.41975890312590713, 0.41946149249998366, 0.4197146820782541, 0.4192781046092806, 0.4190594671726276, 0.4190180189205827, 0.4185861960652472, 0.41919436018168116, 0.41911445910149275, 0.41863965688487614, 0.4213050177264507, 0.418455814981248, 0.4200016069691318, 0.4199511952949572, 0.41836141090529216, 0.4178526867773066, 0.41854698949614766, 0.4176563452217064, 0.41810568129108244, 0.4193521200064724, 0.4178797965905081, 0.4174704890221617, 0.4172404656303325, 0.4174099584448861, 0.41811298501700545, 0.4183191957546293, 0.4174714223622646, 0.41708958816868036, 0.4170108505958984, 0.4209127301954702, 0.41687602502383575, 0.417229106861526, 0.4187237644587006, 0.4173778412726651, 0.4175385245227615, 0.41830347974584126, 0.41594234689895293, 0.41603668744028677, 0.41586192588810683, 0.4172493717383864, 0.41581364700790063, 0.41564918302056997, 0.4183517864371916, 0.41668083947359535, 0.4161998130474586, 0.4167911407196003, 0.41539887013775334, 0.4202377811587512, 0.4162658987208041, 0.4155607896861536, 0.4154953914038676, 0.41477417731341315, 0.41469023273145, 0.4148128392293161, 0.41621999958658285, 0.41596911461752994, 0.41582232598651203, 0.4152790316142962, 0.41785234773366364, 0.41489368507537877, 0.41456842380793407, 0.4145383339709184, 0.41500987178489296, 0.41430482925176176, 0.41393691809021277, 0.4142976357006513, 0.4132042111045632, 0.4151472576016471, 0.41377339998995655, 0.4129863644903677, 0.4127746091382316, 0.41348782456780764, 0.41456169760085165, 0.4126701607215141, 0.41813569213909746, 0.4142023328005113, 0.41283061052875203, 0.4131879617612296, 0.41349668369716847, 0.4132532405086175, 0.41287458628886586, 0.4128278729857922, 0.4132102233863953, 0.41481975179070135, 0.41203327555727637, 0.41269290056634056, 0.4119661254769941, 0.4129533399424921, 0.41285817158892224, 0.4124987207961887, 0.4119641400629141, 0.4119704594172957, 0.4112388664767397, 0.41184614595963664, 0.41318165389735584, 0.41086812530855343, 0.41157023173213664, 0.4124148353797983, 0.41437648427109447, 0.4110876415225787, 0.4116522074778156, 0.41127270480290723, 0.4137980983765165, 0.41125951671370314, 0.4119496610299748, 0.41633854094248396, 0.4132468812580978]\n",
            "Number of training samples seen by the solver during fitting:\n",
            "262866\n",
            "Feature:\n",
            "48\n",
            "Feature names:\n",
            "['age' 'Medu' 'Fedu' 'traveltime' 'studytime' 'failures' 'schoolsup'\n",
            " 'famsup' 'paid' 'activities' 'nursery' 'higher' 'internet' 'romantic'\n",
            " 'famrel' 'freetime' 'goout' 'Dalc' 'Walc' 'health' 'absences' 'school_GP'\n",
            " 'school_MS' 'sex_F' 'sex_M' 'address_R' 'address_U' 'famsize_GT3'\n",
            " 'famsize_LE3' 'Pstatus_A' 'Pstatus_T' 'Mjob_at_home' 'Mjob_health'\n",
            " 'Mjob_other' 'Mjob_services' 'Mjob_teacher' 'Fjob_at_home' 'Fjob_health'\n",
            " 'Fjob_other' 'Fjob_services' 'Fjob_teacher' 'reason_course' 'reason_home'\n",
            " 'reason_other' 'reason_reputation' 'guardian_father' 'guardian_mother'\n",
            " 'guardian_other']\n",
            "Number of iterations:\n",
            "579\n",
            "Number of layers:\n",
            "3\n",
            "Number of outputs:\n",
            "1\n",
            "Name of the output activation function:\n",
            "logistic\n"
          ]
        }
      ]
    },
    {
      "cell_type": "code",
      "source": [
        "# Get results for 1-fold cross-validation\n",
        "getOneFoldResults(X_test_OHE,y_test_OHE,clf3)"
      ],
      "metadata": {
        "colab": {
          "base_uri": "https://localhost:8080/"
        },
        "outputId": "9df1137b-559d-41f3-b180-5ded7f23ac4d",
        "id": "0Iee3GQ67nL9"
      },
      "execution_count": null,
      "outputs": [
        {
          "output_type": "stream",
          "name": "stdout",
          "text": [
            "              precision    recall  f1-score   support\n",
            "\n",
            "           0       0.74      0.51      0.60        55\n",
            "           1       0.83      0.93      0.88       140\n",
            "\n",
            "    accuracy                           0.81       195\n",
            "   macro avg       0.78      0.72      0.74       195\n",
            "weighted avg       0.80      0.81      0.80       195\n",
            "\n"
          ]
        }
      ]
    },
    {
      "cell_type": "code",
      "source": [
        "# Get results for multi-fold cross-validation\n",
        "outputMLP3 = getMultiFoldResults(X_OHE, y_OHE, clf3)"
      ],
      "metadata": {
        "colab": {
          "base_uri": "https://localhost:8080/"
        },
        "outputId": "ab007b4b-0db6-4c69-dcef-59f3e2f154b7",
        "id": "LB5BQeeK7nL-"
      },
      "execution_count": null,
      "outputs": [
        {
          "output_type": "stream",
          "name": "stdout",
          "text": [
            "Accuracy: 0.781 (0.055)\n",
            "Precision: 0.808 (0.061)\n",
            "Recall: 0.917 (0.061)\n"
          ]
        }
      ]
    },
    {
      "cell_type": "code",
      "source": [
        "# Get predicted values\n",
        "predictedMLP3 = clf3.predict(X_test_OHE)"
      ],
      "metadata": {
        "id": "-43zzFniubrx"
      },
      "execution_count": null,
      "outputs": []
    },
    {
      "cell_type": "markdown",
      "source": [
        "# **10. Analyze the obtained results**\n",
        "* Sources were consulted to understand how to plot a bar chart, see [11], generate the confusion matrix, see [12], and create subplots, see [13].\n",
        "\n"
      ],
      "metadata": {
        "id": "jePYpsrLszfa"
      }
    },
    {
      "cell_type": "markdown",
      "source": [
        "## **a. Qualitative analysis of 9 results**"
      ],
      "metadata": {
        "id": "NtDKv3QTsJWG"
      }
    },
    {
      "cell_type": "code",
      "source": [
        "# Accuracy, precision and recall of 10-fold cross-validation results\n",
        "plotModelBars(\"Naive Bayes\",[outputNB1,outputNB2,outputNB3],3)\n",
        "plotModelBars(\"Logistic Regression\",[outputLR1,outputLR2,outputLR3],3)\n",
        "plotModelBars(\"Multi-Layer Perceptron\",[outputMLP1,outputMLP2,outputMLP3],3)"
      ],
      "metadata": {
        "colab": {
          "base_uri": "https://localhost:8080/",
          "height": 848
        },
        "id": "U-IoDPeYczOE",
        "outputId": "42dfc752-4cba-490b-b16b-cb700766d1de"
      },
      "execution_count": null,
      "outputs": [
        {
          "output_type": "display_data",
          "data": {
            "text/plain": [
              "<Figure size 1440x288 with 3 Axes>"
            ],
            "image/png": "[encoded data removed]"
          },
          "metadata": {
            "needs_background": "light"
          }
        },
        {
          "output_type": "display_data",
          "data": {
            "text/plain": [
              "<Figure size 1440x288 with 3 Axes>"
            ],
            "image/png": "[encoded data removed]"
          },
          "metadata": {
            "needs_background": "light"
          }
        },
        {
          "output_type": "display_data",
          "data": {
            "text/plain": [
              "<Figure size 1440x288 with 3 Axes>"
            ],
            "image/png": "[encoded data removed]"
          },
          "metadata": {
            "needs_background": "light"
          }
        }
      ]
    },
    {
      "cell_type": "markdown",
      "source": [
        "### **Analysis**\n",
        "* The ***Naive Bayes*** results are all the same in terms of accuracy, precision, and recall. If you look at the individual output for each result (see section 9), you see a minimal difference (only change at three decimal places). Thus, changing the var_smoothing parameter does not significantly impact the results, which means that the data samples are close to the distribution mean. \n",
        "* The ***Logistic Regression*** results perform slightly differently. Result 1 (default values) is relatively good for the three values and the best for accuracy. Result 2 (class_weight='balanced') is the best for precision (reduced number of false positives) but performs relatively poorly for recall (increased number of false negatives). Result 3 (C=0.1) is also good for all three values and is the best for recall (reduced number of false negatives).\n",
        "* The ***Multi-Layer Perceptron*** results perform similarly. Result 1 (default values) performs the best for precision but is the worse for recall and accuracy by a small amount. Result 2 (solver='sgd') performs the best for recall (reduced number of false negatives). Result 3 (solver='sgd' and warm_start=True) performs similarly to Model 2 and is the best for accuracy (increased amount of true positives and negatives) by a small amount.\n",
        "* We can see this tradeoff between precision and recall. If the model is too rigid, there will be a higher precision, but we get a low recall."
      ],
      "metadata": {
        "id": "89LHE6AORDEL"
      }
    },
    {
      "cell_type": "markdown",
      "source": [
        "## **b. Show good and not good results (false positives and negatives)**"
      ],
      "metadata": {
        "id": "CpDsz9w-hDZs"
      }
    },
    {
      "cell_type": "markdown",
      "source": [
        "### **b.1. General overview using confusion matrices**"
      ],
      "metadata": {
        "id": "PaDsSDWoDITv"
      }
    },
    {
      "cell_type": "code",
      "source": [
        "# Confusion matrices (True negatives & positives and False negatives & positives)\n",
        "plotModelCM(\"Naive Bayes\",[predictedNB1, predictedNB1, predictedNB1],y_test_D,3)\n",
        "plotModelCM(\"Logistic Regression\",[predictedLR1, predictedLR2, predictedLR3],y_test_OHE,3)\n",
        "plotModelCM(\"Multi-Layer Perceptron\",[predictedMLP1, predictedMLP2, predictedMLP3],y_test_OHE,3)"
      ],
      "metadata": {
        "colab": {
          "base_uri": "https://localhost:8080/",
          "height": 974
        },
        "id": "zXDOn9cnp5tt",
        "outputId": "f8241b1a-1879-4038-b76e-38c0dc462c42"
      },
      "execution_count": null,
      "outputs": [
        {
          "output_type": "display_data",
          "data": {
            "text/plain": [
              "<Figure size 1440x324 with 4 Axes>"
            ],
            "image/png": "[encoded data removed]"
          },
          "metadata": {
            "needs_background": "light"
          }
        },
        {
          "output_type": "display_data",
          "data": {
            "text/plain": [
              "<Figure size 1440x324 with 4 Axes>"
            ],
            "image/png": "[encoded data removed]"
          },
          "metadata": {
            "needs_background": "light"
          }
        },
        {
          "output_type": "display_data",
          "data": {
            "text/plain": [
              "<Figure size 1440x324 with 4 Axes>"
            ],
            "image/png": "[encoded data removed]"
          },
          "metadata": {
            "needs_background": "light"
          }
        }
      ]
    },
    {
      "cell_type": "markdown",
      "source": [
        "**Analysis**\n",
        "* Out of all three model types, ***Naive Bayes*** has the most true negatives, which is good considering the significant bias for positive values in the dataset.\n",
        "* Out of the three ***Logistic Regression*** results, Result 1 (default values) has the least false positives but the most false negatives. This is probably due to the bias in the data for positive values. Result 2 (class_weight='balanced') has the least false negatives but the most false positives, possibly from the 'balanced' class_weight that adjusts weights inversely proportional to class frequencies. Result 3 (C=0.1) is similar to Result 1, good for predicting true positives and negatives. This is probably because the data is trustworthy and does not need much regularization.\n",
        "* The ***Multi-Layer Perceptron*** results perform similarly to the Logistic Regression results. However, it is better than the Naive Bayes model at predicting true negatives. It may be because it is a more complex model, and there is a bias for positive values."
      ],
      "metadata": {
        "id": "_Ks3jMyYs5xa"
      }
    },
    {
      "cell_type": "markdown",
      "source": [
        "### **b.2. Analysis of examples of results**"
      ],
      "metadata": {
        "id": "HV9BDvaaDbg-"
      }
    },
    {
      "cell_type": "markdown",
      "source": [
        "* In section b.1. above, we got an overview of each model's false positive and negative results. We will now look closely at examples of rows that triggered good (true positives and negatives) and bad (false positives and negatives) results for the Naive Bayes model."
      ],
      "metadata": {
        "id": "_Y9ZPl_EEhhF"
      }
    },
    {
      "cell_type": "code",
      "source": [
        "# Get all false positives indices from results for the NB Model 1\n",
        "falsePositives_NB = findFalsePositives(predictedNB1,y_test_D.to_numpy())\n",
        "\n",
        "# Show affected rows in datafrane that correspond to the false positives\n",
        "X_test_NB_FP = X_test_D.copy()\n",
        "X_test_NB_FP.reset_index(drop=True, inplace=True)\n",
        "X_test_NB_FP.loc[np.array(falsePositives_NB)].head()"
      ],
      "metadata": {
        "colab": {
          "base_uri": "https://localhost:8080/",
          "height": 270
        },
        "id": "evOGtGz0N5K6",
        "outputId": "aa937bd6-7768-46c1-830f-baa81c96bdb7"
      },
      "execution_count": null,
      "outputs": [
        {
          "output_type": "execute_result",
          "data": {
            "text/plain": [
              "    school  sex  age  address  famsize  Pstatus  Medu  Fedu  Mjob  Fjob  \\\n",
              "0        1    1    1        1        0        1     2     1     1     3   \n",
              "3        1    0    3        1        0        1     2     3     0     3   \n",
              "11       0    1    4        0        0        1     3     2     0     3   \n",
              "13       0    0    3        0        0        1     3     1     2     2   \n",
              "19       1    1    2        1        0        1     1     1     0     3   \n",
              "\n",
              "    reason  guardian  traveltime  studytime  failures  schoolsup  famsup  \\\n",
              "0        2         1           1          1         0          0       0   \n",
              "3        0         0           1          0         0          0       1   \n",
              "11       1         2           0          0         0          0       1   \n",
              "13       3         1           0          1         0          0       0   \n",
              "19       2         1           2          1         0          0       0   \n",
              "\n",
              "    paid  activities  nursery  higher  internet  romantic  famrel  freetime  \\\n",
              "0      0           0        0       1         1         1       3         1   \n",
              "3      0           0        1       1         1         1       4         1   \n",
              "11     0           0        0       1         0         1       4         2   \n",
              "13     0           1        1       1         1         1       4         2   \n",
              "19     0           0        1       1         1         1       4         0   \n",
              "\n",
              "    goout  Dalc  Walc  health  absences  \n",
              "0       1     0     3       4         2  \n",
              "3       2     0     1       3         0  \n",
              "11      3     1     1       4         0  \n",
              "13      2     0     0       3         4  \n",
              "19      2     2     2       0         0  "
            ],
            "text/html": [
              "\n",
              "  <div id=\"df-b32992b2-2a9c-438d-a553-706f94cb7f50\">\n",
              "    <div class=\"colab-df-container\">\n",
              "      <div>\n",
              "<style scoped>\n",
              "    .dataframe tbody tr th:only-of-type {\n",
              "        vertical-align: middle;\n",
              "    }\n",
              "\n",
              "    .dataframe tbody tr th {\n",
              "        vertical-align: top;\n",
              "    }\n",
              "\n",
              "    .dataframe thead th {\n",
              "        text-align: right;\n",
              "    }\n",
              "</style>\n",
              "<table border=\"1\" class=\"dataframe\">\n",
              "  <thead>\n",
              "    <tr style=\"text-align: right;\">\n",
              "      <th></th>\n",
              "      <th>school</th>\n",
              "      <th>sex</th>\n",
              "      <th>age</th>\n",
              "      <th>address</th>\n",
              "      <th>famsize</th>\n",
              "      <th>Pstatus</th>\n",
              "      <th>Medu</th>\n",
              "      <th>Fedu</th>\n",
              "      <th>Mjob</th>\n",
              "      <th>Fjob</th>\n",
              "      <th>reason</th>\n",
              "      <th>guardian</th>\n",
              "      <th>traveltime</th>\n",
              "      <th>studytime</th>\n",
              "      <th>failures</th>\n",
              "      <th>schoolsup</th>\n",
              "      <th>famsup</th>\n",
              "      <th>paid</th>\n",
              "      <th>activities</th>\n",
              "      <th>nursery</th>\n",
              "      <th>higher</th>\n",
              "      <th>internet</th>\n",
              "      <th>romantic</th>\n",
              "      <th>famrel</th>\n",
              "      <th>freetime</th>\n",
              "      <th>goout</th>\n",
              "      <th>Dalc</th>\n",
              "      <th>Walc</th>\n",
              "      <th>health</th>\n",
              "      <th>absences</th>\n",
              "    </tr>\n",
              "  </thead>\n",
              "  <tbody>\n",
              "    <tr>\n",
              "      <th>0</th>\n",
              "      <td>1</td>\n",
              "      <td>1</td>\n",
              "      <td>1</td>\n",
              "      <td>1</td>\n",
              "      <td>0</td>\n",
              "      <td>1</td>\n",
              "      <td>2</td>\n",
              "      <td>1</td>\n",
              "      <td>1</td>\n",
              "      <td>3</td>\n",
              "      <td>2</td>\n",
              "      <td>1</td>\n",
              "      <td>1</td>\n",
              "      <td>1</td>\n",
              "      <td>0</td>\n",
              "      <td>0</td>\n",
              "      <td>0</td>\n",
              "      <td>0</td>\n",
              "      <td>0</td>\n",
              "      <td>0</td>\n",
              "      <td>1</td>\n",
              "      <td>1</td>\n",
              "      <td>1</td>\n",
              "      <td>3</td>\n",
              "      <td>1</td>\n",
              "      <td>1</td>\n",
              "      <td>0</td>\n",
              "      <td>3</td>\n",
              "      <td>4</td>\n",
              "      <td>2</td>\n",
              "    </tr>\n",
              "    <tr>\n",
              "      <th>3</th>\n",
              "      <td>1</td>\n",
              "      <td>0</td>\n",
              "      <td>3</td>\n",
              "      <td>1</td>\n",
              "      <td>0</td>\n",
              "      <td>1</td>\n",
              "      <td>2</td>\n",
              "      <td>3</td>\n",
              "      <td>0</td>\n",
              "      <td>3</td>\n",
              "      <td>0</td>\n",
              "      <td>0</td>\n",
              "      <td>1</td>\n",
              "      <td>0</td>\n",
              "      <td>0</td>\n",
              "      <td>0</td>\n",
              "      <td>1</td>\n",
              "      <td>0</td>\n",
              "      <td>0</td>\n",
              "      <td>1</td>\n",
              "      <td>1</td>\n",
              "      <td>1</td>\n",
              "      <td>1</td>\n",
              "      <td>4</td>\n",
              "      <td>1</td>\n",
              "      <td>2</td>\n",
              "      <td>0</td>\n",
              "      <td>1</td>\n",
              "      <td>3</td>\n",
              "      <td>0</td>\n",
              "    </tr>\n",
              "    <tr>\n",
              "      <th>11</th>\n",
              "      <td>0</td>\n",
              "      <td>1</td>\n",
              "      <td>4</td>\n",
              "      <td>0</td>\n",
              "      <td>0</td>\n",
              "      <td>1</td>\n",
              "      <td>3</td>\n",
              "      <td>2</td>\n",
              "      <td>0</td>\n",
              "      <td>3</td>\n",
              "      <td>1</td>\n",
              "      <td>2</td>\n",
              "      <td>0</td>\n",
              "      <td>0</td>\n",
              "      <td>0</td>\n",
              "      <td>0</td>\n",
              "      <td>1</td>\n",
              "      <td>0</td>\n",
              "      <td>0</td>\n",
              "      <td>0</td>\n",
              "      <td>1</td>\n",
              "      <td>0</td>\n",
              "      <td>1</td>\n",
              "      <td>4</td>\n",
              "      <td>2</td>\n",
              "      <td>3</td>\n",
              "      <td>1</td>\n",
              "      <td>1</td>\n",
              "      <td>4</td>\n",
              "      <td>0</td>\n",
              "    </tr>\n",
              "    <tr>\n",
              "      <th>13</th>\n",
              "      <td>0</td>\n",
              "      <td>0</td>\n",
              "      <td>3</td>\n",
              "      <td>0</td>\n",
              "      <td>0</td>\n",
              "      <td>1</td>\n",
              "      <td>3</td>\n",
              "      <td>1</td>\n",
              "      <td>2</td>\n",
              "      <td>2</td>\n",
              "      <td>3</td>\n",
              "      <td>1</td>\n",
              "      <td>0</td>\n",
              "      <td>1</td>\n",
              "      <td>0</td>\n",
              "      <td>0</td>\n",
              "      <td>0</td>\n",
              "      <td>0</td>\n",
              "      <td>1</td>\n",
              "      <td>1</td>\n",
              "      <td>1</td>\n",
              "      <td>1</td>\n",
              "      <td>1</td>\n",
              "      <td>4</td>\n",
              "      <td>2</td>\n",
              "      <td>2</td>\n",
              "      <td>0</td>\n",
              "      <td>0</td>\n",
              "      <td>3</td>\n",
              "      <td>4</td>\n",
              "    </tr>\n",
              "    <tr>\n",
              "      <th>19</th>\n",
              "      <td>1</td>\n",
              "      <td>1</td>\n",
              "      <td>2</td>\n",
              "      <td>1</td>\n",
              "      <td>0</td>\n",
              "      <td>1</td>\n",
              "      <td>1</td>\n",
              "      <td>1</td>\n",
              "      <td>0</td>\n",
              "      <td>3</td>\n",
              "      <td>2</td>\n",
              "      <td>1</td>\n",
              "      <td>2</td>\n",
              "      <td>1</td>\n",
              "      <td>0</td>\n",
              "      <td>0</td>\n",
              "      <td>0</td>\n",
              "      <td>0</td>\n",
              "      <td>0</td>\n",
              "      <td>1</td>\n",
              "      <td>1</td>\n",
              "      <td>1</td>\n",
              "      <td>1</td>\n",
              "      <td>4</td>\n",
              "      <td>0</td>\n",
              "      <td>2</td>\n",
              "      <td>2</td>\n",
              "      <td>2</td>\n",
              "      <td>0</td>\n",
              "      <td>0</td>\n",
              "    </tr>\n",
              "  </tbody>\n",
              "</table>\n",
              "</div>\n",
              "      <button class=\"colab-df-convert\" onclick=\"convertToInteractive('df-b32992b2-2a9c-438d-a553-706f94cb7f50')\"\n",
              "              title=\"Convert this dataframe to an interactive table.\"\n",
              "              style=\"display:none;\">\n",
              "        \n",
              "  <svg xmlns=\"http://www.w3.org/2000/svg\" height=\"24px\"viewBox=\"0 0 24 24\"\n",
              "       width=\"24px\">\n",
              "    <path d=\"M0 0h24v24H0V0z\" fill=\"none\"/>\n",
              "    <path d=\"M18.56 5.44l.94 2.06.94-2.06 2.06-.94-2.06-.94-.94-2.06-.94 2.06-2.06.94zm-11 1L8.5 8.5l.94-2.06 2.06-.94-2.06-.94L8.5 2.5l-.94 2.06-2.06.94zm10 10l.94 2.06.94-2.06 2.06-.94-2.06-.94-.94-2.06-.94 2.06-2.06.94z\"/><path d=\"M17.41 7.96l-1.37-1.37c-.4-.4-.92-.59-1.43-.59-.52 0-1.04.2-1.43.59L10.3 9.45l-7.72 7.72c-.78.78-.78 2.05 0 2.83L4 21.41c.39.39.9.59 1.41.59.51 0 1.02-.2 1.41-.59l7.78-7.78 2.81-2.81c.8-.78.8-2.07 0-2.86zM5.41 20L4 18.59l7.72-7.72 1.47 1.35L5.41 20z\"/>\n",
              "  </svg>\n",
              "      </button>\n",
              "      \n",
              "  <style>\n",
              "    .colab-df-container {\n",
              "      display:flex;\n",
              "      flex-wrap:wrap;\n",
              "      gap: 12px;\n",
              "    }\n",
              "\n",
              "    .colab-df-convert {\n",
              "      background-color: #E8F0FE;\n",
              "      border: none;\n",
              "      border-radius: 50%;\n",
              "      cursor: pointer;\n",
              "      display: none;\n",
              "      fill: #1967D2;\n",
              "      height: 32px;\n",
              "      padding: 0 0 0 0;\n",
              "      width: 32px;\n",
              "    }\n",
              "\n",
              "    .colab-df-convert:hover {\n",
              "      background-color: #E2EBFA;\n",
              "      box-shadow: 0px 1px 2px rgba(60, 64, 67, 0.3), 0px 1px 3px 1px rgba(60, 64, 67, 0.15);\n",
              "      fill: #174EA6;\n",
              "    }\n",
              "\n",
              "    [theme=dark] .colab-df-convert {\n",
              "      background-color: #3B4455;\n",
              "      fill: #D2E3FC;\n",
              "    }\n",
              "\n",
              "    [theme=dark] .colab-df-convert:hover {\n",
              "      background-color: #434B5C;\n",
              "      box-shadow: 0px 1px 3px 1px rgba(0, 0, 0, 0.15);\n",
              "      filter: drop-shadow(0px 1px 2px rgba(0, 0, 0, 0.3));\n",
              "      fill: #FFFFFF;\n",
              "    }\n",
              "  </style>\n",
              "\n",
              "      <script>\n",
              "        const buttonEl =\n",
              "          document.querySelector('#df-b32992b2-2a9c-438d-a553-706f94cb7f50 button.colab-df-convert');\n",
              "        buttonEl.style.display =\n",
              "          google.colab.kernel.accessAllowed ? 'block' : 'none';\n",
              "\n",
              "        async function convertToInteractive(key) {\n",
              "          const element = document.querySelector('#df-b32992b2-2a9c-438d-a553-706f94cb7f50');\n",
              "          const dataTable =\n",
              "            await google.colab.kernel.invokeFunction('convertToInteractive',\n",
              "                                                     [key], {});\n",
              "          if (!dataTable) return;\n",
              "\n",
              "          const docLinkHtml = 'Like what you see? Visit the ' +\n",
              "            '<a target=\"_blank\" href=https://colab.research.google.com/notebooks/data_table.ipynb>data table notebook</a>'\n",
              "            + ' to learn more about interactive tables.';\n",
              "          element.innerHTML = '';\n",
              "          dataTable['output_type'] = 'display_data';\n",
              "          await google.colab.output.renderOutput(dataTable, element);\n",
              "          const docLink = document.createElement('div');\n",
              "          docLink.innerHTML = docLinkHtml;\n",
              "          element.appendChild(docLink);\n",
              "        }\n",
              "      </script>\n",
              "    </div>\n",
              "  </div>\n",
              "  "
            ]
          },
          "metadata": {},
          "execution_count": 67
        }
      ]
    },
    {
      "cell_type": "code",
      "source": [
        "# Get all true positives indices from results for the NB Model 1\n",
        "truePositives_NB = findTruePositives(predictedNB1,y_test_D.to_numpy())\n",
        "\n",
        "# Show affected rows in datafrane that correspond to the true positives\n",
        "X_test_NB_TP = X_test_D.copy()\n",
        "X_test_NB_TP.reset_index(drop=True, inplace=True)\n",
        "X_test_NB_TP.loc[np.array(truePositives_NB)].head()"
      ],
      "metadata": {
        "colab": {
          "base_uri": "https://localhost:8080/",
          "height": 270
        },
        "id": "k0-MgmspGTD0",
        "outputId": "5a548428-7207-4a5f-8c95-383f4c613175"
      },
      "execution_count": null,
      "outputs": [
        {
          "output_type": "execute_result",
          "data": {
            "text/plain": [
              "   school  sex  age  address  famsize  Pstatus  Medu  Fedu  Mjob  Fjob  \\\n",
              "1       0    0    2        1        1        1     0     2     0     0   \n",
              "2       0    1    3        0        1        0     3     4     2     2   \n",
              "5       1    0    0        0        0        1     3     3     3     2   \n",
              "6       0    0    2        1        0        1     3     3     2     2   \n",
              "7       0    0    2        1        0        1     3     2     2     2   \n",
              "\n",
              "   reason  guardian  traveltime  studytime  failures  schoolsup  famsup  paid  \\\n",
              "1       1         0           1          2         0          0       0     0   \n",
              "2       3         1           1          1         0          0       1     0   \n",
              "5       3         1           0          1         0          0       1     0   \n",
              "6       1         1           0          2         0          0       0     0   \n",
              "7       0         1           0          1         0          0       0     0   \n",
              "\n",
              "   activities  nursery  higher  internet  romantic  famrel  freetime  goout  \\\n",
              "1           0        1       1         1         0       2         2      2   \n",
              "2           1        1       1         1         0       3         1      4   \n",
              "5           0        1       1         1         1       3         4      3   \n",
              "6           1        0       1         0         0       2         1      2   \n",
              "7           1        0       1         1         0       4         2      3   \n",
              "\n",
              "   Dalc  Walc  health  absences  \n",
              "1     1     2       1         0  \n",
              "2     2     3       0         6  \n",
              "5     0     0       0         4  \n",
              "6     0     0       3         2  \n",
              "7     0     2       2         2  "
            ],
            "text/html": [
              "\n",
              "  <div id=\"df-c5901324-2836-4fee-94f2-23d892155830\">\n",
              "    <div class=\"colab-df-container\">\n",
              "      <div>\n",
              "<style scoped>\n",
              "    .dataframe tbody tr th:only-of-type {\n",
              "        vertical-align: middle;\n",
              "    }\n",
              "\n",
              "    .dataframe tbody tr th {\n",
              "        vertical-align: top;\n",
              "    }\n",
              "\n",
              "    .dataframe thead th {\n",
              "        text-align: right;\n",
              "    }\n",
              "</style>\n",
              "<table border=\"1\" class=\"dataframe\">\n",
              "  <thead>\n",
              "    <tr style=\"text-align: right;\">\n",
              "      <th></th>\n",
              "      <th>school</th>\n",
              "      <th>sex</th>\n",
              "      <th>age</th>\n",
              "      <th>address</th>\n",
              "      <th>famsize</th>\n",
              "      <th>Pstatus</th>\n",
              "      <th>Medu</th>\n",
              "      <th>Fedu</th>\n",
              "      <th>Mjob</th>\n",
              "      <th>Fjob</th>\n",
              "      <th>reason</th>\n",
              "      <th>guardian</th>\n",
              "      <th>traveltime</th>\n",
              "      <th>studytime</th>\n",
              "      <th>failures</th>\n",
              "      <th>schoolsup</th>\n",
              "      <th>famsup</th>\n",
              "      <th>paid</th>\n",
              "      <th>activities</th>\n",
              "      <th>nursery</th>\n",
              "      <th>higher</th>\n",
              "      <th>internet</th>\n",
              "      <th>romantic</th>\n",
              "      <th>famrel</th>\n",
              "      <th>freetime</th>\n",
              "      <th>goout</th>\n",
              "      <th>Dalc</th>\n",
              "      <th>Walc</th>\n",
              "      <th>health</th>\n",
              "      <th>absences</th>\n",
              "    </tr>\n",
              "  </thead>\n",
              "  <tbody>\n",
              "    <tr>\n",
              "      <th>1</th>\n",
              "      <td>0</td>\n",
              "      <td>0</td>\n",
              "      <td>2</td>\n",
              "      <td>1</td>\n",
              "      <td>1</td>\n",
              "      <td>1</td>\n",
              "      <td>0</td>\n",
              "      <td>2</td>\n",
              "      <td>0</td>\n",
              "      <td>0</td>\n",
              "      <td>1</td>\n",
              "      <td>0</td>\n",
              "      <td>1</td>\n",
              "      <td>2</td>\n",
              "      <td>0</td>\n",
              "      <td>0</td>\n",
              "      <td>0</td>\n",
              "      <td>0</td>\n",
              "      <td>0</td>\n",
              "      <td>1</td>\n",
              "      <td>1</td>\n",
              "      <td>1</td>\n",
              "      <td>0</td>\n",
              "      <td>2</td>\n",
              "      <td>2</td>\n",
              "      <td>2</td>\n",
              "      <td>1</td>\n",
              "      <td>2</td>\n",
              "      <td>1</td>\n",
              "      <td>0</td>\n",
              "    </tr>\n",
              "    <tr>\n",
              "      <th>2</th>\n",
              "      <td>0</td>\n",
              "      <td>1</td>\n",
              "      <td>3</td>\n",
              "      <td>0</td>\n",
              "      <td>1</td>\n",
              "      <td>0</td>\n",
              "      <td>3</td>\n",
              "      <td>4</td>\n",
              "      <td>2</td>\n",
              "      <td>2</td>\n",
              "      <td>3</td>\n",
              "      <td>1</td>\n",
              "      <td>1</td>\n",
              "      <td>1</td>\n",
              "      <td>0</td>\n",
              "      <td>0</td>\n",
              "      <td>1</td>\n",
              "      <td>0</td>\n",
              "      <td>1</td>\n",
              "      <td>1</td>\n",
              "      <td>1</td>\n",
              "      <td>1</td>\n",
              "      <td>0</td>\n",
              "      <td>3</td>\n",
              "      <td>1</td>\n",
              "      <td>4</td>\n",
              "      <td>2</td>\n",
              "      <td>3</td>\n",
              "      <td>0</td>\n",
              "      <td>6</td>\n",
              "    </tr>\n",
              "    <tr>\n",
              "      <th>5</th>\n",
              "      <td>1</td>\n",
              "      <td>0</td>\n",
              "      <td>0</td>\n",
              "      <td>0</td>\n",
              "      <td>0</td>\n",
              "      <td>1</td>\n",
              "      <td>3</td>\n",
              "      <td>3</td>\n",
              "      <td>3</td>\n",
              "      <td>2</td>\n",
              "      <td>3</td>\n",
              "      <td>1</td>\n",
              "      <td>0</td>\n",
              "      <td>1</td>\n",
              "      <td>0</td>\n",
              "      <td>0</td>\n",
              "      <td>1</td>\n",
              "      <td>0</td>\n",
              "      <td>0</td>\n",
              "      <td>1</td>\n",
              "      <td>1</td>\n",
              "      <td>1</td>\n",
              "      <td>1</td>\n",
              "      <td>3</td>\n",
              "      <td>4</td>\n",
              "      <td>3</td>\n",
              "      <td>0</td>\n",
              "      <td>0</td>\n",
              "      <td>0</td>\n",
              "      <td>4</td>\n",
              "    </tr>\n",
              "    <tr>\n",
              "      <th>6</th>\n",
              "      <td>0</td>\n",
              "      <td>0</td>\n",
              "      <td>2</td>\n",
              "      <td>1</td>\n",
              "      <td>0</td>\n",
              "      <td>1</td>\n",
              "      <td>3</td>\n",
              "      <td>3</td>\n",
              "      <td>2</td>\n",
              "      <td>2</td>\n",
              "      <td>1</td>\n",
              "      <td>1</td>\n",
              "      <td>0</td>\n",
              "      <td>2</td>\n",
              "      <td>0</td>\n",
              "      <td>0</td>\n",
              "      <td>0</td>\n",
              "      <td>0</td>\n",
              "      <td>1</td>\n",
              "      <td>0</td>\n",
              "      <td>1</td>\n",
              "      <td>0</td>\n",
              "      <td>0</td>\n",
              "      <td>2</td>\n",
              "      <td>1</td>\n",
              "      <td>2</td>\n",
              "      <td>0</td>\n",
              "      <td>0</td>\n",
              "      <td>3</td>\n",
              "      <td>2</td>\n",
              "    </tr>\n",
              "    <tr>\n",
              "      <th>7</th>\n",
              "      <td>0</td>\n",
              "      <td>0</td>\n",
              "      <td>2</td>\n",
              "      <td>1</td>\n",
              "      <td>0</td>\n",
              "      <td>1</td>\n",
              "      <td>3</td>\n",
              "      <td>2</td>\n",
              "      <td>2</td>\n",
              "      <td>2</td>\n",
              "      <td>0</td>\n",
              "      <td>1</td>\n",
              "      <td>0</td>\n",
              "      <td>1</td>\n",
              "      <td>0</td>\n",
              "      <td>0</td>\n",
              "      <td>0</td>\n",
              "      <td>0</td>\n",
              "      <td>1</td>\n",
              "      <td>0</td>\n",
              "      <td>1</td>\n",
              "      <td>1</td>\n",
              "      <td>0</td>\n",
              "      <td>4</td>\n",
              "      <td>2</td>\n",
              "      <td>3</td>\n",
              "      <td>0</td>\n",
              "      <td>2</td>\n",
              "      <td>2</td>\n",
              "      <td>2</td>\n",
              "    </tr>\n",
              "  </tbody>\n",
              "</table>\n",
              "</div>\n",
              "      <button class=\"colab-df-convert\" onclick=\"convertToInteractive('df-c5901324-2836-4fee-94f2-23d892155830')\"\n",
              "              title=\"Convert this dataframe to an interactive table.\"\n",
              "              style=\"display:none;\">\n",
              "        \n",
              "  <svg xmlns=\"http://www.w3.org/2000/svg\" height=\"24px\"viewBox=\"0 0 24 24\"\n",
              "       width=\"24px\">\n",
              "    <path d=\"M0 0h24v24H0V0z\" fill=\"none\"/>\n",
              "    <path d=\"M18.56 5.44l.94 2.06.94-2.06 2.06-.94-2.06-.94-.94-2.06-.94 2.06-2.06.94zm-11 1L8.5 8.5l.94-2.06 2.06-.94-2.06-.94L8.5 2.5l-.94 2.06-2.06.94zm10 10l.94 2.06.94-2.06 2.06-.94-2.06-.94-.94-2.06-.94 2.06-2.06.94z\"/><path d=\"M17.41 7.96l-1.37-1.37c-.4-.4-.92-.59-1.43-.59-.52 0-1.04.2-1.43.59L10.3 9.45l-7.72 7.72c-.78.78-.78 2.05 0 2.83L4 21.41c.39.39.9.59 1.41.59.51 0 1.02-.2 1.41-.59l7.78-7.78 2.81-2.81c.8-.78.8-2.07 0-2.86zM5.41 20L4 18.59l7.72-7.72 1.47 1.35L5.41 20z\"/>\n",
              "  </svg>\n",
              "      </button>\n",
              "      \n",
              "  <style>\n",
              "    .colab-df-container {\n",
              "      display:flex;\n",
              "      flex-wrap:wrap;\n",
              "      gap: 12px;\n",
              "    }\n",
              "\n",
              "    .colab-df-convert {\n",
              "      background-color: #E8F0FE;\n",
              "      border: none;\n",
              "      border-radius: 50%;\n",
              "      cursor: pointer;\n",
              "      display: none;\n",
              "      fill: #1967D2;\n",
              "      height: 32px;\n",
              "      padding: 0 0 0 0;\n",
              "      width: 32px;\n",
              "    }\n",
              "\n",
              "    .colab-df-convert:hover {\n",
              "      background-color: #E2EBFA;\n",
              "      box-shadow: 0px 1px 2px rgba(60, 64, 67, 0.3), 0px 1px 3px 1px rgba(60, 64, 67, 0.15);\n",
              "      fill: #174EA6;\n",
              "    }\n",
              "\n",
              "    [theme=dark] .colab-df-convert {\n",
              "      background-color: #3B4455;\n",
              "      fill: #D2E3FC;\n",
              "    }\n",
              "\n",
              "    [theme=dark] .colab-df-convert:hover {\n",
              "      background-color: #434B5C;\n",
              "      box-shadow: 0px 1px 3px 1px rgba(0, 0, 0, 0.15);\n",
              "      filter: drop-shadow(0px 1px 2px rgba(0, 0, 0, 0.3));\n",
              "      fill: #FFFFFF;\n",
              "    }\n",
              "  </style>\n",
              "\n",
              "      <script>\n",
              "        const buttonEl =\n",
              "          document.querySelector('#df-c5901324-2836-4fee-94f2-23d892155830 button.colab-df-convert');\n",
              "        buttonEl.style.display =\n",
              "          google.colab.kernel.accessAllowed ? 'block' : 'none';\n",
              "\n",
              "        async function convertToInteractive(key) {\n",
              "          const element = document.querySelector('#df-c5901324-2836-4fee-94f2-23d892155830');\n",
              "          const dataTable =\n",
              "            await google.colab.kernel.invokeFunction('convertToInteractive',\n",
              "                                                     [key], {});\n",
              "          if (!dataTable) return;\n",
              "\n",
              "          const docLinkHtml = 'Like what you see? Visit the ' +\n",
              "            '<a target=\"_blank\" href=https://colab.research.google.com/notebooks/data_table.ipynb>data table notebook</a>'\n",
              "            + ' to learn more about interactive tables.';\n",
              "          element.innerHTML = '';\n",
              "          dataTable['output_type'] = 'display_data';\n",
              "          await google.colab.output.renderOutput(dataTable, element);\n",
              "          const docLink = document.createElement('div');\n",
              "          docLink.innerHTML = docLinkHtml;\n",
              "          element.appendChild(docLink);\n",
              "        }\n",
              "      </script>\n",
              "    </div>\n",
              "  </div>\n",
              "  "
            ]
          },
          "metadata": {},
          "execution_count": 68
        }
      ]
    },
    {
      "cell_type": "code",
      "source": [
        "# Get all false negatives indices from results for the NB Model 1\n",
        "falseNegatives_NB = findFalseNegatives(predictedNB1,y_test_D.to_numpy())\n",
        "\n",
        "# Show affected rows in datafrane that correspond to the false negatives\n",
        "X_test_NB_FN = X_test_D.copy()\n",
        "X_test_NB_FN.reset_index(drop=True, inplace=True)\n",
        "X_test_NB_FN.loc[np.array(falseNegatives_NB)].head()"
      ],
      "metadata": {
        "colab": {
          "base_uri": "https://localhost:8080/",
          "height": 270
        },
        "id": "EAXe2NlLIZEv",
        "outputId": "8cb1e6f9-ba93-464b-9dbd-9ec2c34dafd5"
      },
      "execution_count": null,
      "outputs": [
        {
          "output_type": "execute_result",
          "data": {
            "text/plain": [
              "    school  sex  age  address  famsize  Pstatus  Medu  Fedu  Mjob  Fjob  \\\n",
              "55       0    0    4        1        1        0     2     3     0     2   \n",
              "57       0    1    2        1        0        1     1     2     0     3   \n",
              "88       1    0    1        1        0        1     3     3     2     2   \n",
              "90       0    1    3        1        1        1     3     1     3     3   \n",
              "93       0    1    0        1        1        0     2     1     3     2   \n",
              "\n",
              "    reason  guardian  traveltime  studytime  failures  schoolsup  famsup  \\\n",
              "55       1         2           1          0         1          0       0   \n",
              "57       2         2           1          1         0          0       0   \n",
              "88       3         1           0          0         0          0       0   \n",
              "90       0         1           1          0         0          0       0   \n",
              "93       0         1           3          0         0          0       0   \n",
              "\n",
              "    paid  activities  nursery  higher  internet  romantic  famrel  freetime  \\\n",
              "55     0           0        1       0         1         0       1         1   \n",
              "57     0           1        0       1         1         0       3         3   \n",
              "88     0           1        1       0         1         1       3         4   \n",
              "90     0           1        1       1         1         1       2         2   \n",
              "93     0           0        1       1         1         0       3         4   \n",
              "\n",
              "    goout  Dalc  Walc  health  absences  \n",
              "55      2     2     3       4        16  \n",
              "57      3     3     4       4        16  \n",
              "88      3     0     0       3         0  \n",
              "90      3     3     4       3         2  \n",
              "93      4     1     4       4         0  "
            ],
            "text/html": [
              "\n",
              "  <div id=\"df-8b87a70e-08c2-49ce-b3a4-95788c6f2dc7\">\n",
              "    <div class=\"colab-df-container\">\n",
              "      <div>\n",
              "<style scoped>\n",
              "    .dataframe tbody tr th:only-of-type {\n",
              "        vertical-align: middle;\n",
              "    }\n",
              "\n",
              "    .dataframe tbody tr th {\n",
              "        vertical-align: top;\n",
              "    }\n",
              "\n",
              "    .dataframe thead th {\n",
              "        text-align: right;\n",
              "    }\n",
              "</style>\n",
              "<table border=\"1\" class=\"dataframe\">\n",
              "  <thead>\n",
              "    <tr style=\"text-align: right;\">\n",
              "      <th></th>\n",
              "      <th>school</th>\n",
              "      <th>sex</th>\n",
              "      <th>age</th>\n",
              "      <th>address</th>\n",
              "      <th>famsize</th>\n",
              "      <th>Pstatus</th>\n",
              "      <th>Medu</th>\n",
              "      <th>Fedu</th>\n",
              "      <th>Mjob</th>\n",
              "      <th>Fjob</th>\n",
              "      <th>reason</th>\n",
              "      <th>guardian</th>\n",
              "      <th>traveltime</th>\n",
              "      <th>studytime</th>\n",
              "      <th>failures</th>\n",
              "      <th>schoolsup</th>\n",
              "      <th>famsup</th>\n",
              "      <th>paid</th>\n",
              "      <th>activities</th>\n",
              "      <th>nursery</th>\n",
              "      <th>higher</th>\n",
              "      <th>internet</th>\n",
              "      <th>romantic</th>\n",
              "      <th>famrel</th>\n",
              "      <th>freetime</th>\n",
              "      <th>goout</th>\n",
              "      <th>Dalc</th>\n",
              "      <th>Walc</th>\n",
              "      <th>health</th>\n",
              "      <th>absences</th>\n",
              "    </tr>\n",
              "  </thead>\n",
              "  <tbody>\n",
              "    <tr>\n",
              "      <th>55</th>\n",
              "      <td>0</td>\n",
              "      <td>0</td>\n",
              "      <td>4</td>\n",
              "      <td>1</td>\n",
              "      <td>1</td>\n",
              "      <td>0</td>\n",
              "      <td>2</td>\n",
              "      <td>3</td>\n",
              "      <td>0</td>\n",
              "      <td>2</td>\n",
              "      <td>1</td>\n",
              "      <td>2</td>\n",
              "      <td>1</td>\n",
              "      <td>0</td>\n",
              "      <td>1</td>\n",
              "      <td>0</td>\n",
              "      <td>0</td>\n",
              "      <td>0</td>\n",
              "      <td>0</td>\n",
              "      <td>1</td>\n",
              "      <td>0</td>\n",
              "      <td>1</td>\n",
              "      <td>0</td>\n",
              "      <td>1</td>\n",
              "      <td>1</td>\n",
              "      <td>2</td>\n",
              "      <td>2</td>\n",
              "      <td>3</td>\n",
              "      <td>4</td>\n",
              "      <td>16</td>\n",
              "    </tr>\n",
              "    <tr>\n",
              "      <th>57</th>\n",
              "      <td>0</td>\n",
              "      <td>1</td>\n",
              "      <td>2</td>\n",
              "      <td>1</td>\n",
              "      <td>0</td>\n",
              "      <td>1</td>\n",
              "      <td>1</td>\n",
              "      <td>2</td>\n",
              "      <td>0</td>\n",
              "      <td>3</td>\n",
              "      <td>2</td>\n",
              "      <td>2</td>\n",
              "      <td>1</td>\n",
              "      <td>1</td>\n",
              "      <td>0</td>\n",
              "      <td>0</td>\n",
              "      <td>0</td>\n",
              "      <td>0</td>\n",
              "      <td>1</td>\n",
              "      <td>0</td>\n",
              "      <td>1</td>\n",
              "      <td>1</td>\n",
              "      <td>0</td>\n",
              "      <td>3</td>\n",
              "      <td>3</td>\n",
              "      <td>3</td>\n",
              "      <td>3</td>\n",
              "      <td>4</td>\n",
              "      <td>4</td>\n",
              "      <td>16</td>\n",
              "    </tr>\n",
              "    <tr>\n",
              "      <th>88</th>\n",
              "      <td>1</td>\n",
              "      <td>0</td>\n",
              "      <td>1</td>\n",
              "      <td>1</td>\n",
              "      <td>0</td>\n",
              "      <td>1</td>\n",
              "      <td>3</td>\n",
              "      <td>3</td>\n",
              "      <td>2</td>\n",
              "      <td>2</td>\n",
              "      <td>3</td>\n",
              "      <td>1</td>\n",
              "      <td>0</td>\n",
              "      <td>0</td>\n",
              "      <td>0</td>\n",
              "      <td>0</td>\n",
              "      <td>0</td>\n",
              "      <td>0</td>\n",
              "      <td>1</td>\n",
              "      <td>1</td>\n",
              "      <td>0</td>\n",
              "      <td>1</td>\n",
              "      <td>1</td>\n",
              "      <td>3</td>\n",
              "      <td>4</td>\n",
              "      <td>3</td>\n",
              "      <td>0</td>\n",
              "      <td>0</td>\n",
              "      <td>3</td>\n",
              "      <td>0</td>\n",
              "    </tr>\n",
              "    <tr>\n",
              "      <th>90</th>\n",
              "      <td>0</td>\n",
              "      <td>1</td>\n",
              "      <td>3</td>\n",
              "      <td>1</td>\n",
              "      <td>1</td>\n",
              "      <td>1</td>\n",
              "      <td>3</td>\n",
              "      <td>1</td>\n",
              "      <td>3</td>\n",
              "      <td>3</td>\n",
              "      <td>0</td>\n",
              "      <td>1</td>\n",
              "      <td>1</td>\n",
              "      <td>0</td>\n",
              "      <td>0</td>\n",
              "      <td>0</td>\n",
              "      <td>0</td>\n",
              "      <td>0</td>\n",
              "      <td>1</td>\n",
              "      <td>1</td>\n",
              "      <td>1</td>\n",
              "      <td>1</td>\n",
              "      <td>1</td>\n",
              "      <td>2</td>\n",
              "      <td>2</td>\n",
              "      <td>3</td>\n",
              "      <td>3</td>\n",
              "      <td>4</td>\n",
              "      <td>3</td>\n",
              "      <td>2</td>\n",
              "    </tr>\n",
              "    <tr>\n",
              "      <th>93</th>\n",
              "      <td>0</td>\n",
              "      <td>1</td>\n",
              "      <td>0</td>\n",
              "      <td>1</td>\n",
              "      <td>1</td>\n",
              "      <td>0</td>\n",
              "      <td>2</td>\n",
              "      <td>1</td>\n",
              "      <td>3</td>\n",
              "      <td>2</td>\n",
              "      <td>0</td>\n",
              "      <td>1</td>\n",
              "      <td>3</td>\n",
              "      <td>0</td>\n",
              "      <td>0</td>\n",
              "      <td>0</td>\n",
              "      <td>0</td>\n",
              "      <td>0</td>\n",
              "      <td>0</td>\n",
              "      <td>1</td>\n",
              "      <td>1</td>\n",
              "      <td>1</td>\n",
              "      <td>0</td>\n",
              "      <td>3</td>\n",
              "      <td>4</td>\n",
              "      <td>4</td>\n",
              "      <td>1</td>\n",
              "      <td>4</td>\n",
              "      <td>4</td>\n",
              "      <td>0</td>\n",
              "    </tr>\n",
              "  </tbody>\n",
              "</table>\n",
              "</div>\n",
              "      <button class=\"colab-df-convert\" onclick=\"convertToInteractive('df-8b87a70e-08c2-49ce-b3a4-95788c6f2dc7')\"\n",
              "              title=\"Convert this dataframe to an interactive table.\"\n",
              "              style=\"display:none;\">\n",
              "        \n",
              "  <svg xmlns=\"http://www.w3.org/2000/svg\" height=\"24px\"viewBox=\"0 0 24 24\"\n",
              "       width=\"24px\">\n",
              "    <path d=\"M0 0h24v24H0V0z\" fill=\"none\"/>\n",
              "    <path d=\"M18.56 5.44l.94 2.06.94-2.06 2.06-.94-2.06-.94-.94-2.06-.94 2.06-2.06.94zm-11 1L8.5 8.5l.94-2.06 2.06-.94-2.06-.94L8.5 2.5l-.94 2.06-2.06.94zm10 10l.94 2.06.94-2.06 2.06-.94-2.06-.94-.94-2.06-.94 2.06-2.06.94z\"/><path d=\"M17.41 7.96l-1.37-1.37c-.4-.4-.92-.59-1.43-.59-.52 0-1.04.2-1.43.59L10.3 9.45l-7.72 7.72c-.78.78-.78 2.05 0 2.83L4 21.41c.39.39.9.59 1.41.59.51 0 1.02-.2 1.41-.59l7.78-7.78 2.81-2.81c.8-.78.8-2.07 0-2.86zM5.41 20L4 18.59l7.72-7.72 1.47 1.35L5.41 20z\"/>\n",
              "  </svg>\n",
              "      </button>\n",
              "      \n",
              "  <style>\n",
              "    .colab-df-container {\n",
              "      display:flex;\n",
              "      flex-wrap:wrap;\n",
              "      gap: 12px;\n",
              "    }\n",
              "\n",
              "    .colab-df-convert {\n",
              "      background-color: #E8F0FE;\n",
              "      border: none;\n",
              "      border-radius: 50%;\n",
              "      cursor: pointer;\n",
              "      display: none;\n",
              "      fill: #1967D2;\n",
              "      height: 32px;\n",
              "      padding: 0 0 0 0;\n",
              "      width: 32px;\n",
              "    }\n",
              "\n",
              "    .colab-df-convert:hover {\n",
              "      background-color: #E2EBFA;\n",
              "      box-shadow: 0px 1px 2px rgba(60, 64, 67, 0.3), 0px 1px 3px 1px rgba(60, 64, 67, 0.15);\n",
              "      fill: #174EA6;\n",
              "    }\n",
              "\n",
              "    [theme=dark] .colab-df-convert {\n",
              "      background-color: #3B4455;\n",
              "      fill: #D2E3FC;\n",
              "    }\n",
              "\n",
              "    [theme=dark] .colab-df-convert:hover {\n",
              "      background-color: #434B5C;\n",
              "      box-shadow: 0px 1px 3px 1px rgba(0, 0, 0, 0.15);\n",
              "      filter: drop-shadow(0px 1px 2px rgba(0, 0, 0, 0.3));\n",
              "      fill: #FFFFFF;\n",
              "    }\n",
              "  </style>\n",
              "\n",
              "      <script>\n",
              "        const buttonEl =\n",
              "          document.querySelector('#df-8b87a70e-08c2-49ce-b3a4-95788c6f2dc7 button.colab-df-convert');\n",
              "        buttonEl.style.display =\n",
              "          google.colab.kernel.accessAllowed ? 'block' : 'none';\n",
              "\n",
              "        async function convertToInteractive(key) {\n",
              "          const element = document.querySelector('#df-8b87a70e-08c2-49ce-b3a4-95788c6f2dc7');\n",
              "          const dataTable =\n",
              "            await google.colab.kernel.invokeFunction('convertToInteractive',\n",
              "                                                     [key], {});\n",
              "          if (!dataTable) return;\n",
              "\n",
              "          const docLinkHtml = 'Like what you see? Visit the ' +\n",
              "            '<a target=\"_blank\" href=https://colab.research.google.com/notebooks/data_table.ipynb>data table notebook</a>'\n",
              "            + ' to learn more about interactive tables.';\n",
              "          element.innerHTML = '';\n",
              "          dataTable['output_type'] = 'display_data';\n",
              "          await google.colab.output.renderOutput(dataTable, element);\n",
              "          const docLink = document.createElement('div');\n",
              "          docLink.innerHTML = docLinkHtml;\n",
              "          element.appendChild(docLink);\n",
              "        }\n",
              "      </script>\n",
              "    </div>\n",
              "  </div>\n",
              "  "
            ]
          },
          "metadata": {},
          "execution_count": 69
        }
      ]
    },
    {
      "cell_type": "code",
      "source": [
        "# Get all true negatives indices from results for the NB Model 1\n",
        "trueNegatives_NB = findTrueNegatives(predictedNB1,y_test_D.to_numpy())\n",
        "\n",
        "# Show affected rows in datafrane that correspond to the false negatives\n",
        "X_test_NB_TN = X_test_D.copy()\n",
        "X_test_NB_TN.reset_index(drop=True, inplace=True)\n",
        "X_test_NB_TN.loc[np.array(trueNegatives_NB)].head()"
      ],
      "metadata": {
        "id": "-WpwobqUJGsZ",
        "colab": {
          "base_uri": "https://localhost:8080/",
          "height": 270
        },
        "outputId": "b66a9db4-71e6-424c-c805-10f3a352a6db"
      },
      "execution_count": null,
      "outputs": [
        {
          "output_type": "execute_result",
          "data": {
            "text/plain": [
              "    school  sex  age  address  famsize  Pstatus  Medu  Fedu  Mjob  Fjob  \\\n",
              "4        1    0    4        1        0        1     2     3     0     3   \n",
              "18       0    0    0        1        1        0     2     1     0     2   \n",
              "29       1    0    3        1        0        1     1     1     2     2   \n",
              "35       1    1    2        1        0        1     3     3     1     2   \n",
              "36       1    0    5        1        0        1     3     3     0     3   \n",
              "\n",
              "    reason  guardian  traveltime  studytime  failures  schoolsup  famsup  \\\n",
              "4        0         2           0          0         1          0       0   \n",
              "18       1         1           1          0         0          0       1   \n",
              "29       0         1           1          1         0          0       0   \n",
              "35       0         1           1          1         1          0       1   \n",
              "36       2         1           1          1         1          0       0   \n",
              "\n",
              "    paid  activities  nursery  higher  internet  romantic  famrel  freetime  \\\n",
              "4      0           0        1       0         1         1       3         3   \n",
              "18     0           1        1       0         1         1       3         3   \n",
              "29     0           1        1       1         0         0       0         0   \n",
              "35     0           0        1       1         1         0       3         4   \n",
              "36     0           1        1       1         1         1       2         2   \n",
              "\n",
              "    goout  Dalc  Walc  health  absences  \n",
              "4       3     0     0       1         0  \n",
              "18      1     0     0       4         0  \n",
              "29      0     0     0       4         6  \n",
              "35      3     1     2       2         4  \n",
              "36      3     1     3       2         8  "
            ],
            "text/html": [
              "\n",
              "  <div id=\"df-c3b6c64d-cebe-46b1-97fd-e6d3fd0fe1dc\">\n",
              "    <div class=\"colab-df-container\">\n",
              "      <div>\n",
              "<style scoped>\n",
              "    .dataframe tbody tr th:only-of-type {\n",
              "        vertical-align: middle;\n",
              "    }\n",
              "\n",
              "    .dataframe tbody tr th {\n",
              "        vertical-align: top;\n",
              "    }\n",
              "\n",
              "    .dataframe thead th {\n",
              "        text-align: right;\n",
              "    }\n",
              "</style>\n",
              "<table border=\"1\" class=\"dataframe\">\n",
              "  <thead>\n",
              "    <tr style=\"text-align: right;\">\n",
              "      <th></th>\n",
              "      <th>school</th>\n",
              "      <th>sex</th>\n",
              "      <th>age</th>\n",
              "      <th>address</th>\n",
              "      <th>famsize</th>\n",
              "      <th>Pstatus</th>\n",
              "      <th>Medu</th>\n",
              "      <th>Fedu</th>\n",
              "      <th>Mjob</th>\n",
              "      <th>Fjob</th>\n",
              "      <th>reason</th>\n",
              "      <th>guardian</th>\n",
              "      <th>traveltime</th>\n",
              "      <th>studytime</th>\n",
              "      <th>failures</th>\n",
              "      <th>schoolsup</th>\n",
              "      <th>famsup</th>\n",
              "      <th>paid</th>\n",
              "      <th>activities</th>\n",
              "      <th>nursery</th>\n",
              "      <th>higher</th>\n",
              "      <th>internet</th>\n",
              "      <th>romantic</th>\n",
              "      <th>famrel</th>\n",
              "      <th>freetime</th>\n",
              "      <th>goout</th>\n",
              "      <th>Dalc</th>\n",
              "      <th>Walc</th>\n",
              "      <th>health</th>\n",
              "      <th>absences</th>\n",
              "    </tr>\n",
              "  </thead>\n",
              "  <tbody>\n",
              "    <tr>\n",
              "      <th>4</th>\n",
              "      <td>1</td>\n",
              "      <td>0</td>\n",
              "      <td>4</td>\n",
              "      <td>1</td>\n",
              "      <td>0</td>\n",
              "      <td>1</td>\n",
              "      <td>2</td>\n",
              "      <td>3</td>\n",
              "      <td>0</td>\n",
              "      <td>3</td>\n",
              "      <td>0</td>\n",
              "      <td>2</td>\n",
              "      <td>0</td>\n",
              "      <td>0</td>\n",
              "      <td>1</td>\n",
              "      <td>0</td>\n",
              "      <td>0</td>\n",
              "      <td>0</td>\n",
              "      <td>0</td>\n",
              "      <td>1</td>\n",
              "      <td>0</td>\n",
              "      <td>1</td>\n",
              "      <td>1</td>\n",
              "      <td>3</td>\n",
              "      <td>3</td>\n",
              "      <td>3</td>\n",
              "      <td>0</td>\n",
              "      <td>0</td>\n",
              "      <td>1</td>\n",
              "      <td>0</td>\n",
              "    </tr>\n",
              "    <tr>\n",
              "      <th>18</th>\n",
              "      <td>0</td>\n",
              "      <td>0</td>\n",
              "      <td>0</td>\n",
              "      <td>1</td>\n",
              "      <td>1</td>\n",
              "      <td>0</td>\n",
              "      <td>2</td>\n",
              "      <td>1</td>\n",
              "      <td>0</td>\n",
              "      <td>2</td>\n",
              "      <td>1</td>\n",
              "      <td>1</td>\n",
              "      <td>1</td>\n",
              "      <td>0</td>\n",
              "      <td>0</td>\n",
              "      <td>0</td>\n",
              "      <td>1</td>\n",
              "      <td>0</td>\n",
              "      <td>1</td>\n",
              "      <td>1</td>\n",
              "      <td>0</td>\n",
              "      <td>1</td>\n",
              "      <td>1</td>\n",
              "      <td>3</td>\n",
              "      <td>3</td>\n",
              "      <td>1</td>\n",
              "      <td>0</td>\n",
              "      <td>0</td>\n",
              "      <td>4</td>\n",
              "      <td>0</td>\n",
              "    </tr>\n",
              "    <tr>\n",
              "      <th>29</th>\n",
              "      <td>1</td>\n",
              "      <td>0</td>\n",
              "      <td>3</td>\n",
              "      <td>1</td>\n",
              "      <td>0</td>\n",
              "      <td>1</td>\n",
              "      <td>1</td>\n",
              "      <td>1</td>\n",
              "      <td>2</td>\n",
              "      <td>2</td>\n",
              "      <td>0</td>\n",
              "      <td>1</td>\n",
              "      <td>1</td>\n",
              "      <td>1</td>\n",
              "      <td>0</td>\n",
              "      <td>0</td>\n",
              "      <td>0</td>\n",
              "      <td>0</td>\n",
              "      <td>1</td>\n",
              "      <td>1</td>\n",
              "      <td>1</td>\n",
              "      <td>0</td>\n",
              "      <td>0</td>\n",
              "      <td>0</td>\n",
              "      <td>0</td>\n",
              "      <td>0</td>\n",
              "      <td>0</td>\n",
              "      <td>0</td>\n",
              "      <td>4</td>\n",
              "      <td>6</td>\n",
              "    </tr>\n",
              "    <tr>\n",
              "      <th>35</th>\n",
              "      <td>1</td>\n",
              "      <td>1</td>\n",
              "      <td>2</td>\n",
              "      <td>1</td>\n",
              "      <td>0</td>\n",
              "      <td>1</td>\n",
              "      <td>3</td>\n",
              "      <td>3</td>\n",
              "      <td>1</td>\n",
              "      <td>2</td>\n",
              "      <td>0</td>\n",
              "      <td>1</td>\n",
              "      <td>1</td>\n",
              "      <td>1</td>\n",
              "      <td>1</td>\n",
              "      <td>0</td>\n",
              "      <td>1</td>\n",
              "      <td>0</td>\n",
              "      <td>0</td>\n",
              "      <td>1</td>\n",
              "      <td>1</td>\n",
              "      <td>1</td>\n",
              "      <td>0</td>\n",
              "      <td>3</td>\n",
              "      <td>4</td>\n",
              "      <td>3</td>\n",
              "      <td>1</td>\n",
              "      <td>2</td>\n",
              "      <td>2</td>\n",
              "      <td>4</td>\n",
              "    </tr>\n",
              "    <tr>\n",
              "      <th>36</th>\n",
              "      <td>1</td>\n",
              "      <td>0</td>\n",
              "      <td>5</td>\n",
              "      <td>1</td>\n",
              "      <td>0</td>\n",
              "      <td>1</td>\n",
              "      <td>3</td>\n",
              "      <td>3</td>\n",
              "      <td>0</td>\n",
              "      <td>3</td>\n",
              "      <td>2</td>\n",
              "      <td>1</td>\n",
              "      <td>1</td>\n",
              "      <td>1</td>\n",
              "      <td>1</td>\n",
              "      <td>0</td>\n",
              "      <td>0</td>\n",
              "      <td>0</td>\n",
              "      <td>1</td>\n",
              "      <td>1</td>\n",
              "      <td>1</td>\n",
              "      <td>1</td>\n",
              "      <td>1</td>\n",
              "      <td>2</td>\n",
              "      <td>2</td>\n",
              "      <td>3</td>\n",
              "      <td>1</td>\n",
              "      <td>3</td>\n",
              "      <td>2</td>\n",
              "      <td>8</td>\n",
              "    </tr>\n",
              "  </tbody>\n",
              "</table>\n",
              "</div>\n",
              "      <button class=\"colab-df-convert\" onclick=\"convertToInteractive('df-c3b6c64d-cebe-46b1-97fd-e6d3fd0fe1dc')\"\n",
              "              title=\"Convert this dataframe to an interactive table.\"\n",
              "              style=\"display:none;\">\n",
              "        \n",
              "  <svg xmlns=\"http://www.w3.org/2000/svg\" height=\"24px\"viewBox=\"0 0 24 24\"\n",
              "       width=\"24px\">\n",
              "    <path d=\"M0 0h24v24H0V0z\" fill=\"none\"/>\n",
              "    <path d=\"M18.56 5.44l.94 2.06.94-2.06 2.06-.94-2.06-.94-.94-2.06-.94 2.06-2.06.94zm-11 1L8.5 8.5l.94-2.06 2.06-.94-2.06-.94L8.5 2.5l-.94 2.06-2.06.94zm10 10l.94 2.06.94-2.06 2.06-.94-2.06-.94-.94-2.06-.94 2.06-2.06.94z\"/><path d=\"M17.41 7.96l-1.37-1.37c-.4-.4-.92-.59-1.43-.59-.52 0-1.04.2-1.43.59L10.3 9.45l-7.72 7.72c-.78.78-.78 2.05 0 2.83L4 21.41c.39.39.9.59 1.41.59.51 0 1.02-.2 1.41-.59l7.78-7.78 2.81-2.81c.8-.78.8-2.07 0-2.86zM5.41 20L4 18.59l7.72-7.72 1.47 1.35L5.41 20z\"/>\n",
              "  </svg>\n",
              "      </button>\n",
              "      \n",
              "  <style>\n",
              "    .colab-df-container {\n",
              "      display:flex;\n",
              "      flex-wrap:wrap;\n",
              "      gap: 12px;\n",
              "    }\n",
              "\n",
              "    .colab-df-convert {\n",
              "      background-color: #E8F0FE;\n",
              "      border: none;\n",
              "      border-radius: 50%;\n",
              "      cursor: pointer;\n",
              "      display: none;\n",
              "      fill: #1967D2;\n",
              "      height: 32px;\n",
              "      padding: 0 0 0 0;\n",
              "      width: 32px;\n",
              "    }\n",
              "\n",
              "    .colab-df-convert:hover {\n",
              "      background-color: #E2EBFA;\n",
              "      box-shadow: 0px 1px 2px rgba(60, 64, 67, 0.3), 0px 1px 3px 1px rgba(60, 64, 67, 0.15);\n",
              "      fill: #174EA6;\n",
              "    }\n",
              "\n",
              "    [theme=dark] .colab-df-convert {\n",
              "      background-color: #3B4455;\n",
              "      fill: #D2E3FC;\n",
              "    }\n",
              "\n",
              "    [theme=dark] .colab-df-convert:hover {\n",
              "      background-color: #434B5C;\n",
              "      box-shadow: 0px 1px 3px 1px rgba(0, 0, 0, 0.15);\n",
              "      filter: drop-shadow(0px 1px 2px rgba(0, 0, 0, 0.3));\n",
              "      fill: #FFFFFF;\n",
              "    }\n",
              "  </style>\n",
              "\n",
              "      <script>\n",
              "        const buttonEl =\n",
              "          document.querySelector('#df-c3b6c64d-cebe-46b1-97fd-e6d3fd0fe1dc button.colab-df-convert');\n",
              "        buttonEl.style.display =\n",
              "          google.colab.kernel.accessAllowed ? 'block' : 'none';\n",
              "\n",
              "        async function convertToInteractive(key) {\n",
              "          const element = document.querySelector('#df-c3b6c64d-cebe-46b1-97fd-e6d3fd0fe1dc');\n",
              "          const dataTable =\n",
              "            await google.colab.kernel.invokeFunction('convertToInteractive',\n",
              "                                                     [key], {});\n",
              "          if (!dataTable) return;\n",
              "\n",
              "          const docLinkHtml = 'Like what you see? Visit the ' +\n",
              "            '<a target=\"_blank\" href=https://colab.research.google.com/notebooks/data_table.ipynb>data table notebook</a>'\n",
              "            + ' to learn more about interactive tables.';\n",
              "          element.innerHTML = '';\n",
              "          dataTable['output_type'] = 'display_data';\n",
              "          await google.colab.output.renderOutput(dataTable, element);\n",
              "          const docLink = document.createElement('div');\n",
              "          docLink.innerHTML = docLinkHtml;\n",
              "          element.appendChild(docLink);\n",
              "        }\n",
              "      </script>\n",
              "    </div>\n",
              "  </div>\n",
              "  "
            ]
          },
          "metadata": {},
          "execution_count": 70
        }
      ]
    },
    {
      "cell_type": "markdown",
      "source": [
        "**Analysis**\n",
        "* The ***false positives*** and true positives both have no previous failures (failures=0), which could be a solid indicator for passing.\n",
        "* The ***false negatives*** had almost no study time or many absences, which could indicate failure.\n",
        "* Some features may add noise to the dataset by not being helpful to predict. Also, there is the possibility that the data was badly annotated or the wrong feature values were entered."
      ],
      "metadata": {
        "id": "DUbejrGgXFUP"
      }
    },
    {
      "cell_type": "markdown",
      "source": [
        "# **11. Extra Elements**"
      ],
      "metadata": {
        "id": "CNDdtRJxTrIe"
      }
    },
    {
      "cell_type": "markdown",
      "source": [
        "## **a. Dropping features using Recursive Feature Elimination** \n",
        "*   During the features engineering (see Section 3), we mentioned some useless features that might add noise to the dataset and affect the models. Thus, we will use Recursive Feature Elimination (RFE) to use the most important features in predicting.\n",
        "* sklearn.feature_selection.RFE [14] requires a supervised learning estimator with an attribute about feature importance (e.g., coef_). Thus, we will use the sklearn.linear_model.LogisticRegression model as it does provide this attribute.\n"
      ],
      "metadata": {
        "id": "bYlm_ywlBRLF"
      }
    },
    {
      "cell_type": "code",
      "source": [
        "# Logistic Regression\n",
        "lrRFE = LogisticRegression(max_iter=1000)\n",
        "rfe = RFE(lrRFE)\n",
        "rfe = rfe.fit(X_OHE, y_OHE)\n",
        "toDrop = []\n",
        "for i in range(0,len(rfe.support_)):\n",
        "  if rfe.support_[i] == False:\n",
        "    toDrop.append(X_OHE.columns.values[i])\n",
        "X_LR = X_OHE.drop(columns=toDrop)\n",
        "X_train_LR = X_train_OHE.drop(columns=toDrop)\n",
        "X_test_LR = X_test_OHE.drop(columns=toDrop)\n",
        "lrRFE = lrRFE.fit(X_train_LR, y_train_OHE)"
      ],
      "metadata": {
        "id": "glyIRngVNNfT"
      },
      "execution_count": null,
      "outputs": []
    },
    {
      "cell_type": "code",
      "source": [
        "# Get results for multi-fold cross-validation\n",
        "outputLR_RFE = getMultiFoldResults(X_LR, y_OHE, lrRFE)"
      ],
      "metadata": {
        "colab": {
          "base_uri": "https://localhost:8080/"
        },
        "outputId": "0eb2563e-5f65-445b-c6d7-9467e7fa51a2",
        "id": "NedwO6hXWhhQ"
      },
      "execution_count": null,
      "outputs": [
        {
          "output_type": "stream",
          "name": "stdout",
          "text": [
            "Accuracy: 0.794 (0.052)\n",
            "Precision: 0.815 (0.058)\n",
            "Recall: 0.916 (0.052)\n"
          ]
        }
      ]
    },
    {
      "cell_type": "code",
      "source": [
        "# Get predicted values\n",
        "predictedLR_RFE = lrRFE.predict(X_test_LR)"
      ],
      "metadata": {
        "id": "npoQ3EKWWhhR"
      },
      "execution_count": null,
      "outputs": []
    },
    {
      "cell_type": "code",
      "source": [
        "# Accuracy, precision and recall\n",
        "plotModelBars(\"Logistic Regression\",[outputLR_RFE,outputLR1],2)"
      ],
      "metadata": {
        "colab": {
          "base_uri": "https://localhost:8080/"
        },
        "id": "kb7gyWd7bmtl",
        "outputId": "b18eea9e-6aac-4689-aa05-23f3585e7465"
      },
      "execution_count": null,
      "outputs": [
        {
          "output_type": "display_data",
          "data": {
            "text/plain": [
              "<Figure size 1440x288 with 2 Axes>"
            ],
            "image/png": "[encoded data removed]"
          },
          "metadata": {
            "needs_background": "light"
          }
        }
      ]
    },
    {
      "cell_type": "code",
      "source": [
        "# Confusion matrices (True negatives & positives and False negatives & positives)\n",
        "plotModelCM(\"Logistic Regression\",[predictedLR_RFE, predictedLR1],y_test_OHE,2)"
      ],
      "metadata": {
        "colab": {
          "base_uri": "https://localhost:8080/"
        },
        "id": "mPrJmPm6fDxm",
        "outputId": "17eaa42c-2dca-4d1e-f751-84f9b853b7c8"
      },
      "execution_count": null,
      "outputs": [
        {
          "output_type": "display_data",
          "data": {
            "text/plain": [
              "<Figure size 1440x324 with 3 Axes>"
            ],
            "image/png": "[encoded data removed]"
          },
          "metadata": {
            "needs_background": "light"
          }
        }
      ]
    },
    {
      "cell_type": "markdown",
      "source": [
        "\n",
        "### **Analysis**\n",
        "* Observing the first graph above, we can see that the RFE model (Result 1) performs slightly better for precision and recall than the default Logistic Regression model (Result 2). \n",
        "* Looking at the second graph, we see that the RFE model (Result 1) is slightly better at predicting negative values (more true negatives).\n",
        "* Both models are very similar, but the RFE model is a bit better for precision, recall and predicting negative values."
      ],
      "metadata": {
        "id": "chHr4FmOessd"
      }
    },
    {
      "cell_type": "markdown",
      "source": [
        "## **b. Reducing data bias using SMOTE algorithm (Synthetic Minority Oversampling Technique)**\n",
        "* Since our classes our imbalanced (more passes than fails), we can use the SMOTE algorithm [15] that creates synthetic samples from the minor class (fail) instead of making copies. This allows for reducing the bias in our data."
      ],
      "metadata": {
        "id": "e7cl930Vh-kv"
      }
    },
    {
      "cell_type": "code",
      "source": [
        "oversample = SMOTE(random_state=0)\n",
        "\n",
        "# Get oversampled data for LR and MLP models\n",
        "oversample = SMOTE(random_state=0)\n",
        "columns = X_OHE.columns\n",
        "os1_data_X,os1_data_y=oversample.fit_resample(X_OHE, y_OHE)\n",
        "os1_data_X = pd.DataFrame(data=os1_data_X,columns=columns)\n",
        "os1_data_y= pd.DataFrame(data=os1_data_y,columns=['G3'])\n",
        "\n",
        "os1_data_X=os1_data_X[columns]\n",
        "os1_data_y=os1_data_y['G3']\n",
        "X_train_os1, X_test_os1, y_train_os1, y_test_os1 = train_test_split(os1_data_X, os1_data_y, test_size=0.3, random_state=0)\n",
        "\n",
        "# Get oversampled data for NB models\n",
        "columns = X_D.columns\n",
        "os2_data_X,os2_data_y=oversample.fit_resample(X_D, y_D)\n",
        "os2_data_X = pd.DataFrame(data=os2_data_X,columns=columns)\n",
        "os2_data_y= pd.DataFrame(data=os2_data_y,columns=['G3'])\n",
        "\n",
        "os2_data_X=os2_data_X[columns]\n",
        "os2_data_y=os2_data_y['G3']\n",
        "X_train_os2, X_test_os2, y_train_os2, y_test_os2 = train_test_split(os2_data_X, os2_data_y, test_size=0.3, random_state=0)"
      ],
      "metadata": {
        "id": "-M0WZmSniHDD"
      },
      "execution_count": null,
      "outputs": []
    },
    {
      "cell_type": "code",
      "source": [
        "nbOS = GaussianNB().fit(X_train_os2, y_train_os2)\n",
        "lrOS = LogisticRegression(max_iter=1000).fit(X_train_os1, y_train_os1)\n",
        "mlpOS = MLPClassifier(max_iter=1000).fit(X_train_os1, y_train_os1)"
      ],
      "metadata": {
        "id": "fFM2mhKQkPZy"
      },
      "execution_count": null,
      "outputs": []
    },
    {
      "cell_type": "code",
      "source": [
        "# Get results for multi-fold cross-validation\n",
        "outputNB_os = getMultiFoldResults(os2_data_X, os2_data_y, nbOS)\n",
        "outputLR_os = getMultiFoldResults(os1_data_X, os1_data_y, lrOS)\n",
        "outputMLP_os = getMultiFoldResults(os1_data_X, os1_data_y, mlpOS)"
      ],
      "metadata": {
        "colab": {
          "base_uri": "https://localhost:8080/"
        },
        "outputId": "ebae9a62-32f5-449b-b5b1-47c460d2ef59",
        "id": "obqQwjy0mfui"
      },
      "execution_count": null,
      "outputs": [
        {
          "output_type": "stream",
          "name": "stdout",
          "text": [
            "Accuracy: 0.769 (0.051)\n",
            "Precision: 0.744 (0.065)\n",
            "Recall: 0.820 (0.047)\n",
            "Accuracy: 0.842 (0.033)\n",
            "Precision: 0.819 (0.049)\n",
            "Recall: 0.879 (0.051)\n",
            "Accuracy: 0.823 (0.032)\n",
            "Precision: 0.824 (0.039)\n",
            "Recall: 0.856 (0.040)\n"
          ]
        }
      ]
    },
    {
      "cell_type": "code",
      "source": [
        "# Accuracy, precision and recall\n",
        "plotModelBars(\"Naive Bayes\",[outputNB_os,outputNB1],2)\n",
        "plotModelBars(\"Logistic Regression\",[outputLR_os,outputLR1],2)\n",
        "plotModelBars(\"Multi-Layer Perceptron\",[outputMLP_os,outputMLP1],2)"
      ],
      "metadata": {
        "colab": {
          "base_uri": "https://localhost:8080/",
          "height": 848
        },
        "outputId": "84802f64-0a7b-4c4c-926d-3cc6dcf4ca05",
        "id": "MxceSpinmx0e"
      },
      "execution_count": null,
      "outputs": [
        {
          "output_type": "display_data",
          "data": {
            "text/plain": [
              "<Figure size 1440x288 with 2 Axes>"
            ],
            "image/png": "[encoded data removed]"
          },
          "metadata": {
            "needs_background": "light"
          }
        },
        {
          "output_type": "display_data",
          "data": {
            "text/plain": [
              "<Figure size 1440x288 with 2 Axes>"
            ],
            "image/png": "[encoded data removed]"
          },
          "metadata": {
            "needs_background": "light"
          }
        },
        {
          "output_type": "display_data",
          "data": {
            "text/plain": [
              "<Figure size 1440x288 with 2 Axes>"
            ],
            "image/png": "[encoded data removed]"
          },
          "metadata": {
            "needs_background": "light"
          }
        }
      ]
    },
    {
      "cell_type": "markdown",
      "source": [
        "\n",
        "### **Analysis**\n",
        "* In the Naive Bayes graph, we see the oversampled model (Result 1) performs worse than the default model (Result 2). \n",
        "* In the Logistic Regression graph, we see the oversampled model (Result 1) performs slightly better in accuracy and precision than the default model (Result 2). \n",
        "* In the Logistic Regression graph, we see the oversampled model (Result 1) performs slightly better in accuracy and precision than the default model (Result 2). \n",
        "* In the Multi-Layer Perceptron graph, we see that the oversampled model (Result 1) performs better for accuracy and precision than the default model (Result 2).\n",
        "* Since the oversampled model performs worse for Naive Bayes, it should probably not be used for this type of model. However, it could be used for Logistic Regression and Multi-Layer Perception models as there is a bias in the data."
      ],
      "metadata": {
        "id": "OrBfsLa7pg6I"
      }
    },
    {
      "cell_type": "markdown",
      "source": [
        "# **12. References**\n",
        "[1] \tD.-S. Sean, \"Student Performance Data Set,\" Kaggle, 2019. [Online]. Available: https://www.kaggle.com/datasets/larsen0966/student-performance-data-set. \n",
        "\n",
        "[2] \tP. Cortez and A. Silva, \"Using Data Mining to Predict Secondary School Student Performance,\" in Proceedings of 5th FUture BUsiness TEChnology Conference, Porto, 2008. \n",
        "\n",
        "[3] \tscikit-learn, \"sklearn.naive_bayes.GaussianNB,\" [Online]. Available: https://scikit-learn.org/stable/modules/generated/sklearn.naive_bayes.GaussianNB.html.\n",
        "\n",
        "[4] \tA. Navlani, \"Naive Bayes Classification Tutorial using Scikit-learn,\" DataCamp, December 2018. [Online]. Available: https://www.datacamp.com/tutorial/naive-bayes-scikit-learn. \n",
        "\n",
        "[5] \t\"sklearn.linear_model.LogisticRegression,\" scikit-learn, [Online]. Available: https://scikit-learn.org/stable/modules/generated/sklearn.linear_model.LogisticRegression.html. \n",
        "\n",
        "[6] \tS. Li, \"Building A Logistic Regression in Python, Step by Step,\" Towards Data Science, 28 September 2017. [Online]. Available: https://towardsdatascience.com/building-a-logistic-regression-in-python-step-by-step-becd4d56c9c8. \n",
        "\n",
        "[7] \tA. J. Mayer, \"Using K-Fold Cross-Validation to Evaluate the Performance of Logistic Regression,\" Python in Plain English, 7 May 2021. [Online]. Available: https://python.plainenglish.io/using-k-fold-cross-validation-to-evaluate-the-performance-of-logistic-regression-4439215f24c4. \n",
        "\n",
        "[8] \tM. Stojiljković, \"Logistic Regression in Python,\" Real Python, 13 January 2020. [Online]. Available: https://realpython.com/logistic-regression-python/. \n",
        " \n",
        "[9] \tA. Almestekawy, \"what is C parameter in sklearn Logistic Regression?,\" Stack Exchange Inc, 13 May 2021. [Online]. Available: https://stackoverflow.com/questions/67513075/what-is-c-parameter-in-sklearn-logistic-regression. \n",
        "\n",
        "[10] \t\"sklearn.neural_network.MLPClassifier,\" scikit-learn, [Online]. Available: https://scikit-learn.org/stable/modules/generated/sklearn.neural_network.MLPClassifier.html. \n",
        "\n",
        "[11] \t\"Grouped bar chart with labels,\" Matplotlib, [Online]. Available: https://matplotlib.org/3.1.1/gallery/lines_bars_and_markers/barchart.html#sphx-glr-gallery-lines-bars-and-markers-barchart-py. \n",
        "\n",
        "[12] \t\"sklearn.metrics.plot_confusion_matrix,\" scikit-learn, [Online]. Available: https://scikit-learn.org/stable/modules/generated/sklearn.metrics.plot_confusion_matrix.html. \n",
        "\n",
        "[13] \"Creating multiple subplots using plt.subplot,\" Matplotlib, [Online]. Available: https://matplotlib.org/3.1.0/gallery/subplots_axes_and_figures/subplots_demo.html.\n",
        "\n",
        "[14] \"sklearn.feature_selection.RFE,\" scikit-learn, [Online]. Available: https://scikit-learn.org/stable/modules/generated/sklearn.feature_selection.RFE.html.\n",
        "\n",
        "[15] \"SMOTE,\" imbalanced-learn, [Online]. Available: https://imbalanced-learn.org/stable/references/generated/imblearn.over_sampling.SMOTE.html."
      ],
      "metadata": {
        "id": "pHp0GA_jz-8y"
      }
    }
  ]
}